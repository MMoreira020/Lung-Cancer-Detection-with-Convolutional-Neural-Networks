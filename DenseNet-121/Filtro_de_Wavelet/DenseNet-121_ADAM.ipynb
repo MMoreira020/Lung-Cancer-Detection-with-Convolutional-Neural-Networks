{
 "cells": [
  {
   "cell_type": "code",
   "execution_count": 1,
   "id": "7c40f748-e83c-4dcb-abc7-3bb730964fbd",
   "metadata": {},
   "outputs": [],
   "source": [
    "import torch\n",
    "import torchvision\n",
    "import os\n",
    "from torchvision import transforms, datasets\n",
    "import matplotlib.pyplot as plt\n",
    "import numpy as np\n",
    "from sklearn.metrics import roc_curve, auc, confusion_matrix, ConfusionMatrixDisplay, precision_recall_curve, average_precision_score\n",
    "from sklearn.preprocessing import label_binarize\n",
    "import torch.nn as nn\n",
    "import torch.optim as optim\n",
    "from torchvision import models\n",
    "from sklearn.model_selection import train_test_split\n",
    "from tqdm import tqdm\n",
    "from torch.utils.data import DataLoader\n",
    "import random\n",
    "import os\n",
    "\n",
    "SEED = 42\n",
    "\n",
    "random.seed(SEED)\n",
    "np.random.seed(SEED)\n",
    "\n",
    "torch.manual_seed(SEED)\n",
    "torch.cuda.manual_seed(SEED)\n",
    "\n",
    "torch.backends.cudnn.benchmark = False\n",
    "torch.backends.cudnn.deterministic = True"
   ]
  },
  {
   "cell_type": "code",
   "execution_count": 1,
   "id": "ac639a27-db43-4a5a-a3d7-c62d43112056",
   "metadata": {},
   "outputs": [
    {
     "name": "stdout",
     "output_type": "stream",
     "text": [
      "2.5.1+cu121\n"
     ]
    }
   ],
   "source": [
    "import torch\n",
    "print(torch.__version__)\n"
   ]
  },
  {
   "cell_type": "code",
   "execution_count": 3,
   "id": "73f34db5-7211-4740-ab7e-9447d78d7ce7",
   "metadata": {},
   "outputs": [
    {
     "name": "stdout",
     "output_type": "stream",
     "text": [
      "3.10.18 | packaged by Anaconda, Inc. | (main, Jun  5 2025, 13:08:55) [MSC v.1929 64 bit (AMD64)]\n"
     ]
    }
   ],
   "source": [
    "import sys\n",
    "print(sys.version)\n"
   ]
  },
  {
   "cell_type": "code",
   "execution_count": 3,
   "id": "84c358a7-8716-4e41-b548-8104c8c7bd79",
   "metadata": {},
   "outputs": [],
   "source": [
    "# Transformações para normalização e aumento de dados (caso necessário)\n",
    "transform = transforms.Compose([\n",
    "    transforms.Resize(256),\n",
    "    transforms.CenterCrop(224),\n",
    "    transforms.ToTensor(),\n",
    "    transforms.Normalize(mean=[0.485, 0.456, 0.406],\n",
    "                         std=[0.229, 0.224, 0.225])\n",
    "])"
   ]
  },
  {
   "cell_type": "code",
   "execution_count": 5,
   "id": "90a7a7d9-35e2-4a3e-88db-2d6e62af163c",
   "metadata": {},
   "outputs": [
    {
     "name": "stdout",
     "output_type": "stream",
     "text": [
      "Número de imagens no dataset de treino: 684\n",
      "Número de imagens no dataset de validação: 147\n"
     ]
    }
   ],
   "source": [
    "# Diretórios de treino e validação\n",
    "train_dir = r\"C:\\Users\\maste\\OneDrive\\Documentos\\Artigo_Rita_Dataset_W\\Training\"\n",
    "val_dir = r\"C:\\Users\\maste\\OneDrive\\Documentos\\Artigo_Rita_Dataset_W\\Validation\"\n",
    "\n",
    "def contar_imagens(diretorio):\n",
    "    contador = 0\n",
    "    for root, dirs, files in os.walk(diretorio):\n",
    "        contador += len([f for f in files if f.endswith(('.png', '.jpg', '.jpeg'))])\n",
    "    return contador\n",
    "\n",
    "num_treino = contar_imagens(train_dir)\n",
    "num_validacao = contar_imagens(val_dir)\n",
    "\n",
    "print(f'Número de imagens no dataset de treino: {num_treino}')\n",
    "print(f'Número de imagens no dataset de validação: {num_validacao}')"
   ]
  },
  {
   "cell_type": "code",
   "execution_count": 7,
   "id": "c1466015-600d-469e-8232-22fa93d907f3",
   "metadata": {},
   "outputs": [],
   "source": [
    "# Carregando datasets de treino e validação\n",
    "train_data = datasets.ImageFolder(train_dir, transform=transform)\n",
    "val_data = datasets.ImageFolder(val_dir, transform=transform)"
   ]
  },
  {
   "cell_type": "code",
   "execution_count": 9,
   "id": "cc846a6c-2874-4604-af6c-ff824f7bcfeb",
   "metadata": {},
   "outputs": [],
   "source": [
    "# Criando dataloaders para iterar sobre os dados durante o treinamento\n",
    "train_loader = DataLoader(train_data, batch_size=32, shuffle=True)\n",
    "val_loader = DataLoader(val_data, batch_size=32, shuffle=False)"
   ]
  },
  {
   "cell_type": "code",
   "execution_count": 11,
   "id": "4b9cc11b-6191-4cbd-8cf4-7ee12f53b1fa",
   "metadata": {},
   "outputs": [
    {
     "name": "stdout",
     "output_type": "stream",
     "text": [
      "['malignant_tumor', 'no_tumor']\n",
      "['malignant_tumor', 'no_tumor']\n"
     ]
    }
   ],
   "source": [
    "# Definindo as classes do dataset\n",
    "classes = train_data.classes\n",
    "classes2 = val_data.classes\n",
    "print(classes)\n",
    "print(classes2)"
   ]
  },
  {
   "cell_type": "code",
   "execution_count": 13,
   "id": "7eb0697c-9d9d-4215-8859-cc6e3ce4212a",
   "metadata": {},
   "outputs": [],
   "source": [
    "# Carregando o modelo Densenet pré-treinado\n",
    "model = models.densenet121(weights=models.DenseNet121_Weights.DEFAULT)"
   ]
  },
  {
   "cell_type": "code",
   "execution_count": 15,
   "id": "9bb1f19c-b22f-4dfc-9835-e3bc6a66190a",
   "metadata": {},
   "outputs": [],
   "source": [
    "# Congelando as camadas iniciais e descongelando as camadas finais\n",
    "for param in model.parameters():\n",
    "    param.requires_grad = False\n",
    "    num_ftrs = model.classifier.in_features\n",
    "    model.classifier = nn.Linear(num_ftrs, len(classes))\n",
    "for param in model.classifier.parameters():\n",
    "    param.requires_grad = True"
   ]
  },
  {
   "cell_type": "code",
   "execution_count": 17,
   "id": "6de12f02-cdd9-49bd-9899-d2f08a09c838",
   "metadata": {},
   "outputs": [],
   "source": [
    "# Definindo a função de perda e otimizador\n",
    "criterion = nn.CrossEntropyLoss()\n",
    "optimizer = optim.Adam(model.parameters(), lr=0.0001)"
   ]
  },
  {
   "cell_type": "code",
   "execution_count": 19,
   "id": "e0d97ca1-060e-4934-8d10-20361cf9076a",
   "metadata": {},
   "outputs": [
    {
     "name": "stdout",
     "output_type": "stream",
     "text": [
      "Using device: cuda\n"
     ]
    }
   ],
   "source": [
    "device = torch.device(\"cuda\" if torch.cuda.is_available() else \"cpu\")\n",
    "print(f\"Using device: {device}\")"
   ]
  },
  {
   "cell_type": "code",
   "execution_count": 21,
   "id": "be653159-92a2-45cd-87b9-d238455713a1",
   "metadata": {},
   "outputs": [],
   "source": [
    "# Caminhos para salvar os pesos e o modelo\n",
    "save_weights = r\"C:\\Users\\maste\\OneDrive\\Documentos\\Resultados_Redes_WVC2025\\Wavelet\\DenseNet121\\50_epocas\\ADAM\\melhor_modelo\"\n",
    "save_model = r\"C:\\Users\\maste\\OneDrive\\Documentos\\Resultados_Redes_WVC2025\\Wavelet\\DenseNet121\\50_epocas\\ADAM\\melhor_modelo\\melhor_modelo.pt\""
   ]
  },
  {
   "cell_type": "code",
   "execution_count": 23,
   "id": "df442156-a605-4133-a312-3cdbf2b3d29d",
   "metadata": {},
   "outputs": [
    {
     "name": "stderr",
     "output_type": "stream",
     "text": [
      "Epoch 1/50: 100%|███████████████████████████████████████████████████████████████████| 22/22 [00:23<00:00,  1.06s/batch]\n",
      "Validation Epoch 1/50: 100%|██████████████████████████████████████████████████████████| 5/5 [00:05<00:00,  1.02s/batch]\n"
     ]
    },
    {
     "name": "stdout",
     "output_type": "stream",
     "text": [
      "Epoch 1/50, Training Loss: 0.6935, Training Accuracy: 0.5424, Validation Loss: 0.6301, Validation Accuracy: 0.5918\n",
      "Saved model at epoch 1 with validation accuracy: 0.5918 to C:\\Users\\maste\\OneDrive\\Documentos\\Resultados_Redes_WVC2025\\Wavelet\\DenseNet121\\50_epocas\\ADAM\\melhor_modelo\\model_epoch_1_val_accuracy_0.5918.pt\n"
     ]
    },
    {
     "name": "stderr",
     "output_type": "stream",
     "text": [
      "Epoch 2/50: 100%|███████████████████████████████████████████████████████████████████| 22/22 [00:20<00:00,  1.05batch/s]\n",
      "Validation Epoch 2/50: 100%|██████████████████████████████████████████████████████████| 5/5 [00:04<00:00,  1.19batch/s]\n"
     ]
    },
    {
     "name": "stdout",
     "output_type": "stream",
     "text": [
      "Epoch 2/50, Training Loss: 0.6117, Training Accuracy: 0.6813, Validation Loss: 0.5796, Validation Accuracy: 0.8776\n",
      "Saved model at epoch 2 with validation accuracy: 0.8776 to C:\\Users\\maste\\OneDrive\\Documentos\\Resultados_Redes_WVC2025\\Wavelet\\DenseNet121\\50_epocas\\ADAM\\melhor_modelo\\model_epoch_2_val_accuracy_0.8776.pt\n"
     ]
    },
    {
     "name": "stderr",
     "output_type": "stream",
     "text": [
      "Epoch 3/50: 100%|███████████████████████████████████████████████████████████████████| 22/22 [00:21<00:00,  1.04batch/s]\n",
      "Validation Epoch 3/50: 100%|██████████████████████████████████████████████████████████| 5/5 [00:04<00:00,  1.14batch/s]\n"
     ]
    },
    {
     "name": "stdout",
     "output_type": "stream",
     "text": [
      "Epoch 3/50, Training Loss: 0.5489, Training Accuracy: 0.7617, Validation Loss: 0.4871, Validation Accuracy: 0.8912\n",
      "Saved model at epoch 3 with validation accuracy: 0.8912 to C:\\Users\\maste\\OneDrive\\Documentos\\Resultados_Redes_WVC2025\\Wavelet\\DenseNet121\\50_epocas\\ADAM\\melhor_modelo\\model_epoch_3_val_accuracy_0.8912.pt\n"
     ]
    },
    {
     "name": "stderr",
     "output_type": "stream",
     "text": [
      "Epoch 4/50: 100%|███████████████████████████████████████████████████████████████████| 22/22 [00:21<00:00,  1.02batch/s]\n",
      "Validation Epoch 4/50: 100%|██████████████████████████████████████████████████████████| 5/5 [00:04<00:00,  1.13batch/s]\n"
     ]
    },
    {
     "name": "stdout",
     "output_type": "stream",
     "text": [
      "Epoch 4/50, Training Loss: 0.4926, Training Accuracy: 0.8406, Validation Loss: 0.4359, Validation Accuracy: 0.9116\n",
      "Saved model at epoch 4 with validation accuracy: 0.9116 to C:\\Users\\maste\\OneDrive\\Documentos\\Resultados_Redes_WVC2025\\Wavelet\\DenseNet121\\50_epocas\\ADAM\\melhor_modelo\\model_epoch_4_val_accuracy_0.9116.pt\n"
     ]
    },
    {
     "name": "stderr",
     "output_type": "stream",
     "text": [
      "Epoch 5/50: 100%|███████████████████████████████████████████████████████████████████| 22/22 [00:21<00:00,  1.03batch/s]\n",
      "Validation Epoch 5/50: 100%|██████████████████████████████████████████████████████████| 5/5 [00:04<00:00,  1.21batch/s]\n"
     ]
    },
    {
     "name": "stdout",
     "output_type": "stream",
     "text": [
      "Epoch 5/50, Training Loss: 0.4497, Training Accuracy: 0.8728, Validation Loss: 0.3967, Validation Accuracy: 0.9184\n",
      "Saved model at epoch 5 with validation accuracy: 0.9184 to C:\\Users\\maste\\OneDrive\\Documentos\\Resultados_Redes_WVC2025\\Wavelet\\DenseNet121\\50_epocas\\ADAM\\melhor_modelo\\model_epoch_5_val_accuracy_0.9184.pt\n"
     ]
    },
    {
     "name": "stderr",
     "output_type": "stream",
     "text": [
      "Epoch 6/50: 100%|███████████████████████████████████████████████████████████████████| 22/22 [00:21<00:00,  1.02batch/s]\n",
      "Validation Epoch 6/50: 100%|██████████████████████████████████████████████████████████| 5/5 [00:04<00:00,  1.19batch/s]\n"
     ]
    },
    {
     "name": "stdout",
     "output_type": "stream",
     "text": [
      "Epoch 6/50, Training Loss: 0.4114, Training Accuracy: 0.8991, Validation Loss: 0.3641, Validation Accuracy: 0.9320\n",
      "Saved model at epoch 6 with validation accuracy: 0.9320 to C:\\Users\\maste\\OneDrive\\Documentos\\Resultados_Redes_WVC2025\\Wavelet\\DenseNet121\\50_epocas\\ADAM\\melhor_modelo\\model_epoch_6_val_accuracy_0.9320.pt\n"
     ]
    },
    {
     "name": "stderr",
     "output_type": "stream",
     "text": [
      "Epoch 7/50: 100%|███████████████████████████████████████████████████████████████████| 22/22 [00:20<00:00,  1.05batch/s]\n",
      "Validation Epoch 7/50: 100%|██████████████████████████████████████████████████████████| 5/5 [00:04<00:00,  1.15batch/s]\n"
     ]
    },
    {
     "name": "stdout",
     "output_type": "stream",
     "text": [
      "Epoch 7/50, Training Loss: 0.3747, Training Accuracy: 0.9211, Validation Loss: 0.3346, Validation Accuracy: 0.9456\n",
      "Saved model at epoch 7 with validation accuracy: 0.9456 to C:\\Users\\maste\\OneDrive\\Documentos\\Resultados_Redes_WVC2025\\Wavelet\\DenseNet121\\50_epocas\\ADAM\\melhor_modelo\\model_epoch_7_val_accuracy_0.9456.pt\n"
     ]
    },
    {
     "name": "stderr",
     "output_type": "stream",
     "text": [
      "Epoch 8/50: 100%|███████████████████████████████████████████████████████████████████| 22/22 [00:21<00:00,  1.02batch/s]\n",
      "Validation Epoch 8/50: 100%|██████████████████████████████████████████████████████████| 5/5 [00:04<00:00,  1.17batch/s]\n"
     ]
    },
    {
     "name": "stdout",
     "output_type": "stream",
     "text": [
      "Epoch 8/50, Training Loss: 0.3512, Training Accuracy: 0.9284, Validation Loss: 0.3126, Validation Accuracy: 0.9456\n"
     ]
    },
    {
     "name": "stderr",
     "output_type": "stream",
     "text": [
      "Epoch 9/50: 100%|███████████████████████████████████████████████████████████████████| 22/22 [00:20<00:00,  1.05batch/s]\n",
      "Validation Epoch 9/50: 100%|██████████████████████████████████████████████████████████| 5/5 [00:04<00:00,  1.10batch/s]\n"
     ]
    },
    {
     "name": "stdout",
     "output_type": "stream",
     "text": [
      "Epoch 9/50, Training Loss: 0.3279, Training Accuracy: 0.9357, Validation Loss: 0.2900, Validation Accuracy: 0.9660\n",
      "Saved model at epoch 9 with validation accuracy: 0.9660 to C:\\Users\\maste\\OneDrive\\Documentos\\Resultados_Redes_WVC2025\\Wavelet\\DenseNet121\\50_epocas\\ADAM\\melhor_modelo\\model_epoch_9_val_accuracy_0.9660.pt\n"
     ]
    },
    {
     "name": "stderr",
     "output_type": "stream",
     "text": [
      "Epoch 10/50: 100%|██████████████████████████████████████████████████████████████████| 22/22 [00:21<00:00,  1.03batch/s]\n",
      "Validation Epoch 10/50: 100%|█████████████████████████████████████████████████████████| 5/5 [00:04<00:00,  1.22batch/s]\n"
     ]
    },
    {
     "name": "stdout",
     "output_type": "stream",
     "text": [
      "Epoch 10/50, Training Loss: 0.3009, Training Accuracy: 0.9518, Validation Loss: 0.2730, Validation Accuracy: 0.9660\n"
     ]
    },
    {
     "name": "stderr",
     "output_type": "stream",
     "text": [
      "Epoch 11/50: 100%|██████████████████████████████████████████████████████████████████| 22/22 [00:21<00:00,  1.04batch/s]\n",
      "Validation Epoch 11/50: 100%|█████████████████████████████████████████████████████████| 5/5 [00:04<00:00,  1.19batch/s]\n"
     ]
    },
    {
     "name": "stdout",
     "output_type": "stream",
     "text": [
      "Epoch 11/50, Training Loss: 0.3002, Training Accuracy: 0.9488, Validation Loss: 0.2595, Validation Accuracy: 0.9660\n"
     ]
    },
    {
     "name": "stderr",
     "output_type": "stream",
     "text": [
      "Epoch 12/50: 100%|██████████████████████████████████████████████████████████████████| 22/22 [00:21<00:00,  1.04batch/s]\n",
      "Validation Epoch 12/50: 100%|█████████████████████████████████████████████████████████| 5/5 [00:04<00:00,  1.16batch/s]\n"
     ]
    },
    {
     "name": "stdout",
     "output_type": "stream",
     "text": [
      "Epoch 12/50, Training Loss: 0.2724, Training Accuracy: 0.9474, Validation Loss: 0.2449, Validation Accuracy: 0.9660\n"
     ]
    },
    {
     "name": "stderr",
     "output_type": "stream",
     "text": [
      "Epoch 13/50: 100%|██████████████████████████████████████████████████████████████████| 22/22 [00:20<00:00,  1.05batch/s]\n",
      "Validation Epoch 13/50: 100%|█████████████████████████████████████████████████████████| 5/5 [00:04<00:00,  1.14batch/s]\n"
     ]
    },
    {
     "name": "stdout",
     "output_type": "stream",
     "text": [
      "Epoch 13/50, Training Loss: 0.2720, Training Accuracy: 0.9503, Validation Loss: 0.2320, Validation Accuracy: 0.9796\n",
      "Saved model at epoch 13 with validation accuracy: 0.9796 to C:\\Users\\maste\\OneDrive\\Documentos\\Resultados_Redes_WVC2025\\Wavelet\\DenseNet121\\50_epocas\\ADAM\\melhor_modelo\\model_epoch_13_val_accuracy_0.9796.pt\n"
     ]
    },
    {
     "name": "stderr",
     "output_type": "stream",
     "text": [
      "Epoch 14/50: 100%|██████████████████████████████████████████████████████████████████| 22/22 [00:20<00:00,  1.05batch/s]\n",
      "Validation Epoch 14/50: 100%|█████████████████████████████████████████████████████████| 5/5 [00:04<00:00,  1.20batch/s]\n"
     ]
    },
    {
     "name": "stdout",
     "output_type": "stream",
     "text": [
      "Epoch 14/50, Training Loss: 0.2496, Training Accuracy: 0.9576, Validation Loss: 0.2214, Validation Accuracy: 0.9660\n"
     ]
    },
    {
     "name": "stderr",
     "output_type": "stream",
     "text": [
      "Epoch 15/50: 100%|██████████████████████████████████████████████████████████████████| 22/22 [00:20<00:00,  1.05batch/s]\n",
      "Validation Epoch 15/50: 100%|█████████████████████████████████████████████████████████| 5/5 [00:04<00:00,  1.23batch/s]\n"
     ]
    },
    {
     "name": "stdout",
     "output_type": "stream",
     "text": [
      "Epoch 15/50, Training Loss: 0.2459, Training Accuracy: 0.9518, Validation Loss: 0.2131, Validation Accuracy: 0.9864\n",
      "Saved model at epoch 15 with validation accuracy: 0.9864 to C:\\Users\\maste\\OneDrive\\Documentos\\Resultados_Redes_WVC2025\\Wavelet\\DenseNet121\\50_epocas\\ADAM\\melhor_modelo\\model_epoch_15_val_accuracy_0.9864.pt\n"
     ]
    },
    {
     "name": "stderr",
     "output_type": "stream",
     "text": [
      "Epoch 16/50: 100%|██████████████████████████████████████████████████████████████████| 22/22 [00:21<00:00,  1.01batch/s]\n",
      "Validation Epoch 16/50: 100%|█████████████████████████████████████████████████████████| 5/5 [00:04<00:00,  1.13batch/s]\n"
     ]
    },
    {
     "name": "stdout",
     "output_type": "stream",
     "text": [
      "Epoch 16/50, Training Loss: 0.2274, Training Accuracy: 0.9649, Validation Loss: 0.2015, Validation Accuracy: 0.9864\n"
     ]
    },
    {
     "name": "stderr",
     "output_type": "stream",
     "text": [
      "Epoch 17/50: 100%|██████████████████████████████████████████████████████████████████| 22/22 [00:21<00:00,  1.01batch/s]\n",
      "Validation Epoch 17/50: 100%|█████████████████████████████████████████████████████████| 5/5 [00:04<00:00,  1.17batch/s]\n"
     ]
    },
    {
     "name": "stdout",
     "output_type": "stream",
     "text": [
      "Epoch 17/50, Training Loss: 0.2140, Training Accuracy: 0.9620, Validation Loss: 0.1956, Validation Accuracy: 0.9864\n"
     ]
    },
    {
     "name": "stderr",
     "output_type": "stream",
     "text": [
      "Epoch 18/50: 100%|██████████████████████████████████████████████████████████████████| 22/22 [00:20<00:00,  1.05batch/s]\n",
      "Validation Epoch 18/50: 100%|█████████████████████████████████████████████████████████| 5/5 [00:04<00:00,  1.19batch/s]\n"
     ]
    },
    {
     "name": "stdout",
     "output_type": "stream",
     "text": [
      "Epoch 18/50, Training Loss: 0.2091, Training Accuracy: 0.9678, Validation Loss: 0.1922, Validation Accuracy: 0.9864\n"
     ]
    },
    {
     "name": "stderr",
     "output_type": "stream",
     "text": [
      "Epoch 19/50: 100%|██████████████████████████████████████████████████████████████████| 22/22 [00:21<00:00,  1.05batch/s]\n",
      "Validation Epoch 19/50: 100%|█████████████████████████████████████████████████████████| 5/5 [00:04<00:00,  1.18batch/s]\n"
     ]
    },
    {
     "name": "stdout",
     "output_type": "stream",
     "text": [
      "Epoch 19/50, Training Loss: 0.2027, Training Accuracy: 0.9635, Validation Loss: 0.1802, Validation Accuracy: 0.9864\n"
     ]
    },
    {
     "name": "stderr",
     "output_type": "stream",
     "text": [
      "Epoch 20/50: 100%|██████████████████████████████████████████████████████████████████| 22/22 [00:20<00:00,  1.05batch/s]\n",
      "Validation Epoch 20/50: 100%|█████████████████████████████████████████████████████████| 5/5 [00:04<00:00,  1.16batch/s]\n"
     ]
    },
    {
     "name": "stdout",
     "output_type": "stream",
     "text": [
      "Epoch 20/50, Training Loss: 0.1935, Training Accuracy: 0.9664, Validation Loss: 0.1744, Validation Accuracy: 0.9864\n"
     ]
    },
    {
     "name": "stderr",
     "output_type": "stream",
     "text": [
      "Epoch 21/50: 100%|██████████████████████████████████████████████████████████████████| 22/22 [00:21<00:00,  1.00batch/s]\n",
      "Validation Epoch 21/50: 100%|█████████████████████████████████████████████████████████| 5/5 [00:04<00:00,  1.12batch/s]\n"
     ]
    },
    {
     "name": "stdout",
     "output_type": "stream",
     "text": [
      "Epoch 21/50, Training Loss: 0.1837, Training Accuracy: 0.9708, Validation Loss: 0.1681, Validation Accuracy: 0.9864\n"
     ]
    },
    {
     "name": "stderr",
     "output_type": "stream",
     "text": [
      "Epoch 22/50: 100%|██████████████████████████████████████████████████████████████████| 22/22 [00:21<00:00,  1.01batch/s]\n",
      "Validation Epoch 22/50: 100%|█████████████████████████████████████████████████████████| 5/5 [00:04<00:00,  1.16batch/s]\n"
     ]
    },
    {
     "name": "stdout",
     "output_type": "stream",
     "text": [
      "Epoch 22/50, Training Loss: 0.1909, Training Accuracy: 0.9649, Validation Loss: 0.1618, Validation Accuracy: 0.9864\n"
     ]
    },
    {
     "name": "stderr",
     "output_type": "stream",
     "text": [
      "Epoch 23/50: 100%|██████████████████████████████████████████████████████████████████| 22/22 [00:22<00:00,  1.00s/batch]\n",
      "Validation Epoch 23/50: 100%|█████████████████████████████████████████████████████████| 5/5 [00:04<00:00,  1.18batch/s]\n"
     ]
    },
    {
     "name": "stdout",
     "output_type": "stream",
     "text": [
      "Epoch 23/50, Training Loss: 0.1787, Training Accuracy: 0.9664, Validation Loss: 0.1586, Validation Accuracy: 0.9864\n"
     ]
    },
    {
     "name": "stderr",
     "output_type": "stream",
     "text": [
      "Epoch 24/50: 100%|██████████████████████████████████████████████████████████████████| 22/22 [00:21<00:00,  1.00batch/s]\n",
      "Validation Epoch 24/50: 100%|█████████████████████████████████████████████████████████| 5/5 [00:04<00:00,  1.15batch/s]\n"
     ]
    },
    {
     "name": "stdout",
     "output_type": "stream",
     "text": [
      "Epoch 24/50, Training Loss: 0.1807, Training Accuracy: 0.9693, Validation Loss: 0.1577, Validation Accuracy: 0.9864\n"
     ]
    },
    {
     "name": "stderr",
     "output_type": "stream",
     "text": [
      "Epoch 25/50: 100%|██████████████████████████████████████████████████████████████████| 22/22 [00:21<00:00,  1.01batch/s]\n",
      "Validation Epoch 25/50: 100%|█████████████████████████████████████████████████████████| 5/5 [00:04<00:00,  1.13batch/s]\n"
     ]
    },
    {
     "name": "stdout",
     "output_type": "stream",
     "text": [
      "Epoch 25/50, Training Loss: 0.1548, Training Accuracy: 0.9766, Validation Loss: 0.1524, Validation Accuracy: 0.9864\n"
     ]
    },
    {
     "name": "stderr",
     "output_type": "stream",
     "text": [
      "Epoch 26/50: 100%|██████████████████████████████████████████████████████████████████| 22/22 [00:21<00:00,  1.00batch/s]\n",
      "Validation Epoch 26/50: 100%|█████████████████████████████████████████████████████████| 5/5 [00:04<00:00,  1.13batch/s]\n"
     ]
    },
    {
     "name": "stdout",
     "output_type": "stream",
     "text": [
      "Epoch 26/50, Training Loss: 0.1574, Training Accuracy: 0.9708, Validation Loss: 0.1467, Validation Accuracy: 0.9864\n"
     ]
    },
    {
     "name": "stderr",
     "output_type": "stream",
     "text": [
      "Epoch 27/50: 100%|██████████████████████████████████████████████████████████████████| 22/22 [00:21<00:00,  1.01batch/s]\n",
      "Validation Epoch 27/50: 100%|█████████████████████████████████████████████████████████| 5/5 [00:04<00:00,  1.12batch/s]\n"
     ]
    },
    {
     "name": "stdout",
     "output_type": "stream",
     "text": [
      "Epoch 27/50, Training Loss: 0.1634, Training Accuracy: 0.9664, Validation Loss: 0.1447, Validation Accuracy: 0.9864\n"
     ]
    },
    {
     "name": "stderr",
     "output_type": "stream",
     "text": [
      "Epoch 28/50: 100%|██████████████████████████████████████████████████████████████████| 22/22 [00:21<00:00,  1.00batch/s]\n",
      "Validation Epoch 28/50: 100%|█████████████████████████████████████████████████████████| 5/5 [00:04<00:00,  1.19batch/s]\n"
     ]
    },
    {
     "name": "stdout",
     "output_type": "stream",
     "text": [
      "Epoch 28/50, Training Loss: 0.1526, Training Accuracy: 0.9781, Validation Loss: 0.1421, Validation Accuracy: 0.9864\n"
     ]
    },
    {
     "name": "stderr",
     "output_type": "stream",
     "text": [
      "Epoch 29/50: 100%|██████████████████████████████████████████████████████████████████| 22/22 [00:20<00:00,  1.05batch/s]\n",
      "Validation Epoch 29/50: 100%|█████████████████████████████████████████████████████████| 5/5 [00:04<00:00,  1.15batch/s]\n"
     ]
    },
    {
     "name": "stdout",
     "output_type": "stream",
     "text": [
      "Epoch 29/50, Training Loss: 0.1476, Training Accuracy: 0.9708, Validation Loss: 0.1411, Validation Accuracy: 0.9932\n",
      "Saved model at epoch 29 with validation accuracy: 0.9932 to C:\\Users\\maste\\OneDrive\\Documentos\\Resultados_Redes_WVC2025\\Wavelet\\DenseNet121\\50_epocas\\ADAM\\melhor_modelo\\model_epoch_29_val_accuracy_0.9932.pt\n"
     ]
    },
    {
     "name": "stderr",
     "output_type": "stream",
     "text": [
      "Epoch 30/50: 100%|██████████████████████████████████████████████████████████████████| 22/22 [00:21<00:00,  1.02batch/s]\n",
      "Validation Epoch 30/50: 100%|█████████████████████████████████████████████████████████| 5/5 [00:04<00:00,  1.15batch/s]\n"
     ]
    },
    {
     "name": "stdout",
     "output_type": "stream",
     "text": [
      "Epoch 30/50, Training Loss: 0.1641, Training Accuracy: 0.9664, Validation Loss: 0.1333, Validation Accuracy: 0.9864\n"
     ]
    },
    {
     "name": "stderr",
     "output_type": "stream",
     "text": [
      "Epoch 31/50: 100%|██████████████████████████████████████████████████████████████████| 22/22 [00:21<00:00,  1.00batch/s]\n",
      "Validation Epoch 31/50: 100%|█████████████████████████████████████████████████████████| 5/5 [00:04<00:00,  1.18batch/s]\n"
     ]
    },
    {
     "name": "stdout",
     "output_type": "stream",
     "text": [
      "Epoch 31/50, Training Loss: 0.1393, Training Accuracy: 0.9781, Validation Loss: 0.1316, Validation Accuracy: 0.9864\n"
     ]
    },
    {
     "name": "stderr",
     "output_type": "stream",
     "text": [
      "Epoch 32/50: 100%|██████████████████████████████████████████████████████████████████| 22/22 [00:21<00:00,  1.00batch/s]\n",
      "Validation Epoch 32/50: 100%|█████████████████████████████████████████████████████████| 5/5 [00:04<00:00,  1.13batch/s]\n"
     ]
    },
    {
     "name": "stdout",
     "output_type": "stream",
     "text": [
      "Epoch 32/50, Training Loss: 0.1399, Training Accuracy: 0.9751, Validation Loss: 0.1274, Validation Accuracy: 0.9864\n"
     ]
    },
    {
     "name": "stderr",
     "output_type": "stream",
     "text": [
      "Epoch 33/50: 100%|██████████████████████████████████████████████████████████████████| 22/22 [00:21<00:00,  1.00batch/s]\n",
      "Validation Epoch 33/50: 100%|█████████████████████████████████████████████████████████| 5/5 [00:04<00:00,  1.14batch/s]\n"
     ]
    },
    {
     "name": "stdout",
     "output_type": "stream",
     "text": [
      "Epoch 33/50, Training Loss: 0.1409, Training Accuracy: 0.9751, Validation Loss: 0.1370, Validation Accuracy: 0.9864\n"
     ]
    },
    {
     "name": "stderr",
     "output_type": "stream",
     "text": [
      "Epoch 34/50: 100%|██████████████████████████████████████████████████████████████████| 22/22 [00:21<00:00,  1.01batch/s]\n",
      "Validation Epoch 34/50: 100%|█████████████████████████████████████████████████████████| 5/5 [00:04<00:00,  1.14batch/s]\n"
     ]
    },
    {
     "name": "stdout",
     "output_type": "stream",
     "text": [
      "Epoch 34/50, Training Loss: 0.1310, Training Accuracy: 0.9810, Validation Loss: 0.1231, Validation Accuracy: 0.9864\n"
     ]
    },
    {
     "name": "stderr",
     "output_type": "stream",
     "text": [
      "Epoch 35/50: 100%|██████████████████████████████████████████████████████████████████| 22/22 [00:21<00:00,  1.00batch/s]\n",
      "Validation Epoch 35/50: 100%|█████████████████████████████████████████████████████████| 5/5 [00:04<00:00,  1.12batch/s]\n"
     ]
    },
    {
     "name": "stdout",
     "output_type": "stream",
     "text": [
      "Epoch 35/50, Training Loss: 0.1295, Training Accuracy: 0.9795, Validation Loss: 0.1317, Validation Accuracy: 0.9728\n"
     ]
    },
    {
     "name": "stderr",
     "output_type": "stream",
     "text": [
      "Epoch 36/50: 100%|██████████████████████████████████████████████████████████████████| 22/22 [00:21<00:00,  1.02batch/s]\n",
      "Validation Epoch 36/50: 100%|█████████████████████████████████████████████████████████| 5/5 [00:04<00:00,  1.13batch/s]\n"
     ]
    },
    {
     "name": "stdout",
     "output_type": "stream",
     "text": [
      "Epoch 36/50, Training Loss: 0.1172, Training Accuracy: 0.9868, Validation Loss: 0.1214, Validation Accuracy: 0.9864\n"
     ]
    },
    {
     "name": "stderr",
     "output_type": "stream",
     "text": [
      "Epoch 37/50: 100%|██████████████████████████████████████████████████████████████████| 22/22 [00:22<00:00,  1.01s/batch]\n",
      "Validation Epoch 37/50: 100%|█████████████████████████████████████████████████████████| 5/5 [00:04<00:00,  1.20batch/s]\n"
     ]
    },
    {
     "name": "stdout",
     "output_type": "stream",
     "text": [
      "Epoch 37/50, Training Loss: 0.1230, Training Accuracy: 0.9810, Validation Loss: 0.1217, Validation Accuracy: 0.9932\n"
     ]
    },
    {
     "name": "stderr",
     "output_type": "stream",
     "text": [
      "Epoch 38/50: 100%|██████████████████████████████████████████████████████████████████| 22/22 [00:21<00:00,  1.01batch/s]\n",
      "Validation Epoch 38/50: 100%|█████████████████████████████████████████████████████████| 5/5 [00:04<00:00,  1.14batch/s]\n"
     ]
    },
    {
     "name": "stdout",
     "output_type": "stream",
     "text": [
      "Epoch 38/50, Training Loss: 0.1228, Training Accuracy: 0.9751, Validation Loss: 0.1149, Validation Accuracy: 0.9864\n"
     ]
    },
    {
     "name": "stderr",
     "output_type": "stream",
     "text": [
      "Epoch 39/50: 100%|██████████████████████████████████████████████████████████████████| 22/22 [00:20<00:00,  1.05batch/s]\n",
      "Validation Epoch 39/50: 100%|█████████████████████████████████████████████████████████| 5/5 [00:04<00:00,  1.13batch/s]\n"
     ]
    },
    {
     "name": "stdout",
     "output_type": "stream",
     "text": [
      "Epoch 39/50, Training Loss: 0.1183, Training Accuracy: 0.9737, Validation Loss: 0.1146, Validation Accuracy: 0.9932\n"
     ]
    },
    {
     "name": "stderr",
     "output_type": "stream",
     "text": [
      "Epoch 40/50: 100%|██████████████████████████████████████████████████████████████████| 22/22 [00:21<00:00,  1.01batch/s]\n",
      "Validation Epoch 40/50: 100%|█████████████████████████████████████████████████████████| 5/5 [00:04<00:00,  1.15batch/s]\n"
     ]
    },
    {
     "name": "stdout",
     "output_type": "stream",
     "text": [
      "Epoch 40/50, Training Loss: 0.1135, Training Accuracy: 0.9825, Validation Loss: 0.1106, Validation Accuracy: 0.9864\n"
     ]
    },
    {
     "name": "stderr",
     "output_type": "stream",
     "text": [
      "Epoch 41/50: 100%|██████████████████████████████████████████████████████████████████| 22/22 [00:21<00:00,  1.01batch/s]\n",
      "Validation Epoch 41/50: 100%|█████████████████████████████████████████████████████████| 5/5 [00:04<00:00,  1.18batch/s]\n"
     ]
    },
    {
     "name": "stdout",
     "output_type": "stream",
     "text": [
      "Epoch 41/50, Training Loss: 0.1195, Training Accuracy: 0.9825, Validation Loss: 0.1197, Validation Accuracy: 0.9864\n"
     ]
    },
    {
     "name": "stderr",
     "output_type": "stream",
     "text": [
      "Epoch 42/50: 100%|██████████████████████████████████████████████████████████████████| 22/22 [00:21<00:00,  1.05batch/s]\n",
      "Validation Epoch 42/50: 100%|█████████████████████████████████████████████████████████| 5/5 [00:04<00:00,  1.17batch/s]\n"
     ]
    },
    {
     "name": "stdout",
     "output_type": "stream",
     "text": [
      "Epoch 42/50, Training Loss: 0.1101, Training Accuracy: 0.9839, Validation Loss: 0.1108, Validation Accuracy: 0.9932\n"
     ]
    },
    {
     "name": "stderr",
     "output_type": "stream",
     "text": [
      "Epoch 43/50: 100%|██████████████████████████████████████████████████████████████████| 22/22 [00:20<00:00,  1.05batch/s]\n",
      "Validation Epoch 43/50: 100%|█████████████████████████████████████████████████████████| 5/5 [00:04<00:00,  1.13batch/s]\n"
     ]
    },
    {
     "name": "stdout",
     "output_type": "stream",
     "text": [
      "Epoch 43/50, Training Loss: 0.1079, Training Accuracy: 0.9810, Validation Loss: 0.1083, Validation Accuracy: 0.9864\n"
     ]
    },
    {
     "name": "stderr",
     "output_type": "stream",
     "text": [
      "Epoch 44/50: 100%|██████████████████████████████████████████████████████████████████| 22/22 [00:20<00:00,  1.05batch/s]\n",
      "Validation Epoch 44/50: 100%|█████████████████████████████████████████████████████████| 5/5 [00:04<00:00,  1.14batch/s]\n"
     ]
    },
    {
     "name": "stdout",
     "output_type": "stream",
     "text": [
      "Epoch 44/50, Training Loss: 0.0991, Training Accuracy: 0.9868, Validation Loss: 0.1070, Validation Accuracy: 1.0000\n",
      "Saved model at epoch 44 with validation accuracy: 1.0000 to C:\\Users\\maste\\OneDrive\\Documentos\\Resultados_Redes_WVC2025\\Wavelet\\DenseNet121\\50_epocas\\ADAM\\melhor_modelo\\model_epoch_44_val_accuracy_1.0000.pt\n"
     ]
    },
    {
     "name": "stderr",
     "output_type": "stream",
     "text": [
      "Epoch 45/50: 100%|██████████████████████████████████████████████████████████████████| 22/22 [00:21<00:00,  1.02batch/s]\n",
      "Validation Epoch 45/50: 100%|█████████████████████████████████████████████████████████| 5/5 [00:04<00:00,  1.16batch/s]\n"
     ]
    },
    {
     "name": "stdout",
     "output_type": "stream",
     "text": [
      "Epoch 45/50, Training Loss: 0.1038, Training Accuracy: 0.9868, Validation Loss: 0.1134, Validation Accuracy: 0.9864\n"
     ]
    },
    {
     "name": "stderr",
     "output_type": "stream",
     "text": [
      "Epoch 46/50: 100%|██████████████████████████████████████████████████████████████████| 22/22 [00:20<00:00,  1.05batch/s]\n",
      "Validation Epoch 46/50: 100%|█████████████████████████████████████████████████████████| 5/5 [00:04<00:00,  1.10batch/s]\n"
     ]
    },
    {
     "name": "stdout",
     "output_type": "stream",
     "text": [
      "Epoch 46/50, Training Loss: 0.1027, Training Accuracy: 0.9795, Validation Loss: 0.1014, Validation Accuracy: 0.9932\n"
     ]
    },
    {
     "name": "stderr",
     "output_type": "stream",
     "text": [
      "Epoch 47/50: 100%|██████████████████████████████████████████████████████████████████| 22/22 [00:24<00:00,  1.10s/batch]\n",
      "Validation Epoch 47/50: 100%|█████████████████████████████████████████████████████████| 5/5 [00:05<00:00,  1.02s/batch]\n"
     ]
    },
    {
     "name": "stdout",
     "output_type": "stream",
     "text": [
      "Epoch 47/50, Training Loss: 0.1057, Training Accuracy: 0.9795, Validation Loss: 0.1022, Validation Accuracy: 0.9932\n"
     ]
    },
    {
     "name": "stderr",
     "output_type": "stream",
     "text": [
      "Epoch 48/50: 100%|██████████████████████████████████████████████████████████████████| 22/22 [00:23<00:00,  1.05s/batch]\n",
      "Validation Epoch 48/50: 100%|█████████████████████████████████████████████████████████| 5/5 [00:04<00:00,  1.19batch/s]\n"
     ]
    },
    {
     "name": "stdout",
     "output_type": "stream",
     "text": [
      "Epoch 48/50, Training Loss: 0.1055, Training Accuracy: 0.9795, Validation Loss: 0.0995, Validation Accuracy: 0.9932\n"
     ]
    },
    {
     "name": "stderr",
     "output_type": "stream",
     "text": [
      "Epoch 49/50: 100%|██████████████████████████████████████████████████████████████████| 22/22 [00:21<00:00,  1.00batch/s]\n",
      "Validation Epoch 49/50: 100%|█████████████████████████████████████████████████████████| 5/5 [00:04<00:00,  1.13batch/s]\n"
     ]
    },
    {
     "name": "stdout",
     "output_type": "stream",
     "text": [
      "Epoch 49/50, Training Loss: 0.0917, Training Accuracy: 0.9912, Validation Loss: 0.1063, Validation Accuracy: 0.9864\n"
     ]
    },
    {
     "name": "stderr",
     "output_type": "stream",
     "text": [
      "Epoch 50/50: 100%|██████████████████████████████████████████████████████████████████| 22/22 [00:21<00:00,  1.01batch/s]\n",
      "Validation Epoch 50/50: 100%|█████████████████████████████████████████████████████████| 5/5 [00:04<00:00,  1.19batch/s]\n"
     ]
    },
    {
     "name": "stdout",
     "output_type": "stream",
     "text": [
      "Epoch 50/50, Training Loss: 0.0946, Training Accuracy: 0.9898, Validation Loss: 0.1042, Validation Accuracy: 0.9864\n",
      "Treinamento finalizado\n",
      "Saved entire model at C:\\Users\\maste\\OneDrive\\Documentos\\Resultados_Redes_WVC2025\\Wavelet\\DenseNet121\\50_epocas\\ADAM\\melhor_modelo\\melhor_modelo.pt\n"
     ]
    }
   ],
   "source": [
    "model.to(device)\n",
    "num_epochs=50\n",
    "# Listas para armazenar perda e acurácia\n",
    "train_loss_values = []\n",
    "val_loss_values = []\n",
    "train_accuracy_values = []\n",
    "val_accuracy_values = []\n",
    "\n",
    "# Listas para armazenar rótulos verdadeiros e predições para a matriz de confusão e curva ROC\n",
    "all_labels = []\n",
    "all_preds = []\n",
    "\n",
    "# Treinamento e coleta de dados\n",
    "best_accuracy = 0.0\n",
    "counter = 0\n",
    "\n",
    "for epoch in range(num_epochs):\n",
    "    model.train()\n",
    "    running_loss = 0.0\n",
    "    correct = 0\n",
    "    total = 0\n",
    "\n",
    "    for inputs, labels in tqdm(train_loader, desc=f\"Epoch {epoch+1}/{num_epochs}\", unit='batch'):\n",
    "        inputs, labels = inputs.to(device), labels.to(device)\n",
    "\n",
    "        optimizer.zero_grad()\n",
    "        outputs = model(inputs)\n",
    "        loss = criterion(outputs, labels)\n",
    "        loss.backward()\n",
    "        optimizer.step()\n",
    "        running_loss += loss.item() * inputs.size(0)\n",
    "\n",
    "        _, predicted = torch.max(outputs.data, 1)\n",
    "        total += labels.size(0)\n",
    "        correct += (predicted == labels).sum().item()\n",
    "\n",
    "    epoch_loss = running_loss / len(train_loader.dataset)\n",
    "    train_accuracy = correct / total\n",
    "\n",
    "    train_loss_values.append(epoch_loss)\n",
    "    train_accuracy_values.append(train_accuracy)\n",
    "\n",
    "    # Validação\n",
    "    model.eval()\n",
    "    val_running_loss = 0.0\n",
    "    val_correct = 0\n",
    "    val_total = 0\n",
    "\n",
    "    with torch.no_grad():\n",
    "        for inputs, labels in tqdm(val_loader, desc=f\"Validation Epoch {epoch+1}/{num_epochs}\", unit='batch'):\n",
    "            inputs, labels = inputs.to(device), labels.to(device)\n",
    "            outputs = model(inputs)\n",
    "            loss = criterion(outputs, labels)\n",
    "            val_running_loss += loss.item() * inputs.size(0)\n",
    "            _, predicted = torch.max(outputs.data, 1)\n",
    "            val_total += labels.size(0)\n",
    "            val_correct += (predicted == labels).sum().item()\n",
    "\n",
    "        val_loss = val_running_loss / len(val_loader.dataset)\n",
    "        val_accuracy = val_correct / val_total\n",
    "\n",
    "        val_loss_values.append(val_loss)\n",
    "        val_accuracy_values.append(val_accuracy)\n",
    "\n",
    "        print(f'Epoch {epoch+1}/{num_epochs}, '\n",
    "              f'Training Loss: {epoch_loss:.4f}, Training Accuracy: {train_accuracy:.4f}, '\n",
    "              f'Validation Loss: {val_loss:.4f}, Validation Accuracy: {val_accuracy:.4f}')\n",
    "\n",
    "        # Verificar se a acurácia de validação melhorou e salvar o modelo\n",
    "        if val_accuracy > best_accuracy:\n",
    "            best_accuracy = val_accuracy\n",
    "            model_save_path = os.path.join(save_weights, f'model_epoch_{epoch+1}_val_accuracy_{val_accuracy:.4f}.pt')\n",
    "            torch.save(model.state_dict(), model_save_path)\n",
    "            print(f'Saved model at epoch {epoch+1} with validation accuracy: {val_accuracy:.4f} to {model_save_path}')\n",
    "\n",
    "print('Treinamento finalizado')\n",
    "\n",
    "# Salvar o modelo inteiro\n",
    "torch.save(model, save_model)\n",
    "print(f'Saved entire model at {save_model}')"
   ]
  },
  {
   "cell_type": "code",
   "execution_count": 25,
   "id": "d2b52cc7-89fd-4a86-92dd-d2a430572ee6",
   "metadata": {},
   "outputs": [
    {
     "name": "stderr",
     "output_type": "stream",
     "text": [
      "C:\\Users\\maste\\AppData\\Local\\Temp\\ipykernel_17364\\1943543903.py:2: FutureWarning: You are using `torch.load` with `weights_only=False` (the current default value), which uses the default pickle module implicitly. It is possible to construct malicious pickle data which will execute arbitrary code during unpickling (See https://github.com/pytorch/pytorch/blob/main/SECURITY.md#untrusted-models for more details). In a future release, the default value for `weights_only` will be flipped to `True`. This limits the functions that could be executed during unpickling. Arbitrary objects will no longer be allowed to be loaded via this mode unless they are explicitly allowlisted by the user via `torch.serialization.add_safe_globals`. We recommend you start setting `weights_only=True` for any use case where you don't have full control of the loaded file. Please open an issue on GitHub for any issues related to this experimental feature.\n",
      "  model = torch.load(save_model)\n"
     ]
    },
    {
     "name": "stdout",
     "output_type": "stream",
     "text": [
      "Loaded model from C:\\Users\\maste\\OneDrive\\Documentos\\Resultados_Redes_WVC2025\\Wavelet\\DenseNet121\\50_epocas\\ADAM\\melhor_modelo\\melhor_modelo.pt\n"
     ]
    },
    {
     "name": "stderr",
     "output_type": "stream",
     "text": [
      "C:\\Users\\maste\\AppData\\Local\\Temp\\ipykernel_17364\\1943543903.py:7: FutureWarning: You are using `torch.load` with `weights_only=False` (the current default value), which uses the default pickle module implicitly. It is possible to construct malicious pickle data which will execute arbitrary code during unpickling (See https://github.com/pytorch/pytorch/blob/main/SECURITY.md#untrusted-models for more details). In a future release, the default value for `weights_only` will be flipped to `True`. This limits the functions that could be executed during unpickling. Arbitrary objects will no longer be allowed to be loaded via this mode unless they are explicitly allowlisted by the user via `torch.serialization.add_safe_globals`. We recommend you start setting `weights_only=True` for any use case where you don't have full control of the loaded file. Please open an issue on GitHub for any issues related to this experimental feature.\n",
      "  model.load_state_dict(torch.load(model_save_path))\n"
     ]
    },
    {
     "name": "stdout",
     "output_type": "stream",
     "text": [
      "Loaded weights from C:\\Users\\maste\\OneDrive\\Documentos\\Resultados_Redes_WVC2025\\Wavelet\\DenseNet121\\50_epocas\\ADAM\\melhor_modelo\\model_epoch_44_val_accuracy_1.0000.pt\n"
     ]
    }
   ],
   "source": [
    "save_model = r\"C:\\Users\\maste\\OneDrive\\Documentos\\Resultados_Redes_WVC2025\\Wavelet\\DenseNet121\\50_epocas\\ADAM\\melhor_modelo\\melhor_modelo.pt\"\n",
    "model = torch.load(save_model)\n",
    "model.eval()\n",
    "print(f'Loaded model from {save_model}')\n",
    "\n",
    "model_save_path= r\"C:\\Users\\maste\\OneDrive\\Documentos\\Resultados_Redes_WVC2025\\Wavelet\\DenseNet121\\50_epocas\\ADAM\\melhor_modelo\\model_epoch_44_val_accuracy_1.0000.pt\"\n",
    "model.load_state_dict(torch.load(model_save_path))\n",
    "model.eval()\n",
    "print(f'Loaded weights from {model_save_path}')"
   ]
  },
  {
   "cell_type": "code",
   "execution_count": 27,
   "id": "fe11153d-159d-4bd8-943f-22c87a155986",
   "metadata": {},
   "outputs": [
    {
     "name": "stdout",
     "output_type": "stream",
     "text": [
      "Confirmation Accuracy: 1.0000\n"
     ]
    }
   ],
   "source": [
    "# Confirmação do carregamento do modelo e dos pesos\n",
    "model.to(device)\n",
    "\n",
    "model.eval()\n",
    "confirmation_correct = 0\n",
    "confirmation_total = 0\n",
    "with torch.no_grad():\n",
    "    for inputs, labels in val_loader:\n",
    "        inputs, labels = inputs.to(device), labels.to(device)\n",
    "        outputs = model(inputs)\n",
    "        _, predicted = torch.max(outputs.data, 1)\n",
    "        confirmation_total += labels.size(0)\n",
    "        confirmation_correct += (predicted == labels).sum().item()\n",
    "\n",
    "print(f'Confirmation Accuracy: { confirmation_correct / confirmation_total:.4f}')"
   ]
  },
  {
   "cell_type": "code",
   "execution_count": 29,
   "id": "ad17dbb4-0434-484c-9df5-5ef06111a2cc",
   "metadata": {},
   "outputs": [
    {
     "name": "stderr",
     "output_type": "stream",
     "text": [
      "Val: 100%|███████████████████████████████████████████████████████████████████████████████| 5/5 [00:05<00:00,  1.01s/it]"
     ]
    },
    {
     "name": "stdout",
     "output_type": "stream",
     "text": [
      "Val Loss: 0.1042, Val Accuracy: 0.9932\n"
     ]
    },
    {
     "name": "stderr",
     "output_type": "stream",
     "text": [
      "\n"
     ]
    }
   ],
   "source": [
    "# Avaliando o modelo carregado no conjunto de teste\n",
    "model.eval()\n",
    "test_running_loss = 0.0\n",
    "test_correct = 0\n",
    "test_total = 0\n",
    "\n",
    "all_labels = []\n",
    "all_probs = []  # Para armazenar as probabilidades\n",
    "\n",
    "with torch.no_grad():\n",
    "    for inputs, labels in tqdm(val_loader, desc=\"Val\"):\n",
    "        inputs, labels = inputs.to(device), labels.to(device)\n",
    "        outputs = model(inputs)\n",
    "        #loss = nn.CrossEntropyLoss()(outputs, labels)\n",
    "        #test_running_loss += loss.item() * inputs.size(0)\n",
    "        _, predicted = torch.max(outputs.data, 1)\n",
    "        val_total += labels.size(0)\n",
    "        val_correct += (predicted == labels).sum().item()\n",
    "\n",
    "        # Armazenando rótulos e probabilidades\n",
    "        all_labels.extend(labels.cpu().numpy())\n",
    "        all_probs.extend(torch.softmax(outputs, dim=1).cpu().numpy())\n",
    "\n",
    "    val_loss = val_running_loss / len(val_loader.dataset)\n",
    "    val_accuracy = val_correct / val_total\n",
    "    print(f'Val Loss: {val_loss:.4f}, Val Accuracy: {val_accuracy:.4f}')"
   ]
  },
  {
   "cell_type": "code",
   "execution_count": 31,
   "id": "5b4e1151-b85e-4986-92ab-b76252e00b6b",
   "metadata": {},
   "outputs": [],
   "source": [
    "# Calculando a matriz de confusão\n",
    "cm = confusion_matrix(all_labels, np.argmax(all_probs, axis=1))"
   ]
  },
  {
   "cell_type": "code",
   "execution_count": 33,
   "id": "0410bf6e-dedf-4994-b24b-7bdecdb3e385",
   "metadata": {},
   "outputs": [
    {
     "data": {
      "image/png": "[encoded data removed]",
      "text/plain": [
       "<Figure size 640x480 with 2 Axes>"
      ]
     },
     "metadata": {},
     "output_type": "display_data"
    }
   ],
   "source": [
    "# Plotando a matriz de confusão\n",
    "disp = ConfusionMatrixDisplay(confusion_matrix=cm, display_labels=classes)\n",
    "disp.plot(cmap=plt.cm.Blues)\n",
    "plt.title('Confusion Matrix')\n",
    "plt.savefig(r\"C:\\Users\\maste\\OneDrive\\Documentos\\Resultados_Redes_WVC2025\\Wavelet\\DenseNet121\\50_epocas\\ADAM\\gráficos\\treino\\matriz_treino.pdf\")\n",
    "plt.show()"
   ]
  },
  {
   "cell_type": "code",
   "execution_count": 35,
   "id": "6a1d02ea-c6b4-4efc-ad74-b52eddfef64b",
   "metadata": {},
   "outputs": [
    {
     "name": "stdout",
     "output_type": "stream",
     "text": [
      "              precision    recall  f1-score   support\n",
      "\n",
      "         Bom       1.00      1.00      1.00        84\n",
      "        Ruim       1.00      1.00      1.00        63\n",
      "\n",
      "    accuracy                           1.00       147\n",
      "   macro avg       1.00      1.00      1.00       147\n",
      "weighted avg       1.00      1.00      1.00       147\n",
      "\n",
      "tensor([[-1.4236,  0.6540],\n",
      "        [-1.9848,  1.4845],\n",
      "        [-0.9476,  0.8291],\n",
      "        [-1.1892,  0.6110],\n",
      "        [-1.4387,  0.4965],\n",
      "        [-1.6056,  0.8221],\n",
      "        [-2.1139,  1.4993],\n",
      "        [-1.4923,  1.0765],\n",
      "        [-2.7844,  1.9179],\n",
      "        [-2.5658,  2.3529],\n",
      "        [-1.6662,  1.6122],\n",
      "        [-2.1485,  1.6265],\n",
      "        [-1.2801,  0.6558],\n",
      "        [-1.1842,  0.2697],\n",
      "        [-1.5728,  0.3343],\n",
      "        [-1.6911,  1.4525],\n",
      "        [-0.3154, -0.3144],\n",
      "        [-1.7133,  1.7971],\n",
      "        [-1.4342,  1.3556]], device='cuda:0')\n",
      "tensor([1, 1, 1, 1, 1, 1, 1, 1, 1, 1, 1, 1, 1, 1, 1, 1, 1, 1, 1],\n",
      "       device='cuda:0')\n",
      "[np.int64(0), np.int64(0), np.int64(0), np.int64(0), np.int64(0), np.int64(0), np.int64(0), np.int64(0), np.int64(0), np.int64(0), np.int64(0), np.int64(0), np.int64(0), np.int64(0), np.int64(0), np.int64(0), np.int64(0), np.int64(0), np.int64(0), np.int64(0), np.int64(0), np.int64(0), np.int64(0), np.int64(0), np.int64(0), np.int64(0), np.int64(0), np.int64(0), np.int64(0), np.int64(0), np.int64(0), np.int64(0), np.int64(0), np.int64(0), np.int64(0), np.int64(0), np.int64(0), np.int64(0), np.int64(0), np.int64(0), np.int64(0), np.int64(0), np.int64(0), np.int64(0), np.int64(0), np.int64(0), np.int64(0), np.int64(0), np.int64(0), np.int64(0), np.int64(0), np.int64(0), np.int64(0), np.int64(0), np.int64(0), np.int64(0), np.int64(0), np.int64(0), np.int64(0), np.int64(0), np.int64(0), np.int64(0), np.int64(0), np.int64(0), np.int64(0), np.int64(0), np.int64(0), np.int64(0), np.int64(0), np.int64(0), np.int64(0), np.int64(0), np.int64(0), np.int64(0), np.int64(0), np.int64(0), np.int64(0), np.int64(0), np.int64(0), np.int64(0), np.int64(0), np.int64(0), np.int64(0), np.int64(0), np.int64(1), np.int64(1), np.int64(1), np.int64(1), np.int64(1), np.int64(1), np.int64(1), np.int64(1), np.int64(1), np.int64(1), np.int64(1), np.int64(1), np.int64(1), np.int64(1), np.int64(1), np.int64(1), np.int64(1), np.int64(1), np.int64(1), np.int64(1), np.int64(1), np.int64(1), np.int64(1), np.int64(1), np.int64(1), np.int64(1), np.int64(1), np.int64(1), np.int64(1), np.int64(1), np.int64(1), np.int64(1), np.int64(1), np.int64(1), np.int64(1), np.int64(1), np.int64(1), np.int64(1), np.int64(1), np.int64(1), np.int64(1), np.int64(1), np.int64(1), np.int64(1), np.int64(1), np.int64(1), np.int64(1), np.int64(1), np.int64(1), np.int64(1), np.int64(1), np.int64(1), np.int64(1), np.int64(1), np.int64(1), np.int64(1), np.int64(1), np.int64(1), np.int64(1), np.int64(1), np.int64(1), np.int64(1), np.int64(1)]\n"
     ]
    }
   ],
   "source": [
    "import torch\n",
    "from sklearn.metrics import classification_report\n",
    "#from  utils import to_onehot\n",
    "# Alterar o modelo para o modo de avaliação\n",
    "model.eval()\n",
    "\n",
    "# Para armazenar rótulos verdadeiros e previsões\n",
    "all_labels = []\n",
    "all_preds = []\n",
    "\n",
    "# Desabilitar cálculo de gradiente para inferência\n",
    "with torch.no_grad():\n",
    "    for data in val_loader:\n",
    "        inputs, labels = data\n",
    "        inputs, labels = inputs.to(device), labels.to(device)\n",
    "\n",
    "        # Obter saídas do modelo e prever a classe\n",
    "        outputs = model(inputs)\n",
    "        _, preds = torch.max(outputs, 1)\n",
    "\n",
    "        # Armazenar rótulos e previsões\n",
    "        all_labels.extend(labels.cpu().numpy())\n",
    "        all_preds.extend(preds.cpu().numpy())\n",
    "#all_preds = utils.to_onehot(all_probs, 1)\n",
    "# Gerar relatório de classificação\n",
    "target_names = ['Bom', 'Ruim']\n",
    "print(classification_report(all_labels, all_preds, target_names=target_names))\n",
    "print(outputs)\n",
    "print(preds)\n",
    "print(all_preds)"
   ]
  },
  {
   "cell_type": "code",
   "execution_count": 37,
   "id": "11fdc9d2-459c-4324-8b11-c6e76709ce04",
   "metadata": {},
   "outputs": [
    {
     "name": "stdout",
     "output_type": "stream",
     "text": [
      "[0. 0. 1.]\n",
      "---------\n",
      "[0. 1. 1.]\n",
      "---------\n"
     ]
    }
   ],
   "source": [
    "import torch\n",
    "from sklearn.metrics import roc_curve, auc\n",
    "import matplotlib.pyplot as plt\n",
    "import numpy as np\n",
    "#y_pred_keras = keras_model.predict(X_test).ravel()\n",
    "\n",
    "\n",
    "classes = val_data.classes\n",
    "num_classes = len(classes)\n",
    "\n",
    "all_labels = np.array(all_labels)\n",
    "all_preds = np.array( all_preds)\n",
    "\n",
    "fpr, tpr, _ = roc_curve(all_labels , all_preds)\n",
    "\n",
    "print(fpr)\n",
    "print('---------')\n",
    "print(tpr)\n",
    "print('---------')\n",
    "\n",
    "\n",
    "\n",
    "\n",
    "#for i in range(num_classes):\n",
    "#    # Calculando a ROC para a classe i\n",
    "#    fpr, tpr, _ = roc_curve(all_labels == i, all_preds[:, i])\n",
    "#    roc_auc = auc(fpr, tpr)\n",
    "#    plt.plot(fpr, tpr, label=f'Classe {classes[i]} (AUC = {roc_auc:.2f})')"
   ]
  },
  {
   "cell_type": "code",
   "execution_count": 39,
   "id": "053a795f-16c7-4b7a-a613-761b5e252dd9",
   "metadata": {},
   "outputs": [
    {
     "name": "stdout",
     "output_type": "stream",
     "text": [
      "1.0\n"
     ]
    }
   ],
   "source": [
    "from sklearn.metrics import auc\n",
    "auc_keras = auc(fpr, tpr)\n",
    "print(auc_keras)"
   ]
  },
  {
   "cell_type": "code",
   "execution_count": 41,
   "id": "1667c333-e83a-44b6-8a03-e386dfe9014e",
   "metadata": {},
   "outputs": [
    {
     "data": {
      "image/png": "[encoded data removed]",
      "text/plain": [
       "<Figure size 640x480 with 1 Axes>"
      ]
     },
     "metadata": {},
     "output_type": "display_data"
    }
   ],
   "source": [
    "import matplotlib.pyplot as plt\n",
    "plt.figure(1)\n",
    "plt.plot([0, 1], [0, 1], 'k--')\n",
    "plt.plot(fpr, tpr, label='AUC (area = {:.3f})'.format(auc_keras))\n",
    "plt.xlabel('False positive rate')\n",
    "plt.ylabel('True positive rate')\n",
    "plt.title('ROC curve')\n",
    "plt.legend(loc='best')\n",
    "plt.savefig(r\"C:\\Users\\maste\\OneDrive\\Documentos\\Resultados_Redes_WVC2025\\Wavelet\\DenseNet121\\50_epocas\\ADAM\\gráficos\\treino\\CurvaRoc_treino.pdf\")\n",
    "plt.show()"
   ]
  },
  {
   "cell_type": "code",
   "execution_count": 43,
   "id": "280a86cd-e3ee-492d-aa29-2ff0281a9f90",
   "metadata": {},
   "outputs": [
    {
     "data": {
      "image/png": "[encoded data removed]",
      "text/plain": [
       "<Figure size 640x480 with 1 Axes>"
      ]
     },
     "metadata": {},
     "output_type": "display_data"
    }
   ],
   "source": [
    "# Plotando a perda\n",
    "epochs = range(1, num_epochs + 1)\n",
    "\n",
    "plt.figure()\n",
    "plt.plot(epochs, train_loss_values, label='Training Loss')\n",
    "plt.plot(epochs, val_loss_values, label='Validation Loss')\n",
    "plt.xlabel('Epochs')\n",
    "plt.ylabel('Loss')\n",
    "plt.title('Training and Validation Loss')\n",
    "plt.legend()\n",
    "plt.savefig(r\"C:\\Users\\maste\\OneDrive\\Documentos\\Resultados_Redes_WVC2025\\Wavelet\\DenseNet121\\50_epocas\\ADAM\\gráficos\\treino\\Loss_treino.pdf\")\n",
    "plt.show()"
   ]
  },
  {
   "cell_type": "code",
   "execution_count": 45,
   "id": "5c1c0ec6-8b12-4df6-8be4-a83e81494901",
   "metadata": {},
   "outputs": [
    {
     "data": {
      "image/png": "[encoded data removed]",
      "text/plain": [
       "<Figure size 640x480 with 1 Axes>"
      ]
     },
     "metadata": {},
     "output_type": "display_data"
    }
   ],
   "source": [
    "# Plotando a acurácia\n",
    "plt.figure()\n",
    "plt.plot(epochs, train_accuracy_values, label='Training Accuracy')\n",
    "plt.plot(epochs, val_accuracy_values, label='Validation Accuracy')\n",
    "plt.xlabel('Epochs')\n",
    "plt.ylabel('Accuracy')\n",
    "plt.title('Training and Validation Accuracy')\n",
    "plt.legend()\n",
    "plt.savefig(r\"C:\\Users\\maste\\OneDrive\\Documentos\\Resultados_Redes_WVC2025\\Wavelet\\DenseNet121\\50_epocas\\ADAM\\gráficos\\treino\\Accuracy_treino.pdf\")\n",
    "plt.show()"
   ]
  },
  {
   "cell_type": "code",
   "execution_count": 47,
   "id": "a961d60d-0ca6-45e2-8081-8aa2ffd6d302",
   "metadata": {},
   "outputs": [],
   "source": [
    "test_dir = r\"C:\\Users\\maste\\OneDrive\\Documentos\\Artigo_Rita_Dataset_W\\Testing\""
   ]
  },
  {
   "cell_type": "code",
   "execution_count": 49,
   "id": "d3f73ee5-80a6-4fff-8be0-132bdc643a5f",
   "metadata": {},
   "outputs": [],
   "source": [
    "# Transformações para normalização e aumento de dados\n",
    "transform = transforms.Compose([\n",
    "    transforms.Resize(256),\n",
    "    transforms.CenterCrop(224),\n",
    "    transforms.ToTensor(),\n",
    "    transforms.Normalize(mean=[0.485, 0.456, 0.406],\n",
    "                         std=[0.229, 0.224, 0.225])\n",
    "])"
   ]
  },
  {
   "cell_type": "code",
   "execution_count": 51,
   "id": "9dfe851e-3ea8-455c-9fad-8bfc1dd2384b",
   "metadata": {},
   "outputs": [],
   "source": [
    "test_data = datasets.ImageFolder(test_dir, transform=transform)"
   ]
  },
  {
   "cell_type": "code",
   "execution_count": 53,
   "id": "5e2bda20-e29d-4f3b-b401-d31a763f91ec",
   "metadata": {},
   "outputs": [],
   "source": [
    "# Criando o DataLoader para o conjunto de teste\n",
    "test_loader = DataLoader(test_data, batch_size=1, shuffle=True)"
   ]
  },
  {
   "cell_type": "code",
   "execution_count": 55,
   "id": "b5af8976-5ca1-48ef-a5e7-65cdc19b8683",
   "metadata": {},
   "outputs": [
    {
     "name": "stdout",
     "output_type": "stream",
     "text": [
      "2\n",
      "['malignant_tumor', 'no_tumor']\n"
     ]
    }
   ],
   "source": [
    "# Definindo as classes do dataset\n",
    "classes = test_data.classes\n",
    "num_classes = len(classes)\n",
    "print(num_classes)\n",
    "print(classes)"
   ]
  },
  {
   "cell_type": "code",
   "execution_count": 57,
   "id": "3a1221cd-dd97-40ba-ad8b-936d9864d274",
   "metadata": {},
   "outputs": [
    {
     "name": "stderr",
     "output_type": "stream",
     "text": [
      "Test: 100%|██████████████████████████████████████████████████████████████████████████| 146/146 [00:17<00:00,  8.27it/s]"
     ]
    },
    {
     "name": "stdout",
     "output_type": "stream",
     "text": [
      "Val Loss: 0.1049, Val Accuracy: 0.9041\n"
     ]
    },
    {
     "name": "stderr",
     "output_type": "stream",
     "text": [
      "\n"
     ]
    }
   ],
   "source": [
    "# Avaliando o modelo carregado no conjunto de teste\n",
    "model.eval()\n",
    "test_running_loss = 0.0\n",
    "test_correct = 0\n",
    "test_total = 0\n",
    "\n",
    "all_labels = []\n",
    "all_probs = []  # Para armazenar as probabilidades\n",
    "\n",
    "with torch.no_grad():\n",
    "    for inputs, labels in tqdm(test_loader, desc=\"Test\"):\n",
    "        inputs, labels = inputs.to(device), labels.to(device)\n",
    "        outputs = model(inputs)\n",
    "        #loss = nn.CrossEntropyLoss()(outputs, labels)\n",
    "        #test_running_loss += loss.item() * inputs.size(0)\n",
    "        _, predicted = torch.max(outputs.data, 1)\n",
    "        test_total += labels.size(0)\n",
    "        test_correct += (predicted == labels).sum().item()\n",
    "\n",
    "        # Armazenando rótulos e probabilidades\n",
    "        all_labels.extend(labels.cpu().numpy())\n",
    "        all_probs.extend(torch.softmax(outputs, dim=1).cpu().numpy())\n",
    "\n",
    "    test_loss = val_running_loss / len(test_loader.dataset)\n",
    "    test_accuracy = test_correct / test_total\n",
    "    print(f'Val Loss: {test_loss:.4f}, Val Accuracy: {test_accuracy:.4f}')"
   ]
  },
  {
   "cell_type": "code",
   "execution_count": 59,
   "id": "83e9b3b8-bab8-4e86-a620-93b7b62f2019",
   "metadata": {},
   "outputs": [],
   "source": [
    "# Calculando a matriz de confusão\n",
    "cm = confusion_matrix(all_labels, np.argmax(all_probs, axis=1))"
   ]
  },
  {
   "cell_type": "code",
   "execution_count": 61,
   "id": "9c48658f-b1b3-46d6-86e7-f5bb386d5c3e",
   "metadata": {},
   "outputs": [
    {
     "data": {
      "image/png": "[encoded data removed]",
      "text/plain": [
       "<Figure size 640x480 with 2 Axes>"
      ]
     },
     "metadata": {},
     "output_type": "display_data"
    }
   ],
   "source": [
    "# Plotando a matriz de confusão\n",
    "disp = ConfusionMatrixDisplay(confusion_matrix=cm, display_labels=classes)\n",
    "disp.plot(cmap=plt.cm.Blues)\n",
    "plt.title('Confusion Matrix')\n",
    "plt.savefig(r\"C:\\Users\\maste\\OneDrive\\Documentos\\Resultados_Redes_WVC2025\\Wavelet\\DenseNet121\\50_epocas\\ADAM\\gráficos\\validação\\Matriz_validação.pdf\")\n",
    "plt.show()"
   ]
  },
  {
   "cell_type": "code",
   "execution_count": 63,
   "id": "aee90b6a-6a8e-4ee6-af46-cbe0b580e8ec",
   "metadata": {},
   "outputs": [
    {
     "name": "stdout",
     "output_type": "stream",
     "text": [
      "              precision    recall  f1-score   support\n",
      "\n",
      "      Câncer       0.91      0.93      0.92        84\n",
      "      Normal       0.90      0.87      0.89        62\n",
      "\n",
      "    accuracy                           0.90       146\n",
      "   macro avg       0.90      0.90      0.90       146\n",
      "weighted avg       0.90      0.90      0.90       146\n",
      "\n",
      "tensor([[-1.4596,  1.4895]], device='cuda:0')\n",
      "tensor([1], device='cuda:0')\n",
      "[np.int64(0), np.int64(0), np.int64(1), np.int64(0), np.int64(0), np.int64(0), np.int64(1), np.int64(0), np.int64(0), np.int64(0), np.int64(0), np.int64(0), np.int64(0), np.int64(0), np.int64(1), np.int64(1), np.int64(1), np.int64(0), np.int64(0), np.int64(0), np.int64(1), np.int64(0), np.int64(0), np.int64(0), np.int64(1), np.int64(0), np.int64(0), np.int64(0), np.int64(1), np.int64(0), np.int64(0), np.int64(1), np.int64(1), np.int64(0), np.int64(1), np.int64(0), np.int64(0), np.int64(0), np.int64(0), np.int64(1), np.int64(0), np.int64(1), np.int64(0), np.int64(1), np.int64(1), np.int64(1), np.int64(1), np.int64(1), np.int64(0), np.int64(1), np.int64(0), np.int64(0), np.int64(1), np.int64(0), np.int64(1), np.int64(1), np.int64(0), np.int64(1), np.int64(1), np.int64(0), np.int64(0), np.int64(0), np.int64(1), np.int64(0), np.int64(1), np.int64(0), np.int64(1), np.int64(0), np.int64(0), np.int64(1), np.int64(1), np.int64(1), np.int64(1), np.int64(1), np.int64(1), np.int64(0), np.int64(0), np.int64(0), np.int64(1), np.int64(0), np.int64(0), np.int64(0), np.int64(0), np.int64(1), np.int64(0), np.int64(1), np.int64(0), np.int64(0), np.int64(0), np.int64(0), np.int64(1), np.int64(1), np.int64(1), np.int64(0), np.int64(1), np.int64(0), np.int64(0), np.int64(0), np.int64(1), np.int64(1), np.int64(1), np.int64(0), np.int64(0), np.int64(0), np.int64(0), np.int64(0), np.int64(0), np.int64(0), np.int64(0), np.int64(0), np.int64(1), np.int64(0), np.int64(0), np.int64(0), np.int64(0), np.int64(0), np.int64(1), np.int64(1), np.int64(1), np.int64(0), np.int64(1), np.int64(0), np.int64(1), np.int64(1), np.int64(0), np.int64(0), np.int64(1), np.int64(0), np.int64(1), np.int64(0), np.int64(1), np.int64(0), np.int64(1), np.int64(0), np.int64(1), np.int64(0), np.int64(1), np.int64(0), np.int64(0), np.int64(1), np.int64(1), np.int64(0), np.int64(0), np.int64(1), np.int64(0), np.int64(1)]\n"
     ]
    }
   ],
   "source": [
    "import torch\n",
    "from sklearn.metrics import classification_report\n",
    "#from  utils import to_onehot\n",
    "# Alterar o modelo para o modo de avaliação\n",
    "model.eval()\n",
    "\n",
    "# Para armazenar rótulos verdadeiros e previsões\n",
    "all_labels = []\n",
    "all_preds = []\n",
    "\n",
    "# Desabilitar cálculo de gradiente para inferência\n",
    "with torch.no_grad():\n",
    "    for data in test_loader:\n",
    "        inputs, labels = data\n",
    "        inputs, labels = inputs.to(device), labels.to(device)\n",
    "\n",
    "        # Obter saídas do modelo e prever a classe\n",
    "        outputs = model(inputs)\n",
    "        _, preds = torch.max(outputs, 1)\n",
    "\n",
    "        # Armazenar rótulos e previsões\n",
    "        all_labels.extend(labels.cpu().numpy())\n",
    "        all_preds.extend(preds.cpu().numpy())\n",
    "#all_preds = utils.to_onehot(all_probs, 1)\n",
    "# Gerar relatório de classificação\n",
    "target_names = ['Câncer', 'Normal']\n",
    "print(classification_report(all_labels, all_preds, target_names=target_names))\n",
    "print(outputs)\n",
    "print(preds)\n",
    "print(all_preds)"
   ]
  },
  {
   "cell_type": "code",
   "execution_count": 65,
   "id": "88621a0a-4f90-4e7d-a134-187b72a28312",
   "metadata": {},
   "outputs": [
    {
     "name": "stdout",
     "output_type": "stream",
     "text": [
      "[0.         0.07142857 1.        ]\n",
      "---------\n",
      "[0.         0.87096774 1.        ]\n",
      "---------\n"
     ]
    }
   ],
   "source": [
    "import torch\n",
    "from sklearn.metrics import roc_curve, auc\n",
    "import matplotlib.pyplot as plt\n",
    "import numpy as np\n",
    "#y_pred_keras = keras_model.predict(X_test).ravel()\n",
    "\n",
    "\n",
    "classes = test_data.classes\n",
    "num_classes = len(classes)\n",
    "\n",
    "all_labels = np.array(all_labels)\n",
    "all_preds = np.array( all_preds)\n",
    "\n",
    "fpr, tpr, _ = roc_curve(all_labels , all_preds)\n",
    "\n",
    "print(fpr)\n",
    "print('---------')\n",
    "print(tpr)\n",
    "print('---------')\n",
    "\n",
    "\n",
    "\n",
    "\n",
    "#for i in range(num_classes):\n",
    "#    # Calculando a ROC para a classe i\n",
    "#    fpr, tpr, _ = roc_curve(all_labels == i, all_preds[:, i])\n",
    "#    roc_auc = auc(fpr, tpr)\n",
    "#    plt.plot(fpr, tpr, label=f'Classe {classes[i]} (AUC = {roc_auc:.2f})')"
   ]
  },
  {
   "cell_type": "code",
   "execution_count": 67,
   "id": "93773780-43cc-4ace-946f-08aa247ffa15",
   "metadata": {},
   "outputs": [
    {
     "name": "stdout",
     "output_type": "stream",
     "text": [
      "0.8997695852534563\n"
     ]
    }
   ],
   "source": [
    "from sklearn.metrics import auc\n",
    "auc_keras = auc(fpr, tpr)\n",
    "print(auc_keras)"
   ]
  },
  {
   "cell_type": "code",
   "execution_count": 69,
   "id": "a3012872-9d9c-47fa-ab50-bf091db54d82",
   "metadata": {},
   "outputs": [
    {
     "data": {
      "image/png": "[encoded data removed]",
      "text/plain": [
       "<Figure size 640x480 with 1 Axes>"
      ]
     },
     "metadata": {},
     "output_type": "display_data"
    }
   ],
   "source": [
    "import matplotlib.pyplot as plt\n",
    "plt.figure(1)\n",
    "plt.plot([0, 1], [0, 1], 'k--')\n",
    "plt.plot(fpr, tpr, label='AUC (area = {:.3f})'.format(auc_keras))\n",
    "plt.xlabel('False positive rate')\n",
    "plt.ylabel('True positive rate')\n",
    "plt.title('ROC curve')\n",
    "plt.legend(loc='best')\n",
    "plt.savefig(r\"C:\\Users\\maste\\OneDrive\\Documentos\\Resultados_Redes_WVC2025\\Wavelet\\DenseNet121\\50_epocas\\ADAM\\gráficos\\validação\\CurvaRoc_validação.pdf\")\n",
    "plt.show()"
   ]
  },
  {
   "cell_type": "code",
   "execution_count": null,
   "id": "32df6479-0b69-46e6-a83b-71ffd0b71c53",
   "metadata": {},
   "outputs": [],
   "source": []
  }
 ],
 "metadata": {
  "kernelspec": {
   "display_name": "Python (GPU)",
   "language": "python",
   "name": "gpu_env"
  },
  "language_info": {
   "codemirror_mode": {
    "name": "ipython",
    "version": 3
   },
   "file_extension": ".py",
   "mimetype": "text/x-python",
   "name": "python",
   "nbconvert_exporter": "python",
   "pygments_lexer": "ipython3",
   "version": "3.10.18"
  }
 },
 "nbformat": 4,
 "nbformat_minor": 5
}
