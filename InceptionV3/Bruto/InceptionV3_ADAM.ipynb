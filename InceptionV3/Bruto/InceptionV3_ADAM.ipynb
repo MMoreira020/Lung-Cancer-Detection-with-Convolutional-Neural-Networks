{
 "cells": [
  {
   "cell_type": "code",
   "execution_count": 1,
   "id": "b6e73558-b4dc-4d59-8b39-ebd70eb7d3d6",
   "metadata": {},
   "outputs": [],
   "source": [
    "import torch\n",
    "import torchvision\n",
    "import os\n",
    "from torchvision import transforms, datasets\n",
    "import matplotlib.pyplot as plt\n",
    "import numpy as np\n",
    "from sklearn.metrics import roc_curve, auc, confusion_matrix, ConfusionMatrixDisplay, precision_recall_curve, average_precision_score\n",
    "from sklearn.preprocessing import label_binarize\n",
    "import torch.nn as nn\n",
    "import torch.optim as optim\n",
    "from torchvision import models\n",
    "from sklearn.model_selection import train_test_split\n",
    "from tqdm import tqdm\n",
    "from torch.utils.data import DataLoader\n",
    "import random\n",
    "import os\n",
    "\n",
    "SEED = 42\n",
    "\n",
    "random.seed(SEED)\n",
    "np.random.seed(SEED)\n",
    "\n",
    "torch.manual_seed(SEED)\n",
    "torch.cuda.manual_seed(SEED)\n",
    "\n",
    "torch.backends.cudnn.benchmark = False\n",
    "torch.backends.cudnn.deterministic = True"
   ]
  },
  {
   "cell_type": "code",
   "execution_count": 39,
   "id": "08b77036-beea-4e0b-9e0e-14b9374ee09f",
   "metadata": {},
   "outputs": [],
   "source": [
    "# Transformações para normalização e aumento de dados (caso necessário)\n",
    "transform = transforms.Compose([\n",
    "    transforms.Resize(320),\n",
    "    transforms.CenterCrop(299),\n",
    "    transforms.ToTensor(),\n",
    "    transforms.Normalize(mean=[0.485, 0.456, 0.406],\n",
    "                         std=[0.229, 0.224, 0.225])\n",
    "])"
   ]
  },
  {
   "cell_type": "code",
   "execution_count": 59,
   "id": "44e03a88-e272-4d8a-83b0-fd21b72dc790",
   "metadata": {},
   "outputs": [
    {
     "name": "stdout",
     "output_type": "stream",
     "text": [
      "Número de imagens no dataset de treino: 684\n",
      "Número de imagens no dataset de validação: 147\n"
     ]
    }
   ],
   "source": [
    "# Diretórios de treino e validação\n",
    "train_dir = r\"C:\\Users\\maste\\OneDrive\\Documentos\\Artigo_Rita_Dataset\\Training\"\n",
    "val_dir = r\"C:\\Users\\maste\\OneDrive\\Documentos\\Artigo_Rita_Dataset\\Validation\"\n",
    "\n",
    "def contar_imagens(diretorio):\n",
    "    contador = 0\n",
    "    for root, dirs, files in os.walk(diretorio):\n",
    "        contador += len([f for f in files if f.endswith(('.png', '.jpg', '.jpeg'))])\n",
    "    return contador\n",
    "\n",
    "num_treino = contar_imagens(train_dir)\n",
    "num_validacao = contar_imagens(val_dir)\n",
    "\n",
    "print(f'Número de imagens no dataset de treino: {num_treino}')\n",
    "print(f'Número de imagens no dataset de validação: {num_validacao}')"
   ]
  },
  {
   "cell_type": "code",
   "execution_count": 61,
   "id": "31ecf349-913a-4eab-8110-6b2109839d03",
   "metadata": {},
   "outputs": [],
   "source": [
    "# Carregando datasets de treino e validação\n",
    "train_data = datasets.ImageFolder(train_dir, transform=transform)\n",
    "val_data = datasets.ImageFolder(val_dir, transform=transform)"
   ]
  },
  {
   "cell_type": "code",
   "execution_count": 79,
   "id": "a002b9ba-4c50-4c02-811f-8a220ff974b5",
   "metadata": {},
   "outputs": [],
   "source": [
    "# Criando dataloaders para iterar sobre os dados durante o treinamento\n",
    "train_loader = DataLoader(train_data, batch_size=32, shuffle=True)\n",
    "val_loader = DataLoader(val_data, batch_size=32, shuffle=False)"
   ]
  },
  {
   "cell_type": "code",
   "execution_count": 81,
   "id": "c06c3281-a92b-45dc-a09f-e77fd5baf02c",
   "metadata": {},
   "outputs": [
    {
     "name": "stdout",
     "output_type": "stream",
     "text": [
      "['malignant_tumor', 'no_tumor']\n",
      "['malignant_tumor', 'no_tumor']\n"
     ]
    }
   ],
   "source": [
    "# Definindo as classes do dataset\n",
    "classes = train_data.classes\n",
    "classes2 = val_data.classes\n",
    "print(classes)\n",
    "print(classes2)"
   ]
  },
  {
   "cell_type": "code",
   "execution_count": 95,
   "id": "d04a67cf-c932-46fb-b36b-3e5297a364e3",
   "metadata": {},
   "outputs": [],
   "source": [
    "model = models.inception_v3(weights=models.Inception_V3_Weights.DEFAULT, aux_logits=True)"
   ]
  },
  {
   "cell_type": "code",
   "execution_count": 97,
   "id": "a7dd8da9-ed61-426b-a13b-0a5d54ffcdde",
   "metadata": {},
   "outputs": [],
   "source": [
    "# Congelando todas as camadas, exceto a última\n",
    "for param in model.parameters():\n",
    "    param.requires_grad = False\n",
    "\n",
    "# Substituir a camada principal e a auxiliar\n",
    "num_ftrs = model.fc.in_features\n",
    "model.fc = nn.Linear(num_ftrs, len(classes))  # saída principal\n",
    "\n",
    "num_ftrs_aux = model.AuxLogits.fc.in_features\n",
    "model.AuxLogits.fc = nn.Linear(num_ftrs_aux, len(classes))  # saída auxiliar\n",
    "\n",
    "for param in model.fc.parameters():\n",
    "    param.requires_grad = True\n",
    "for param in model.AuxLogits.fc.parameters():\n",
    "    param.requires_grad = True"
   ]
  },
  {
   "cell_type": "code",
   "execution_count": 99,
   "id": "2b2b2dea-e45d-470d-aecd-48fd124335e0",
   "metadata": {},
   "outputs": [],
   "source": [
    "# Definindo a função de perda e otimizador\n",
    "criterion = nn.CrossEntropyLoss()\n",
    "optimizer = optim.Adam(model.parameters(), lr=0.0001)"
   ]
  },
  {
   "cell_type": "code",
   "execution_count": 101,
   "id": "1ec2e27b-0c0b-4211-8399-0cfebb5c5426",
   "metadata": {},
   "outputs": [
    {
     "name": "stdout",
     "output_type": "stream",
     "text": [
      "Using device: cuda\n"
     ]
    }
   ],
   "source": [
    "device = torch.device(\"cuda\" if torch.cuda.is_available() else \"cpu\")\n",
    "print(f\"Using device: {device}\")"
   ]
  },
  {
   "cell_type": "code",
   "execution_count": 103,
   "id": "142a178e-0a33-45ad-975c-fb5558634d10",
   "metadata": {},
   "outputs": [],
   "source": [
    "# Caminhos para salvar os pesos e o modelo\n",
    "save_weights = r\"C:\\Users\\maste\\OneDrive\\Documentos\\Resultados_Redes_WVC2025\\Inception_V3\\50_epocas\\ADAM\\melhor_modelo\"\n",
    "save_model = r\"C:\\Users\\maste\\OneDrive\\Documentos\\Resultados_Redes_WVC2025\\Inception_V3\\50_epocas\\ADAM\\melhor_modelo\\melhor_modelo.pt\""
   ]
  },
  {
   "cell_type": "code",
   "execution_count": 111,
   "id": "566bef29-2db7-42a8-9df8-5dd9dd9a735e",
   "metadata": {},
   "outputs": [
    {
     "name": "stderr",
     "output_type": "stream",
     "text": [
      "Epoch 1/50: 100%|███████████████████████████████████████████████████████████████████| 22/22 [00:21<00:00,  1.03batch/s]\n",
      "Validation Epoch 1/50: 100%|██████████████████████████████████████████████████████████| 5/5 [00:04<00:00,  1.14batch/s]\n"
     ]
    },
    {
     "name": "stdout",
     "output_type": "stream",
     "text": [
      "Epoch 1/50, Training Loss: 0.6912, Training Accuracy: 0.7880, Validation Loss: 0.4889, Validation Accuracy: 0.8027\n",
      "Saved model at epoch 1 with validation accuracy: 0.8027 to C:\\Users\\maste\\OneDrive\\Documentos\\Resultados_Redes_WVC2025\\Inception_V3\\50_epocas\\ADAM\\melhor_modelo\\model_epoch_1_val_accuracy_0.8027.pt\n"
     ]
    },
    {
     "name": "stderr",
     "output_type": "stream",
     "text": [
      "Epoch 2/50: 100%|███████████████████████████████████████████████████████████████████| 22/22 [00:21<00:00,  1.02batch/s]\n",
      "Validation Epoch 2/50: 100%|██████████████████████████████████████████████████████████| 5/5 [00:04<00:00,  1.18batch/s]\n"
     ]
    },
    {
     "name": "stdout",
     "output_type": "stream",
     "text": [
      "Epoch 2/50, Training Loss: 0.6330, Training Accuracy: 0.7880, Validation Loss: 0.4244, Validation Accuracy: 0.9524\n",
      "Saved model at epoch 2 with validation accuracy: 0.9524 to C:\\Users\\maste\\OneDrive\\Documentos\\Resultados_Redes_WVC2025\\Inception_V3\\50_epocas\\ADAM\\melhor_modelo\\model_epoch_2_val_accuracy_0.9524.pt\n"
     ]
    },
    {
     "name": "stderr",
     "output_type": "stream",
     "text": [
      "Epoch 3/50: 100%|███████████████████████████████████████████████████████████████████| 22/22 [00:21<00:00,  1.01batch/s]\n",
      "Validation Epoch 3/50: 100%|██████████████████████████████████████████████████████████| 5/5 [00:04<00:00,  1.19batch/s]\n"
     ]
    },
    {
     "name": "stdout",
     "output_type": "stream",
     "text": [
      "Epoch 3/50, Training Loss: 0.5539, Training Accuracy: 0.9094, Validation Loss: 0.3794, Validation Accuracy: 0.9660\n",
      "Saved model at epoch 3 with validation accuracy: 0.9660 to C:\\Users\\maste\\OneDrive\\Documentos\\Resultados_Redes_WVC2025\\Inception_V3\\50_epocas\\ADAM\\melhor_modelo\\model_epoch_3_val_accuracy_0.9660.pt\n"
     ]
    },
    {
     "name": "stderr",
     "output_type": "stream",
     "text": [
      "Epoch 4/50: 100%|███████████████████████████████████████████████████████████████████| 22/22 [00:20<00:00,  1.07batch/s]\n",
      "Validation Epoch 4/50: 100%|██████████████████████████████████████████████████████████| 5/5 [00:04<00:00,  1.17batch/s]\n"
     ]
    },
    {
     "name": "stdout",
     "output_type": "stream",
     "text": [
      "Epoch 4/50, Training Loss: 0.5228, Training Accuracy: 0.8830, Validation Loss: 0.3437, Validation Accuracy: 0.9660\n"
     ]
    },
    {
     "name": "stderr",
     "output_type": "stream",
     "text": [
      "Epoch 5/50: 100%|███████████████████████████████████████████████████████████████████| 22/22 [00:21<00:00,  1.04batch/s]\n",
      "Validation Epoch 5/50: 100%|██████████████████████████████████████████████████████████| 5/5 [00:04<00:00,  1.17batch/s]\n"
     ]
    },
    {
     "name": "stdout",
     "output_type": "stream",
     "text": [
      "Epoch 5/50, Training Loss: 0.4631, Training Accuracy: 0.9240, Validation Loss: 0.3137, Validation Accuracy: 0.9660\n"
     ]
    },
    {
     "name": "stderr",
     "output_type": "stream",
     "text": [
      "Epoch 6/50: 100%|███████████████████████████████████████████████████████████████████| 22/22 [00:20<00:00,  1.05batch/s]\n",
      "Validation Epoch 6/50: 100%|██████████████████████████████████████████████████████████| 5/5 [00:04<00:00,  1.18batch/s]\n"
     ]
    },
    {
     "name": "stdout",
     "output_type": "stream",
     "text": [
      "Epoch 6/50, Training Loss: 0.4209, Training Accuracy: 0.9488, Validation Loss: 0.2897, Validation Accuracy: 0.9728\n",
      "Saved model at epoch 6 with validation accuracy: 0.9728 to C:\\Users\\maste\\OneDrive\\Documentos\\Resultados_Redes_WVC2025\\Inception_V3\\50_epocas\\ADAM\\melhor_modelo\\model_epoch_6_val_accuracy_0.9728.pt\n"
     ]
    },
    {
     "name": "stderr",
     "output_type": "stream",
     "text": [
      "Epoch 7/50: 100%|███████████████████████████████████████████████████████████████████| 22/22 [00:21<00:00,  1.01batch/s]\n",
      "Validation Epoch 7/50: 100%|██████████████████████████████████████████████████████████| 5/5 [00:04<00:00,  1.16batch/s]\n"
     ]
    },
    {
     "name": "stdout",
     "output_type": "stream",
     "text": [
      "Epoch 7/50, Training Loss: 0.3884, Training Accuracy: 0.9532, Validation Loss: 0.2679, Validation Accuracy: 0.9796\n",
      "Saved model at epoch 7 with validation accuracy: 0.9796 to C:\\Users\\maste\\OneDrive\\Documentos\\Resultados_Redes_WVC2025\\Inception_V3\\50_epocas\\ADAM\\melhor_modelo\\model_epoch_7_val_accuracy_0.9796.pt\n"
     ]
    },
    {
     "name": "stderr",
     "output_type": "stream",
     "text": [
      "Epoch 8/50: 100%|███████████████████████████████████████████████████████████████████| 22/22 [00:21<00:00,  1.01batch/s]\n",
      "Validation Epoch 8/50: 100%|██████████████████████████████████████████████████████████| 5/5 [00:04<00:00,  1.18batch/s]\n"
     ]
    },
    {
     "name": "stdout",
     "output_type": "stream",
     "text": [
      "Epoch 8/50, Training Loss: 0.3759, Training Accuracy: 0.9547, Validation Loss: 0.2481, Validation Accuracy: 0.9864\n",
      "Saved model at epoch 8 with validation accuracy: 0.9864 to C:\\Users\\maste\\OneDrive\\Documentos\\Resultados_Redes_WVC2025\\Inception_V3\\50_epocas\\ADAM\\melhor_modelo\\model_epoch_8_val_accuracy_0.9864.pt\n"
     ]
    },
    {
     "name": "stderr",
     "output_type": "stream",
     "text": [
      "Epoch 9/50: 100%|███████████████████████████████████████████████████████████████████| 22/22 [00:21<00:00,  1.02batch/s]\n",
      "Validation Epoch 9/50: 100%|██████████████████████████████████████████████████████████| 5/5 [00:04<00:00,  1.16batch/s]\n"
     ]
    },
    {
     "name": "stdout",
     "output_type": "stream",
     "text": [
      "Epoch 9/50, Training Loss: 0.3552, Training Accuracy: 0.9474, Validation Loss: 0.2355, Validation Accuracy: 0.9728\n"
     ]
    },
    {
     "name": "stderr",
     "output_type": "stream",
     "text": [
      "Epoch 10/50: 100%|██████████████████████████████████████████████████████████████████| 22/22 [00:21<00:00,  1.04batch/s]\n",
      "Validation Epoch 10/50: 100%|█████████████████████████████████████████████████████████| 5/5 [00:04<00:00,  1.24batch/s]\n"
     ]
    },
    {
     "name": "stdout",
     "output_type": "stream",
     "text": [
      "Epoch 10/50, Training Loss: 0.3345, Training Accuracy: 0.9591, Validation Loss: 0.2203, Validation Accuracy: 0.9864\n"
     ]
    },
    {
     "name": "stderr",
     "output_type": "stream",
     "text": [
      "Epoch 11/50: 100%|██████████████████████████████████████████████████████████████████| 22/22 [00:20<00:00,  1.05batch/s]\n",
      "Validation Epoch 11/50: 100%|█████████████████████████████████████████████████████████| 5/5 [00:04<00:00,  1.17batch/s]\n"
     ]
    },
    {
     "name": "stdout",
     "output_type": "stream",
     "text": [
      "Epoch 11/50, Training Loss: 0.3251, Training Accuracy: 0.9518, Validation Loss: 0.2058, Validation Accuracy: 0.9864\n"
     ]
    },
    {
     "name": "stderr",
     "output_type": "stream",
     "text": [
      "Epoch 12/50: 100%|██████████████████████████████████████████████████████████████████| 22/22 [00:21<00:00,  1.05batch/s]\n",
      "Validation Epoch 12/50: 100%|█████████████████████████████████████████████████████████| 5/5 [00:04<00:00,  1.19batch/s]\n"
     ]
    },
    {
     "name": "stdout",
     "output_type": "stream",
     "text": [
      "Epoch 12/50, Training Loss: 0.3093, Training Accuracy: 0.9503, Validation Loss: 0.1926, Validation Accuracy: 0.9932\n",
      "Saved model at epoch 12 with validation accuracy: 0.9932 to C:\\Users\\maste\\OneDrive\\Documentos\\Resultados_Redes_WVC2025\\Inception_V3\\50_epocas\\ADAM\\melhor_modelo\\model_epoch_12_val_accuracy_0.9932.pt\n"
     ]
    },
    {
     "name": "stderr",
     "output_type": "stream",
     "text": [
      "Epoch 13/50: 100%|██████████████████████████████████████████████████████████████████| 22/22 [00:21<00:00,  1.02batch/s]\n",
      "Validation Epoch 13/50: 100%|█████████████████████████████████████████████████████████| 5/5 [00:04<00:00,  1.18batch/s]\n"
     ]
    },
    {
     "name": "stdout",
     "output_type": "stream",
     "text": [
      "Epoch 13/50, Training Loss: 0.2981, Training Accuracy: 0.9576, Validation Loss: 0.1837, Validation Accuracy: 0.9864\n"
     ]
    },
    {
     "name": "stderr",
     "output_type": "stream",
     "text": [
      "Epoch 14/50: 100%|██████████████████████████████████████████████████████████████████| 22/22 [00:21<00:00,  1.05batch/s]\n",
      "Validation Epoch 14/50: 100%|█████████████████████████████████████████████████████████| 5/5 [00:04<00:00,  1.21batch/s]\n"
     ]
    },
    {
     "name": "stdout",
     "output_type": "stream",
     "text": [
      "Epoch 14/50, Training Loss: 0.2796, Training Accuracy: 0.9503, Validation Loss: 0.1767, Validation Accuracy: 0.9864\n"
     ]
    },
    {
     "name": "stderr",
     "output_type": "stream",
     "text": [
      "Epoch 15/50: 100%|██████████████████████████████████████████████████████████████████| 22/22 [00:21<00:00,  1.04batch/s]\n",
      "Validation Epoch 15/50: 100%|█████████████████████████████████████████████████████████| 5/5 [00:04<00:00,  1.18batch/s]\n"
     ]
    },
    {
     "name": "stdout",
     "output_type": "stream",
     "text": [
      "Epoch 15/50, Training Loss: 0.2919, Training Accuracy: 0.9561, Validation Loss: 0.1698, Validation Accuracy: 0.9932\n"
     ]
    },
    {
     "name": "stderr",
     "output_type": "stream",
     "text": [
      "Epoch 16/50: 100%|██████████████████████████████████████████████████████████████████| 22/22 [00:21<00:00,  1.04batch/s]\n",
      "Validation Epoch 16/50: 100%|█████████████████████████████████████████████████████████| 5/5 [00:04<00:00,  1.18batch/s]\n"
     ]
    },
    {
     "name": "stdout",
     "output_type": "stream",
     "text": [
      "Epoch 16/50, Training Loss: 0.2351, Training Accuracy: 0.9737, Validation Loss: 0.1608, Validation Accuracy: 0.9864\n"
     ]
    },
    {
     "name": "stderr",
     "output_type": "stream",
     "text": [
      "Epoch 17/50: 100%|██████████████████████████████████████████████████████████████████| 22/22 [00:20<00:00,  1.05batch/s]\n",
      "Validation Epoch 17/50: 100%|█████████████████████████████████████████████████████████| 5/5 [00:04<00:00,  1.17batch/s]\n"
     ]
    },
    {
     "name": "stdout",
     "output_type": "stream",
     "text": [
      "Epoch 17/50, Training Loss: 0.2483, Training Accuracy: 0.9649, Validation Loss: 0.1523, Validation Accuracy: 0.9932\n"
     ]
    },
    {
     "name": "stderr",
     "output_type": "stream",
     "text": [
      "Epoch 18/50: 100%|██████████████████████████████████████████████████████████████████| 22/22 [00:21<00:00,  1.04batch/s]\n",
      "Validation Epoch 18/50: 100%|█████████████████████████████████████████████████████████| 5/5 [00:04<00:00,  1.20batch/s]\n"
     ]
    },
    {
     "name": "stdout",
     "output_type": "stream",
     "text": [
      "Epoch 18/50, Training Loss: 0.2505, Training Accuracy: 0.9664, Validation Loss: 0.1514, Validation Accuracy: 0.9932\n"
     ]
    },
    {
     "name": "stderr",
     "output_type": "stream",
     "text": [
      "Epoch 19/50: 100%|██████████████████████████████████████████████████████████████████| 22/22 [00:21<00:00,  1.05batch/s]\n",
      "Validation Epoch 19/50: 100%|█████████████████████████████████████████████████████████| 5/5 [00:04<00:00,  1.16batch/s]\n"
     ]
    },
    {
     "name": "stdout",
     "output_type": "stream",
     "text": [
      "Epoch 19/50, Training Loss: 0.2162, Training Accuracy: 0.9722, Validation Loss: 0.1417, Validation Accuracy: 0.9932\n"
     ]
    },
    {
     "name": "stderr",
     "output_type": "stream",
     "text": [
      "Epoch 20/50: 100%|██████████████████████████████████████████████████████████████████| 22/22 [00:20<00:00,  1.05batch/s]\n",
      "Validation Epoch 20/50: 100%|█████████████████████████████████████████████████████████| 5/5 [00:04<00:00,  1.17batch/s]\n"
     ]
    },
    {
     "name": "stdout",
     "output_type": "stream",
     "text": [
      "Epoch 20/50, Training Loss: 0.2139, Training Accuracy: 0.9737, Validation Loss: 0.1393, Validation Accuracy: 0.9932\n"
     ]
    },
    {
     "name": "stderr",
     "output_type": "stream",
     "text": [
      "Epoch 21/50: 100%|██████████████████████████████████████████████████████████████████| 22/22 [00:20<00:00,  1.05batch/s]\n",
      "Validation Epoch 21/50: 100%|█████████████████████████████████████████████████████████| 5/5 [00:04<00:00,  1.19batch/s]\n"
     ]
    },
    {
     "name": "stdout",
     "output_type": "stream",
     "text": [
      "Epoch 21/50, Training Loss: 0.2122, Training Accuracy: 0.9737, Validation Loss: 0.1357, Validation Accuracy: 0.9932\n"
     ]
    },
    {
     "name": "stderr",
     "output_type": "stream",
     "text": [
      "Epoch 22/50: 100%|██████████████████████████████████████████████████████████████████| 22/22 [00:21<00:00,  1.02batch/s]\n",
      "Validation Epoch 22/50: 100%|█████████████████████████████████████████████████████████| 5/5 [00:06<00:00,  1.30s/batch]\n"
     ]
    },
    {
     "name": "stdout",
     "output_type": "stream",
     "text": [
      "Epoch 22/50, Training Loss: 0.2219, Training Accuracy: 0.9605, Validation Loss: 0.1283, Validation Accuracy: 0.9932\n"
     ]
    },
    {
     "name": "stderr",
     "output_type": "stream",
     "text": [
      "Epoch 23/50: 100%|██████████████████████████████████████████████████████████████████| 22/22 [00:31<00:00,  1.44s/batch]\n",
      "Validation Epoch 23/50: 100%|█████████████████████████████████████████████████████████| 5/5 [00:04<00:00,  1.09batch/s]\n"
     ]
    },
    {
     "name": "stdout",
     "output_type": "stream",
     "text": [
      "Epoch 23/50, Training Loss: 0.2272, Training Accuracy: 0.9649, Validation Loss: 0.1287, Validation Accuracy: 0.9932\n"
     ]
    },
    {
     "name": "stderr",
     "output_type": "stream",
     "text": [
      "Epoch 24/50: 100%|██████████████████████████████████████████████████████████████████| 22/22 [00:21<00:00,  1.04batch/s]\n",
      "Validation Epoch 24/50: 100%|█████████████████████████████████████████████████████████| 5/5 [00:04<00:00,  1.17batch/s]\n"
     ]
    },
    {
     "name": "stdout",
     "output_type": "stream",
     "text": [
      "Epoch 24/50, Training Loss: 0.2260, Training Accuracy: 0.9576, Validation Loss: 0.1236, Validation Accuracy: 0.9932\n"
     ]
    },
    {
     "name": "stderr",
     "output_type": "stream",
     "text": [
      "Epoch 25/50: 100%|██████████████████████████████████████████████████████████████████| 22/22 [00:20<00:00,  1.08batch/s]\n",
      "Validation Epoch 25/50: 100%|█████████████████████████████████████████████████████████| 5/5 [00:04<00:00,  1.10batch/s]\n"
     ]
    },
    {
     "name": "stdout",
     "output_type": "stream",
     "text": [
      "Epoch 25/50, Training Loss: 0.1976, Training Accuracy: 0.9737, Validation Loss: 0.1188, Validation Accuracy: 0.9932\n"
     ]
    },
    {
     "name": "stderr",
     "output_type": "stream",
     "text": [
      "Epoch 26/50: 100%|██████████████████████████████████████████████████████████████████| 22/22 [00:21<00:00,  1.04batch/s]\n",
      "Validation Epoch 26/50: 100%|█████████████████████████████████████████████████████████| 5/5 [00:04<00:00,  1.18batch/s]\n"
     ]
    },
    {
     "name": "stdout",
     "output_type": "stream",
     "text": [
      "Epoch 26/50, Training Loss: 0.1787, Training Accuracy: 0.9825, Validation Loss: 0.1184, Validation Accuracy: 0.9932\n"
     ]
    },
    {
     "name": "stderr",
     "output_type": "stream",
     "text": [
      "Epoch 27/50: 100%|██████████████████████████████████████████████████████████████████| 22/22 [00:20<00:00,  1.10batch/s]\n",
      "Validation Epoch 27/50: 100%|█████████████████████████████████████████████████████████| 5/5 [00:04<00:00,  1.18batch/s]\n"
     ]
    },
    {
     "name": "stdout",
     "output_type": "stream",
     "text": [
      "Epoch 27/50, Training Loss: 0.1776, Training Accuracy: 0.9708, Validation Loss: 0.1177, Validation Accuracy: 0.9932\n"
     ]
    },
    {
     "name": "stderr",
     "output_type": "stream",
     "text": [
      "Epoch 28/50: 100%|██████████████████████████████████████████████████████████████████| 22/22 [00:21<00:00,  1.04batch/s]\n",
      "Validation Epoch 28/50: 100%|█████████████████████████████████████████████████████████| 5/5 [00:04<00:00,  1.17batch/s]\n"
     ]
    },
    {
     "name": "stdout",
     "output_type": "stream",
     "text": [
      "Epoch 28/50, Training Loss: 0.1840, Training Accuracy: 0.9693, Validation Loss: 0.1109, Validation Accuracy: 0.9932\n"
     ]
    },
    {
     "name": "stderr",
     "output_type": "stream",
     "text": [
      "Epoch 29/50: 100%|██████████████████████████████████████████████████████████████████| 22/22 [00:21<00:00,  1.04batch/s]\n",
      "Validation Epoch 29/50: 100%|█████████████████████████████████████████████████████████| 5/5 [00:04<00:00,  1.14batch/s]\n"
     ]
    },
    {
     "name": "stdout",
     "output_type": "stream",
     "text": [
      "Epoch 29/50, Training Loss: 0.1666, Training Accuracy: 0.9781, Validation Loss: 0.1136, Validation Accuracy: 0.9932\n"
     ]
    },
    {
     "name": "stderr",
     "output_type": "stream",
     "text": [
      "Epoch 30/50: 100%|██████████████████████████████████████████████████████████████████| 22/22 [00:21<00:00,  1.02batch/s]\n",
      "Validation Epoch 30/50: 100%|█████████████████████████████████████████████████████████| 5/5 [00:04<00:00,  1.17batch/s]\n"
     ]
    },
    {
     "name": "stdout",
     "output_type": "stream",
     "text": [
      "Epoch 30/50, Training Loss: 0.1556, Training Accuracy: 0.9825, Validation Loss: 0.1077, Validation Accuracy: 0.9932\n"
     ]
    },
    {
     "name": "stderr",
     "output_type": "stream",
     "text": [
      "Epoch 31/50: 100%|██████████████████████████████████████████████████████████████████| 22/22 [00:21<00:00,  1.04batch/s]\n",
      "Validation Epoch 31/50: 100%|█████████████████████████████████████████████████████████| 5/5 [00:04<00:00,  1.17batch/s]\n"
     ]
    },
    {
     "name": "stdout",
     "output_type": "stream",
     "text": [
      "Epoch 31/50, Training Loss: 0.1645, Training Accuracy: 0.9810, Validation Loss: 0.1077, Validation Accuracy: 0.9932\n"
     ]
    },
    {
     "name": "stderr",
     "output_type": "stream",
     "text": [
      "Epoch 32/50: 100%|██████████████████████████████████████████████████████████████████| 22/22 [00:21<00:00,  1.04batch/s]\n",
      "Validation Epoch 32/50: 100%|█████████████████████████████████████████████████████████| 5/5 [00:04<00:00,  1.24batch/s]\n"
     ]
    },
    {
     "name": "stdout",
     "output_type": "stream",
     "text": [
      "Epoch 32/50, Training Loss: 0.1468, Training Accuracy: 0.9810, Validation Loss: 0.1040, Validation Accuracy: 0.9932\n"
     ]
    },
    {
     "name": "stderr",
     "output_type": "stream",
     "text": [
      "Epoch 33/50: 100%|██████████████████████████████████████████████████████████████████| 22/22 [00:21<00:00,  1.04batch/s]\n",
      "Validation Epoch 33/50: 100%|█████████████████████████████████████████████████████████| 5/5 [00:04<00:00,  1.18batch/s]\n"
     ]
    },
    {
     "name": "stdout",
     "output_type": "stream",
     "text": [
      "Epoch 33/50, Training Loss: 0.1433, Training Accuracy: 0.9854, Validation Loss: 0.1018, Validation Accuracy: 0.9932\n"
     ]
    },
    {
     "name": "stderr",
     "output_type": "stream",
     "text": [
      "Epoch 34/50: 100%|██████████████████████████████████████████████████████████████████| 22/22 [00:21<00:00,  1.05batch/s]\n",
      "Validation Epoch 34/50: 100%|█████████████████████████████████████████████████████████| 5/5 [00:04<00:00,  1.18batch/s]\n"
     ]
    },
    {
     "name": "stdout",
     "output_type": "stream",
     "text": [
      "Epoch 34/50, Training Loss: 0.1505, Training Accuracy: 0.9751, Validation Loss: 0.1006, Validation Accuracy: 0.9932\n"
     ]
    },
    {
     "name": "stderr",
     "output_type": "stream",
     "text": [
      "Epoch 35/50: 100%|██████████████████████████████████████████████████████████████████| 22/22 [00:21<00:00,  1.05batch/s]\n",
      "Validation Epoch 35/50: 100%|█████████████████████████████████████████████████████████| 5/5 [00:04<00:00,  1.19batch/s]\n"
     ]
    },
    {
     "name": "stdout",
     "output_type": "stream",
     "text": [
      "Epoch 35/50, Training Loss: 0.1450, Training Accuracy: 0.9825, Validation Loss: 0.1003, Validation Accuracy: 0.9932\n"
     ]
    },
    {
     "name": "stderr",
     "output_type": "stream",
     "text": [
      "Epoch 36/50: 100%|██████████████████████████████████████████████████████████████████| 22/22 [00:21<00:00,  1.05batch/s]\n",
      "Validation Epoch 36/50: 100%|█████████████████████████████████████████████████████████| 5/5 [00:04<00:00,  1.16batch/s]\n"
     ]
    },
    {
     "name": "stdout",
     "output_type": "stream",
     "text": [
      "Epoch 36/50, Training Loss: 0.1447, Training Accuracy: 0.9810, Validation Loss: 0.0921, Validation Accuracy: 0.9932\n"
     ]
    },
    {
     "name": "stderr",
     "output_type": "stream",
     "text": [
      "Epoch 37/50: 100%|██████████████████████████████████████████████████████████████████| 22/22 [00:21<00:00,  1.05batch/s]\n",
      "Validation Epoch 37/50: 100%|█████████████████████████████████████████████████████████| 5/5 [00:04<00:00,  1.19batch/s]\n"
     ]
    },
    {
     "name": "stdout",
     "output_type": "stream",
     "text": [
      "Epoch 37/50, Training Loss: 0.1412, Training Accuracy: 0.9781, Validation Loss: 0.0950, Validation Accuracy: 0.9932\n"
     ]
    },
    {
     "name": "stderr",
     "output_type": "stream",
     "text": [
      "Epoch 38/50: 100%|██████████████████████████████████████████████████████████████████| 22/22 [00:21<00:00,  1.05batch/s]\n",
      "Validation Epoch 38/50: 100%|█████████████████████████████████████████████████████████| 5/5 [00:04<00:00,  1.17batch/s]\n"
     ]
    },
    {
     "name": "stdout",
     "output_type": "stream",
     "text": [
      "Epoch 38/50, Training Loss: 0.1278, Training Accuracy: 0.9839, Validation Loss: 0.0930, Validation Accuracy: 0.9932\n"
     ]
    },
    {
     "name": "stderr",
     "output_type": "stream",
     "text": [
      "Epoch 39/50: 100%|██████████████████████████████████████████████████████████████████| 22/22 [00:20<00:00,  1.05batch/s]\n",
      "Validation Epoch 39/50: 100%|█████████████████████████████████████████████████████████| 5/5 [00:04<00:00,  1.17batch/s]\n"
     ]
    },
    {
     "name": "stdout",
     "output_type": "stream",
     "text": [
      "Epoch 39/50, Training Loss: 0.1296, Training Accuracy: 0.9839, Validation Loss: 0.0869, Validation Accuracy: 0.9932\n"
     ]
    },
    {
     "name": "stderr",
     "output_type": "stream",
     "text": [
      "Epoch 40/50: 100%|██████████████████████████████████████████████████████████████████| 22/22 [00:20<00:00,  1.05batch/s]\n",
      "Validation Epoch 40/50: 100%|█████████████████████████████████████████████████████████| 5/5 [00:04<00:00,  1.17batch/s]\n"
     ]
    },
    {
     "name": "stdout",
     "output_type": "stream",
     "text": [
      "Epoch 40/50, Training Loss: 0.1354, Training Accuracy: 0.9766, Validation Loss: 0.0925, Validation Accuracy: 0.9932\n"
     ]
    },
    {
     "name": "stderr",
     "output_type": "stream",
     "text": [
      "Epoch 41/50: 100%|██████████████████████████████████████████████████████████████████| 22/22 [00:20<00:00,  1.05batch/s]\n",
      "Validation Epoch 41/50: 100%|█████████████████████████████████████████████████████████| 5/5 [00:04<00:00,  1.18batch/s]\n"
     ]
    },
    {
     "name": "stdout",
     "output_type": "stream",
     "text": [
      "Epoch 41/50, Training Loss: 0.1331, Training Accuracy: 0.9766, Validation Loss: 0.0873, Validation Accuracy: 0.9932\n"
     ]
    },
    {
     "name": "stderr",
     "output_type": "stream",
     "text": [
      "Epoch 42/50: 100%|██████████████████████████████████████████████████████████████████| 22/22 [00:21<00:00,  1.04batch/s]\n",
      "Validation Epoch 42/50: 100%|█████████████████████████████████████████████████████████| 5/5 [00:04<00:00,  1.18batch/s]\n"
     ]
    },
    {
     "name": "stdout",
     "output_type": "stream",
     "text": [
      "Epoch 42/50, Training Loss: 0.1295, Training Accuracy: 0.9825, Validation Loss: 0.0860, Validation Accuracy: 0.9932\n"
     ]
    },
    {
     "name": "stderr",
     "output_type": "stream",
     "text": [
      "Epoch 43/50: 100%|██████████████████████████████████████████████████████████████████| 22/22 [00:21<00:00,  1.05batch/s]\n",
      "Validation Epoch 43/50: 100%|█████████████████████████████████████████████████████████| 5/5 [00:04<00:00,  1.18batch/s]\n"
     ]
    },
    {
     "name": "stdout",
     "output_type": "stream",
     "text": [
      "Epoch 43/50, Training Loss: 0.1290, Training Accuracy: 0.9766, Validation Loss: 0.0817, Validation Accuracy: 0.9932\n"
     ]
    },
    {
     "name": "stderr",
     "output_type": "stream",
     "text": [
      "Epoch 44/50: 100%|██████████████████████████████████████████████████████████████████| 22/22 [00:21<00:00,  1.05batch/s]\n",
      "Validation Epoch 44/50: 100%|█████████████████████████████████████████████████████████| 5/5 [00:04<00:00,  1.17batch/s]\n"
     ]
    },
    {
     "name": "stdout",
     "output_type": "stream",
     "text": [
      "Epoch 44/50, Training Loss: 0.1207, Training Accuracy: 0.9795, Validation Loss: 0.0817, Validation Accuracy: 0.9932\n"
     ]
    },
    {
     "name": "stderr",
     "output_type": "stream",
     "text": [
      "Epoch 45/50: 100%|██████████████████████████████████████████████████████████████████| 22/22 [00:21<00:00,  1.04batch/s]\n",
      "Validation Epoch 45/50: 100%|█████████████████████████████████████████████████████████| 5/5 [00:04<00:00,  1.19batch/s]\n"
     ]
    },
    {
     "name": "stdout",
     "output_type": "stream",
     "text": [
      "Epoch 45/50, Training Loss: 0.1281, Training Accuracy: 0.9766, Validation Loss: 0.0825, Validation Accuracy: 0.9932\n"
     ]
    },
    {
     "name": "stderr",
     "output_type": "stream",
     "text": [
      "Epoch 46/50: 100%|██████████████████████████████████████████████████████████████████| 22/22 [00:21<00:00,  1.05batch/s]\n",
      "Validation Epoch 46/50: 100%|█████████████████████████████████████████████████████████| 5/5 [00:04<00:00,  1.19batch/s]\n"
     ]
    },
    {
     "name": "stdout",
     "output_type": "stream",
     "text": [
      "Epoch 46/50, Training Loss: 0.1213, Training Accuracy: 0.9868, Validation Loss: 0.0814, Validation Accuracy: 0.9932\n"
     ]
    },
    {
     "name": "stderr",
     "output_type": "stream",
     "text": [
      "Epoch 47/50: 100%|██████████████████████████████████████████████████████████████████| 22/22 [00:21<00:00,  1.04batch/s]\n",
      "Validation Epoch 47/50: 100%|█████████████████████████████████████████████████████████| 5/5 [00:04<00:00,  1.18batch/s]\n"
     ]
    },
    {
     "name": "stdout",
     "output_type": "stream",
     "text": [
      "Epoch 47/50, Training Loss: 0.1296, Training Accuracy: 0.9781, Validation Loss: 0.0804, Validation Accuracy: 0.9932\n"
     ]
    },
    {
     "name": "stderr",
     "output_type": "stream",
     "text": [
      "Epoch 48/50: 100%|██████████████████████████████████████████████████████████████████| 22/22 [00:21<00:00,  1.05batch/s]\n",
      "Validation Epoch 48/50: 100%|█████████████████████████████████████████████████████████| 5/5 [00:04<00:00,  1.16batch/s]\n"
     ]
    },
    {
     "name": "stdout",
     "output_type": "stream",
     "text": [
      "Epoch 48/50, Training Loss: 0.1253, Training Accuracy: 0.9825, Validation Loss: 0.0804, Validation Accuracy: 0.9932\n"
     ]
    },
    {
     "name": "stderr",
     "output_type": "stream",
     "text": [
      "Epoch 49/50: 100%|██████████████████████████████████████████████████████████████████| 22/22 [00:20<00:00,  1.05batch/s]\n",
      "Validation Epoch 49/50: 100%|█████████████████████████████████████████████████████████| 5/5 [00:04<00:00,  1.17batch/s]\n"
     ]
    },
    {
     "name": "stdout",
     "output_type": "stream",
     "text": [
      "Epoch 49/50, Training Loss: 0.1282, Training Accuracy: 0.9781, Validation Loss: 0.0847, Validation Accuracy: 0.9932\n"
     ]
    },
    {
     "name": "stderr",
     "output_type": "stream",
     "text": [
      "Epoch 50/50: 100%|██████████████████████████████████████████████████████████████████| 22/22 [00:20<00:00,  1.10batch/s]\n",
      "Validation Epoch 50/50: 100%|█████████████████████████████████████████████████████████| 5/5 [00:04<00:00,  1.19batch/s]\n"
     ]
    },
    {
     "name": "stdout",
     "output_type": "stream",
     "text": [
      "Epoch 50/50, Training Loss: 0.1173, Training Accuracy: 0.9722, Validation Loss: 0.0762, Validation Accuracy: 0.9932\n",
      "Treinamento finalizado\n",
      "Saved entire model at C:\\Users\\maste\\OneDrive\\Documentos\\Resultados_Redes_WVC2025\\Inception_V3\\50_epocas\\ADAM\\melhor_modelo\\melhor_modelo.pt\n"
     ]
    }
   ],
   "source": [
    "model.to(device)\n",
    "num_epochs = 50\n",
    "\n",
    "# Listas para armazenar perda e acurácia\n",
    "train_loss_values = []\n",
    "val_loss_values = []\n",
    "train_accuracy_values = []\n",
    "val_accuracy_values = []\n",
    "\n",
    "# Listas para armazenar rótulos verdadeiros e predições para a matriz de confusão e curva ROC\n",
    "all_labels = []\n",
    "all_preds = []\n",
    "\n",
    "best_accuracy = 0.0\n",
    "\n",
    "for epoch in range(num_epochs):\n",
    "    # ---------- Treinamento ----------\n",
    "    model.train()\n",
    "    running_loss = 0.0\n",
    "    correct = 0\n",
    "    total = 0\n",
    "\n",
    "    for inputs, labels in tqdm(train_loader, desc=f\"Epoch {epoch+1}/{num_epochs}\", unit='batch'):\n",
    "        inputs, labels = inputs.to(device), labels.to(device)\n",
    "        optimizer.zero_grad()\n",
    "        \n",
    "        outputs = model(inputs)  # retorna InceptionOutputs\n",
    "        # Somente durante treino usamos a saída auxiliar\n",
    "        loss1 = criterion(outputs.logits, labels)\n",
    "        loss2 = criterion(outputs.aux_logits, labels) if outputs.aux_logits is not None else 0\n",
    "        loss = loss1 + 0.4 * loss2\n",
    "        \n",
    "        loss.backward()\n",
    "        optimizer.step()\n",
    "        \n",
    "        running_loss += loss.item() * inputs.size(0)\n",
    "        _, predicted = torch.max(outputs.logits.data, 1)\n",
    "        total += labels.size(0)\n",
    "        correct += (predicted == labels).sum().item()\n",
    "\n",
    "    epoch_loss = running_loss / len(train_loader.dataset)\n",
    "    train_accuracy = correct / total\n",
    "    train_loss_values.append(epoch_loss)\n",
    "    train_accuracy_values.append(train_accuracy)\n",
    "\n",
    "    # ---------- Validação ----------\n",
    "    model.eval()\n",
    "    val_running_loss = 0.0\n",
    "    val_correct = 0\n",
    "    val_total = 0\n",
    "\n",
    "    with torch.no_grad():\n",
    "        for inputs, labels in tqdm(val_loader, desc=f\"Validation Epoch {epoch+1}/{num_epochs}\", unit='batch'):\n",
    "            inputs, labels = inputs.to(device), labels.to(device)\n",
    "            outputs = model(inputs)\n",
    "            # Apenas saída principal\n",
    "            loss = criterion(outputs, labels)\n",
    "            val_running_loss += loss.item() * inputs.size(0)\n",
    "            \n",
    "            _, predicted = torch.max(outputs.data, 1)\n",
    "            val_total += labels.size(0)\n",
    "            val_correct += (predicted == labels).sum().item()\n",
    "\n",
    "    val_loss = val_running_loss / len(val_loader.dataset)\n",
    "    val_accuracy = val_correct / val_total\n",
    "    val_loss_values.append(val_loss)\n",
    "    val_accuracy_values.append(val_accuracy)\n",
    "\n",
    "    print(f'Epoch {epoch+1}/{num_epochs}, '\n",
    "          f'Training Loss: {epoch_loss:.4f}, Training Accuracy: {train_accuracy:.4f}, '\n",
    "          f'Validation Loss: {val_loss:.4f}, Validation Accuracy: {val_accuracy:.4f}')\n",
    "\n",
    "    # Salvar modelo se a acurácia de validação melhorou\n",
    "    if val_accuracy > best_accuracy:\n",
    "        best_accuracy = val_accuracy\n",
    "        model_save_path = os.path.join(save_weights, f'model_epoch_{epoch+1}_val_accuracy_{val_accuracy:.4f}.pt')\n",
    "        torch.save(model.state_dict(), model_save_path)\n",
    "        print(f'Saved model at epoch {epoch+1} with validation accuracy: {val_accuracy:.4f} to {model_save_path}')\n",
    "\n",
    "print('Treinamento finalizado')\n",
    "\n",
    "# Salvar o modelo inteiro\n",
    "torch.save(model, save_model)\n",
    "print(f'Saved entire model at {save_model}')\n"
   ]
  },
  {
   "cell_type": "code",
   "execution_count": 113,
   "id": "37a68d03-bb66-4482-8cc2-7cc5ccaeb642",
   "metadata": {},
   "outputs": [
    {
     "name": "stderr",
     "output_type": "stream",
     "text": [
      "C:\\Users\\maste\\AppData\\Local\\Temp\\ipykernel_25136\\54683308.py:2: FutureWarning: You are using `torch.load` with `weights_only=False` (the current default value), which uses the default pickle module implicitly. It is possible to construct malicious pickle data which will execute arbitrary code during unpickling (See https://github.com/pytorch/pytorch/blob/main/SECURITY.md#untrusted-models for more details). In a future release, the default value for `weights_only` will be flipped to `True`. This limits the functions that could be executed during unpickling. Arbitrary objects will no longer be allowed to be loaded via this mode unless they are explicitly allowlisted by the user via `torch.serialization.add_safe_globals`. We recommend you start setting `weights_only=True` for any use case where you don't have full control of the loaded file. Please open an issue on GitHub for any issues related to this experimental feature.\n",
      "  model = torch.load(save_model)\n"
     ]
    },
    {
     "name": "stdout",
     "output_type": "stream",
     "text": [
      "Loaded model from C:\\Users\\maste\\OneDrive\\Documentos\\Resultados_Redes_WVC2025\\Inception_V3\\50_epocas\\ADAM\\melhor_modelo\\melhor_modelo.pt\n"
     ]
    },
    {
     "name": "stderr",
     "output_type": "stream",
     "text": [
      "C:\\Users\\maste\\AppData\\Local\\Temp\\ipykernel_25136\\54683308.py:7: FutureWarning: You are using `torch.load` with `weights_only=False` (the current default value), which uses the default pickle module implicitly. It is possible to construct malicious pickle data which will execute arbitrary code during unpickling (See https://github.com/pytorch/pytorch/blob/main/SECURITY.md#untrusted-models for more details). In a future release, the default value for `weights_only` will be flipped to `True`. This limits the functions that could be executed during unpickling. Arbitrary objects will no longer be allowed to be loaded via this mode unless they are explicitly allowlisted by the user via `torch.serialization.add_safe_globals`. We recommend you start setting `weights_only=True` for any use case where you don't have full control of the loaded file. Please open an issue on GitHub for any issues related to this experimental feature.\n",
      "  model.load_state_dict(torch.load(model_save_path))\n"
     ]
    },
    {
     "name": "stdout",
     "output_type": "stream",
     "text": [
      "Loaded weights from C:\\Users\\maste\\OneDrive\\Documentos\\Resultados_Redes_WVC2025\\Inception_V3\\50_epocas\\ADAM\\melhor_modelo\\model_epoch_12_val_accuracy_0.9932.pt\n"
     ]
    }
   ],
   "source": [
    "save_model = r\"C:\\Users\\maste\\OneDrive\\Documentos\\Resultados_Redes_WVC2025\\Inception_V3\\50_epocas\\ADAM\\melhor_modelo\\melhor_modelo.pt\"\n",
    "model = torch.load(save_model)\n",
    "model.eval()\n",
    "print(f'Loaded model from {save_model}')\n",
    "\n",
    "model_save_path= r\"C:\\Users\\maste\\OneDrive\\Documentos\\Resultados_Redes_WVC2025\\Inception_V3\\50_epocas\\ADAM\\melhor_modelo\\model_epoch_12_val_accuracy_0.9932.pt\"\n",
    "model.load_state_dict(torch.load(model_save_path))\n",
    "model.eval()\n",
    "print(f'Loaded weights from {model_save_path}')"
   ]
  },
  {
   "cell_type": "code",
   "execution_count": 115,
   "id": "ffe8d93e-179e-4f7e-8dcf-8414b0ac22f8",
   "metadata": {},
   "outputs": [
    {
     "name": "stdout",
     "output_type": "stream",
     "text": [
      "Confirmation Accuracy: 0.9932\n"
     ]
    }
   ],
   "source": [
    "# Confirmação do carregamento do modelo e dos pesos\n",
    "model.to(device)\n",
    "\n",
    "model.eval()\n",
    "confirmation_correct = 0\n",
    "confirmation_total = 0\n",
    "with torch.no_grad():\n",
    "    for inputs, labels in val_loader:\n",
    "        inputs, labels = inputs.to(device), labels.to(device)\n",
    "        outputs = model(inputs)\n",
    "        _, predicted = torch.max(outputs.data, 1)\n",
    "        confirmation_total += labels.size(0)\n",
    "        confirmation_correct += (predicted == labels).sum().item()\n",
    "\n",
    "print(f'Confirmation Accuracy: { confirmation_correct / confirmation_total:.4f}')"
   ]
  },
  {
   "cell_type": "code",
   "execution_count": 117,
   "id": "0e206a54-dda1-4a49-ae48-244bcd48cd1e",
   "metadata": {},
   "outputs": [
    {
     "name": "stderr",
     "output_type": "stream",
     "text": [
      "Val: 100%|███████████████████████████████████████████████████████████████████████████████| 5/5 [00:04<00:00,  1.15it/s]"
     ]
    },
    {
     "name": "stdout",
     "output_type": "stream",
     "text": [
      "Val Loss: 0.0762, Val Accuracy: 0.9932\n"
     ]
    },
    {
     "name": "stderr",
     "output_type": "stream",
     "text": [
      "\n"
     ]
    }
   ],
   "source": [
    "# Avaliando o modelo carregado no conjunto de teste\n",
    "model.eval()\n",
    "test_running_loss = 0.0\n",
    "test_correct = 0\n",
    "test_total = 0\n",
    "\n",
    "all_labels = []\n",
    "all_probs = []  # Para armazenar as probabilidades\n",
    "\n",
    "with torch.no_grad():\n",
    "    for inputs, labels in tqdm(val_loader, desc=\"Val\"):\n",
    "        inputs, labels = inputs.to(device), labels.to(device)\n",
    "        outputs = model(inputs)\n",
    "        #loss = nn.CrossEntropyLoss()(outputs, labels)\n",
    "        #test_running_loss += loss.item() * inputs.size(0)\n",
    "        _, predicted = torch.max(outputs.data, 1)\n",
    "        val_total += labels.size(0)\n",
    "        val_correct += (predicted == labels).sum().item()\n",
    "\n",
    "        # Armazenando rótulos e probabilidades\n",
    "        all_labels.extend(labels.cpu().numpy())\n",
    "        all_probs.extend(torch.softmax(outputs, dim=1).cpu().numpy())\n",
    "\n",
    "    val_loss = val_running_loss / len(val_loader.dataset)\n",
    "    val_accuracy = val_correct / val_total\n",
    "    print(f'Val Loss: {val_loss:.4f}, Val Accuracy: {val_accuracy:.4f}')"
   ]
  },
  {
   "cell_type": "code",
   "execution_count": 119,
   "id": "c51aa43c-e787-4478-82cb-423ae2fc1679",
   "metadata": {},
   "outputs": [],
   "source": [
    "# Calculando a matriz de confusão\n",
    "cm = confusion_matrix(all_labels, np.argmax(all_probs, axis=1))"
   ]
  },
  {
   "cell_type": "code",
   "execution_count": 121,
   "id": "5a79e77b-1480-41e4-986c-5763bad05581",
   "metadata": {},
   "outputs": [
    {
     "data": {
      "image/png": "[encoded data removed]",
      "text/plain": [
       "<Figure size 640x480 with 2 Axes>"
      ]
     },
     "metadata": {},
     "output_type": "display_data"
    }
   ],
   "source": [
    "# Plotando a matriz de confusão\n",
    "disp = ConfusionMatrixDisplay(confusion_matrix=cm, display_labels=classes)\n",
    "disp.plot(cmap=plt.cm.Blues)\n",
    "plt.title('Confusion Matrix')\n",
    "plt.savefig(r\"C:\\Users\\maste\\OneDrive\\Documentos\\Resultados_Redes_WVC2025\\Inception_V3\\50_epocas\\ADAM\\gráficos\\treino\\matriz_treino.pdf\")\n",
    "plt.show()"
   ]
  },
  {
   "cell_type": "code",
   "execution_count": 125,
   "id": "7a36243d-c9dd-49ab-b2f9-b3c22dfcceff",
   "metadata": {},
   "outputs": [
    {
     "name": "stdout",
     "output_type": "stream",
     "text": [
      "              precision    recall  f1-score   support\n",
      "\n",
      "      Câncer       1.00      0.99      0.99        84\n",
      "      Normal       0.98      1.00      0.99        63\n",
      "\n",
      "    accuracy                           0.99       147\n",
      "   macro avg       0.99      0.99      0.99       147\n",
      "weighted avg       0.99      0.99      0.99       147\n",
      "\n",
      "tensor([[-1.1250,  0.8285],\n",
      "        [-0.8027,  0.5149],\n",
      "        [-0.6769,  0.4674],\n",
      "        [-0.5483,  0.7326],\n",
      "        [-0.2848,  0.3203],\n",
      "        [-0.8573,  0.6879],\n",
      "        [-0.9711,  0.8490],\n",
      "        [-0.9495,  0.8729],\n",
      "        [-0.9334,  0.8246],\n",
      "        [-1.1894,  0.9844],\n",
      "        [-1.0787,  0.7604],\n",
      "        [-1.0570,  0.8834],\n",
      "        [-0.9359,  0.8407],\n",
      "        [-0.4343,  0.4182],\n",
      "        [-0.1926,  0.0455],\n",
      "        [-0.8340,  0.9183],\n",
      "        [-0.3097,  0.0082],\n",
      "        [-0.8096,  1.0239],\n",
      "        [-0.7312,  0.9316]], device='cuda:0')\n",
      "tensor([1, 1, 1, 1, 1, 1, 1, 1, 1, 1, 1, 1, 1, 1, 1, 1, 1, 1, 1],\n",
      "       device='cuda:0')\n",
      "[np.int64(0), np.int64(0), np.int64(0), np.int64(0), np.int64(0), np.int64(0), np.int64(0), np.int64(0), np.int64(0), np.int64(0), np.int64(0), np.int64(0), np.int64(0), np.int64(0), np.int64(0), np.int64(0), np.int64(0), np.int64(1), np.int64(0), np.int64(0), np.int64(0), np.int64(0), np.int64(0), np.int64(0), np.int64(0), np.int64(0), np.int64(0), np.int64(0), np.int64(0), np.int64(0), np.int64(0), np.int64(0), np.int64(0), np.int64(0), np.int64(0), np.int64(0), np.int64(0), np.int64(0), np.int64(0), np.int64(0), np.int64(0), np.int64(0), np.int64(0), np.int64(0), np.int64(0), np.int64(0), np.int64(0), np.int64(0), np.int64(0), np.int64(0), np.int64(0), np.int64(0), np.int64(0), np.int64(0), np.int64(0), np.int64(0), np.int64(0), np.int64(0), np.int64(0), np.int64(0), np.int64(0), np.int64(0), np.int64(0), np.int64(0), np.int64(0), np.int64(0), np.int64(0), np.int64(0), np.int64(0), np.int64(0), np.int64(0), np.int64(0), np.int64(0), np.int64(0), np.int64(0), np.int64(0), np.int64(0), np.int64(0), np.int64(0), np.int64(0), np.int64(0), np.int64(0), np.int64(0), np.int64(0), np.int64(1), np.int64(1), np.int64(1), np.int64(1), np.int64(1), np.int64(1), np.int64(1), np.int64(1), np.int64(1), np.int64(1), np.int64(1), np.int64(1), np.int64(1), np.int64(1), np.int64(1), np.int64(1), np.int64(1), np.int64(1), np.int64(1), np.int64(1), np.int64(1), np.int64(1), np.int64(1), np.int64(1), np.int64(1), np.int64(1), np.int64(1), np.int64(1), np.int64(1), np.int64(1), np.int64(1), np.int64(1), np.int64(1), np.int64(1), np.int64(1), np.int64(1), np.int64(1), np.int64(1), np.int64(1), np.int64(1), np.int64(1), np.int64(1), np.int64(1), np.int64(1), np.int64(1), np.int64(1), np.int64(1), np.int64(1), np.int64(1), np.int64(1), np.int64(1), np.int64(1), np.int64(1), np.int64(1), np.int64(1), np.int64(1), np.int64(1), np.int64(1), np.int64(1), np.int64(1), np.int64(1), np.int64(1), np.int64(1)]\n"
     ]
    }
   ],
   "source": [
    "import torch\n",
    "from sklearn.metrics import classification_report\n",
    "#from  utils import to_onehot\n",
    "# Alterar o modelo para o modo de avaliação\n",
    "model.eval()\n",
    "\n",
    "# Para armazenar rótulos verdadeiros e previsões\n",
    "all_labels = []\n",
    "all_preds = []\n",
    "\n",
    "# Desabilitar cálculo de gradiente para inferência\n",
    "with torch.no_grad():\n",
    "    for data in val_loader:\n",
    "        inputs, labels = data\n",
    "        inputs, labels = inputs.to(device), labels.to(device)\n",
    "\n",
    "        # Obter saídas do modelo e prever a classe\n",
    "        outputs = model(inputs)\n",
    "        _, preds = torch.max(outputs, 1)\n",
    "\n",
    "        # Armazenar rótulos e previsões\n",
    "        all_labels.extend(labels.cpu().numpy())\n",
    "        all_preds.extend(preds.cpu().numpy())\n",
    "#all_preds = utils.to_onehot(all_probs, 1)\n",
    "# Gerar relatório de classificação\n",
    "target_names = ['Câncer', ' Normal']\n",
    "print(classification_report(all_labels, all_preds, target_names=target_names))\n",
    "print(outputs)\n",
    "print(preds)\n",
    "print(all_preds)"
   ]
  },
  {
   "cell_type": "code",
   "execution_count": 127,
   "id": "7d14ab18-fcc8-4c07-8333-5303a6a1a46c",
   "metadata": {},
   "outputs": [
    {
     "name": "stdout",
     "output_type": "stream",
     "text": [
      "[0.         0.01190476 1.        ]\n",
      "---------\n",
      "[0. 1. 1.]\n",
      "---------\n"
     ]
    }
   ],
   "source": [
    "import torch\n",
    "from sklearn.metrics import roc_curve, auc\n",
    "import matplotlib.pyplot as plt\n",
    "import numpy as np\n",
    "#y_pred_keras = keras_model.predict(X_test).ravel()\n",
    "\n",
    "\n",
    "classes = val_data.classes\n",
    "num_classes = len(classes)\n",
    "\n",
    "all_labels = np.array(all_labels)\n",
    "all_preds = np.array( all_preds)\n",
    "\n",
    "fpr, tpr, _ = roc_curve(all_labels , all_preds)\n",
    "\n",
    "print(fpr)\n",
    "print('---------')\n",
    "print(tpr)\n",
    "print('---------')\n",
    "\n",
    "\n",
    "\n",
    "\n",
    "#for i in range(num_classes):\n",
    "#    # Calculando a ROC para a classe i\n",
    "#    fpr, tpr, _ = roc_curve(all_labels == i, all_preds[:, i])\n",
    "#    roc_auc = auc(fpr, tpr)\n",
    "#    plt.plot(fpr, tpr, label=f'Classe {classes[i]} (AUC = {roc_auc:.2f})')"
   ]
  },
  {
   "cell_type": "code",
   "execution_count": 129,
   "id": "f493578e-6b51-4dc2-8445-6633b930b22e",
   "metadata": {},
   "outputs": [
    {
     "name": "stdout",
     "output_type": "stream",
     "text": [
      "0.9940476190476191\n"
     ]
    }
   ],
   "source": [
    "from sklearn.metrics import auc\n",
    "auc_keras = auc(fpr, tpr)\n",
    "print(auc_keras)"
   ]
  },
  {
   "cell_type": "code",
   "execution_count": 131,
   "id": "b9adfba7-6e4b-44b7-ad43-ffc1659ed2ec",
   "metadata": {},
   "outputs": [
    {
     "data": {
      "image/png": "[encoded data removed]",
      "text/plain": [
       "<Figure size 640x480 with 1 Axes>"
      ]
     },
     "metadata": {},
     "output_type": "display_data"
    }
   ],
   "source": [
    "import matplotlib.pyplot as plt\n",
    "plt.figure(1)\n",
    "plt.plot([0, 1], [0, 1], 'k--')\n",
    "plt.plot(fpr, tpr, label='AUC (area = {:.3f})'.format(auc_keras))\n",
    "plt.xlabel('False positive rate')\n",
    "plt.ylabel('True positive rate')\n",
    "plt.title('ROC curve')\n",
    "plt.legend(loc='best')\n",
    "plt.savefig(r\"C:\\Users\\maste\\OneDrive\\Documentos\\Resultados_Redes_WVC2025\\Inception_V3\\50_epocas\\ADAM\\gráficos\\treino\\CurvaRoc_treino.pdf\")\n",
    "plt.show()"
   ]
  },
  {
   "cell_type": "code",
   "execution_count": 133,
   "id": "c9cfef92-84af-4954-8edb-cbcfe1bcce36",
   "metadata": {},
   "outputs": [
    {
     "data": {
      "image/png": "[encoded data removed]",
      "text/plain": [
       "<Figure size 640x480 with 1 Axes>"
      ]
     },
     "metadata": {},
     "output_type": "display_data"
    }
   ],
   "source": [
    "# Plotando a perda\n",
    "epochs = range(1, num_epochs + 1)\n",
    "\n",
    "plt.figure()\n",
    "plt.plot(epochs, train_loss_values, label='Training Loss')\n",
    "plt.plot(epochs, val_loss_values, label='Validation Loss')\n",
    "plt.xlabel('Epochs')\n",
    "plt.ylabel('Loss')\n",
    "plt.title('Training and Validation Loss')\n",
    "plt.legend()\n",
    "plt.savefig(r\"C:\\Users\\maste\\OneDrive\\Documentos\\Resultados_Redes_WVC2025\\Inception_V3\\50_epocas\\ADAM\\gráficos\\treino\\Loss_treino.pdf\")\n",
    "plt.show()"
   ]
  },
  {
   "cell_type": "code",
   "execution_count": 135,
   "id": "5a79d869-b0fc-496a-882f-6791fe50a4bb",
   "metadata": {},
   "outputs": [
    {
     "data": {
      "image/png": "[encoded data removed]",
      "text/plain": [
       "<Figure size 640x480 with 1 Axes>"
      ]
     },
     "metadata": {},
     "output_type": "display_data"
    }
   ],
   "source": [
    "# Plotando a acurácia\n",
    "plt.figure()\n",
    "plt.plot(epochs, train_accuracy_values, label='Training Accuracy')\n",
    "plt.plot(epochs, val_accuracy_values, label='Validation Accuracy')\n",
    "plt.xlabel('Epochs')\n",
    "plt.ylabel('Accuracy')\n",
    "plt.title('Training and Validation Accuracy')\n",
    "plt.legend()\n",
    "plt.savefig(r\"C:\\Users\\maste\\OneDrive\\Documentos\\Resultados_Redes_WVC2025\\Inception_V3\\50_epocas\\ADAM\\gráficos\\treino\\Accuracy_treino.pdf\")\n",
    "plt.show()"
   ]
  },
  {
   "cell_type": "code",
   "execution_count": 137,
   "id": "167b80b0-83d5-42b6-9a5e-1fd66213e1bf",
   "metadata": {},
   "outputs": [],
   "source": [
    "test_dir = r\"C:\\Users\\maste\\OneDrive\\Documentos\\Artigo_Rita_Dataset\\Testing\""
   ]
  },
  {
   "cell_type": "code",
   "execution_count": 139,
   "id": "87e2e964-41d0-4af8-b58c-459b34eed1b9",
   "metadata": {},
   "outputs": [],
   "source": [
    "# Transformações para normalização e aumento de dados\n",
    "transform = transforms.Compose([\n",
    "    transforms.Resize(320),\n",
    "    transforms.CenterCrop(299),\n",
    "    transforms.ToTensor(),\n",
    "    transforms.Normalize(mean=[0.485, 0.456, 0.406],\n",
    "                         std=[0.229, 0.224, 0.225])\n",
    "])"
   ]
  },
  {
   "cell_type": "code",
   "execution_count": 141,
   "id": "cfe0ec27-4f1a-4086-8b5a-3ba0a38478fb",
   "metadata": {},
   "outputs": [],
   "source": [
    "test_data = datasets.ImageFolder(test_dir, transform=transform)"
   ]
  },
  {
   "cell_type": "code",
   "execution_count": 143,
   "id": "45093b72-5144-4b33-a016-975660179ced",
   "metadata": {},
   "outputs": [],
   "source": [
    "# Criando o DataLoader para o conjunto de teste\n",
    "test_loader = DataLoader(test_data, batch_size=1, shuffle=True)"
   ]
  },
  {
   "cell_type": "code",
   "execution_count": 145,
   "id": "a0b6471a-2455-4b21-95db-e883f755e81f",
   "metadata": {},
   "outputs": [
    {
     "name": "stdout",
     "output_type": "stream",
     "text": [
      "2\n",
      "['malignant_tumor', 'no_tumor']\n"
     ]
    }
   ],
   "source": [
    "# Definindo as classes do dataset\n",
    "classes = test_data.classes\n",
    "num_classes = len(classes)\n",
    "print(num_classes)\n",
    "print(classes)"
   ]
  },
  {
   "cell_type": "code",
   "execution_count": 147,
   "id": "88c47b61-9f08-4f4d-b4c3-9b643d2e3c66",
   "metadata": {},
   "outputs": [
    {
     "name": "stderr",
     "output_type": "stream",
     "text": [
      "Test: 100%|██████████████████████████████████████████████████████████████████████████| 146/146 [00:18<00:00,  8.08it/s]"
     ]
    },
    {
     "name": "stdout",
     "output_type": "stream",
     "text": [
      "Val Loss: 0.0767, Val Accuracy: 0.8562\n"
     ]
    },
    {
     "name": "stderr",
     "output_type": "stream",
     "text": [
      "\n"
     ]
    }
   ],
   "source": [
    "# Avaliando o modelo carregado no conjunto de teste\n",
    "model.eval()\n",
    "test_running_loss = 0.0\n",
    "test_correct = 0\n",
    "test_total = 0\n",
    "\n",
    "all_labels = []\n",
    "all_probs = []  # Para armazenar as probabilidades\n",
    "\n",
    "with torch.no_grad():\n",
    "    for inputs, labels in tqdm(test_loader, desc=\"Test\"):\n",
    "        inputs, labels = inputs.to(device), labels.to(device)\n",
    "        outputs = model(inputs)\n",
    "        #loss = nn.CrossEntropyLoss()(outputs, labels)\n",
    "        #test_running_loss += loss.item() * inputs.size(0)\n",
    "        _, predicted = torch.max(outputs.data, 1)\n",
    "        test_total += labels.size(0)\n",
    "        test_correct += (predicted == labels).sum().item()\n",
    "\n",
    "        # Armazenando rótulos e probabilidades\n",
    "        all_labels.extend(labels.cpu().numpy())\n",
    "        all_probs.extend(torch.softmax(outputs, dim=1).cpu().numpy())\n",
    "\n",
    "    test_loss = val_running_loss / len(test_loader.dataset)\n",
    "    test_accuracy = test_correct / test_total\n",
    "    print(f'Val Loss: {test_loss:.4f}, Val Accuracy: {test_accuracy:.4f}')"
   ]
  },
  {
   "cell_type": "code",
   "execution_count": 149,
   "id": "6cfce646-91e3-4bd9-a5ff-ffee03f82b69",
   "metadata": {},
   "outputs": [],
   "source": [
    "# Calculando a matriz de confusão\n",
    "cm = confusion_matrix(all_labels, np.argmax(all_probs, axis=1))"
   ]
  },
  {
   "cell_type": "code",
   "execution_count": 151,
   "id": "db293b72-ce1b-4c12-ba9a-cd50f1de0d29",
   "metadata": {},
   "outputs": [
    {
     "data": {
      "image/png": "[encoded data removed]",
      "text/plain": [
       "<Figure size 640x480 with 2 Axes>"
      ]
     },
     "metadata": {},
     "output_type": "display_data"
    }
   ],
   "source": [
    "# Plotando a matriz de confusão\n",
    "disp = ConfusionMatrixDisplay(confusion_matrix=cm, display_labels=classes)\n",
    "disp.plot(cmap=plt.cm.Blues)\n",
    "plt.title('Confusion Matrix')\n",
    "plt.savefig(r\"C:\\Users\\maste\\OneDrive\\Documentos\\Resultados_Redes_WVC2025\\Inception_V3\\50_epocas\\ADAM\\gráficos\\validação\\Matriz_validação.pdf\")\n",
    "\n",
    "plt.show()"
   ]
  },
  {
   "cell_type": "code",
   "execution_count": 153,
   "id": "1f1bc7ec-d6e6-4384-86e0-ebb1c9c77fba",
   "metadata": {},
   "outputs": [
    {
     "name": "stdout",
     "output_type": "stream",
     "text": [
      "              precision    recall  f1-score   support\n",
      "\n",
      "      Câncer       0.88      0.87      0.87        84\n",
      "      Normal       0.83      0.84      0.83        62\n",
      "\n",
      "    accuracy                           0.86       146\n",
      "   macro avg       0.85      0.85      0.85       146\n",
      "weighted avg       0.86      0.86      0.86       146\n",
      "\n",
      "tensor([[ 0.6976, -0.6990]], device='cuda:0')\n",
      "tensor([0], device='cuda:0')\n",
      "[np.int64(1), np.int64(0), np.int64(0), np.int64(0), np.int64(1), np.int64(0), np.int64(0), np.int64(0), np.int64(0), np.int64(0), np.int64(0), np.int64(0), np.int64(0), np.int64(1), np.int64(1), np.int64(1), np.int64(0), np.int64(1), np.int64(0), np.int64(1), np.int64(1), np.int64(0), np.int64(0), np.int64(0), np.int64(0), np.int64(0), np.int64(1), np.int64(1), np.int64(0), np.int64(0), np.int64(1), np.int64(0), np.int64(0), np.int64(0), np.int64(0), np.int64(1), np.int64(1), np.int64(0), np.int64(0), np.int64(0), np.int64(1), np.int64(1), np.int64(0), np.int64(0), np.int64(0), np.int64(1), np.int64(0), np.int64(1), np.int64(1), np.int64(1), np.int64(0), np.int64(1), np.int64(1), np.int64(1), np.int64(0), np.int64(1), np.int64(0), np.int64(0), np.int64(1), np.int64(0), np.int64(0), np.int64(0), np.int64(0), np.int64(0), np.int64(1), np.int64(1), np.int64(0), np.int64(1), np.int64(0), np.int64(1), np.int64(0), np.int64(0), np.int64(1), np.int64(0), np.int64(0), np.int64(0), np.int64(0), np.int64(0), np.int64(0), np.int64(0), np.int64(0), np.int64(0), np.int64(0), np.int64(1), np.int64(1), np.int64(0), np.int64(1), np.int64(1), np.int64(1), np.int64(1), np.int64(0), np.int64(0), np.int64(1), np.int64(0), np.int64(1), np.int64(1), np.int64(1), np.int64(0), np.int64(0), np.int64(1), np.int64(0), np.int64(1), np.int64(0), np.int64(0), np.int64(0), np.int64(0), np.int64(1), np.int64(1), np.int64(1), np.int64(0), np.int64(0), np.int64(1), np.int64(1), np.int64(1), np.int64(1), np.int64(0), np.int64(1), np.int64(1), np.int64(1), np.int64(0), np.int64(0), np.int64(1), np.int64(1), np.int64(0), np.int64(0), np.int64(1), np.int64(1), np.int64(0), np.int64(1), np.int64(1), np.int64(0), np.int64(0), np.int64(0), np.int64(1), np.int64(0), np.int64(1), np.int64(0), np.int64(1), np.int64(0), np.int64(0), np.int64(0), np.int64(1), np.int64(1), np.int64(1), np.int64(0), np.int64(0)]\n"
     ]
    }
   ],
   "source": [
    "import torch\n",
    "from sklearn.metrics import classification_report\n",
    "#from  utils import to_onehot\n",
    "# Alterar o modelo para o modo de avaliação\n",
    "model.eval()\n",
    "\n",
    "# Para armazenar rótulos verdadeiros e previsões\n",
    "all_labels = []\n",
    "all_preds = []\n",
    "\n",
    "# Desabilitar cálculo de gradiente para inferência\n",
    "with torch.no_grad():\n",
    "    for data in test_loader:\n",
    "        inputs, labels = data\n",
    "        inputs, labels = inputs.to(device), labels.to(device)\n",
    "\n",
    "        # Obter saídas do modelo e prever a classe\n",
    "        outputs = model(inputs)\n",
    "        _, preds = torch.max(outputs, 1)\n",
    "\n",
    "        # Armazenar rótulos e previsões\n",
    "        all_labels.extend(labels.cpu().numpy())\n",
    "        all_preds.extend(preds.cpu().numpy())\n",
    "#all_preds = utils.to_onehot(all_probs, 1)\n",
    "# Gerar relatório de classificação\n",
    "target_names = ['Câncer', 'Normal']\n",
    "print(classification_report(all_labels, all_preds, target_names=target_names))\n",
    "print(outputs)\n",
    "print(preds)\n",
    "print(all_preds)"
   ]
  },
  {
   "cell_type": "code",
   "execution_count": 155,
   "id": "da106aa5-54cb-4b90-9cf7-5cad69f33288",
   "metadata": {},
   "outputs": [
    {
     "name": "stdout",
     "output_type": "stream",
     "text": [
      "[0.         0.13095238 1.        ]\n",
      "---------\n",
      "[0.         0.83870968 1.        ]\n",
      "---------\n"
     ]
    }
   ],
   "source": [
    "import torch\n",
    "from sklearn.metrics import roc_curve, auc\n",
    "import matplotlib.pyplot as plt\n",
    "import numpy as np\n",
    "#y_pred_keras = keras_model.predict(X_test).ravel()\n",
    "\n",
    "\n",
    "classes = test_data.classes\n",
    "num_classes = len(classes)\n",
    "\n",
    "all_labels = np.array(all_labels)\n",
    "all_preds = np.array( all_preds)\n",
    "\n",
    "fpr, tpr, _ = roc_curve(all_labels , all_preds)\n",
    "\n",
    "print(fpr)\n",
    "print('---------')\n",
    "print(tpr)\n",
    "print('---------')\n",
    "\n",
    "\n",
    "\n",
    "\n",
    "#for i in range(num_classes):\n",
    "#    # Calculando a ROC para a classe i\n",
    "#    fpr, tpr, _ = roc_curve(all_labels == i, all_preds[:, i])\n",
    "#    roc_auc = auc(fpr, tpr)\n",
    "#    plt.plot(fpr, tpr, label=f'Classe {classes[i]} (AUC = {roc_auc:.2f})')"
   ]
  },
  {
   "cell_type": "code",
   "execution_count": 157,
   "id": "ee271bd3-9065-47b4-8cdd-20ab81a15976",
   "metadata": {},
   "outputs": [
    {
     "name": "stdout",
     "output_type": "stream",
     "text": [
      "0.853878648233487\n"
     ]
    }
   ],
   "source": [
    "from sklearn.metrics import auc\n",
    "auc_keras = auc(fpr, tpr)\n",
    "print(auc_keras)"
   ]
  },
  {
   "cell_type": "code",
   "execution_count": 159,
   "id": "64cb7c29-dbf1-49be-9051-a3bf62988eb0",
   "metadata": {},
   "outputs": [
    {
     "data": {
      "image/png": "[encoded data removed]",
      "text/plain": [
       "<Figure size 640x480 with 1 Axes>"
      ]
     },
     "metadata": {},
     "output_type": "display_data"
    }
   ],
   "source": [
    "import matplotlib.pyplot as plt\n",
    "plt.figure(1)\n",
    "plt.plot([0, 1], [0, 1], 'k--')\n",
    "plt.plot(fpr, tpr, label='AUC (area = {:.3f})'.format(auc_keras))\n",
    "plt.xlabel('False positive rate')\n",
    "plt.ylabel('True positive rate')\n",
    "plt.title('ROC curve')\n",
    "plt.legend(loc='best')\n",
    "plt.savefig(r\"C:\\Users\\maste\\OneDrive\\Documentos\\Resultados_Redes_WVC2025\\Inception_V3\\50_epocas\\ADAM\\gráficos\\validação\\CurvaRoc_teste.pdf\")\n",
    "plt.show()"
   ]
  },
  {
   "cell_type": "code",
   "execution_count": 7,
   "id": "393fae6a-e8e6-40f4-bad2-0184dcfbe397",
   "metadata": {},
   "outputs": [
    {
     "name": "stderr",
     "output_type": "stream",
     "text": [
      "C:\\Users\\maste\\AppData\\Local\\Temp\\ipykernel_17448\\2131122251.py:137: FutureWarning: You are using `torch.load` with `weights_only=False` (the current default value), which uses the default pickle module implicitly. It is possible to construct malicious pickle data which will execute arbitrary code during unpickling (See https://github.com/pytorch/pytorch/blob/main/SECURITY.md#untrusted-models for more details). In a future release, the default value for `weights_only` will be flipped to `True`. This limits the functions that could be executed during unpickling. Arbitrary objects will no longer be allowed to be loaded via this mode unless they are explicitly allowlisted by the user via `torch.serialization.add_safe_globals`. We recommend you start setting `weights_only=True` for any use case where you don't have full control of the loaded file. Please open an issue on GitHub for any issues related to this experimental feature.\n",
      "  state_dict = torch.load(\n"
     ]
    },
    {
     "ename": "ValueError",
     "evalue": "not enough values to unpack (expected 2, got 1)",
     "output_type": "error",
     "traceback": [
      "\u001b[1;31m---------------------------------------------------------------------------\u001b[0m",
      "\u001b[1;31mValueError\u001b[0m                                Traceback (most recent call last)",
      "Cell \u001b[1;32mIn[7], line 150\u001b[0m\n\u001b[0;32m    148\u001b[0m \u001b[38;5;66;03m# Obter predições e probabilidades\u001b[39;00m\n\u001b[0;32m    149\u001b[0m \u001b[38;5;28;01mwith\u001b[39;00m torch\u001b[38;5;241m.\u001b[39mno_grad():\n\u001b[1;32m--> 150\u001b[0m     logits, _ \u001b[38;5;241m=\u001b[39m model(img_tensor)\n\u001b[0;32m    151\u001b[0m     probs \u001b[38;5;241m=\u001b[39m torch\u001b[38;5;241m.\u001b[39mnn\u001b[38;5;241m.\u001b[39mfunctional\u001b[38;5;241m.\u001b[39msoftmax(logits, dim\u001b[38;5;241m=\u001b[39m\u001b[38;5;241m1\u001b[39m)\n\u001b[0;32m    152\u001b[0m     class_index \u001b[38;5;241m=\u001b[39m torch\u001b[38;5;241m.\u001b[39margmax(probs, dim\u001b[38;5;241m=\u001b[39m\u001b[38;5;241m1\u001b[39m)\u001b[38;5;241m.\u001b[39mitem()\n",
      "\u001b[1;31mValueError\u001b[0m: not enough values to unpack (expected 2, got 1)"
     ]
    }
   ],
   "source": [
    "import os\n",
    "import numpy as np\n",
    "import cv2\n",
    "import torch\n",
    "import torchvision.transforms as transforms\n",
    "from torchvision.models import inception_v3\n",
    "\n",
    "# --------- Pré-processamento ---------\n",
    "def preprocess_image(img_path):\n",
    "    img = cv2.imread(img_path, cv2.IMREAD_COLOR)\n",
    "    img = cv2.resize(img, (299, 299))  # InceptionV3 usa 299x299\n",
    "    img = transforms.ToTensor()(img)\n",
    "    img = transforms.Normalize(mean=[0.485, 0.456, 0.406],\n",
    "                               std=[0.229, 0.224, 0.225])(img)\n",
    "    img_tensor = img.unsqueeze(0)\n",
    "    return img_tensor\n",
    "\n",
    "# --------- Pegando a camada da CNN ---------\n",
    "def get_conv_layer(model, conv_layer_name):\n",
    "    for name, layer in model.named_modules():\n",
    "        if name == conv_layer_name:\n",
    "            return layer\n",
    "    raise ValueError(f\"Camada '{conv_layer_name}' não encontrada.\")\n",
    "\n",
    "# --------- Grad-CAM tradicional ---------\n",
    "def compute_gradcam(model, img_tensor, class_index, conv_layer_name=\"Mixed_7c\"):\n",
    "    activations = []\n",
    "    gradients = []\n",
    "\n",
    "    def forward_hook(module, input, output):\n",
    "        activations.append(output)\n",
    "\n",
    "    def backward_hook(module, grad_in, grad_out):\n",
    "        gradients.append(grad_out[0])\n",
    "\n",
    "    conv_layer = get_conv_layer(model, conv_layer_name)\n",
    "    forward_handle = conv_layer.register_forward_hook(forward_hook)\n",
    "    backward_handle = conv_layer.register_backward_hook(backward_hook)\n",
    "\n",
    "    model.zero_grad()\n",
    "    output = model(img_tensor)\n",
    "    loss = output[:, class_index]\n",
    "    loss.backward()\n",
    "\n",
    "    forward_handle.remove()\n",
    "    backward_handle.remove()\n",
    "\n",
    "    act = activations[0].squeeze(0).detach().cpu().numpy()\n",
    "    grad = gradients[0].squeeze(0).detach().cpu().numpy()\n",
    "\n",
    "    weights = np.mean(grad, axis=(1, 2))\n",
    "    cam = np.zeros(act.shape[1:], dtype=np.float32)\n",
    "\n",
    "    for i, w in enumerate(weights):\n",
    "        cam += w * act[i, :, :]\n",
    "\n",
    "    cam = np.maximum(cam, 0)\n",
    "    cam = cam - np.min(cam)\n",
    "    cam = cam / (np.max(cam) + 1e-8)\n",
    "    return cam\n",
    "\n",
    "# --------- Grad-CAM++ ---------\n",
    "def compute_gradcam_plus(model, img_tensor, class_index, conv_layer_name=\"Mixed_7c\"):\n",
    "    activations = []\n",
    "    gradients = []\n",
    "\n",
    "    def forward_hook(module, input, output):\n",
    "        activations.append(output)\n",
    "\n",
    "    def backward_hook(module, grad_in, grad_out):\n",
    "        gradients.append(grad_out[0])\n",
    "\n",
    "    conv_layer = get_conv_layer(model, conv_layer_name)\n",
    "    forward_handle = conv_layer.register_forward_hook(forward_hook)\n",
    "    backward_handle = conv_layer.register_backward_hook(backward_hook)\n",
    "\n",
    "    model.zero_grad()\n",
    "    output = model(img_tensor)\n",
    "    loss = output[:, class_index]\n",
    "    loss.backward(retain_graph=True)\n",
    "\n",
    "    forward_handle.remove()\n",
    "    backward_handle.remove()\n",
    "\n",
    "    act = activations[0].squeeze(0)\n",
    "    grad = gradients[0].squeeze(0)\n",
    "\n",
    "    grads_power_2 = grad ** 2\n",
    "    grads_power_3 = grad ** 3\n",
    "    sum_activations = torch.sum(act, dim=(1, 2), keepdim=True)\n",
    "\n",
    "    alpha_num = grads_power_2\n",
    "    alpha_denom = 2 * grads_power_2 + sum_activations * grads_power_3\n",
    "    alpha_denom = torch.where(alpha_denom != 0.0, alpha_denom, torch.ones_like(alpha_denom))\n",
    "\n",
    "    alphas = alpha_num / alpha_denom\n",
    "    weights = (alphas * torch.relu(grad)).sum(dim=(1, 2))\n",
    "\n",
    "    cam = torch.zeros(act.shape[1:], dtype=torch.float32)\n",
    "    for i, w in enumerate(weights):\n",
    "        cam += w * act[i]\n",
    "\n",
    "    cam = torch.relu(cam)\n",
    "    cam -= cam.min()\n",
    "    cam /= cam.max() + 1e-8\n",
    "    cam = cam.detach().cpu().numpy()\n",
    "    cam[cam < 0.3] = 0\n",
    "    \n",
    "    return cam\n",
    "\n",
    "# --------- Sobrepor Heatmap ---------\n",
    "def overlay_heatmap(img_path, heatmap, alpha=0.4):\n",
    "    img = cv2.imread(img_path, cv2.IMREAD_COLOR)\n",
    "    heatmap = cv2.resize(heatmap, (img.shape[1], img.shape[0]))\n",
    "    heatmap = np.uint8(255 * heatmap)\n",
    "    heatmap = cv2.applyColorMap(heatmap, cv2.COLORMAP_JET)\n",
    "    superimposed_img = cv2.addWeighted(img, alpha, heatmap, 1 - alpha, 0)\n",
    "    return superimposed_img\n",
    "\n",
    "# --------- Anotar a imagem com porcentagens ---------\n",
    "def annotate_image(image, probs, class_names):\n",
    "    annotated = image.copy()\n",
    "    for i, (name, prob) in enumerate(zip(class_names, probs)):\n",
    "        text = f\"{name}: {prob * 100:.1f}%\"\n",
    "        cv2.putText(annotated, text, (10, 30 + i * 30),\n",
    "                    cv2.FONT_HERSHEY_SIMPLEX, 0.9, (255, 255, 255), 2)\n",
    "    return annotated\n",
    "\n",
    "# --------- Principal ---------\n",
    "if __name__ == \"__main__\":\n",
    "    # Carregando modelo InceptionV3 treinado com 2 classes\n",
    "    model = inception_v3(weights=None, aux_logits=True)  # ativar aux_logits=True\n",
    "    model.fc = torch.nn.Linear(2048, 2)\n",
    "    model.AuxLogits.fc = torch.nn.Linear(768, 2)  # ajustar cabeça auxiliar\n",
    "\n",
    "    # Carregar state_dict e ignorar chaves extras se necessário\n",
    "    state_dict = torch.load(\n",
    "        r\"C:\\Users\\maste\\OneDrive\\Documentos\\Resultados_Redes_WVC2025\\Bruto\\Inception_V3\\50_epocas\\ADAM\\melhor_modelo\\model_epoch_12_val_accuracy_0.9932.pt\",\n",
    "        map_location=\"cpu\"\n",
    "    )\n",
    "    model.load_state_dict(state_dict)\n",
    "    model.eval()\n",
    "\n",
    "    # Caminho da imagem\n",
    "    img_path = r\"C:\\Users\\maste\\Downloads\\archive\\Test cases\\000103_05_01_136.png\"\n",
    "    img_tensor = preprocess_image(img_path)\n",
    "\n",
    "    # Obter predições e probabilidades\n",
    "    with torch.no_grad():\n",
    "        logits, _ = model(img_tensor)\n",
    "        probs = torch.nn.functional.softmax(logits, dim=1)\n",
    "        class_index = torch.argmax(probs, dim=1).item()\n",
    "\n",
    "    print(f\"Índice da Classe Predita: {class_index}\")\n",
    "\n",
    "    class_names = [\"Cancer\", \"Normal\"]\n",
    "    class_probs = probs[0].cpu().numpy()\n",
    "\n",
    "    # --------- Grad-CAM Tradicional ---------\n",
    "    heatmap_trad = compute_gradcam(model, img_tensor, class_index, conv_layer_name=\"Mixed_7c\")\n",
    "    output_img_trad = overlay_heatmap(img_path, heatmap_trad)\n",
    "    output_img_trad = annotate_image(output_img_trad, class_probs, class_names)\n",
    "    cv2.imwrite(r\"C:\\Users\\maste\\OneDrive\\Documentos\\Grad-CAM\\InceptionV3\\heatmap_gradcam_cancer.jpg\", output_img_trad)\n",
    "\n",
    "    # --------- Grad-CAM++ ---------\n",
    "    heatmap_plus = compute_gradcam_plus(model, img_tensor, class_index, conv_layer_name=\"Mixed_7c\")\n",
    "    output_img_plus = overlay_heatmap(img_path, heatmap_plus)\n",
    "    output_img_plus = annotate_image(output_img_plus, class_probs, class_names)\n",
    "    cv2.imwrite(r\"C:\\Users\\maste\\OneDrive\\Documentos\\Grad-CAM\\InceptionV3\\heatmap_gradcam_plus_cancer.jpg\", output_img_plus)\n",
    "\n",
    "    print(\"Heatmaps gerados com sucesso!\")\n"
   ]
  },
  {
   "cell_type": "code",
   "execution_count": null,
   "id": "b5d0971e-1337-4ba1-9ecd-fa26b13be4fd",
   "metadata": {},
   "outputs": [],
   "source": []
  }
 ],
 "metadata": {
  "kernelspec": {
   "display_name": "Python (GPU)",
   "language": "python",
   "name": "gpu_env"
  },
  "language_info": {
   "codemirror_mode": {
    "name": "ipython",
    "version": 3
   },
   "file_extension": ".py",
   "mimetype": "text/x-python",
   "name": "python",
   "nbconvert_exporter": "python",
   "pygments_lexer": "ipython3",
   "version": "3.10.18"
  }
 },
 "nbformat": 4,
 "nbformat_minor": 5
}
