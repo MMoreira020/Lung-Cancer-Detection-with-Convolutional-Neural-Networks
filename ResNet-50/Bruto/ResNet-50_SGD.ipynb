{
 "cells": [
  {
   "cell_type": "code",
   "execution_count": 1,
   "id": "21ac6a8a-586e-464f-905f-dc77c731f0bb",
   "metadata": {},
   "outputs": [],
   "source": [
    "import torch\n",
    "import torchvision\n",
    "import os\n",
    "from torchvision import transforms, datasets\n",
    "import matplotlib.pyplot as plt\n",
    "import numpy as np\n",
    "from sklearn.metrics import roc_curve, auc, confusion_matrix, ConfusionMatrixDisplay, precision_recall_curve, average_precision_score\n",
    "from sklearn.preprocessing import label_binarize\n",
    "import torch.nn as nn\n",
    "import torch.optim as optim\n",
    "from torchvision import models\n",
    "from sklearn.model_selection import train_test_split\n",
    "from tqdm import tqdm\n",
    "from torch.utils.data import DataLoader\n",
    "import random\n",
    "import os\n",
    "\n",
    "SEED = 42\n",
    "\n",
    "random.seed(SEED)\n",
    "np.random.seed(SEED)\n",
    "\n",
    "torch.manual_seed(SEED)\n",
    "torch.cuda.manual_seed(SEED)\n",
    "\n",
    "torch.backends.cudnn.benchmark = False\n",
    "torch.backends.cudnn.deterministic = True"
   ]
  },
  {
   "cell_type": "code",
   "execution_count": 2,
   "id": "664be357-5a5c-4307-b57b-f8b637a57078",
   "metadata": {},
   "outputs": [],
   "source": [
    "# Transformações para normalização e aumento de dados (caso necessário)\n",
    "transform = transforms.Compose([\n",
    "    transforms.Resize(256),\n",
    "    transforms.CenterCrop(224),\n",
    "    transforms.ToTensor(),\n",
    "    transforms.Normalize(mean=[0.485, 0.456, 0.406],\n",
    "                         std=[0.229, 0.224, 0.225])\n",
    "])"
   ]
  },
  {
   "cell_type": "code",
   "execution_count": 3,
   "id": "eed35aa1-b759-4759-95a7-19ccfe13c2e5",
   "metadata": {},
   "outputs": [
    {
     "name": "stdout",
     "output_type": "stream",
     "text": [
      "Número de imagens no dataset de treino: 684\n",
      "Número de imagens no dataset de validação: 147\n"
     ]
    }
   ],
   "source": [
    "# Diretórios de treino e validação\n",
    "train_dir = r\"C:\\Users\\maste\\OneDrive\\Documentos\\Artigo_Rita_Dataset\\Training\"\n",
    "val_dir = r\"C:\\Users\\maste\\OneDrive\\Documentos\\Artigo_Rita_Dataset\\Validation\"\n",
    "\n",
    "def contar_imagens(diretorio):\n",
    "    contador = 0\n",
    "    for root, dirs, files in os.walk(diretorio):\n",
    "        contador += len([f for f in files if f.endswith(('.png', '.jpg', '.jpeg'))])\n",
    "    return contador\n",
    "\n",
    "num_treino = contar_imagens(train_dir)\n",
    "num_validacao = contar_imagens(val_dir)\n",
    "\n",
    "print(f'Número de imagens no dataset de treino: {num_treino}')\n",
    "print(f'Número de imagens no dataset de validação: {num_validacao}')"
   ]
  },
  {
   "cell_type": "code",
   "execution_count": 4,
   "id": "e5e71b85-6c2d-4f83-ac9a-be654ab4c225",
   "metadata": {},
   "outputs": [],
   "source": [
    "# Carregando datasets de treino e validação\n",
    "train_data = datasets.ImageFolder(train_dir, transform=transform)\n",
    "val_data = datasets.ImageFolder(val_dir, transform=transform)"
   ]
  },
  {
   "cell_type": "code",
   "execution_count": 9,
   "id": "ecd892cf-c424-4220-bc3b-f46d02612ec3",
   "metadata": {},
   "outputs": [],
   "source": [
    "# Criando dataloaders para iterar sobre os dados durante o treinamento\n",
    "train_loader = DataLoader(train_data, batch_size=64, shuffle=True)\n",
    "val_loader = DataLoader(val_data, batch_size=64, shuffle=False)"
   ]
  },
  {
   "cell_type": "code",
   "execution_count": 11,
   "id": "78141821-0f9c-43aa-bcea-1d4b060440a3",
   "metadata": {},
   "outputs": [
    {
     "name": "stdout",
     "output_type": "stream",
     "text": [
      "['malignant_tumor', 'no_tumor']\n",
      "['malignant_tumor', 'no_tumor']\n"
     ]
    }
   ],
   "source": [
    "# Definindo as classes do dataset\n",
    "classes = train_data.classes\n",
    "classes2 = val_data.classes\n",
    "print(classes)\n",
    "print(classes2)"
   ]
  },
  {
   "cell_type": "code",
   "execution_count": 19,
   "id": "c431a66b-bc9b-4c99-baec-ec0119ea7e5d",
   "metadata": {},
   "outputs": [],
   "source": [
    "# Carregando o modelo Resnet-50 pré-treinado\n",
    "model = models.resnet50(weights=models.ResNet50_Weights.DEFAULT)"
   ]
  },
  {
   "cell_type": "code",
   "execution_count": 21,
   "id": "6ef9c0de-13a3-4099-a5cc-c67f419a7f92",
   "metadata": {},
   "outputs": [],
   "source": [
    "# Congelando as camadas iniciais e descongelando as camadas finais\n",
    "for param in model.parameters():\n",
    "    param.requires_grad = False\n",
    "    num_ftrs = model.fc.in_features\n",
    "    model.fc = nn.Linear(num_ftrs, len(classes))\n",
    "for param in model.fc.parameters():\n",
    "    param.requires_grad = True"
   ]
  },
  {
   "cell_type": "code",
   "execution_count": 23,
   "id": "6bd77bf7-21c0-40ce-a2e2-64e5e01cd1f0",
   "metadata": {},
   "outputs": [],
   "source": [
    "# Definindo a função de perda e otimizador\n",
    "criterion = nn.CrossEntropyLoss()\n",
    "optimizer = optim.SGD(model.parameters(), lr=0.01, momentum=0.9, weight_decay=1e-4)"
   ]
  },
  {
   "cell_type": "code",
   "execution_count": 25,
   "id": "a9062188-d365-4631-bd0a-3d46ac5937d2",
   "metadata": {},
   "outputs": [
    {
     "name": "stdout",
     "output_type": "stream",
     "text": [
      "Using device: cuda\n"
     ]
    }
   ],
   "source": [
    "device = torch.device(\"cuda\" if torch.cuda.is_available() else \"cpu\")\n",
    "print(f\"Using device: {device}\")"
   ]
  },
  {
   "cell_type": "code",
   "execution_count": 27,
   "id": "d49cfb73-ab26-41c0-8b62-f3d239ec9583",
   "metadata": {},
   "outputs": [],
   "source": [
    "# Caminhos para salvar os pesos e o modelo\n",
    "save_weights = r\"C:\\Users\\maste\\OneDrive\\Documentos\\Resultados_Redes_WVC2025\\ResNet50\\50_epocas\\SGD\\melhor_modelo\"\n",
    "save_model = r\"C:\\Users\\maste\\OneDrive\\Documentos\\Resultados_Redes_WVC2025\\ResNet50\\50_epocas\\SGD\\melhor_modelo\\melhor_modelo.pt\""
   ]
  },
  {
   "cell_type": "code",
   "execution_count": 29,
   "id": "b5570db1-f028-4460-8726-e3bb765c3bc8",
   "metadata": {},
   "outputs": [],
   "source": [
    "from PIL import ImageFile\n",
    "ImageFile.LOAD_TRUNCATED_IMAGES = True"
   ]
  },
  {
   "cell_type": "code",
   "execution_count": 31,
   "id": "1ae87534-421c-4336-99ff-da0c6e0420f4",
   "metadata": {},
   "outputs": [],
   "source": [
    "torch.cuda.empty_cache()"
   ]
  },
  {
   "cell_type": "code",
   "execution_count": 33,
   "id": "0525524f-5631-46d5-b3ae-30c1f1c9fb2a",
   "metadata": {},
   "outputs": [
    {
     "name": "stderr",
     "output_type": "stream",
     "text": [
      "Epoch 1/50: 100%|███████████████████████████████████████████████████████████████████| 11/11 [00:15<00:00,  1.45s/batch]\n",
      "Validation Epoch 1/50: 100%|██████████████████████████████████████████████████████████| 3/3 [00:03<00:00,  1.22s/batch]\n"
     ]
    },
    {
     "name": "stdout",
     "output_type": "stream",
     "text": [
      "Epoch 1/50, Training Loss: 0.6009, Training Accuracy: 0.6360, Validation Loss: 0.5197, Validation Accuracy: 0.6327\n",
      "Saved model at epoch 1 with validation accuracy: 0.6327 to C:\\Users\\maste\\OneDrive\\Documentos\\Resultados_Redes_WVC2025\\ResNet50\\50_epocas\\SGD\\melhor_modelo\\model_epoch_1_val_accuracy_0.6327.pt\n"
     ]
    },
    {
     "name": "stderr",
     "output_type": "stream",
     "text": [
      "Epoch 2/50: 100%|███████████████████████████████████████████████████████████████████| 11/11 [00:15<00:00,  1.43s/batch]\n",
      "Validation Epoch 2/50: 100%|██████████████████████████████████████████████████████████| 3/3 [00:02<00:00,  1.07batch/s]\n"
     ]
    },
    {
     "name": "stdout",
     "output_type": "stream",
     "text": [
      "Epoch 2/50, Training Loss: 0.3264, Training Accuracy: 0.9415, Validation Loss: 0.3462, Validation Accuracy: 0.9456\n",
      "Saved model at epoch 2 with validation accuracy: 0.9456 to C:\\Users\\maste\\OneDrive\\Documentos\\Resultados_Redes_WVC2025\\ResNet50\\50_epocas\\SGD\\melhor_modelo\\model_epoch_2_val_accuracy_0.9456.pt\n"
     ]
    },
    {
     "name": "stderr",
     "output_type": "stream",
     "text": [
      "Epoch 3/50: 100%|███████████████████████████████████████████████████████████████████| 11/11 [00:15<00:00,  1.40s/batch]\n",
      "Validation Epoch 3/50: 100%|██████████████████████████████████████████████████████████| 3/3 [00:03<00:00,  1.11s/batch]\n"
     ]
    },
    {
     "name": "stdout",
     "output_type": "stream",
     "text": [
      "Epoch 3/50, Training Loss: 0.1909, Training Accuracy: 0.9810, Validation Loss: 0.2774, Validation Accuracy: 0.9252\n"
     ]
    },
    {
     "name": "stderr",
     "output_type": "stream",
     "text": [
      "Epoch 4/50: 100%|███████████████████████████████████████████████████████████████████| 11/11 [00:15<00:00,  1.42s/batch]\n",
      "Validation Epoch 4/50: 100%|██████████████████████████████████████████████████████████| 3/3 [00:03<00:00,  1.06s/batch]\n"
     ]
    },
    {
     "name": "stdout",
     "output_type": "stream",
     "text": [
      "Epoch 4/50, Training Loss: 0.1411, Training Accuracy: 0.9883, Validation Loss: 0.2436, Validation Accuracy: 0.9184\n"
     ]
    },
    {
     "name": "stderr",
     "output_type": "stream",
     "text": [
      "Epoch 5/50: 100%|███████████████████████████████████████████████████████████████████| 11/11 [00:16<00:00,  1.47s/batch]\n",
      "Validation Epoch 5/50: 100%|██████████████████████████████████████████████████████████| 3/3 [00:03<00:00,  1.19s/batch]\n"
     ]
    },
    {
     "name": "stdout",
     "output_type": "stream",
     "text": [
      "Epoch 5/50, Training Loss: 0.1076, Training Accuracy: 0.9912, Validation Loss: 0.1955, Validation Accuracy: 0.9116\n"
     ]
    },
    {
     "name": "stderr",
     "output_type": "stream",
     "text": [
      "Epoch 6/50: 100%|███████████████████████████████████████████████████████████████████| 11/11 [00:15<00:00,  1.43s/batch]\n",
      "Validation Epoch 6/50: 100%|██████████████████████████████████████████████████████████| 3/3 [00:03<00:00,  1.09s/batch]\n"
     ]
    },
    {
     "name": "stdout",
     "output_type": "stream",
     "text": [
      "Epoch 6/50, Training Loss: 0.0987, Training Accuracy: 0.9868, Validation Loss: 0.1569, Validation Accuracy: 0.9116\n"
     ]
    },
    {
     "name": "stderr",
     "output_type": "stream",
     "text": [
      "Epoch 7/50: 100%|███████████████████████████████████████████████████████████████████| 11/11 [00:16<00:00,  1.49s/batch]\n",
      "Validation Epoch 7/50: 100%|██████████████████████████████████████████████████████████| 3/3 [00:03<00:00,  1.12s/batch]\n"
     ]
    },
    {
     "name": "stdout",
     "output_type": "stream",
     "text": [
      "Epoch 7/50, Training Loss: 0.0822, Training Accuracy: 0.9898, Validation Loss: 0.1566, Validation Accuracy: 0.9184\n"
     ]
    },
    {
     "name": "stderr",
     "output_type": "stream",
     "text": [
      "Epoch 8/50: 100%|███████████████████████████████████████████████████████████████████| 11/11 [00:15<00:00,  1.38s/batch]\n",
      "Validation Epoch 8/50: 100%|██████████████████████████████████████████████████████████| 3/3 [00:03<00:00,  1.18s/batch]\n"
     ]
    },
    {
     "name": "stdout",
     "output_type": "stream",
     "text": [
      "Epoch 8/50, Training Loss: 0.0831, Training Accuracy: 0.9898, Validation Loss: 0.1232, Validation Accuracy: 0.9524\n",
      "Saved model at epoch 8 with validation accuracy: 0.9524 to C:\\Users\\maste\\OneDrive\\Documentos\\Resultados_Redes_WVC2025\\ResNet50\\50_epocas\\SGD\\melhor_modelo\\model_epoch_8_val_accuracy_0.9524.pt\n"
     ]
    },
    {
     "name": "stderr",
     "output_type": "stream",
     "text": [
      "Epoch 9/50: 100%|███████████████████████████████████████████████████████████████████| 11/11 [00:16<00:00,  1.48s/batch]\n",
      "Validation Epoch 9/50: 100%|██████████████████████████████████████████████████████████| 3/3 [00:03<00:00,  1.02s/batch]\n"
     ]
    },
    {
     "name": "stdout",
     "output_type": "stream",
     "text": [
      "Epoch 9/50, Training Loss: 0.0702, Training Accuracy: 0.9942, Validation Loss: 0.1264, Validation Accuracy: 0.9524\n"
     ]
    },
    {
     "name": "stderr",
     "output_type": "stream",
     "text": [
      "Epoch 10/50: 100%|██████████████████████████████████████████████████████████████████| 11/11 [00:15<00:00,  1.42s/batch]\n",
      "Validation Epoch 10/50: 100%|█████████████████████████████████████████████████████████| 3/3 [00:03<00:00,  1.10s/batch]\n"
     ]
    },
    {
     "name": "stdout",
     "output_type": "stream",
     "text": [
      "Epoch 10/50, Training Loss: 0.0605, Training Accuracy: 0.9971, Validation Loss: 0.1228, Validation Accuracy: 0.9592\n",
      "Saved model at epoch 10 with validation accuracy: 0.9592 to C:\\Users\\maste\\OneDrive\\Documentos\\Resultados_Redes_WVC2025\\ResNet50\\50_epocas\\SGD\\melhor_modelo\\model_epoch_10_val_accuracy_0.9592.pt\n"
     ]
    },
    {
     "name": "stderr",
     "output_type": "stream",
     "text": [
      "Epoch 11/50: 100%|██████████████████████████████████████████████████████████████████| 11/11 [00:16<00:00,  1.47s/batch]\n",
      "Validation Epoch 11/50: 100%|█████████████████████████████████████████████████████████| 3/3 [00:03<00:00,  1.11s/batch]\n"
     ]
    },
    {
     "name": "stdout",
     "output_type": "stream",
     "text": [
      "Epoch 11/50, Training Loss: 0.0609, Training Accuracy: 0.9956, Validation Loss: 0.1216, Validation Accuracy: 0.9660\n",
      "Saved model at epoch 11 with validation accuracy: 0.9660 to C:\\Users\\maste\\OneDrive\\Documentos\\Resultados_Redes_WVC2025\\ResNet50\\50_epocas\\SGD\\melhor_modelo\\model_epoch_11_val_accuracy_0.9660.pt\n"
     ]
    },
    {
     "name": "stderr",
     "output_type": "stream",
     "text": [
      "Epoch 12/50: 100%|██████████████████████████████████████████████████████████████████| 11/11 [00:15<00:00,  1.44s/batch]\n",
      "Validation Epoch 12/50: 100%|█████████████████████████████████████████████████████████| 3/3 [00:03<00:00,  1.12s/batch]\n"
     ]
    },
    {
     "name": "stdout",
     "output_type": "stream",
     "text": [
      "Epoch 12/50, Training Loss: 0.0611, Training Accuracy: 0.9956, Validation Loss: 0.1215, Validation Accuracy: 0.9592\n"
     ]
    },
    {
     "name": "stderr",
     "output_type": "stream",
     "text": [
      "Epoch 13/50: 100%|██████████████████████████████████████████████████████████████████| 11/11 [00:15<00:00,  1.43s/batch]\n",
      "Validation Epoch 13/50: 100%|█████████████████████████████████████████████████████████| 3/3 [00:03<00:00,  1.09s/batch]\n"
     ]
    },
    {
     "name": "stdout",
     "output_type": "stream",
     "text": [
      "Epoch 13/50, Training Loss: 0.0516, Training Accuracy: 0.9971, Validation Loss: 0.1213, Validation Accuracy: 0.9524\n"
     ]
    },
    {
     "name": "stderr",
     "output_type": "stream",
     "text": [
      "Epoch 14/50: 100%|██████████████████████████████████████████████████████████████████| 11/11 [00:15<00:00,  1.42s/batch]\n",
      "Validation Epoch 14/50: 100%|█████████████████████████████████████████████████████████| 3/3 [00:03<00:00,  1.12s/batch]\n"
     ]
    },
    {
     "name": "stdout",
     "output_type": "stream",
     "text": [
      "Epoch 14/50, Training Loss: 0.0533, Training Accuracy: 0.9956, Validation Loss: 0.1124, Validation Accuracy: 0.9660\n"
     ]
    },
    {
     "name": "stderr",
     "output_type": "stream",
     "text": [
      "Epoch 15/50: 100%|██████████████████████████████████████████████████████████████████| 11/11 [00:15<00:00,  1.43s/batch]\n",
      "Validation Epoch 15/50: 100%|█████████████████████████████████████████████████████████| 3/3 [00:03<00:00,  1.19s/batch]\n"
     ]
    },
    {
     "name": "stdout",
     "output_type": "stream",
     "text": [
      "Epoch 15/50, Training Loss: 0.0523, Training Accuracy: 0.9956, Validation Loss: 0.1206, Validation Accuracy: 0.9524\n"
     ]
    },
    {
     "name": "stderr",
     "output_type": "stream",
     "text": [
      "Epoch 16/50: 100%|██████████████████████████████████████████████████████████████████| 11/11 [00:15<00:00,  1.42s/batch]\n",
      "Validation Epoch 16/50: 100%|█████████████████████████████████████████████████████████| 3/3 [00:03<00:00,  1.13s/batch]\n"
     ]
    },
    {
     "name": "stdout",
     "output_type": "stream",
     "text": [
      "Epoch 16/50, Training Loss: 0.0506, Training Accuracy: 0.9971, Validation Loss: 0.1094, Validation Accuracy: 0.9660\n"
     ]
    },
    {
     "name": "stderr",
     "output_type": "stream",
     "text": [
      "Epoch 17/50: 100%|██████████████████████████████████████████████████████████████████| 11/11 [00:15<00:00,  1.44s/batch]\n",
      "Validation Epoch 17/50: 100%|█████████████████████████████████████████████████████████| 3/3 [00:03<00:00,  1.18s/batch]\n"
     ]
    },
    {
     "name": "stdout",
     "output_type": "stream",
     "text": [
      "Epoch 17/50, Training Loss: 0.0462, Training Accuracy: 0.9971, Validation Loss: 0.1141, Validation Accuracy: 0.9592\n"
     ]
    },
    {
     "name": "stderr",
     "output_type": "stream",
     "text": [
      "Epoch 18/50: 100%|██████████████████████████████████████████████████████████████████| 11/11 [00:16<00:00,  1.46s/batch]\n",
      "Validation Epoch 18/50: 100%|█████████████████████████████████████████████████████████| 3/3 [00:03<00:00,  1.10s/batch]\n"
     ]
    },
    {
     "name": "stdout",
     "output_type": "stream",
     "text": [
      "Epoch 18/50, Training Loss: 0.0430, Training Accuracy: 0.9971, Validation Loss: 0.1089, Validation Accuracy: 0.9592\n"
     ]
    },
    {
     "name": "stderr",
     "output_type": "stream",
     "text": [
      "Epoch 19/50: 100%|██████████████████████████████████████████████████████████████████| 11/11 [00:15<00:00,  1.44s/batch]\n",
      "Validation Epoch 19/50: 100%|█████████████████████████████████████████████████████████| 3/3 [00:03<00:00,  1.15s/batch]\n"
     ]
    },
    {
     "name": "stdout",
     "output_type": "stream",
     "text": [
      "Epoch 19/50, Training Loss: 0.0372, Training Accuracy: 0.9971, Validation Loss: 0.1082, Validation Accuracy: 0.9660\n"
     ]
    },
    {
     "name": "stderr",
     "output_type": "stream",
     "text": [
      "Epoch 20/50: 100%|██████████████████████████████████████████████████████████████████| 11/11 [00:15<00:00,  1.39s/batch]\n",
      "Validation Epoch 20/50: 100%|█████████████████████████████████████████████████████████| 3/3 [00:03<00:00,  1.18s/batch]\n"
     ]
    },
    {
     "name": "stdout",
     "output_type": "stream",
     "text": [
      "Epoch 20/50, Training Loss: 0.0399, Training Accuracy: 0.9985, Validation Loss: 0.1133, Validation Accuracy: 0.9524\n"
     ]
    },
    {
     "name": "stderr",
     "output_type": "stream",
     "text": [
      "Epoch 21/50: 100%|██████████████████████████████████████████████████████████████████| 11/11 [00:15<00:00,  1.40s/batch]\n",
      "Validation Epoch 21/50: 100%|█████████████████████████████████████████████████████████| 3/3 [00:03<00:00,  1.02s/batch]\n"
     ]
    },
    {
     "name": "stdout",
     "output_type": "stream",
     "text": [
      "Epoch 21/50, Training Loss: 0.0389, Training Accuracy: 0.9971, Validation Loss: 0.1144, Validation Accuracy: 0.9524\n"
     ]
    },
    {
     "name": "stderr",
     "output_type": "stream",
     "text": [
      "Epoch 22/50: 100%|██████████████████████████████████████████████████████████████████| 11/11 [00:15<00:00,  1.39s/batch]\n",
      "Validation Epoch 22/50: 100%|█████████████████████████████████████████████████████████| 3/3 [00:03<00:00,  1.13s/batch]\n"
     ]
    },
    {
     "name": "stdout",
     "output_type": "stream",
     "text": [
      "Epoch 22/50, Training Loss: 0.0390, Training Accuracy: 0.9971, Validation Loss: 0.1118, Validation Accuracy: 0.9524\n"
     ]
    },
    {
     "name": "stderr",
     "output_type": "stream",
     "text": [
      "Epoch 23/50: 100%|██████████████████████████████████████████████████████████████████| 11/11 [00:15<00:00,  1.41s/batch]\n",
      "Validation Epoch 23/50: 100%|█████████████████████████████████████████████████████████| 3/3 [00:03<00:00,  1.04s/batch]\n"
     ]
    },
    {
     "name": "stdout",
     "output_type": "stream",
     "text": [
      "Epoch 23/50, Training Loss: 0.0356, Training Accuracy: 0.9956, Validation Loss: 0.1065, Validation Accuracy: 0.9592\n"
     ]
    },
    {
     "name": "stderr",
     "output_type": "stream",
     "text": [
      "Epoch 24/50: 100%|██████████████████████████████████████████████████████████████████| 11/11 [00:15<00:00,  1.41s/batch]\n",
      "Validation Epoch 24/50: 100%|█████████████████████████████████████████████████████████| 3/3 [00:03<00:00,  1.12s/batch]\n"
     ]
    },
    {
     "name": "stdout",
     "output_type": "stream",
     "text": [
      "Epoch 24/50, Training Loss: 0.0308, Training Accuracy: 0.9971, Validation Loss: 0.1047, Validation Accuracy: 0.9660\n"
     ]
    },
    {
     "name": "stderr",
     "output_type": "stream",
     "text": [
      "Epoch 25/50: 100%|██████████████████████████████████████████████████████████████████| 11/11 [00:15<00:00,  1.43s/batch]\n",
      "Validation Epoch 25/50: 100%|█████████████████████████████████████████████████████████| 3/3 [00:03<00:00,  1.13s/batch]\n"
     ]
    },
    {
     "name": "stdout",
     "output_type": "stream",
     "text": [
      "Epoch 25/50, Training Loss: 0.0309, Training Accuracy: 0.9971, Validation Loss: 0.1065, Validation Accuracy: 0.9592\n"
     ]
    },
    {
     "name": "stderr",
     "output_type": "stream",
     "text": [
      "Epoch 26/50: 100%|██████████████████████████████████████████████████████████████████| 11/11 [00:15<00:00,  1.43s/batch]\n",
      "Validation Epoch 26/50: 100%|█████████████████████████████████████████████████████████| 3/3 [00:03<00:00,  1.12s/batch]\n"
     ]
    },
    {
     "name": "stdout",
     "output_type": "stream",
     "text": [
      "Epoch 26/50, Training Loss: 0.0348, Training Accuracy: 0.9971, Validation Loss: 0.1090, Validation Accuracy: 0.9524\n"
     ]
    },
    {
     "name": "stderr",
     "output_type": "stream",
     "text": [
      "Epoch 27/50: 100%|██████████████████████████████████████████████████████████████████| 11/11 [00:14<00:00,  1.34s/batch]\n",
      "Validation Epoch 27/50: 100%|█████████████████████████████████████████████████████████| 3/3 [00:02<00:00,  1.10batch/s]\n"
     ]
    },
    {
     "name": "stdout",
     "output_type": "stream",
     "text": [
      "Epoch 27/50, Training Loss: 0.0348, Training Accuracy: 0.9971, Validation Loss: 0.1020, Validation Accuracy: 0.9660\n"
     ]
    },
    {
     "name": "stderr",
     "output_type": "stream",
     "text": [
      "Epoch 28/50: 100%|██████████████████████████████████████████████████████████████████| 11/11 [00:13<00:00,  1.23s/batch]\n",
      "Validation Epoch 28/50: 100%|█████████████████████████████████████████████████████████| 3/3 [00:02<00:00,  1.08batch/s]\n"
     ]
    },
    {
     "name": "stdout",
     "output_type": "stream",
     "text": [
      "Epoch 28/50, Training Loss: 0.0301, Training Accuracy: 0.9985, Validation Loss: 0.1073, Validation Accuracy: 0.9592\n"
     ]
    },
    {
     "name": "stderr",
     "output_type": "stream",
     "text": [
      "Epoch 29/50: 100%|██████████████████████████████████████████████████████████████████| 11/11 [00:13<00:00,  1.27s/batch]\n",
      "Validation Epoch 29/50: 100%|█████████████████████████████████████████████████████████| 3/3 [00:02<00:00,  1.01batch/s]\n"
     ]
    },
    {
     "name": "stdout",
     "output_type": "stream",
     "text": [
      "Epoch 29/50, Training Loss: 0.0283, Training Accuracy: 0.9985, Validation Loss: 0.1089, Validation Accuracy: 0.9524\n"
     ]
    },
    {
     "name": "stderr",
     "output_type": "stream",
     "text": [
      "Epoch 30/50: 100%|██████████████████████████████████████████████████████████████████| 11/11 [00:13<00:00,  1.23s/batch]\n",
      "Validation Epoch 30/50: 100%|█████████████████████████████████████████████████████████| 3/3 [00:02<00:00,  1.05batch/s]\n"
     ]
    },
    {
     "name": "stdout",
     "output_type": "stream",
     "text": [
      "Epoch 30/50, Training Loss: 0.0272, Training Accuracy: 0.9985, Validation Loss: 0.1125, Validation Accuracy: 0.9524\n"
     ]
    },
    {
     "name": "stderr",
     "output_type": "stream",
     "text": [
      "Epoch 31/50: 100%|██████████████████████████████████████████████████████████████████| 11/11 [00:14<00:00,  1.36s/batch]\n",
      "Validation Epoch 31/50: 100%|█████████████████████████████████████████████████████████| 3/3 [00:03<00:00,  1.18s/batch]\n"
     ]
    },
    {
     "name": "stdout",
     "output_type": "stream",
     "text": [
      "Epoch 31/50, Training Loss: 0.0294, Training Accuracy: 0.9985, Validation Loss: 0.1068, Validation Accuracy: 0.9592\n"
     ]
    },
    {
     "name": "stderr",
     "output_type": "stream",
     "text": [
      "Epoch 32/50: 100%|██████████████████████████████████████████████████████████████████| 11/11 [00:15<00:00,  1.39s/batch]\n",
      "Validation Epoch 32/50: 100%|█████████████████████████████████████████████████████████| 3/3 [00:03<00:00,  1.11s/batch]\n"
     ]
    },
    {
     "name": "stdout",
     "output_type": "stream",
     "text": [
      "Epoch 32/50, Training Loss: 0.0327, Training Accuracy: 0.9985, Validation Loss: 0.1190, Validation Accuracy: 0.9456\n"
     ]
    },
    {
     "name": "stderr",
     "output_type": "stream",
     "text": [
      "Epoch 33/50: 100%|██████████████████████████████████████████████████████████████████| 11/11 [00:15<00:00,  1.40s/batch]\n",
      "Validation Epoch 33/50: 100%|█████████████████████████████████████████████████████████| 3/3 [00:03<00:00,  1.03s/batch]\n"
     ]
    },
    {
     "name": "stdout",
     "output_type": "stream",
     "text": [
      "Epoch 33/50, Training Loss: 0.0264, Training Accuracy: 0.9985, Validation Loss: 0.1088, Validation Accuracy: 0.9524\n"
     ]
    },
    {
     "name": "stderr",
     "output_type": "stream",
     "text": [
      "Epoch 34/50: 100%|██████████████████████████████████████████████████████████████████| 11/11 [00:16<00:00,  1.46s/batch]\n",
      "Validation Epoch 34/50: 100%|█████████████████████████████████████████████████████████| 3/3 [00:03<00:00,  1.12s/batch]\n"
     ]
    },
    {
     "name": "stdout",
     "output_type": "stream",
     "text": [
      "Epoch 34/50, Training Loss: 0.0268, Training Accuracy: 0.9985, Validation Loss: 0.1114, Validation Accuracy: 0.9524\n"
     ]
    },
    {
     "name": "stderr",
     "output_type": "stream",
     "text": [
      "Epoch 35/50: 100%|██████████████████████████████████████████████████████████████████| 11/11 [00:15<00:00,  1.44s/batch]\n",
      "Validation Epoch 35/50: 100%|█████████████████████████████████████████████████████████| 3/3 [00:03<00:00,  1.16s/batch]\n"
     ]
    },
    {
     "name": "stdout",
     "output_type": "stream",
     "text": [
      "Epoch 35/50, Training Loss: 0.0276, Training Accuracy: 0.9971, Validation Loss: 0.1111, Validation Accuracy: 0.9524\n"
     ]
    },
    {
     "name": "stderr",
     "output_type": "stream",
     "text": [
      "Epoch 36/50: 100%|██████████████████████████████████████████████████████████████████| 11/11 [00:15<00:00,  1.42s/batch]\n",
      "Validation Epoch 36/50: 100%|█████████████████████████████████████████████████████████| 3/3 [00:03<00:00,  1.16s/batch]\n"
     ]
    },
    {
     "name": "stdout",
     "output_type": "stream",
     "text": [
      "Epoch 36/50, Training Loss: 0.0262, Training Accuracy: 0.9971, Validation Loss: 0.1004, Validation Accuracy: 0.9660\n"
     ]
    },
    {
     "name": "stderr",
     "output_type": "stream",
     "text": [
      "Epoch 37/50: 100%|██████████████████████████████████████████████████████████████████| 11/11 [00:15<00:00,  1.44s/batch]\n",
      "Validation Epoch 37/50: 100%|█████████████████████████████████████████████████████████| 3/3 [00:03<00:00,  1.16s/batch]\n"
     ]
    },
    {
     "name": "stdout",
     "output_type": "stream",
     "text": [
      "Epoch 37/50, Training Loss: 0.0271, Training Accuracy: 0.9971, Validation Loss: 0.1038, Validation Accuracy: 0.9592\n"
     ]
    },
    {
     "name": "stderr",
     "output_type": "stream",
     "text": [
      "Epoch 38/50: 100%|██████████████████████████████████████████████████████████████████| 11/11 [00:15<00:00,  1.41s/batch]\n",
      "Validation Epoch 38/50: 100%|█████████████████████████████████████████████████████████| 3/3 [00:03<00:00,  1.18s/batch]\n"
     ]
    },
    {
     "name": "stdout",
     "output_type": "stream",
     "text": [
      "Epoch 38/50, Training Loss: 0.0237, Training Accuracy: 0.9985, Validation Loss: 0.1003, Validation Accuracy: 0.9592\n"
     ]
    },
    {
     "name": "stderr",
     "output_type": "stream",
     "text": [
      "Epoch 39/50: 100%|██████████████████████████████████████████████████████████████████| 11/11 [00:15<00:00,  1.43s/batch]\n",
      "Validation Epoch 39/50: 100%|█████████████████████████████████████████████████████████| 3/3 [00:03<00:00,  1.18s/batch]\n"
     ]
    },
    {
     "name": "stdout",
     "output_type": "stream",
     "text": [
      "Epoch 39/50, Training Loss: 0.0242, Training Accuracy: 1.0000, Validation Loss: 0.1030, Validation Accuracy: 0.9592\n"
     ]
    },
    {
     "name": "stderr",
     "output_type": "stream",
     "text": [
      "Epoch 40/50: 100%|██████████████████████████████████████████████████████████████████| 11/11 [00:14<00:00,  1.33s/batch]\n",
      "Validation Epoch 40/50: 100%|█████████████████████████████████████████████████████████| 3/3 [00:03<00:00,  1.11s/batch]\n"
     ]
    },
    {
     "name": "stdout",
     "output_type": "stream",
     "text": [
      "Epoch 40/50, Training Loss: 0.0224, Training Accuracy: 1.0000, Validation Loss: 0.1024, Validation Accuracy: 0.9592\n"
     ]
    },
    {
     "name": "stderr",
     "output_type": "stream",
     "text": [
      "Epoch 41/50: 100%|██████████████████████████████████████████████████████████████████| 11/11 [00:15<00:00,  1.43s/batch]\n",
      "Validation Epoch 41/50: 100%|█████████████████████████████████████████████████████████| 3/3 [00:03<00:00,  1.17s/batch]\n"
     ]
    },
    {
     "name": "stdout",
     "output_type": "stream",
     "text": [
      "Epoch 41/50, Training Loss: 0.0212, Training Accuracy: 0.9985, Validation Loss: 0.1039, Validation Accuracy: 0.9592\n"
     ]
    },
    {
     "name": "stderr",
     "output_type": "stream",
     "text": [
      "Epoch 42/50: 100%|██████████████████████████████████████████████████████████████████| 11/11 [00:16<00:00,  1.46s/batch]\n",
      "Validation Epoch 42/50: 100%|█████████████████████████████████████████████████████████| 3/3 [00:03<00:00,  1.15s/batch]\n"
     ]
    },
    {
     "name": "stdout",
     "output_type": "stream",
     "text": [
      "Epoch 42/50, Training Loss: 0.0278, Training Accuracy: 1.0000, Validation Loss: 0.1056, Validation Accuracy: 0.9524\n"
     ]
    },
    {
     "name": "stderr",
     "output_type": "stream",
     "text": [
      "Epoch 43/50: 100%|██████████████████████████████████████████████████████████████████| 11/11 [00:16<00:00,  1.48s/batch]\n",
      "Validation Epoch 43/50: 100%|█████████████████████████████████████████████████████████| 3/3 [00:03<00:00,  1.13s/batch]\n"
     ]
    },
    {
     "name": "stdout",
     "output_type": "stream",
     "text": [
      "Epoch 43/50, Training Loss: 0.0247, Training Accuracy: 0.9985, Validation Loss: 0.1111, Validation Accuracy: 0.9524\n"
     ]
    },
    {
     "name": "stderr",
     "output_type": "stream",
     "text": [
      "Epoch 44/50: 100%|██████████████████████████████████████████████████████████████████| 11/11 [00:15<00:00,  1.44s/batch]\n",
      "Validation Epoch 44/50: 100%|█████████████████████████████████████████████████████████| 3/3 [00:03<00:00,  1.11s/batch]\n"
     ]
    },
    {
     "name": "stdout",
     "output_type": "stream",
     "text": [
      "Epoch 44/50, Training Loss: 0.0232, Training Accuracy: 0.9985, Validation Loss: 0.1023, Validation Accuracy: 0.9592\n"
     ]
    },
    {
     "name": "stderr",
     "output_type": "stream",
     "text": [
      "Epoch 45/50: 100%|██████████████████████████████████████████████████████████████████| 11/11 [00:15<00:00,  1.42s/batch]\n",
      "Validation Epoch 45/50: 100%|█████████████████████████████████████████████████████████| 3/3 [00:03<00:00,  1.17s/batch]\n"
     ]
    },
    {
     "name": "stdout",
     "output_type": "stream",
     "text": [
      "Epoch 45/50, Training Loss: 0.0179, Training Accuracy: 1.0000, Validation Loss: 0.1034, Validation Accuracy: 0.9524\n"
     ]
    },
    {
     "name": "stderr",
     "output_type": "stream",
     "text": [
      "Epoch 46/50: 100%|██████████████████████████████████████████████████████████████████| 11/11 [00:15<00:00,  1.37s/batch]\n",
      "Validation Epoch 46/50: 100%|█████████████████████████████████████████████████████████| 3/3 [00:03<00:00,  1.07s/batch]\n"
     ]
    },
    {
     "name": "stdout",
     "output_type": "stream",
     "text": [
      "Epoch 46/50, Training Loss: 0.0190, Training Accuracy: 1.0000, Validation Loss: 0.1026, Validation Accuracy: 0.9524\n"
     ]
    },
    {
     "name": "stderr",
     "output_type": "stream",
     "text": [
      "Epoch 47/50: 100%|██████████████████████████████████████████████████████████████████| 11/11 [00:15<00:00,  1.44s/batch]\n",
      "Validation Epoch 47/50: 100%|█████████████████████████████████████████████████████████| 3/3 [00:03<00:00,  1.10s/batch]\n"
     ]
    },
    {
     "name": "stdout",
     "output_type": "stream",
     "text": [
      "Epoch 47/50, Training Loss: 0.0243, Training Accuracy: 1.0000, Validation Loss: 0.1061, Validation Accuracy: 0.9524\n"
     ]
    },
    {
     "name": "stderr",
     "output_type": "stream",
     "text": [
      "Epoch 48/50: 100%|██████████████████████████████████████████████████████████████████| 11/11 [00:15<00:00,  1.42s/batch]\n",
      "Validation Epoch 48/50: 100%|█████████████████████████████████████████████████████████| 3/3 [00:03<00:00,  1.11s/batch]\n"
     ]
    },
    {
     "name": "stdout",
     "output_type": "stream",
     "text": [
      "Epoch 48/50, Training Loss: 0.0207, Training Accuracy: 0.9985, Validation Loss: 0.1114, Validation Accuracy: 0.9524\n"
     ]
    },
    {
     "name": "stderr",
     "output_type": "stream",
     "text": [
      "Epoch 49/50: 100%|██████████████████████████████████████████████████████████████████| 11/11 [00:16<00:00,  1.46s/batch]\n",
      "Validation Epoch 49/50: 100%|█████████████████████████████████████████████████████████| 3/3 [00:03<00:00,  1.18s/batch]\n"
     ]
    },
    {
     "name": "stdout",
     "output_type": "stream",
     "text": [
      "Epoch 49/50, Training Loss: 0.0187, Training Accuracy: 1.0000, Validation Loss: 0.1118, Validation Accuracy: 0.9524\n"
     ]
    },
    {
     "name": "stderr",
     "output_type": "stream",
     "text": [
      "Epoch 50/50: 100%|██████████████████████████████████████████████████████████████████| 11/11 [00:15<00:00,  1.43s/batch]\n",
      "Validation Epoch 50/50: 100%|█████████████████████████████████████████████████████████| 3/3 [00:03<00:00,  1.08s/batch]\n"
     ]
    },
    {
     "name": "stdout",
     "output_type": "stream",
     "text": [
      "Epoch 50/50, Training Loss: 0.0235, Training Accuracy: 0.9956, Validation Loss: 0.1149, Validation Accuracy: 0.9524\n",
      "Treinamento finalizado\n",
      "Saved entire model at C:\\Users\\maste\\OneDrive\\Documentos\\Resultados_Redes_WVC2025\\ResNet50\\50_epocas\\SGD\\melhor_modelo\\melhor_modelo.pt\n"
     ]
    }
   ],
   "source": [
    "model.to(device)\n",
    "num_epochs=50\n",
    "# Listas para armazenar perda e acurácia\n",
    "train_loss_values = []\n",
    "val_loss_values = []\n",
    "train_accuracy_values = []\n",
    "val_accuracy_values = []\n",
    "\n",
    "# Listas para armazenar rótulos verdadeiros e predições para a matriz de confusão e curva ROC\n",
    "all_labels = []\n",
    "all_preds = []\n",
    "\n",
    "# Treinamento e coleta de dados\n",
    "best_accuracy = 0.0\n",
    "counter = 0\n",
    "\n",
    "for epoch in range(num_epochs):\n",
    "    model.train()\n",
    "    running_loss = 0.0\n",
    "    correct = 0\n",
    "    total = 0\n",
    "\n",
    "    for inputs, labels in tqdm(train_loader, desc=f\"Epoch {epoch+1}/{num_epochs}\", unit='batch'):\n",
    "        inputs, labels = inputs.to(device), labels.to(device)\n",
    "\n",
    "        optimizer.zero_grad()\n",
    "        outputs = model(inputs)\n",
    "        loss = criterion(outputs, labels)\n",
    "        loss.backward()\n",
    "        optimizer.step()\n",
    "        running_loss += loss.item() * inputs.size(0)\n",
    "\n",
    "        _, predicted = torch.max(outputs.data, 1)\n",
    "        total += labels.size(0)\n",
    "        correct += (predicted == labels).sum().item()\n",
    "\n",
    "    epoch_loss = running_loss / len(train_loader.dataset)\n",
    "    train_accuracy = correct / total\n",
    "\n",
    "    train_loss_values.append(epoch_loss)\n",
    "    train_accuracy_values.append(train_accuracy)\n",
    "\n",
    "    # Validação\n",
    "    model.eval()\n",
    "    val_running_loss = 0.0\n",
    "    val_correct = 0\n",
    "    val_total = 0\n",
    "\n",
    "    with torch.no_grad():\n",
    "        for inputs, labels in tqdm(val_loader, desc=f\"Validation Epoch {epoch+1}/{num_epochs}\", unit='batch'):\n",
    "            inputs, labels = inputs.to(device), labels.to(device)\n",
    "            outputs = model(inputs)\n",
    "            loss = criterion(outputs, labels)\n",
    "            val_running_loss += loss.item() * inputs.size(0)\n",
    "            _, predicted = torch.max(outputs.data, 1)\n",
    "            val_total += labels.size(0)\n",
    "            val_correct += (predicted == labels).sum().item()\n",
    "\n",
    "        val_loss = val_running_loss / len(val_loader.dataset)\n",
    "        val_accuracy = val_correct / val_total\n",
    "\n",
    "        val_loss_values.append(val_loss)\n",
    "        val_accuracy_values.append(val_accuracy)\n",
    "\n",
    "        print(f'Epoch {epoch+1}/{num_epochs}, '\n",
    "              f'Training Loss: {epoch_loss:.4f}, Training Accuracy: {train_accuracy:.4f}, '\n",
    "              f'Validation Loss: {val_loss:.4f}, Validation Accuracy: {val_accuracy:.4f}')\n",
    "\n",
    "        # Verificar se a acurácia de validação melhorou e salvar o modelo\n",
    "        if val_accuracy > best_accuracy:\n",
    "            best_accuracy = val_accuracy\n",
    "            model_save_path = os.path.join(save_weights, f'model_epoch_{epoch+1}_val_accuracy_{val_accuracy:.4f}.pt')\n",
    "            torch.save(model.state_dict(), model_save_path)\n",
    "            print(f'Saved model at epoch {epoch+1} with validation accuracy: {val_accuracy:.4f} to {model_save_path}')\n",
    "\n",
    "print('Treinamento finalizado')\n",
    "\n",
    "# Salvar o modelo inteiro\n",
    "torch.save(model, save_model)\n",
    "print(f'Saved entire model at {save_model}')"
   ]
  },
  {
   "cell_type": "code",
   "execution_count": 37,
   "id": "55710b7e-f9a3-4599-ae94-a9e4758f04aa",
   "metadata": {},
   "outputs": [
    {
     "name": "stdout",
     "output_type": "stream",
     "text": [
      "Loaded model from C:\\Users\\maste\\OneDrive\\Documentos\\Resultados_Redes_WVC2025\\ResNet50\\50_epocas\\SGD\\melhor_modelo\\melhor_modelo.pt\n"
     ]
    },
    {
     "name": "stderr",
     "output_type": "stream",
     "text": [
      "C:\\Users\\maste\\AppData\\Local\\Temp\\ipykernel_23568\\2238432456.py:7: FutureWarning: You are using `torch.load` with `weights_only=False` (the current default value), which uses the default pickle module implicitly. It is possible to construct malicious pickle data which will execute arbitrary code during unpickling (See https://github.com/pytorch/pytorch/blob/main/SECURITY.md#untrusted-models for more details). In a future release, the default value for `weights_only` will be flipped to `True`. This limits the functions that could be executed during unpickling. Arbitrary objects will no longer be allowed to be loaded via this mode unless they are explicitly allowlisted by the user via `torch.serialization.add_safe_globals`. We recommend you start setting `weights_only=True` for any use case where you don't have full control of the loaded file. Please open an issue on GitHub for any issues related to this experimental feature.\n",
      "  model.load_state_dict(torch.load(model_save_path))\n"
     ]
    },
    {
     "name": "stdout",
     "output_type": "stream",
     "text": [
      "Loaded weights from C:\\Users\\maste\\OneDrive\\Documentos\\Resultados_Redes_WVC2025\\ResNet50\\50_epocas\\SGD\\melhor_modelo\\model_epoch_11_val_accuracy_0.9660.pt\n"
     ]
    }
   ],
   "source": [
    "save_model = r\"C:\\Users\\maste\\OneDrive\\Documentos\\Resultados_Redes_WVC2025\\ResNet50\\50_epocas\\SGD\\melhor_modelo\\melhor_modelo.pt\"\n",
    "model = torch.load(save_model, weights_only=False)\n",
    "model.eval()\n",
    "print(f'Loaded model from {save_model}')\n",
    "\n",
    "model_save_path= r\"C:\\Users\\maste\\OneDrive\\Documentos\\Resultados_Redes_WVC2025\\ResNet50\\50_epocas\\SGD\\melhor_modelo\\model_epoch_11_val_accuracy_0.9660.pt\"\n",
    "model.load_state_dict(torch.load(model_save_path))\n",
    "model.eval()\n",
    "print(f'Loaded weights from {model_save_path}')"
   ]
  },
  {
   "cell_type": "code",
   "execution_count": 39,
   "id": "85d261b3-9380-404f-b111-f5aff6a2413d",
   "metadata": {},
   "outputs": [
    {
     "name": "stdout",
     "output_type": "stream",
     "text": [
      "Confirmation Accuracy: 0.9660\n"
     ]
    }
   ],
   "source": [
    "# Confirmação do carregamento do modelo e dos pesos\n",
    "model.to(device)\n",
    "\n",
    "model.eval()\n",
    "confirmation_correct = 0\n",
    "confirmation_total = 0\n",
    "with torch.no_grad():\n",
    "    for inputs, labels in val_loader:\n",
    "        inputs, labels = inputs.to(device), labels.to(device)\n",
    "        outputs = model(inputs)\n",
    "        _, predicted = torch.max(outputs.data, 1)\n",
    "        confirmation_total += labels.size(0)\n",
    "        confirmation_correct += (predicted == labels).sum().item()\n",
    "\n",
    "print(f'Confirmation Accuracy: { confirmation_correct / confirmation_total:.4f}')"
   ]
  },
  {
   "cell_type": "code",
   "execution_count": 41,
   "id": "8a219365-5a4a-4803-a84d-f433cf74c39a",
   "metadata": {},
   "outputs": [
    {
     "name": "stderr",
     "output_type": "stream",
     "text": [
      "Val: 100%|███████████████████████████████████████████████████████████████████████████████| 3/3 [00:03<00:00,  1.25s/it]"
     ]
    },
    {
     "name": "stdout",
     "output_type": "stream",
     "text": [
      "Val Loss: 0.1149, Val Accuracy: 0.9592\n"
     ]
    },
    {
     "name": "stderr",
     "output_type": "stream",
     "text": [
      "\n"
     ]
    }
   ],
   "source": [
    "# Avaliando o modelo carregado no conjunto de teste\n",
    "model.eval()\n",
    "test_running_loss = 0.0\n",
    "test_correct = 0\n",
    "test_total = 0\n",
    "\n",
    "all_labels = []\n",
    "all_probs = []  # Para armazenar as probabilidades\n",
    "\n",
    "with torch.no_grad():\n",
    "    for inputs, labels in tqdm(val_loader, desc=\"Val\"):\n",
    "        inputs, labels = inputs.to(device), labels.to(device)\n",
    "        outputs = model(inputs)\n",
    "        #loss = nn.CrossEntropyLoss()(outputs, labels)\n",
    "        #test_running_loss += loss.item() * inputs.size(0)\n",
    "        _, predicted = torch.max(outputs.data, 1)\n",
    "        val_total += labels.size(0)\n",
    "        val_correct += (predicted == labels).sum().item()\n",
    "\n",
    "        # Armazenando rótulos e probabilidades\n",
    "        all_labels.extend(labels.cpu().numpy())\n",
    "        all_probs.extend(torch.softmax(outputs, dim=1).cpu().numpy())\n",
    "\n",
    "    val_loss = val_running_loss / len(val_loader.dataset)\n",
    "    val_accuracy = val_correct / val_total\n",
    "    print(f'Val Loss: {val_loss:.4f}, Val Accuracy: {val_accuracy:.4f}')"
   ]
  },
  {
   "cell_type": "code",
   "execution_count": 43,
   "id": "d0453ce9-ce03-406c-8ea4-906bc7edd3f3",
   "metadata": {},
   "outputs": [],
   "source": [
    "# Calculando a matriz de confusão\n",
    "cm = confusion_matrix(all_labels, np.argmax(all_probs, axis=1))"
   ]
  },
  {
   "cell_type": "code",
   "execution_count": 45,
   "id": "4221e1c5-aa3b-4ba1-a748-17ad2ad7fdba",
   "metadata": {},
   "outputs": [
    {
     "data": {
      "image/png": "[encoded data removed]",
      "text/plain": [
       "<Figure size 640x480 with 2 Axes>"
      ]
     },
     "metadata": {},
     "output_type": "display_data"
    }
   ],
   "source": [
    "# Plotando a matriz de confusão\n",
    "disp = ConfusionMatrixDisplay(confusion_matrix=cm, display_labels=classes)\n",
    "disp.plot(cmap=plt.cm.Blues)\n",
    "plt.title('Confusion Matrix')\n",
    "plt.savefig(r\"C:\\Users\\maste\\OneDrive\\Documentos\\Resultados_Redes_WVC2025\\ResNet50\\50_epocas\\SGD\\gráficos\\treino\\Matriz_treino\")\n",
    "plt.show()"
   ]
  },
  {
   "cell_type": "code",
   "execution_count": 47,
   "id": "d0cdd01e-7b9e-4e13-9055-6751b14379d9",
   "metadata": {},
   "outputs": [
    {
     "name": "stdout",
     "output_type": "stream",
     "text": [
      "              precision    recall  f1-score   support\n",
      "\n",
      "         Bom       1.00      0.94      0.97        84\n",
      "        Ruim       0.93      1.00      0.96        63\n",
      "\n",
      "    accuracy                           0.97       147\n",
      "   macro avg       0.96      0.97      0.97       147\n",
      "weighted avg       0.97      0.97      0.97       147\n",
      "\n",
      "tensor([[-1.5934,  1.6405],\n",
      "        [-1.2590,  1.2023],\n",
      "        [-1.4840,  1.4032],\n",
      "        [-1.1819,  1.0530],\n",
      "        [-1.3207,  1.3214],\n",
      "        [-1.1947,  1.1022],\n",
      "        [-1.9723,  2.0051],\n",
      "        [-1.7872,  1.8005],\n",
      "        [-1.5901,  1.5157],\n",
      "        [-1.9612,  1.7884],\n",
      "        [-1.0255,  1.1122],\n",
      "        [-2.0502,  2.0608],\n",
      "        [-0.8313,  0.7944],\n",
      "        [-0.2195,  0.3423],\n",
      "        [-0.2745,  0.2639],\n",
      "        [-1.2893,  1.2472],\n",
      "        [-0.7590,  0.6964],\n",
      "        [-2.1963,  2.1683],\n",
      "        [-1.6712,  1.6639]], device='cuda:0')\n",
      "tensor([1, 1, 1, 1, 1, 1, 1, 1, 1, 1, 1, 1, 1, 1, 1, 1, 1, 1, 1],\n",
      "       device='cuda:0')\n",
      "[np.int64(0), np.int64(0), np.int64(0), np.int64(0), np.int64(0), np.int64(0), np.int64(0), np.int64(0), np.int64(0), np.int64(0), np.int64(0), np.int64(0), np.int64(0), np.int64(0), np.int64(0), np.int64(0), np.int64(1), np.int64(1), np.int64(0), np.int64(0), np.int64(0), np.int64(0), np.int64(1), np.int64(1), np.int64(0), np.int64(0), np.int64(1), np.int64(0), np.int64(0), np.int64(0), np.int64(0), np.int64(0), np.int64(0), np.int64(0), np.int64(0), np.int64(0), np.int64(0), np.int64(0), np.int64(0), np.int64(0), np.int64(0), np.int64(0), np.int64(0), np.int64(0), np.int64(0), np.int64(0), np.int64(0), np.int64(0), np.int64(0), np.int64(0), np.int64(0), np.int64(0), np.int64(0), np.int64(0), np.int64(0), np.int64(0), np.int64(0), np.int64(0), np.int64(0), np.int64(0), np.int64(0), np.int64(0), np.int64(0), np.int64(0), np.int64(0), np.int64(0), np.int64(0), np.int64(0), np.int64(0), np.int64(0), np.int64(0), np.int64(0), np.int64(0), np.int64(0), np.int64(0), np.int64(0), np.int64(0), np.int64(0), np.int64(0), np.int64(0), np.int64(0), np.int64(0), np.int64(0), np.int64(0), np.int64(1), np.int64(1), np.int64(1), np.int64(1), np.int64(1), np.int64(1), np.int64(1), np.int64(1), np.int64(1), np.int64(1), np.int64(1), np.int64(1), np.int64(1), np.int64(1), np.int64(1), np.int64(1), np.int64(1), np.int64(1), np.int64(1), np.int64(1), np.int64(1), np.int64(1), np.int64(1), np.int64(1), np.int64(1), np.int64(1), np.int64(1), np.int64(1), np.int64(1), np.int64(1), np.int64(1), np.int64(1), np.int64(1), np.int64(1), np.int64(1), np.int64(1), np.int64(1), np.int64(1), np.int64(1), np.int64(1), np.int64(1), np.int64(1), np.int64(1), np.int64(1), np.int64(1), np.int64(1), np.int64(1), np.int64(1), np.int64(1), np.int64(1), np.int64(1), np.int64(1), np.int64(1), np.int64(1), np.int64(1), np.int64(1), np.int64(1), np.int64(1), np.int64(1), np.int64(1), np.int64(1), np.int64(1), np.int64(1)]\n"
     ]
    }
   ],
   "source": [
    "import torch\n",
    "from sklearn.metrics import classification_report\n",
    "#from  utils import to_onehot\n",
    "# Alterar o modelo para o modo de avaliação\n",
    "model.eval()\n",
    "\n",
    "# Para armazenar rótulos verdadeiros e previsões\n",
    "all_labels = []\n",
    "all_preds = []\n",
    "\n",
    "# Desabilitar cálculo de gradiente para inferência\n",
    "with torch.no_grad():\n",
    "    for data in val_loader:\n",
    "        inputs, labels = data\n",
    "        inputs, labels = inputs.to(device), labels.to(device)\n",
    "\n",
    "        # Obter saídas do modelo e prever a classe\n",
    "        outputs = model(inputs)\n",
    "        _, preds = torch.max(outputs, 1)\n",
    "\n",
    "        # Armazenar rótulos e previsões\n",
    "        all_labels.extend(labels.cpu().numpy())\n",
    "        all_preds.extend(preds.cpu().numpy())\n",
    "#all_preds = utils.to_onehot(all_probs, 1)\n",
    "# Gerar relatório de classificação\n",
    "target_names = ['Bom', 'Ruim']\n",
    "print(classification_report(all_labels, all_preds, target_names=target_names))\n",
    "print(outputs)\n",
    "print(preds)\n",
    "print(all_preds)"
   ]
  },
  {
   "cell_type": "code",
   "execution_count": 49,
   "id": "11aa6f19-6a5c-4d0c-ac94-8062ec87b7ee",
   "metadata": {},
   "outputs": [
    {
     "name": "stdout",
     "output_type": "stream",
     "text": [
      "[0.         0.05952381 1.        ]\n",
      "---------\n",
      "[0. 1. 1.]\n",
      "---------\n"
     ]
    }
   ],
   "source": [
    "import torch\n",
    "from sklearn.metrics import roc_curve, auc\n",
    "import matplotlib.pyplot as plt\n",
    "import numpy as np\n",
    "#y_pred_keras = keras_model.predict(X_test).ravel()\n",
    "\n",
    "\n",
    "classes = val_data.classes\n",
    "num_classes = len(classes)\n",
    "\n",
    "all_labels = np.array(all_labels)\n",
    "all_preds = np.array( all_preds)\n",
    "\n",
    "fpr, tpr, _ = roc_curve(all_labels , all_preds)\n",
    "\n",
    "print(fpr)\n",
    "print('---------')\n",
    "print(tpr)\n",
    "print('---------')\n",
    "\n",
    "\n",
    "\n",
    "\n",
    "#for i in range(num_classes):\n",
    "#    # Calculando a ROC para a classe i\n",
    "#    fpr, tpr, _ = roc_curve(all_labels == i, all_preds[:, i])\n",
    "#    roc_auc = auc(fpr, tpr)\n",
    "#    plt.plot(fpr, tpr, label=f'Classe {classes[i]} (AUC = {roc_auc:.2f})')"
   ]
  },
  {
   "cell_type": "code",
   "execution_count": 51,
   "id": "b3a8336e-d25c-405d-93e5-c03c7bc35f78",
   "metadata": {},
   "outputs": [
    {
     "name": "stdout",
     "output_type": "stream",
     "text": [
      "0.9702380952380952\n"
     ]
    }
   ],
   "source": [
    "from sklearn.metrics import auc\n",
    "auc_keras = auc(fpr, tpr)\n",
    "print(auc_keras)"
   ]
  },
  {
   "cell_type": "code",
   "execution_count": 53,
   "id": "f590055e-c09f-439b-bd7c-dfc31c942a2f",
   "metadata": {},
   "outputs": [
    {
     "data": {
      "image/png": "[encoded data removed]",
      "text/plain": [
       "<Figure size 640x480 with 1 Axes>"
      ]
     },
     "metadata": {},
     "output_type": "display_data"
    }
   ],
   "source": [
    "import matplotlib.pyplot as plt\n",
    "plt.figure(1)\n",
    "plt.plot([0, 1], [0, 1], 'k--')\n",
    "plt.plot(fpr, tpr, label='AUC (area = {:.3f})'.format(auc_keras))\n",
    "plt.xlabel('False positive rate')\n",
    "plt.ylabel('True positive rate')\n",
    "plt.title('ROC curve')\n",
    "plt.legend(loc='best')\n",
    "plt.savefig(r\"C:\\Users\\maste\\OneDrive\\Documentos\\Resultados_Redes_WVC2025\\ResNet50\\50_epocas\\SGD\\gráficos\\treino\\Curva_Roc_treino.pdf\")\n",
    "plt.show()"
   ]
  },
  {
   "cell_type": "code",
   "execution_count": 55,
   "id": "05a2f174-6ad5-40c0-a797-da85c48f6cfd",
   "metadata": {},
   "outputs": [
    {
     "data": {
      "image/png": "[encoded data removed]",
      "text/plain": [
       "<Figure size 640x480 with 1 Axes>"
      ]
     },
     "metadata": {},
     "output_type": "display_data"
    }
   ],
   "source": [
    "# Plotando a perda\n",
    "epochs = range(1, num_epochs + 1)\n",
    "\n",
    "plt.figure()\n",
    "plt.plot(epochs, train_loss_values, label='Training Loss')\n",
    "plt.plot(epochs, val_loss_values, label='Validation Loss')\n",
    "plt.xlabel('Epochs')\n",
    "plt.ylabel('Loss')\n",
    "plt.title('Training and Validation Loss')\n",
    "plt.legend()\n",
    "plt.savefig(r\"C:\\Users\\maste\\OneDrive\\Documentos\\Resultados_Redes_WVC2025\\ResNet50\\50_epocas\\SGD\\gráficos\\treino\\Loss_treino.pdf\")\n",
    "plt.show()"
   ]
  },
  {
   "cell_type": "code",
   "execution_count": 57,
   "id": "8c4fdd84-efc2-4bf2-aed6-44fd2d18bf4e",
   "metadata": {},
   "outputs": [
    {
     "data": {
      "image/png": "[encoded data removed]",
      "text/plain": [
       "<Figure size 640x480 with 1 Axes>"
      ]
     },
     "metadata": {},
     "output_type": "display_data"
    }
   ],
   "source": [
    "# Plotando a acurácia\n",
    "plt.figure()\n",
    "plt.plot(epochs, train_accuracy_values, label='Training Accuracy')\n",
    "plt.plot(epochs, val_accuracy_values, label='Validation Accuracy')\n",
    "plt.xlabel('Epochs')\n",
    "plt.ylabel('Accuracy')\n",
    "plt.title('Training and Validation Accuracy')\n",
    "plt.legend()\n",
    "plt.savefig(r\"C:\\Users\\maste\\OneDrive\\Documentos\\Resultados_Redes_WVC2025\\ResNet50\\50_epocas\\SGD\\gráficos\\treino\\Acuraccy_treino.pdf\")\n",
    "plt.show()"
   ]
  },
  {
   "cell_type": "code",
   "execution_count": 59,
   "id": "1c76213a-294a-4012-9fdd-a4eb3ea99572",
   "metadata": {},
   "outputs": [],
   "source": [
    "test_dir = r\"C:\\Users\\maste\\OneDrive\\Documentos\\Artigo_Rita_Dataset\\Testing\""
   ]
  },
  {
   "cell_type": "code",
   "execution_count": 61,
   "id": "96a3df95-5bf3-4b03-87cf-bb087579cdc7",
   "metadata": {},
   "outputs": [],
   "source": [
    "# Transformações para normalização e aumento de dados\n",
    "transform = transforms.Compose([\n",
    "    transforms.Resize(256),\n",
    "    transforms.CenterCrop(224),\n",
    "    transforms.ToTensor(),\n",
    "    transforms.Normalize(mean=[0.485, 0.456, 0.406],\n",
    "                         std=[0.229, 0.224, 0.225])\n",
    "])"
   ]
  },
  {
   "cell_type": "code",
   "execution_count": 63,
   "id": "ef060534-7d82-4191-bf6b-7ba4b071896f",
   "metadata": {},
   "outputs": [],
   "source": [
    "test_data = datasets.ImageFolder(test_dir, transform=transform)"
   ]
  },
  {
   "cell_type": "code",
   "execution_count": 65,
   "id": "83602334-0135-4e1e-85a5-6aed53d64b52",
   "metadata": {},
   "outputs": [],
   "source": [
    "# Criando o DataLoader para o conjunto de teste\n",
    "test_loader = DataLoader(test_data, batch_size=1, shuffle=True)"
   ]
  },
  {
   "cell_type": "code",
   "execution_count": 67,
   "id": "5e417d4b-46d6-42bc-be3e-883c5f8751e3",
   "metadata": {},
   "outputs": [
    {
     "name": "stdout",
     "output_type": "stream",
     "text": [
      "2\n",
      "['malignant_tumor', 'no_tumor']\n"
     ]
    }
   ],
   "source": [
    "# Definindo as classes do dataset\n",
    "classes = test_data.classes\n",
    "num_classes = len(classes)\n",
    "print(num_classes)\n",
    "print(classes)"
   ]
  },
  {
   "cell_type": "code",
   "execution_count": 71,
   "id": "6932dbe9-81d2-4d6d-8f11-a93d1ec0b665",
   "metadata": {},
   "outputs": [
    {
     "name": "stderr",
     "output_type": "stream",
     "text": [
      "Test: 100%|██████████████████████████████████████████████████████████████████████████| 146/146 [00:07<00:00, 18.56it/s]"
     ]
    },
    {
     "name": "stdout",
     "output_type": "stream",
     "text": [
      "Val Loss: 0.1156, Val Accuracy: 0.9178\n"
     ]
    },
    {
     "name": "stderr",
     "output_type": "stream",
     "text": [
      "\n"
     ]
    }
   ],
   "source": [
    "# Avaliando o modelo carregado no conjunto de teste\n",
    "model.eval()\n",
    "test_running_loss = 0.0\n",
    "test_correct = 0\n",
    "test_total = 0\n",
    "\n",
    "all_labels = []\n",
    "all_probs = []  # Para armazenar as probabilidades\n",
    "\n",
    "with torch.no_grad():\n",
    "    for inputs, labels in tqdm(test_loader, desc=\"Test\"):\n",
    "        inputs, labels = inputs.to(device), labels.to(device)\n",
    "        outputs = model(inputs)\n",
    "        #loss = nn.CrossEntropyLoss()(outputs, labels)\n",
    "        #test_running_loss += loss.item() * inputs.size(0)\n",
    "        _, predicted = torch.max(outputs.data, 1)\n",
    "        test_total += labels.size(0)\n",
    "        test_correct += (predicted == labels).sum().item()\n",
    "\n",
    "        # Armazenando rótulos e probabilidades\n",
    "        all_labels.extend(labels.cpu().numpy())\n",
    "        all_probs.extend(torch.softmax(outputs, dim=1).cpu().numpy())\n",
    "\n",
    "    test_loss = val_running_loss / len(test_loader.dataset)\n",
    "    test_accuracy = test_correct / test_total\n",
    "    print(f'Val Loss: {test_loss:.4f}, Val Accuracy: {test_accuracy:.4f}')"
   ]
  },
  {
   "cell_type": "code",
   "execution_count": 73,
   "id": "a19d3bcd-5a19-44cb-9f60-8c47726538bd",
   "metadata": {},
   "outputs": [],
   "source": [
    "# Calculando a matriz de confusão\n",
    "cm = confusion_matrix(all_labels, np.argmax(all_probs, axis=1))"
   ]
  },
  {
   "cell_type": "code",
   "execution_count": 75,
   "id": "c6641ba5-fe00-4ebf-a44e-b75088bfc497",
   "metadata": {},
   "outputs": [
    {
     "data": {
      "image/png": "[encoded data removed]",
      "text/plain": [
       "<Figure size 640x480 with 2 Axes>"
      ]
     },
     "metadata": {},
     "output_type": "display_data"
    }
   ],
   "source": [
    "# Plotando a matriz de confusão\n",
    "disp = ConfusionMatrixDisplay(confusion_matrix=cm, display_labels=classes)\n",
    "disp.plot(cmap=plt.cm.Blues)\n",
    "plt.title('Confusion Matrix')\n",
    "plt.savefig(r\"C:\\Users\\maste\\OneDrive\\Documentos\\Resultados_Redes_WVC2025\\ResNet50\\50_epocas\\SGD\\gráficos\\validação\\Matriz_validação.pdf\")\n",
    "\n",
    "plt.show()"
   ]
  },
  {
   "cell_type": "code",
   "execution_count": 77,
   "id": "f98b87a2-4966-47b5-af9e-97c3caf3dfcc",
   "metadata": {},
   "outputs": [
    {
     "name": "stdout",
     "output_type": "stream",
     "text": [
      "              precision    recall  f1-score   support\n",
      "\n",
      "      Câncer       0.96      0.89      0.93        84\n",
      "      Normal       0.87      0.95      0.91        62\n",
      "\n",
      "    accuracy                           0.92       146\n",
      "   macro avg       0.91      0.92      0.92       146\n",
      "weighted avg       0.92      0.92      0.92       146\n",
      "\n",
      "tensor([[ 0.9915, -1.0573]], device='cuda:0')\n",
      "tensor([0], device='cuda:0')\n",
      "[np.int64(0), np.int64(1), np.int64(1), np.int64(0), np.int64(1), np.int64(0), np.int64(0), np.int64(0), np.int64(1), np.int64(1), np.int64(0), np.int64(1), np.int64(0), np.int64(1), np.int64(0), np.int64(0), np.int64(1), np.int64(1), np.int64(0), np.int64(0), np.int64(1), np.int64(1), np.int64(0), np.int64(0), np.int64(1), np.int64(0), np.int64(0), np.int64(0), np.int64(1), np.int64(0), np.int64(1), np.int64(1), np.int64(0), np.int64(0), np.int64(1), np.int64(0), np.int64(1), np.int64(0), np.int64(0), np.int64(0), np.int64(0), np.int64(0), np.int64(0), np.int64(0), np.int64(0), np.int64(0), np.int64(0), np.int64(0), np.int64(0), np.int64(1), np.int64(0), np.int64(1), np.int64(1), np.int64(0), np.int64(0), np.int64(1), np.int64(1), np.int64(1), np.int64(1), np.int64(1), np.int64(1), np.int64(1), np.int64(1), np.int64(1), np.int64(1), np.int64(1), np.int64(0), np.int64(0), np.int64(0), np.int64(0), np.int64(0), np.int64(0), np.int64(1), np.int64(1), np.int64(1), np.int64(1), np.int64(1), np.int64(1), np.int64(1), np.int64(1), np.int64(1), np.int64(0), np.int64(0), np.int64(0), np.int64(1), np.int64(0), np.int64(0), np.int64(0), np.int64(0), np.int64(0), np.int64(1), np.int64(1), np.int64(0), np.int64(0), np.int64(0), np.int64(1), np.int64(0), np.int64(0), np.int64(0), np.int64(1), np.int64(1), np.int64(0), np.int64(1), np.int64(1), np.int64(1), np.int64(0), np.int64(1), np.int64(1), np.int64(0), np.int64(0), np.int64(0), np.int64(0), np.int64(1), np.int64(1), np.int64(1), np.int64(1), np.int64(1), np.int64(0), np.int64(0), np.int64(0), np.int64(1), np.int64(1), np.int64(1), np.int64(0), np.int64(0), np.int64(1), np.int64(1), np.int64(0), np.int64(0), np.int64(0), np.int64(1), np.int64(1), np.int64(0), np.int64(0), np.int64(1), np.int64(0), np.int64(0), np.int64(0), np.int64(0), np.int64(0), np.int64(1), np.int64(1), np.int64(0), np.int64(1), np.int64(1), np.int64(0)]\n"
     ]
    }
   ],
   "source": [
    "import torch\n",
    "from sklearn.metrics import classification_report\n",
    "#from  utils import to_onehot\n",
    "# Alterar o modelo para o modo de avaliação\n",
    "model.eval()\n",
    "\n",
    "# Para armazenar rótulos verdadeiros e previsões\n",
    "all_labels = []\n",
    "all_preds = []\n",
    "\n",
    "# Desabilitar cálculo de gradiente para inferência\n",
    "with torch.no_grad():\n",
    "    for data in test_loader:\n",
    "        inputs, labels = data\n",
    "        inputs, labels = inputs.to(device), labels.to(device)\n",
    "\n",
    "        # Obter saídas do modelo e prever a classe\n",
    "        outputs = model(inputs)\n",
    "        _, preds = torch.max(outputs, 1)\n",
    "\n",
    "        # Armazenar rótulos e previsões\n",
    "        all_labels.extend(labels.cpu().numpy())\n",
    "        all_preds.extend(preds.cpu().numpy())\n",
    "#all_preds = utils.to_onehot(all_probs, 1)\n",
    "# Gerar relatório de classificação\n",
    "target_names = ['Câncer', 'Normal']\n",
    "print(classification_report(all_labels, all_preds, target_names=target_names))\n",
    "print(outputs)\n",
    "print(preds)\n",
    "print(all_preds)"
   ]
  },
  {
   "cell_type": "code",
   "execution_count": 79,
   "id": "31d673cb-3f55-4a44-9a55-854c31da5c8f",
   "metadata": {},
   "outputs": [
    {
     "name": "stdout",
     "output_type": "stream",
     "text": [
      "[0.         0.10714286 1.        ]\n",
      "---------\n",
      "[0.        0.9516129 1.       ]\n",
      "---------\n"
     ]
    }
   ],
   "source": [
    "import torch\n",
    "from sklearn.metrics import roc_curve, auc\n",
    "import matplotlib.pyplot as plt\n",
    "import numpy as np\n",
    "#y_pred_keras = keras_model.predict(X_test).ravel()\n",
    "\n",
    "\n",
    "classes = test_data.classes\n",
    "num_classes = len(classes)\n",
    "\n",
    "all_labels = np.array(all_labels)\n",
    "all_preds = np.array( all_preds)\n",
    "\n",
    "fpr, tpr, _ = roc_curve(all_labels , all_preds)\n",
    "\n",
    "print(fpr)\n",
    "print('---------')\n",
    "print(tpr)\n",
    "print('---------')\n",
    "\n",
    "\n",
    "\n",
    "\n",
    "#for i in range(num_classes):\n",
    "#    # Calculando a ROC para a classe i\n",
    "#    fpr, tpr, _ = roc_curve(all_labels == i, all_preds[:, i])\n",
    "#    roc_auc = auc(fpr, tpr)\n",
    "#    plt.plot(fpr, tpr, label=f'Classe {classes[i]} (AUC = {roc_auc:.2f})')"
   ]
  },
  {
   "cell_type": "code",
   "execution_count": 81,
   "id": "850977aa-8321-4881-b8a6-2a8b1ba0da62",
   "metadata": {},
   "outputs": [
    {
     "name": "stdout",
     "output_type": "stream",
     "text": [
      "0.9222350230414748\n"
     ]
    }
   ],
   "source": [
    "from sklearn.metrics import auc\n",
    "auc_keras = auc(fpr, tpr)\n",
    "print(auc_keras)"
   ]
  },
  {
   "cell_type": "code",
   "execution_count": 83,
   "id": "e0fbd8bb-1883-4811-b686-09676e000f6b",
   "metadata": {},
   "outputs": [
    {
     "data": {
      "image/png": "[encoded data removed]",
      "text/plain": [
       "<Figure size 640x480 with 1 Axes>"
      ]
     },
     "metadata": {},
     "output_type": "display_data"
    }
   ],
   "source": [
    "import matplotlib.pyplot as plt\n",
    "plt.figure(1)\n",
    "plt.plot([0, 1], [0, 1], 'k--')\n",
    "plt.plot(fpr, tpr, label='AUC (area = {:.3f})'.format(auc_keras))\n",
    "plt.xlabel('False positive rate')\n",
    "plt.ylabel('True positive rate')\n",
    "plt.title('ROC curve')\n",
    "plt.legend(loc='best')\n",
    "plt.savefig(r\"C:\\Users\\maste\\OneDrive\\Documentos\\Resultados_Redes_WVC2025\\ResNet50\\50_epocas\\SGD\\gráficos\\validação\\CurvaRoc_validação.pdf\")\n",
    "plt.show()"
   ]
  },
  {
   "cell_type": "code",
   "execution_count": null,
   "id": "bcfc9405-7d1f-4c68-9e42-ecf5369b909d",
   "metadata": {},
   "outputs": [],
   "source": []
  }
 ],
 "metadata": {
  "kernelspec": {
   "display_name": "Python (GPU)",
   "language": "python",
   "name": "gpu_env"
  },
  "language_info": {
   "codemirror_mode": {
    "name": "ipython",
    "version": 3
   },
   "file_extension": ".py",
   "mimetype": "text/x-python",
   "name": "python",
   "nbconvert_exporter": "python",
   "pygments_lexer": "ipython3",
   "version": "3.10.18"
  }
 },
 "nbformat": 4,
 "nbformat_minor": 5
}
