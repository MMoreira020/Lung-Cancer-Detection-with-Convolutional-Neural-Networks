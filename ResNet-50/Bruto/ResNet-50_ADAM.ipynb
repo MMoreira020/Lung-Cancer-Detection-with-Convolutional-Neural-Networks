{
 "cells": [
  {
   "cell_type": "code",
   "execution_count": 1,
   "id": "5c4a05cc-765d-4c43-9902-446ce265ca80",
   "metadata": {},
   "outputs": [],
   "source": [
    "import torch\n",
    "import torchvision\n",
    "import os\n",
    "from torchvision import transforms, datasets\n",
    "import matplotlib.pyplot as plt\n",
    "import numpy as np\n",
    "from sklearn.metrics import roc_curve, auc, confusion_matrix, ConfusionMatrixDisplay, precision_recall_curve, average_precision_score\n",
    "from sklearn.preprocessing import label_binarize\n",
    "import torch.nn as nn\n",
    "import torch.optim as optim\n",
    "from torchvision import models\n",
    "from sklearn.model_selection import train_test_split\n",
    "from tqdm import tqdm\n",
    "from torch.utils.data import DataLoader\n",
    "import random\n",
    "import os\n",
    "\n",
    "SEED = 42\n",
    "\n",
    "random.seed(SEED)\n",
    "np.random.seed(SEED)\n",
    "\n",
    "torch.manual_seed(SEED)\n",
    "torch.cuda.manual_seed(SEED)\n",
    "\n",
    "torch.backends.cudnn.benchmark = False\n",
    "torch.backends.cudnn.deterministic = True"
   ]
  },
  {
   "cell_type": "code",
   "execution_count": 2,
   "id": "4d92abe4-7466-46ca-bf67-8d657e9e52a1",
   "metadata": {},
   "outputs": [],
   "source": [
    "# Transformações para normalização e aumento de dados (caso necessário)\n",
    "transform = transforms.Compose([\n",
    "    transforms.Resize(256),\n",
    "    transforms.CenterCrop(224),\n",
    "    transforms.ToTensor(),\n",
    "    transforms.Normalize(mean=[0.485, 0.456, 0.406],\n",
    "                         std=[0.229, 0.224, 0.225])\n",
    "])"
   ]
  },
  {
   "cell_type": "code",
   "execution_count": 5,
   "id": "47cf8e9a-685f-4568-80e9-6e779b4cd2ba",
   "metadata": {},
   "outputs": [
    {
     "name": "stdout",
     "output_type": "stream",
     "text": [
      "Número de imagens no dataset de treino: 684\n",
      "Número de imagens no dataset de validação: 147\n"
     ]
    }
   ],
   "source": [
    "# Diretórios de treino e validação\n",
    "train_dir = r\"C:\\Users\\maste\\OneDrive\\Documentos\\Artigo_Rita_Dataset\\Training\"\n",
    "val_dir = r\"C:\\Users\\maste\\OneDrive\\Documentos\\Artigo_Rita_Dataset\\Validation\"\n",
    "\n",
    "def contar_imagens(diretorio):\n",
    "    contador = 0\n",
    "    for root, dirs, files in os.walk(diretorio):\n",
    "        contador += len([f for f in files if f.endswith(('.png', '.jpg', '.jpeg'))])\n",
    "    return contador\n",
    "\n",
    "num_treino = contar_imagens(train_dir)\n",
    "num_validacao = contar_imagens(val_dir)\n",
    "\n",
    "print(f'Número de imagens no dataset de treino: {num_treino}')\n",
    "print(f'Número de imagens no dataset de validação: {num_validacao}')"
   ]
  },
  {
   "cell_type": "code",
   "execution_count": 7,
   "id": "6a4c4221-174a-49b9-901d-c64fec4bd985",
   "metadata": {},
   "outputs": [],
   "source": [
    "# Carregando datasets de treino e validação\n",
    "train_data = datasets.ImageFolder(train_dir, transform=transform)\n",
    "val_data = datasets.ImageFolder(val_dir, transform=transform)"
   ]
  },
  {
   "cell_type": "code",
   "execution_count": 51,
   "id": "c3294480-543c-4c8b-bfda-e0cbce3cf5e2",
   "metadata": {},
   "outputs": [],
   "source": [
    "# Criando dataloaders para iterar sobre os dados durante o treinamento\n",
    "train_loader = DataLoader(train_data, batch_size=64, shuffle=True)\n",
    "val_loader = DataLoader(val_data, batch_size=64, shuffle=False)"
   ]
  },
  {
   "cell_type": "code",
   "execution_count": 53,
   "id": "b65ddfc1-a40a-4c7d-8aa3-d949cce652cb",
   "metadata": {},
   "outputs": [
    {
     "name": "stdout",
     "output_type": "stream",
     "text": [
      "['malignant_tumor', 'no_tumor']\n",
      "['malignant_tumor', 'no_tumor']\n"
     ]
    }
   ],
   "source": [
    "# Definindo as classes do dataset\n",
    "classes = train_data.classes\n",
    "classes2 = val_data.classes\n",
    "print(classes)\n",
    "print(classes2)"
   ]
  },
  {
   "cell_type": "code",
   "execution_count": 55,
   "id": "00911450-7f05-4dcd-a95a-0bd23d3171cb",
   "metadata": {},
   "outputs": [],
   "source": [
    "# Carregando o modelo Resnet-50 pré-treinado\n",
    "model = models.resnet50(weights=models.ResNet50_Weights.DEFAULT)"
   ]
  },
  {
   "cell_type": "code",
   "execution_count": 56,
   "id": "8dfea020-611b-4ff7-8d67-a62018d3acd9",
   "metadata": {},
   "outputs": [],
   "source": [
    "# Congelando as camadas iniciais e descongelando as camadas finais\n",
    "for param in model.parameters():\n",
    "    param.requires_grad = False\n",
    "    num_ftrs = model.fc.in_features\n",
    "    model.fc = nn.Linear(num_ftrs, len(classes))\n",
    "for param in model.fc.parameters():\n",
    "    param.requires_grad = True"
   ]
  },
  {
   "cell_type": "code",
   "execution_count": 57,
   "id": "5acec439-b287-4c22-af1c-c674645ddf6e",
   "metadata": {},
   "outputs": [],
   "source": [
    "# Definindo a função de perda e otimizador\n",
    "criterion = nn.CrossEntropyLoss()\n",
    "optimizer = optim.Adam(model.parameters(), lr=0.001)"
   ]
  },
  {
   "cell_type": "code",
   "execution_count": 58,
   "id": "995f2d4a-0fc9-43bd-b68c-a03cdb09e0e7",
   "metadata": {},
   "outputs": [
    {
     "name": "stdout",
     "output_type": "stream",
     "text": [
      "Using device: cuda\n"
     ]
    }
   ],
   "source": [
    "device = torch.device(\"cuda\" if torch.cuda.is_available() else \"cpu\")\n",
    "print(f\"Using device: {device}\")"
   ]
  },
  {
   "cell_type": "code",
   "execution_count": 63,
   "id": "caab72c3-02c6-4544-911e-4b496fc36860",
   "metadata": {},
   "outputs": [],
   "source": [
    "# Caminhos para salvar os pesos e o modelo\n",
    "save_weights = r\"C:\\Users\\maste\\OneDrive\\Documentos\\Resultados_Redes_WVC2025\\ResNet50\\50_epocas\\ADAM\\melhor_modelo\"\n",
    "save_model = r\"C:\\Users\\maste\\OneDrive\\Documentos\\Resultados_Redes_WVC2025\\ResNet50\\50_epocas\\ADAM\\melhor_modelo\\melhor_modelo.pt\""
   ]
  },
  {
   "cell_type": "code",
   "execution_count": 65,
   "id": "cfb3b92d-bc0f-4027-8463-25cf1bce2c3c",
   "metadata": {},
   "outputs": [],
   "source": [
    "from PIL import ImageFile\n",
    "ImageFile.LOAD_TRUNCATED_IMAGES = True"
   ]
  },
  {
   "cell_type": "code",
   "execution_count": 69,
   "id": "7885a9c0-fde9-4770-b9a5-cb39a37bf102",
   "metadata": {},
   "outputs": [],
   "source": [
    "torch.cuda.empty_cache()"
   ]
  },
  {
   "cell_type": "code",
   "execution_count": 71,
   "id": "5ee93961-80f3-4712-929a-89c84292dcb3",
   "metadata": {},
   "outputs": [
    {
     "name": "stderr",
     "output_type": "stream",
     "text": [
      "Epoch 1/50: 100%|███████████████████████████████████████████████████████████████████| 11/11 [00:16<00:00,  1.54s/batch]\n",
      "Validation Epoch 1/50: 100%|██████████████████████████████████████████████████████████| 3/3 [00:03<00:00,  1.16s/batch]\n"
     ]
    },
    {
     "name": "stdout",
     "output_type": "stream",
     "text": [
      "Epoch 1/50, Training Loss: 0.5570, Training Accuracy: 0.7076, Validation Loss: 0.4422, Validation Accuracy: 0.8435\n",
      "Saved model at epoch 1 with validation accuracy: 0.8435 to C:\\Users\\maste\\OneDrive\\Documentos\\Resultados_Redes_WVC2025\\ResNet50\\50_epocas\\ADAM\\melhor_modelo\\model_epoch_1_val_accuracy_0.8435.pt\n"
     ]
    },
    {
     "name": "stderr",
     "output_type": "stream",
     "text": [
      "Epoch 2/50: 100%|███████████████████████████████████████████████████████████████████| 11/11 [00:16<00:00,  1.52s/batch]\n",
      "Validation Epoch 2/50: 100%|██████████████████████████████████████████████████████████| 3/3 [00:03<00:00,  1.15s/batch]\n"
     ]
    },
    {
     "name": "stdout",
     "output_type": "stream",
     "text": [
      "Epoch 2/50, Training Loss: 0.3504, Training Accuracy: 0.9503, Validation Loss: 0.3451, Validation Accuracy: 0.9456\n",
      "Saved model at epoch 2 with validation accuracy: 0.9456 to C:\\Users\\maste\\OneDrive\\Documentos\\Resultados_Redes_WVC2025\\ResNet50\\50_epocas\\ADAM\\melhor_modelo\\model_epoch_2_val_accuracy_0.9456.pt\n"
     ]
    },
    {
     "name": "stderr",
     "output_type": "stream",
     "text": [
      "Epoch 3/50: 100%|███████████████████████████████████████████████████████████████████| 11/11 [00:15<00:00,  1.44s/batch]\n",
      "Validation Epoch 3/50: 100%|██████████████████████████████████████████████████████████| 3/3 [00:03<00:00,  1.13s/batch]\n"
     ]
    },
    {
     "name": "stdout",
     "output_type": "stream",
     "text": [
      "Epoch 3/50, Training Loss: 0.2407, Training Accuracy: 0.9751, Validation Loss: 0.2806, Validation Accuracy: 0.9456\n"
     ]
    },
    {
     "name": "stderr",
     "output_type": "stream",
     "text": [
      "Epoch 4/50: 100%|███████████████████████████████████████████████████████████████████| 11/11 [00:16<00:00,  1.53s/batch]\n",
      "Validation Epoch 4/50: 100%|██████████████████████████████████████████████████████████| 3/3 [00:03<00:00,  1.18s/batch]\n"
     ]
    },
    {
     "name": "stdout",
     "output_type": "stream",
     "text": [
      "Epoch 4/50, Training Loss: 0.1819, Training Accuracy: 0.9737, Validation Loss: 0.2227, Validation Accuracy: 0.9456\n"
     ]
    },
    {
     "name": "stderr",
     "output_type": "stream",
     "text": [
      "Epoch 5/50: 100%|███████████████████████████████████████████████████████████████████| 11/11 [00:17<00:00,  1.58s/batch]\n",
      "Validation Epoch 5/50: 100%|██████████████████████████████████████████████████████████| 3/3 [00:03<00:00,  1.21s/batch]\n"
     ]
    },
    {
     "name": "stdout",
     "output_type": "stream",
     "text": [
      "Epoch 5/50, Training Loss: 0.1402, Training Accuracy: 0.9854, Validation Loss: 0.2144, Validation Accuracy: 0.9116\n"
     ]
    },
    {
     "name": "stderr",
     "output_type": "stream",
     "text": [
      "Epoch 6/50: 100%|███████████████████████████████████████████████████████████████████| 11/11 [00:17<00:00,  1.56s/batch]\n",
      "Validation Epoch 6/50: 100%|██████████████████████████████████████████████████████████| 3/3 [00:03<00:00,  1.24s/batch]\n"
     ]
    },
    {
     "name": "stdout",
     "output_type": "stream",
     "text": [
      "Epoch 6/50, Training Loss: 0.1207, Training Accuracy: 0.9927, Validation Loss: 0.1611, Validation Accuracy: 0.9184\n"
     ]
    },
    {
     "name": "stderr",
     "output_type": "stream",
     "text": [
      "Epoch 7/50: 100%|███████████████████████████████████████████████████████████████████| 11/11 [00:17<00:00,  1.59s/batch]\n",
      "Validation Epoch 7/50: 100%|██████████████████████████████████████████████████████████| 3/3 [00:03<00:00,  1.15s/batch]\n"
     ]
    },
    {
     "name": "stdout",
     "output_type": "stream",
     "text": [
      "Epoch 7/50, Training Loss: 0.1022, Training Accuracy: 0.9883, Validation Loss: 0.1434, Validation Accuracy: 0.9320\n"
     ]
    },
    {
     "name": "stderr",
     "output_type": "stream",
     "text": [
      "Epoch 8/50: 100%|███████████████████████████████████████████████████████████████████| 11/11 [00:17<00:00,  1.57s/batch]\n",
      "Validation Epoch 8/50: 100%|██████████████████████████████████████████████████████████| 3/3 [00:03<00:00,  1.24s/batch]\n"
     ]
    },
    {
     "name": "stdout",
     "output_type": "stream",
     "text": [
      "Epoch 8/50, Training Loss: 0.0899, Training Accuracy: 0.9942, Validation Loss: 0.1284, Validation Accuracy: 0.9388\n"
     ]
    },
    {
     "name": "stderr",
     "output_type": "stream",
     "text": [
      "Epoch 9/50: 100%|███████████████████████████████████████████████████████████████████| 11/11 [00:17<00:00,  1.61s/batch]\n",
      "Validation Epoch 9/50: 100%|██████████████████████████████████████████████████████████| 3/3 [00:03<00:00,  1.22s/batch]\n"
     ]
    },
    {
     "name": "stdout",
     "output_type": "stream",
     "text": [
      "Epoch 9/50, Training Loss: 0.0846, Training Accuracy: 0.9927, Validation Loss: 0.1197, Validation Accuracy: 0.9660\n",
      "Saved model at epoch 9 with validation accuracy: 0.9660 to C:\\Users\\maste\\OneDrive\\Documentos\\Resultados_Redes_WVC2025\\ResNet50\\50_epocas\\ADAM\\melhor_modelo\\model_epoch_9_val_accuracy_0.9660.pt\n"
     ]
    },
    {
     "name": "stderr",
     "output_type": "stream",
     "text": [
      "Epoch 10/50: 100%|██████████████████████████████████████████████████████████████████| 11/11 [00:18<00:00,  1.66s/batch]\n",
      "Validation Epoch 10/50: 100%|█████████████████████████████████████████████████████████| 3/3 [00:03<00:00,  1.25s/batch]\n"
     ]
    },
    {
     "name": "stdout",
     "output_type": "stream",
     "text": [
      "Epoch 10/50, Training Loss: 0.0697, Training Accuracy: 0.9956, Validation Loss: 0.1257, Validation Accuracy: 0.9592\n"
     ]
    },
    {
     "name": "stderr",
     "output_type": "stream",
     "text": [
      "Epoch 11/50: 100%|██████████████████████████████████████████████████████████████████| 11/11 [00:17<00:00,  1.61s/batch]\n",
      "Validation Epoch 11/50: 100%|█████████████████████████████████████████████████████████| 3/3 [00:03<00:00,  1.22s/batch]\n"
     ]
    },
    {
     "name": "stdout",
     "output_type": "stream",
     "text": [
      "Epoch 11/50, Training Loss: 0.0620, Training Accuracy: 0.9971, Validation Loss: 0.1195, Validation Accuracy: 0.9660\n"
     ]
    },
    {
     "name": "stderr",
     "output_type": "stream",
     "text": [
      "Epoch 12/50: 100%|██████████████████████████████████████████████████████████████████| 11/11 [00:17<00:00,  1.62s/batch]\n",
      "Validation Epoch 12/50: 100%|█████████████████████████████████████████████████████████| 3/3 [00:03<00:00,  1.23s/batch]\n"
     ]
    },
    {
     "name": "stdout",
     "output_type": "stream",
     "text": [
      "Epoch 12/50, Training Loss: 0.0550, Training Accuracy: 0.9971, Validation Loss: 0.1142, Validation Accuracy: 0.9660\n"
     ]
    },
    {
     "name": "stderr",
     "output_type": "stream",
     "text": [
      "Epoch 13/50: 100%|██████████████████████████████████████████████████████████████████| 11/11 [00:17<00:00,  1.60s/batch]\n",
      "Validation Epoch 13/50: 100%|█████████████████████████████████████████████████████████| 3/3 [00:03<00:00,  1.24s/batch]\n"
     ]
    },
    {
     "name": "stdout",
     "output_type": "stream",
     "text": [
      "Epoch 13/50, Training Loss: 0.0533, Training Accuracy: 0.9985, Validation Loss: 0.1095, Validation Accuracy: 0.9660\n"
     ]
    },
    {
     "name": "stderr",
     "output_type": "stream",
     "text": [
      "Epoch 14/50: 100%|██████████████████████████████████████████████████████████████████| 11/11 [00:17<00:00,  1.57s/batch]\n",
      "Validation Epoch 14/50: 100%|█████████████████████████████████████████████████████████| 3/3 [00:03<00:00,  1.25s/batch]\n"
     ]
    },
    {
     "name": "stdout",
     "output_type": "stream",
     "text": [
      "Epoch 14/50, Training Loss: 0.0528, Training Accuracy: 0.9956, Validation Loss: 0.1093, Validation Accuracy: 0.9660\n"
     ]
    },
    {
     "name": "stderr",
     "output_type": "stream",
     "text": [
      "Epoch 15/50: 100%|██████████████████████████████████████████████████████████████████| 11/11 [00:18<00:00,  1.64s/batch]\n",
      "Validation Epoch 15/50: 100%|█████████████████████████████████████████████████████████| 3/3 [00:03<00:00,  1.26s/batch]\n"
     ]
    },
    {
     "name": "stdout",
     "output_type": "stream",
     "text": [
      "Epoch 15/50, Training Loss: 0.0432, Training Accuracy: 0.9971, Validation Loss: 0.1082, Validation Accuracy: 0.9660\n"
     ]
    },
    {
     "name": "stderr",
     "output_type": "stream",
     "text": [
      "Epoch 16/50: 100%|██████████████████████████████████████████████████████████████████| 11/11 [00:18<00:00,  1.66s/batch]\n",
      "Validation Epoch 16/50: 100%|█████████████████████████████████████████████████████████| 3/3 [00:03<00:00,  1.19s/batch]\n"
     ]
    },
    {
     "name": "stdout",
     "output_type": "stream",
     "text": [
      "Epoch 16/50, Training Loss: 0.0403, Training Accuracy: 0.9971, Validation Loss: 0.1082, Validation Accuracy: 0.9660\n"
     ]
    },
    {
     "name": "stderr",
     "output_type": "stream",
     "text": [
      "Epoch 17/50: 100%|██████████████████████████████████████████████████████████████████| 11/11 [00:18<00:00,  1.72s/batch]\n",
      "Validation Epoch 17/50: 100%|█████████████████████████████████████████████████████████| 3/3 [00:03<00:00,  1.28s/batch]\n"
     ]
    },
    {
     "name": "stdout",
     "output_type": "stream",
     "text": [
      "Epoch 17/50, Training Loss: 0.0425, Training Accuracy: 0.9956, Validation Loss: 0.1065, Validation Accuracy: 0.9660\n"
     ]
    },
    {
     "name": "stderr",
     "output_type": "stream",
     "text": [
      "Epoch 18/50: 100%|██████████████████████████████████████████████████████████████████| 11/11 [00:17<00:00,  1.60s/batch]\n",
      "Validation Epoch 18/50: 100%|█████████████████████████████████████████████████████████| 3/3 [00:03<00:00,  1.19s/batch]\n"
     ]
    },
    {
     "name": "stdout",
     "output_type": "stream",
     "text": [
      "Epoch 18/50, Training Loss: 0.0430, Training Accuracy: 0.9971, Validation Loss: 0.0954, Validation Accuracy: 0.9660\n"
     ]
    },
    {
     "name": "stderr",
     "output_type": "stream",
     "text": [
      "Epoch 19/50: 100%|██████████████████████████████████████████████████████████████████| 11/11 [00:17<00:00,  1.58s/batch]\n",
      "Validation Epoch 19/50: 100%|█████████████████████████████████████████████████████████| 3/3 [00:03<00:00,  1.13s/batch]\n"
     ]
    },
    {
     "name": "stdout",
     "output_type": "stream",
     "text": [
      "Epoch 19/50, Training Loss: 0.0394, Training Accuracy: 0.9971, Validation Loss: 0.1039, Validation Accuracy: 0.9660\n"
     ]
    },
    {
     "name": "stderr",
     "output_type": "stream",
     "text": [
      "Epoch 20/50: 100%|██████████████████████████████████████████████████████████████████| 11/11 [00:17<00:00,  1.56s/batch]\n",
      "Validation Epoch 20/50: 100%|█████████████████████████████████████████████████████████| 3/3 [00:03<00:00,  1.22s/batch]\n"
     ]
    },
    {
     "name": "stdout",
     "output_type": "stream",
     "text": [
      "Epoch 20/50, Training Loss: 0.0364, Training Accuracy: 0.9985, Validation Loss: 0.1037, Validation Accuracy: 0.9660\n"
     ]
    },
    {
     "name": "stderr",
     "output_type": "stream",
     "text": [
      "Epoch 21/50: 100%|██████████████████████████████████████████████████████████████████| 11/11 [00:17<00:00,  1.56s/batch]\n",
      "Validation Epoch 21/50: 100%|█████████████████████████████████████████████████████████| 3/3 [00:03<00:00,  1.19s/batch]\n"
     ]
    },
    {
     "name": "stdout",
     "output_type": "stream",
     "text": [
      "Epoch 21/50, Training Loss: 0.0295, Training Accuracy: 1.0000, Validation Loss: 0.1015, Validation Accuracy: 0.9660\n"
     ]
    },
    {
     "name": "stderr",
     "output_type": "stream",
     "text": [
      "Epoch 22/50: 100%|██████████████████████████████████████████████████████████████████| 11/11 [00:17<00:00,  1.59s/batch]\n",
      "Validation Epoch 22/50: 100%|█████████████████████████████████████████████████████████| 3/3 [00:03<00:00,  1.21s/batch]\n"
     ]
    },
    {
     "name": "stdout",
     "output_type": "stream",
     "text": [
      "Epoch 22/50, Training Loss: 0.0285, Training Accuracy: 0.9985, Validation Loss: 0.1103, Validation Accuracy: 0.9524\n"
     ]
    },
    {
     "name": "stderr",
     "output_type": "stream",
     "text": [
      "Epoch 23/50: 100%|██████████████████████████████████████████████████████████████████| 11/11 [00:16<00:00,  1.54s/batch]\n",
      "Validation Epoch 23/50: 100%|█████████████████████████████████████████████████████████| 3/3 [00:03<00:00,  1.20s/batch]\n"
     ]
    },
    {
     "name": "stdout",
     "output_type": "stream",
     "text": [
      "Epoch 23/50, Training Loss: 0.0277, Training Accuracy: 1.0000, Validation Loss: 0.0967, Validation Accuracy: 0.9660\n"
     ]
    },
    {
     "name": "stderr",
     "output_type": "stream",
     "text": [
      "Epoch 24/50: 100%|██████████████████████████████████████████████████████████████████| 11/11 [00:17<00:00,  1.56s/batch]\n",
      "Validation Epoch 24/50: 100%|█████████████████████████████████████████████████████████| 3/3 [00:03<00:00,  1.22s/batch]\n"
     ]
    },
    {
     "name": "stdout",
     "output_type": "stream",
     "text": [
      "Epoch 24/50, Training Loss: 0.0283, Training Accuracy: 0.9971, Validation Loss: 0.1001, Validation Accuracy: 0.9660\n"
     ]
    },
    {
     "name": "stderr",
     "output_type": "stream",
     "text": [
      "Epoch 25/50: 100%|██████████████████████████████████████████████████████████████████| 11/11 [00:17<00:00,  1.55s/batch]\n",
      "Validation Epoch 25/50: 100%|█████████████████████████████████████████████████████████| 3/3 [00:03<00:00,  1.22s/batch]\n"
     ]
    },
    {
     "name": "stdout",
     "output_type": "stream",
     "text": [
      "Epoch 25/50, Training Loss: 0.0274, Training Accuracy: 1.0000, Validation Loss: 0.1063, Validation Accuracy: 0.9592\n"
     ]
    },
    {
     "name": "stderr",
     "output_type": "stream",
     "text": [
      "Epoch 26/50: 100%|██████████████████████████████████████████████████████████████████| 11/11 [00:17<00:00,  1.55s/batch]\n",
      "Validation Epoch 26/50: 100%|█████████████████████████████████████████████████████████| 3/3 [00:03<00:00,  1.22s/batch]\n"
     ]
    },
    {
     "name": "stdout",
     "output_type": "stream",
     "text": [
      "Epoch 26/50, Training Loss: 0.0247, Training Accuracy: 1.0000, Validation Loss: 0.1048, Validation Accuracy: 0.9592\n"
     ]
    },
    {
     "name": "stderr",
     "output_type": "stream",
     "text": [
      "Epoch 27/50: 100%|██████████████████████████████████████████████████████████████████| 11/11 [00:17<00:00,  1.55s/batch]\n",
      "Validation Epoch 27/50: 100%|█████████████████████████████████████████████████████████| 3/3 [00:03<00:00,  1.23s/batch]\n"
     ]
    },
    {
     "name": "stdout",
     "output_type": "stream",
     "text": [
      "Epoch 27/50, Training Loss: 0.0242, Training Accuracy: 1.0000, Validation Loss: 0.1065, Validation Accuracy: 0.9524\n"
     ]
    },
    {
     "name": "stderr",
     "output_type": "stream",
     "text": [
      "Epoch 28/50: 100%|██████████████████████████████████████████████████████████████████| 11/11 [00:17<00:00,  1.57s/batch]\n",
      "Validation Epoch 28/50: 100%|█████████████████████████████████████████████████████████| 3/3 [00:03<00:00,  1.24s/batch]\n"
     ]
    },
    {
     "name": "stdout",
     "output_type": "stream",
     "text": [
      "Epoch 28/50, Training Loss: 0.0237, Training Accuracy: 0.9985, Validation Loss: 0.1052, Validation Accuracy: 0.9524\n"
     ]
    },
    {
     "name": "stderr",
     "output_type": "stream",
     "text": [
      "Epoch 29/50: 100%|██████████████████████████████████████████████████████████████████| 11/11 [00:17<00:00,  1.57s/batch]\n",
      "Validation Epoch 29/50: 100%|█████████████████████████████████████████████████████████| 3/3 [00:03<00:00,  1.21s/batch]\n"
     ]
    },
    {
     "name": "stdout",
     "output_type": "stream",
     "text": [
      "Epoch 29/50, Training Loss: 0.0195, Training Accuracy: 1.0000, Validation Loss: 0.0997, Validation Accuracy: 0.9660\n"
     ]
    },
    {
     "name": "stderr",
     "output_type": "stream",
     "text": [
      "Epoch 30/50: 100%|██████████████████████████████████████████████████████████████████| 11/11 [00:17<00:00,  1.58s/batch]\n",
      "Validation Epoch 30/50: 100%|█████████████████████████████████████████████████████████| 3/3 [00:03<00:00,  1.27s/batch]\n"
     ]
    },
    {
     "name": "stdout",
     "output_type": "stream",
     "text": [
      "Epoch 30/50, Training Loss: 0.0213, Training Accuracy: 1.0000, Validation Loss: 0.1046, Validation Accuracy: 0.9660\n"
     ]
    },
    {
     "name": "stderr",
     "output_type": "stream",
     "text": [
      "Epoch 31/50: 100%|██████████████████████████████████████████████████████████████████| 11/11 [00:17<00:00,  1.55s/batch]\n",
      "Validation Epoch 31/50: 100%|█████████████████████████████████████████████████████████| 3/3 [00:03<00:00,  1.21s/batch]\n"
     ]
    },
    {
     "name": "stdout",
     "output_type": "stream",
     "text": [
      "Epoch 31/50, Training Loss: 0.0188, Training Accuracy: 1.0000, Validation Loss: 0.1046, Validation Accuracy: 0.9592\n"
     ]
    },
    {
     "name": "stderr",
     "output_type": "stream",
     "text": [
      "Epoch 32/50: 100%|██████████████████████████████████████████████████████████████████| 11/11 [00:17<00:00,  1.56s/batch]\n",
      "Validation Epoch 32/50: 100%|█████████████████████████████████████████████████████████| 3/3 [00:03<00:00,  1.19s/batch]\n"
     ]
    },
    {
     "name": "stdout",
     "output_type": "stream",
     "text": [
      "Epoch 32/50, Training Loss: 0.0185, Training Accuracy: 1.0000, Validation Loss: 0.0965, Validation Accuracy: 0.9660\n"
     ]
    },
    {
     "name": "stderr",
     "output_type": "stream",
     "text": [
      "Epoch 33/50: 100%|██████████████████████████████████████████████████████████████████| 11/11 [00:17<00:00,  1.58s/batch]\n",
      "Validation Epoch 33/50: 100%|█████████████████████████████████████████████████████████| 3/3 [00:03<00:00,  1.21s/batch]\n"
     ]
    },
    {
     "name": "stdout",
     "output_type": "stream",
     "text": [
      "Epoch 33/50, Training Loss: 0.0156, Training Accuracy: 1.0000, Validation Loss: 0.0994, Validation Accuracy: 0.9660\n"
     ]
    },
    {
     "name": "stderr",
     "output_type": "stream",
     "text": [
      "Epoch 34/50: 100%|██████████████████████████████████████████████████████████████████| 11/11 [00:16<00:00,  1.54s/batch]\n",
      "Validation Epoch 34/50: 100%|█████████████████████████████████████████████████████████| 3/3 [00:03<00:00,  1.23s/batch]\n"
     ]
    },
    {
     "name": "stdout",
     "output_type": "stream",
     "text": [
      "Epoch 34/50, Training Loss: 0.0194, Training Accuracy: 1.0000, Validation Loss: 0.1056, Validation Accuracy: 0.9592\n"
     ]
    },
    {
     "name": "stderr",
     "output_type": "stream",
     "text": [
      "Epoch 35/50: 100%|██████████████████████████████████████████████████████████████████| 11/11 [00:17<00:00,  1.59s/batch]\n",
      "Validation Epoch 35/50: 100%|█████████████████████████████████████████████████████████| 3/3 [00:03<00:00,  1.19s/batch]\n"
     ]
    },
    {
     "name": "stdout",
     "output_type": "stream",
     "text": [
      "Epoch 35/50, Training Loss: 0.0168, Training Accuracy: 1.0000, Validation Loss: 0.1084, Validation Accuracy: 0.9524\n"
     ]
    },
    {
     "name": "stderr",
     "output_type": "stream",
     "text": [
      "Epoch 36/50: 100%|██████████████████████████████████████████████████████████████████| 11/11 [00:17<00:00,  1.57s/batch]\n",
      "Validation Epoch 36/50: 100%|█████████████████████████████████████████████████████████| 3/3 [00:03<00:00,  1.21s/batch]\n"
     ]
    },
    {
     "name": "stdout",
     "output_type": "stream",
     "text": [
      "Epoch 36/50, Training Loss: 0.0151, Training Accuracy: 1.0000, Validation Loss: 0.0966, Validation Accuracy: 0.9660\n"
     ]
    },
    {
     "name": "stderr",
     "output_type": "stream",
     "text": [
      "Epoch 37/50: 100%|██████████████████████████████████████████████████████████████████| 11/11 [00:17<00:00,  1.56s/batch]\n",
      "Validation Epoch 37/50: 100%|█████████████████████████████████████████████████████████| 3/3 [00:03<00:00,  1.19s/batch]\n"
     ]
    },
    {
     "name": "stdout",
     "output_type": "stream",
     "text": [
      "Epoch 37/50, Training Loss: 0.0196, Training Accuracy: 0.9985, Validation Loss: 0.1028, Validation Accuracy: 0.9524\n"
     ]
    },
    {
     "name": "stderr",
     "output_type": "stream",
     "text": [
      "Epoch 38/50: 100%|██████████████████████████████████████████████████████████████████| 11/11 [00:17<00:00,  1.55s/batch]\n",
      "Validation Epoch 38/50: 100%|█████████████████████████████████████████████████████████| 3/3 [00:03<00:00,  1.19s/batch]\n"
     ]
    },
    {
     "name": "stdout",
     "output_type": "stream",
     "text": [
      "Epoch 38/50, Training Loss: 0.0298, Training Accuracy: 0.9956, Validation Loss: 0.0979, Validation Accuracy: 0.9660\n"
     ]
    },
    {
     "name": "stderr",
     "output_type": "stream",
     "text": [
      "Epoch 39/50: 100%|██████████████████████████████████████████████████████████████████| 11/11 [00:17<00:00,  1.55s/batch]\n",
      "Validation Epoch 39/50: 100%|█████████████████████████████████████████████████████████| 3/3 [00:03<00:00,  1.20s/batch]\n"
     ]
    },
    {
     "name": "stdout",
     "output_type": "stream",
     "text": [
      "Epoch 39/50, Training Loss: 0.0210, Training Accuracy: 0.9985, Validation Loss: 0.1048, Validation Accuracy: 0.9524\n"
     ]
    },
    {
     "name": "stderr",
     "output_type": "stream",
     "text": [
      "Epoch 40/50: 100%|██████████████████████████████████████████████████████████████████| 11/11 [00:16<00:00,  1.49s/batch]\n",
      "Validation Epoch 40/50: 100%|█████████████████████████████████████████████████████████| 3/3 [00:03<00:00,  1.14s/batch]\n"
     ]
    },
    {
     "name": "stdout",
     "output_type": "stream",
     "text": [
      "Epoch 40/50, Training Loss: 0.0148, Training Accuracy: 1.0000, Validation Loss: 0.1005, Validation Accuracy: 0.9660\n"
     ]
    },
    {
     "name": "stderr",
     "output_type": "stream",
     "text": [
      "Epoch 41/50: 100%|██████████████████████████████████████████████████████████████████| 11/11 [00:15<00:00,  1.45s/batch]\n",
      "Validation Epoch 41/50: 100%|█████████████████████████████████████████████████████████| 3/3 [00:03<00:00,  1.13s/batch]\n"
     ]
    },
    {
     "name": "stdout",
     "output_type": "stream",
     "text": [
      "Epoch 41/50, Training Loss: 0.0161, Training Accuracy: 1.0000, Validation Loss: 0.1055, Validation Accuracy: 0.9524\n"
     ]
    },
    {
     "name": "stderr",
     "output_type": "stream",
     "text": [
      "Epoch 42/50: 100%|██████████████████████████████████████████████████████████████████| 11/11 [00:16<00:00,  1.47s/batch]\n",
      "Validation Epoch 42/50: 100%|█████████████████████████████████████████████████████████| 3/3 [00:03<00:00,  1.22s/batch]\n"
     ]
    },
    {
     "name": "stdout",
     "output_type": "stream",
     "text": [
      "Epoch 42/50, Training Loss: 0.0139, Training Accuracy: 1.0000, Validation Loss: 0.1078, Validation Accuracy: 0.9456\n"
     ]
    },
    {
     "name": "stderr",
     "output_type": "stream",
     "text": [
      "Epoch 43/50: 100%|██████████████████████████████████████████████████████████████████| 11/11 [00:17<00:00,  1.55s/batch]\n",
      "Validation Epoch 43/50: 100%|█████████████████████████████████████████████████████████| 3/3 [00:03<00:00,  1.21s/batch]\n"
     ]
    },
    {
     "name": "stdout",
     "output_type": "stream",
     "text": [
      "Epoch 43/50, Training Loss: 0.0175, Training Accuracy: 1.0000, Validation Loss: 0.0942, Validation Accuracy: 0.9660\n"
     ]
    },
    {
     "name": "stderr",
     "output_type": "stream",
     "text": [
      "Epoch 44/50: 100%|██████████████████████████████████████████████████████████████████| 11/11 [00:17<00:00,  1.56s/batch]\n",
      "Validation Epoch 44/50: 100%|█████████████████████████████████████████████████████████| 3/3 [00:03<00:00,  1.22s/batch]\n"
     ]
    },
    {
     "name": "stdout",
     "output_type": "stream",
     "text": [
      "Epoch 44/50, Training Loss: 0.0127, Training Accuracy: 1.0000, Validation Loss: 0.1042, Validation Accuracy: 0.9592\n"
     ]
    },
    {
     "name": "stderr",
     "output_type": "stream",
     "text": [
      "Epoch 45/50: 100%|██████████████████████████████████████████████████████████████████| 11/11 [00:17<00:00,  1.55s/batch]\n",
      "Validation Epoch 45/50: 100%|█████████████████████████████████████████████████████████| 3/3 [00:03<00:00,  1.19s/batch]\n"
     ]
    },
    {
     "name": "stdout",
     "output_type": "stream",
     "text": [
      "Epoch 45/50, Training Loss: 0.0113, Training Accuracy: 1.0000, Validation Loss: 0.0961, Validation Accuracy: 0.9660\n"
     ]
    },
    {
     "name": "stderr",
     "output_type": "stream",
     "text": [
      "Epoch 46/50: 100%|██████████████████████████████████████████████████████████████████| 11/11 [00:17<00:00,  1.57s/batch]\n",
      "Validation Epoch 46/50: 100%|█████████████████████████████████████████████████████████| 3/3 [00:03<00:00,  1.19s/batch]\n"
     ]
    },
    {
     "name": "stdout",
     "output_type": "stream",
     "text": [
      "Epoch 46/50, Training Loss: 0.0108, Training Accuracy: 1.0000, Validation Loss: 0.1015, Validation Accuracy: 0.9660\n"
     ]
    },
    {
     "name": "stderr",
     "output_type": "stream",
     "text": [
      "Epoch 47/50: 100%|██████████████████████████████████████████████████████████████████| 11/11 [00:17<00:00,  1.56s/batch]\n",
      "Validation Epoch 47/50: 100%|█████████████████████████████████████████████████████████| 3/3 [00:03<00:00,  1.23s/batch]\n"
     ]
    },
    {
     "name": "stdout",
     "output_type": "stream",
     "text": [
      "Epoch 47/50, Training Loss: 0.0104, Training Accuracy: 1.0000, Validation Loss: 0.0979, Validation Accuracy: 0.9592\n"
     ]
    },
    {
     "name": "stderr",
     "output_type": "stream",
     "text": [
      "Epoch 48/50: 100%|██████████████████████████████████████████████████████████████████| 11/11 [00:17<00:00,  1.55s/batch]\n",
      "Validation Epoch 48/50: 100%|█████████████████████████████████████████████████████████| 3/3 [00:03<00:00,  1.24s/batch]\n"
     ]
    },
    {
     "name": "stdout",
     "output_type": "stream",
     "text": [
      "Epoch 48/50, Training Loss: 0.0096, Training Accuracy: 1.0000, Validation Loss: 0.1025, Validation Accuracy: 0.9660\n"
     ]
    },
    {
     "name": "stderr",
     "output_type": "stream",
     "text": [
      "Epoch 49/50: 100%|██████████████████████████████████████████████████████████████████| 11/11 [00:16<00:00,  1.54s/batch]\n",
      "Validation Epoch 49/50: 100%|█████████████████████████████████████████████████████████| 3/3 [00:03<00:00,  1.15s/batch]\n"
     ]
    },
    {
     "name": "stdout",
     "output_type": "stream",
     "text": [
      "Epoch 49/50, Training Loss: 0.0106, Training Accuracy: 1.0000, Validation Loss: 0.0952, Validation Accuracy: 0.9660\n"
     ]
    },
    {
     "name": "stderr",
     "output_type": "stream",
     "text": [
      "Epoch 50/50: 100%|██████████████████████████████████████████████████████████████████| 11/11 [00:17<00:00,  1.57s/batch]\n",
      "Validation Epoch 50/50: 100%|█████████████████████████████████████████████████████████| 3/3 [00:03<00:00,  1.20s/batch]\n"
     ]
    },
    {
     "name": "stdout",
     "output_type": "stream",
     "text": [
      "Epoch 50/50, Training Loss: 0.0091, Training Accuracy: 1.0000, Validation Loss: 0.0954, Validation Accuracy: 0.9660\n",
      "Treinamento finalizado\n",
      "Saved entire model at C:\\Users\\maste\\OneDrive\\Documentos\\Resultados_Redes_WVC2025\\ResNet50\\50_epocas\\ADAM\\melhor_modelo\\melhor_modelo.pt\n"
     ]
    }
   ],
   "source": [
    "model.to(device)\n",
    "num_epochs=50\n",
    "# Listas para armazenar perda e acurácia\n",
    "train_loss_values = []\n",
    "val_loss_values = []\n",
    "train_accuracy_values = []\n",
    "val_accuracy_values = []\n",
    "\n",
    "# Listas para armazenar rótulos verdadeiros e predições para a matriz de confusão e curva ROC\n",
    "all_labels = []\n",
    "all_preds = []\n",
    "\n",
    "# Treinamento e coleta de dados\n",
    "best_accuracy = 0.0\n",
    "counter = 0\n",
    "\n",
    "for epoch in range(num_epochs):\n",
    "    model.train()\n",
    "    running_loss = 0.0\n",
    "    correct = 0\n",
    "    total = 0\n",
    "\n",
    "    for inputs, labels in tqdm(train_loader, desc=f\"Epoch {epoch+1}/{num_epochs}\", unit='batch'):\n",
    "        inputs, labels = inputs.to(device), labels.to(device)\n",
    "\n",
    "        optimizer.zero_grad()\n",
    "        outputs = model(inputs)\n",
    "        loss = criterion(outputs, labels)\n",
    "        loss.backward()\n",
    "        optimizer.step()\n",
    "        running_loss += loss.item() * inputs.size(0)\n",
    "\n",
    "        _, predicted = torch.max(outputs.data, 1)\n",
    "        total += labels.size(0)\n",
    "        correct += (predicted == labels).sum().item()\n",
    "\n",
    "    epoch_loss = running_loss / len(train_loader.dataset)\n",
    "    train_accuracy = correct / total\n",
    "\n",
    "    train_loss_values.append(epoch_loss)\n",
    "    train_accuracy_values.append(train_accuracy)\n",
    "\n",
    "    # Validação\n",
    "    model.eval()\n",
    "    val_running_loss = 0.0\n",
    "    val_correct = 0\n",
    "    val_total = 0\n",
    "\n",
    "    with torch.no_grad():\n",
    "        for inputs, labels in tqdm(val_loader, desc=f\"Validation Epoch {epoch+1}/{num_epochs}\", unit='batch'):\n",
    "            inputs, labels = inputs.to(device), labels.to(device)\n",
    "            outputs = model(inputs)\n",
    "            loss = criterion(outputs, labels)\n",
    "            val_running_loss += loss.item() * inputs.size(0)\n",
    "            _, predicted = torch.max(outputs.data, 1)\n",
    "            val_total += labels.size(0)\n",
    "            val_correct += (predicted == labels).sum().item()\n",
    "\n",
    "        val_loss = val_running_loss / len(val_loader.dataset)\n",
    "        val_accuracy = val_correct / val_total\n",
    "\n",
    "        val_loss_values.append(val_loss)\n",
    "        val_accuracy_values.append(val_accuracy)\n",
    "\n",
    "        print(f'Epoch {epoch+1}/{num_epochs}, '\n",
    "              f'Training Loss: {epoch_loss:.4f}, Training Accuracy: {train_accuracy:.4f}, '\n",
    "              f'Validation Loss: {val_loss:.4f}, Validation Accuracy: {val_accuracy:.4f}')\n",
    "\n",
    "        # Verificar se a acurácia de validação melhorou e salvar o modelo\n",
    "        if val_accuracy > best_accuracy:\n",
    "            best_accuracy = val_accuracy\n",
    "            model_save_path = os.path.join(save_weights, f'model_epoch_{epoch+1}_val_accuracy_{val_accuracy:.4f}.pt')\n",
    "            torch.save(model.state_dict(), model_save_path)\n",
    "            print(f'Saved model at epoch {epoch+1} with validation accuracy: {val_accuracy:.4f} to {model_save_path}')\n",
    "\n",
    "print('Treinamento finalizado')\n",
    "\n",
    "# Salvar o modelo inteiro\n",
    "torch.save(model, save_model)\n",
    "print(f'Saved entire model at {save_model}')"
   ]
  },
  {
   "cell_type": "code",
   "execution_count": 73,
   "id": "6b2ec9d0-884e-4023-b7de-0cc9b7ca171f",
   "metadata": {},
   "outputs": [
    {
     "name": "stdout",
     "output_type": "stream",
     "text": [
      "Loaded model from C:\\Users\\maste\\OneDrive\\Documentos\\Resultados_Redes_WVC2025\\ResNet50\\50_epocas\\ADAM\\melhor_modelo\\melhor_modelo.pt\n"
     ]
    },
    {
     "name": "stderr",
     "output_type": "stream",
     "text": [
      "C:\\Users\\maste\\AppData\\Local\\Temp\\ipykernel_17340\\1701221842.py:7: FutureWarning: You are using `torch.load` with `weights_only=False` (the current default value), which uses the default pickle module implicitly. It is possible to construct malicious pickle data which will execute arbitrary code during unpickling (See https://github.com/pytorch/pytorch/blob/main/SECURITY.md#untrusted-models for more details). In a future release, the default value for `weights_only` will be flipped to `True`. This limits the functions that could be executed during unpickling. Arbitrary objects will no longer be allowed to be loaded via this mode unless they are explicitly allowlisted by the user via `torch.serialization.add_safe_globals`. We recommend you start setting `weights_only=True` for any use case where you don't have full control of the loaded file. Please open an issue on GitHub for any issues related to this experimental feature.\n",
      "  model.load_state_dict(torch.load(model_save_path))\n"
     ]
    },
    {
     "name": "stdout",
     "output_type": "stream",
     "text": [
      "Loaded weights from C:\\Users\\maste\\OneDrive\\Documentos\\Resultados_Redes_WVC2025\\ResNet50\\50_epocas\\ADAM\\melhor_modelo\\model_epoch_9_val_accuracy_0.9660.pt\n"
     ]
    }
   ],
   "source": [
    "save_model = r\"C:\\Users\\maste\\OneDrive\\Documentos\\Resultados_Redes_WVC2025\\ResNet50\\50_epocas\\ADAM\\melhor_modelo\\melhor_modelo.pt\"\n",
    "model = torch.load(save_model, weights_only=False)\n",
    "model.eval()\n",
    "print(f'Loaded model from {save_model}')\n",
    "\n",
    "model_save_path= r\"C:\\Users\\maste\\OneDrive\\Documentos\\Resultados_Redes_WVC2025\\ResNet50\\50_epocas\\ADAM\\melhor_modelo\\model_epoch_9_val_accuracy_0.9660.pt\"\n",
    "model.load_state_dict(torch.load(model_save_path))\n",
    "model.eval()\n",
    "print(f'Loaded weights from {model_save_path}')"
   ]
  },
  {
   "cell_type": "code",
   "execution_count": 75,
   "id": "a9d59ca0-359f-4c5b-8bd9-003a54f58cdd",
   "metadata": {},
   "outputs": [
    {
     "name": "stdout",
     "output_type": "stream",
     "text": [
      "Confirmation Accuracy: 0.9660\n"
     ]
    }
   ],
   "source": [
    "# Confirmação do carregamento do modelo e dos pesos\n",
    "model.to(device)\n",
    "\n",
    "model.eval()\n",
    "confirmation_correct = 0\n",
    "confirmation_total = 0\n",
    "with torch.no_grad():\n",
    "    for inputs, labels in val_loader:\n",
    "        inputs, labels = inputs.to(device), labels.to(device)\n",
    "        outputs = model(inputs)\n",
    "        _, predicted = torch.max(outputs.data, 1)\n",
    "        confirmation_total += labels.size(0)\n",
    "        confirmation_correct += (predicted == labels).sum().item()\n",
    "\n",
    "print(f'Confirmation Accuracy: { confirmation_correct / confirmation_total:.4f}')"
   ]
  },
  {
   "cell_type": "code",
   "execution_count": 77,
   "id": "b69baf0c-a880-4eaa-949c-fc1d0ff8d9c9",
   "metadata": {},
   "outputs": [
    {
     "name": "stderr",
     "output_type": "stream",
     "text": [
      "Val: 100%|███████████████████████████████████████████████████████████████████████████████| 3/3 [00:03<00:00,  1.16s/it]"
     ]
    },
    {
     "name": "stdout",
     "output_type": "stream",
     "text": [
      "Val Loss: 0.0954, Val Accuracy: 0.9660\n"
     ]
    },
    {
     "name": "stderr",
     "output_type": "stream",
     "text": [
      "\n"
     ]
    }
   ],
   "source": [
    "# Avaliando o modelo carregado no conjunto de teste\n",
    "model.eval()\n",
    "test_running_loss = 0.0\n",
    "test_correct = 0\n",
    "test_total = 0\n",
    "\n",
    "all_labels = []\n",
    "all_probs = []  # Para armazenar as probabilidades\n",
    "\n",
    "with torch.no_grad():\n",
    "    for inputs, labels in tqdm(val_loader, desc=\"Val\"):\n",
    "        inputs, labels = inputs.to(device), labels.to(device)\n",
    "        outputs = model(inputs)\n",
    "        #loss = nn.CrossEntropyLoss()(outputs, labels)\n",
    "        #test_running_loss += loss.item() * inputs.size(0)\n",
    "        _, predicted = torch.max(outputs.data, 1)\n",
    "        val_total += labels.size(0)\n",
    "        val_correct += (predicted == labels).sum().item()\n",
    "\n",
    "        # Armazenando rótulos e probabilidades\n",
    "        all_labels.extend(labels.cpu().numpy())\n",
    "        all_probs.extend(torch.softmax(outputs, dim=1).cpu().numpy())\n",
    "\n",
    "    val_loss = val_running_loss / len(val_loader.dataset)\n",
    "    val_accuracy = val_correct / val_total\n",
    "    print(f'Val Loss: {val_loss:.4f}, Val Accuracy: {val_accuracy:.4f}')"
   ]
  },
  {
   "cell_type": "code",
   "execution_count": 79,
   "id": "c1dab912-1e04-412f-9a61-1add1f641609",
   "metadata": {},
   "outputs": [],
   "source": [
    "# Calculando a matriz de confusão\n",
    "cm = confusion_matrix(all_labels, np.argmax(all_probs, axis=1))"
   ]
  },
  {
   "cell_type": "code",
   "execution_count": 81,
   "id": "7f759859-f8a8-4772-8a54-8a3be135595a",
   "metadata": {},
   "outputs": [
    {
     "data": {
      "image/png": "[encoded data removed]",
      "text/plain": [
       "<Figure size 640x480 with 2 Axes>"
      ]
     },
     "metadata": {},
     "output_type": "display_data"
    }
   ],
   "source": [
    "# Plotando a matriz de confusão\n",
    "disp = ConfusionMatrixDisplay(confusion_matrix=cm, display_labels=classes)\n",
    "disp.plot(cmap=plt.cm.Blues)\n",
    "plt.title('Confusion Matrix')\n",
    "plt.savefig(r\"C:\\Users\\maste\\OneDrive\\Documentos\\Resultados_Redes_WVC2025\\ResNet50\\50_epocas\\ADAM\\gráficos\\treino\\Matriz_treino\")\n",
    "plt.show()"
   ]
  },
  {
   "cell_type": "code",
   "execution_count": 83,
   "id": "2bfa1fd2-47bb-4b19-b8c1-eea35bd7ac78",
   "metadata": {},
   "outputs": [
    {
     "name": "stdout",
     "output_type": "stream",
     "text": [
      "              precision    recall  f1-score   support\n",
      "\n",
      "         Bom       1.00      0.94      0.97        84\n",
      "        Ruim       0.93      1.00      0.96        63\n",
      "\n",
      "    accuracy                           0.97       147\n",
      "   macro avg       0.96      0.97      0.97       147\n",
      "weighted avg       0.97      0.97      0.97       147\n",
      "\n",
      "tensor([[-1.4447,  1.6753],\n",
      "        [-1.0948,  1.0541],\n",
      "        [-1.3028,  1.2096],\n",
      "        [-1.0076,  0.7838],\n",
      "        [-0.9667,  0.9637],\n",
      "        [-1.1276,  1.1548],\n",
      "        [-1.7340,  1.7405],\n",
      "        [-1.4681,  1.5874],\n",
      "        [-1.3228,  1.3642],\n",
      "        [-1.5308,  1.5393],\n",
      "        [-1.0305,  0.8655],\n",
      "        [-1.8396,  1.7564],\n",
      "        [-0.9335,  0.7717],\n",
      "        [-0.4697,  0.3157],\n",
      "        [-0.3657,  0.3741],\n",
      "        [-1.1476,  1.1804],\n",
      "        [-0.7090,  0.6479],\n",
      "        [-1.6651,  1.7985],\n",
      "        [-1.3304,  1.4642]], device='cuda:0')\n",
      "tensor([1, 1, 1, 1, 1, 1, 1, 1, 1, 1, 1, 1, 1, 1, 1, 1, 1, 1, 1],\n",
      "       device='cuda:0')\n",
      "[np.int64(0), np.int64(0), np.int64(0), np.int64(0), np.int64(0), np.int64(0), np.int64(0), np.int64(0), np.int64(0), np.int64(0), np.int64(0), np.int64(0), np.int64(0), np.int64(0), np.int64(0), np.int64(0), np.int64(1), np.int64(1), np.int64(0), np.int64(0), np.int64(0), np.int64(0), np.int64(1), np.int64(1), np.int64(0), np.int64(0), np.int64(1), np.int64(0), np.int64(0), np.int64(0), np.int64(0), np.int64(0), np.int64(0), np.int64(0), np.int64(0), np.int64(0), np.int64(0), np.int64(0), np.int64(0), np.int64(0), np.int64(0), np.int64(0), np.int64(0), np.int64(0), np.int64(0), np.int64(0), np.int64(0), np.int64(0), np.int64(0), np.int64(0), np.int64(0), np.int64(0), np.int64(0), np.int64(0), np.int64(0), np.int64(0), np.int64(0), np.int64(0), np.int64(0), np.int64(0), np.int64(0), np.int64(0), np.int64(0), np.int64(0), np.int64(0), np.int64(0), np.int64(0), np.int64(0), np.int64(0), np.int64(0), np.int64(0), np.int64(0), np.int64(0), np.int64(0), np.int64(0), np.int64(0), np.int64(0), np.int64(0), np.int64(0), np.int64(0), np.int64(0), np.int64(0), np.int64(0), np.int64(0), np.int64(1), np.int64(1), np.int64(1), np.int64(1), np.int64(1), np.int64(1), np.int64(1), np.int64(1), np.int64(1), np.int64(1), np.int64(1), np.int64(1), np.int64(1), np.int64(1), np.int64(1), np.int64(1), np.int64(1), np.int64(1), np.int64(1), np.int64(1), np.int64(1), np.int64(1), np.int64(1), np.int64(1), np.int64(1), np.int64(1), np.int64(1), np.int64(1), np.int64(1), np.int64(1), np.int64(1), np.int64(1), np.int64(1), np.int64(1), np.int64(1), np.int64(1), np.int64(1), np.int64(1), np.int64(1), np.int64(1), np.int64(1), np.int64(1), np.int64(1), np.int64(1), np.int64(1), np.int64(1), np.int64(1), np.int64(1), np.int64(1), np.int64(1), np.int64(1), np.int64(1), np.int64(1), np.int64(1), np.int64(1), np.int64(1), np.int64(1), np.int64(1), np.int64(1), np.int64(1), np.int64(1), np.int64(1), np.int64(1)]\n"
     ]
    }
   ],
   "source": [
    "import torch\n",
    "from sklearn.metrics import classification_report\n",
    "#from  utils import to_onehot\n",
    "# Alterar o modelo para o modo de avaliação\n",
    "model.eval()\n",
    "\n",
    "# Para armazenar rótulos verdadeiros e previsões\n",
    "all_labels = []\n",
    "all_preds = []\n",
    "\n",
    "# Desabilitar cálculo de gradiente para inferência\n",
    "with torch.no_grad():\n",
    "    for data in val_loader:\n",
    "        inputs, labels = data\n",
    "        inputs, labels = inputs.to(device), labels.to(device)\n",
    "\n",
    "        # Obter saídas do modelo e prever a classe\n",
    "        outputs = model(inputs)\n",
    "        _, preds = torch.max(outputs, 1)\n",
    "\n",
    "        # Armazenar rótulos e previsões\n",
    "        all_labels.extend(labels.cpu().numpy())\n",
    "        all_preds.extend(preds.cpu().numpy())\n",
    "#all_preds = utils.to_onehot(all_probs, 1)\n",
    "# Gerar relatório de classificação\n",
    "target_names = ['Bom', 'Ruim']\n",
    "print(classification_report(all_labels, all_preds, target_names=target_names))\n",
    "print(outputs)\n",
    "print(preds)\n",
    "print(all_preds)"
   ]
  },
  {
   "cell_type": "code",
   "execution_count": 85,
   "id": "a6dba9c2-f50d-4acb-ade4-ec5fd0837cc1",
   "metadata": {},
   "outputs": [
    {
     "name": "stdout",
     "output_type": "stream",
     "text": [
      "[0.         0.05952381 1.        ]\n",
      "---------\n",
      "[0. 1. 1.]\n",
      "---------\n"
     ]
    }
   ],
   "source": [
    "import torch\n",
    "from sklearn.metrics import roc_curve, auc\n",
    "import matplotlib.pyplot as plt\n",
    "import numpy as np\n",
    "#y_pred_keras = keras_model.predict(X_test).ravel()\n",
    "\n",
    "\n",
    "classes = val_data.classes\n",
    "num_classes = len(classes)\n",
    "\n",
    "all_labels = np.array(all_labels)\n",
    "all_preds = np.array( all_preds)\n",
    "\n",
    "fpr, tpr, _ = roc_curve(all_labels , all_preds)\n",
    "\n",
    "print(fpr)\n",
    "print('---------')\n",
    "print(tpr)\n",
    "print('---------')\n",
    "\n",
    "\n",
    "\n",
    "\n",
    "#for i in range(num_classes):\n",
    "#    # Calculando a ROC para a classe i\n",
    "#    fpr, tpr, _ = roc_curve(all_labels == i, all_preds[:, i])\n",
    "#    roc_auc = auc(fpr, tpr)\n",
    "#    plt.plot(fpr, tpr, label=f'Classe {classes[i]} (AUC = {roc_auc:.2f})')"
   ]
  },
  {
   "cell_type": "code",
   "execution_count": 87,
   "id": "e6eee0c8-e83e-4222-a042-a0cbe424a661",
   "metadata": {},
   "outputs": [
    {
     "name": "stdout",
     "output_type": "stream",
     "text": [
      "0.9702380952380952\n"
     ]
    }
   ],
   "source": [
    "from sklearn.metrics import auc\n",
    "auc_keras = auc(fpr, tpr)\n",
    "print(auc_keras)"
   ]
  },
  {
   "cell_type": "code",
   "execution_count": 93,
   "id": "66ae1b31-e8dd-4114-b97c-db6687b52f12",
   "metadata": {},
   "outputs": [
    {
     "data": {
      "image/png": "[encoded data removed]",
      "text/plain": [
       "<Figure size 640x480 with 1 Axes>"
      ]
     },
     "metadata": {},
     "output_type": "display_data"
    }
   ],
   "source": [
    "import matplotlib.pyplot as plt\n",
    "plt.figure(1)\n",
    "plt.plot([0, 1], [0, 1], 'k--')\n",
    "plt.plot(fpr, tpr, label='AUC (area = {:.3f})'.format(auc_keras))\n",
    "plt.xlabel('False positive rate')\n",
    "plt.ylabel('True positive rate')\n",
    "plt.title('ROC curve')\n",
    "plt.legend(loc='best')\n",
    "plt.savefig(r\"C:\\Users\\maste\\OneDrive\\Documentos\\Resultados_Redes_WVC2025\\ResNet50\\50_epocas\\ADAM\\gráficos\\treino\\Curva_Roc_treino.pdf\")\n",
    "plt.show()"
   ]
  },
  {
   "cell_type": "code",
   "execution_count": 95,
   "id": "be612f81-0b68-4d72-9be6-46e49632eaba",
   "metadata": {},
   "outputs": [
    {
     "data": {
      "image/png": "[encoded data removed]",
      "text/plain": [
       "<Figure size 640x480 with 1 Axes>"
      ]
     },
     "metadata": {},
     "output_type": "display_data"
    }
   ],
   "source": [
    "# Plotando a perda\n",
    "epochs = range(1, num_epochs + 1)\n",
    "\n",
    "plt.figure()\n",
    "plt.plot(epochs, train_loss_values, label='Training Loss')\n",
    "plt.plot(epochs, val_loss_values, label='Validation Loss')\n",
    "plt.xlabel('Epochs')\n",
    "plt.ylabel('Loss')\n",
    "plt.title('Training and Validation Loss')\n",
    "plt.legend()\n",
    "plt.savefig(r\"C:\\Users\\maste\\OneDrive\\Documentos\\Resultados_Redes_WVC2025\\ResNet50\\50_epocas\\ADAM\\gráficos\\treino\\Loss_treino.pdf\")\n",
    "plt.show()"
   ]
  },
  {
   "cell_type": "code",
   "execution_count": 97,
   "id": "75929e0f-82ce-4be2-a6e6-f5540e82f37a",
   "metadata": {},
   "outputs": [
    {
     "data": {
      "image/png": "[encoded data removed]",
      "text/plain": [
       "<Figure size 640x480 with 1 Axes>"
      ]
     },
     "metadata": {},
     "output_type": "display_data"
    }
   ],
   "source": [
    "# Plotando a acurácia\n",
    "plt.figure()\n",
    "plt.plot(epochs, train_accuracy_values, label='Training Accuracy')\n",
    "plt.plot(epochs, val_accuracy_values, label='Validation Accuracy')\n",
    "plt.xlabel('Epochs')\n",
    "plt.ylabel('Accuracy')\n",
    "plt.title('Training and Validation Accuracy')\n",
    "plt.legend()\n",
    "plt.savefig(r\"C:\\Users\\maste\\OneDrive\\Documentos\\Resultados_Redes_WVC2025\\ResNet50\\50_epocas\\ADAM\\gráficos\\treino\\Acuraccy_treino.pdf\")\n",
    "plt.show()"
   ]
  },
  {
   "cell_type": "code",
   "execution_count": 99,
   "id": "813a5233-460c-4c21-ba50-667670b0ff48",
   "metadata": {},
   "outputs": [],
   "source": [
    "test_dir = r\"C:\\Users\\maste\\OneDrive\\Documentos\\Artigo_Rita_Dataset\\Testing\""
   ]
  },
  {
   "cell_type": "code",
   "execution_count": 101,
   "id": "1cd43267-0d76-4f3a-bbad-df158e5588ea",
   "metadata": {},
   "outputs": [],
   "source": [
    "# Transformações para normalização e aumento de dados\n",
    "transform = transforms.Compose([\n",
    "    transforms.Resize(256),\n",
    "    transforms.CenterCrop(224),\n",
    "    transforms.ToTensor(),\n",
    "    transforms.Normalize(mean=[0.485, 0.456, 0.406],\n",
    "                         std=[0.229, 0.224, 0.225])\n",
    "])"
   ]
  },
  {
   "cell_type": "code",
   "execution_count": 103,
   "id": "6236b967-f79e-4218-9de8-4a9caac00863",
   "metadata": {},
   "outputs": [],
   "source": [
    "test_data = datasets.ImageFolder(test_dir, transform=transform)"
   ]
  },
  {
   "cell_type": "code",
   "execution_count": 105,
   "id": "f6efb762-d260-427d-a5c1-aba8313a19ad",
   "metadata": {},
   "outputs": [],
   "source": [
    "# Criando o DataLoader para o conjunto de teste\n",
    "test_loader = DataLoader(test_data, batch_size=1, shuffle=True)"
   ]
  },
  {
   "cell_type": "code",
   "execution_count": 107,
   "id": "e1d6361d-7cbf-4fa5-8db5-4d3859ac60ec",
   "metadata": {},
   "outputs": [
    {
     "name": "stdout",
     "output_type": "stream",
     "text": [
      "2\n",
      "['malignant_tumor', 'no_tumor']\n"
     ]
    }
   ],
   "source": [
    "# Definindo as classes do dataset\n",
    "classes = test_data.classes\n",
    "num_classes = len(classes)\n",
    "print(num_classes)\n",
    "print(classes)"
   ]
  },
  {
   "cell_type": "code",
   "execution_count": 109,
   "id": "da65da72-73de-483e-acfa-6e40359280a4",
   "metadata": {},
   "outputs": [
    {
     "name": "stderr",
     "output_type": "stream",
     "text": [
      "Test: 100%|██████████████████████████████████████████████████████████████████████████| 146/146 [00:09<00:00, 15.83it/s]"
     ]
    },
    {
     "name": "stdout",
     "output_type": "stream",
     "text": [
      "Val Loss: 0.0960, Val Accuracy: 0.9178\n"
     ]
    },
    {
     "name": "stderr",
     "output_type": "stream",
     "text": [
      "\n"
     ]
    }
   ],
   "source": [
    "# Avaliando o modelo carregado no conjunto de teste\n",
    "model.eval()\n",
    "test_running_loss = 0.0\n",
    "test_correct = 0\n",
    "test_total = 0\n",
    "\n",
    "all_labels = []\n",
    "all_probs = []  # Para armazenar as probabilidades\n",
    "\n",
    "with torch.no_grad():\n",
    "    for inputs, labels in tqdm(test_loader, desc=\"Test\"):\n",
    "        inputs, labels = inputs.to(device), labels.to(device)\n",
    "        outputs = model(inputs)\n",
    "        #loss = nn.CrossEntropyLoss()(outputs, labels)\n",
    "        #test_running_loss += loss.item() * inputs.size(0)\n",
    "        _, predicted = torch.max(outputs.data, 1)\n",
    "        test_total += labels.size(0)\n",
    "        test_correct += (predicted == labels).sum().item()\n",
    "\n",
    "        # Armazenando rótulos e probabilidades\n",
    "        all_labels.extend(labels.cpu().numpy())\n",
    "        all_probs.extend(torch.softmax(outputs, dim=1).cpu().numpy())\n",
    "\n",
    "    test_loss = val_running_loss / len(test_loader.dataset)\n",
    "    test_accuracy = test_correct / test_total\n",
    "    print(f'Val Loss: {test_loss:.4f}, Val Accuracy: {test_accuracy:.4f}')"
   ]
  },
  {
   "cell_type": "code",
   "execution_count": 111,
   "id": "8ef70b77-bbbb-4a55-9470-6fc24d7b565d",
   "metadata": {},
   "outputs": [],
   "source": [
    "# Calculando a matriz de confusão\n",
    "cm = confusion_matrix(all_labels, np.argmax(all_probs, axis=1))"
   ]
  },
  {
   "cell_type": "code",
   "execution_count": 113,
   "id": "4e7aa876-862e-481c-8b61-b5fab23139c5",
   "metadata": {},
   "outputs": [
    {
     "data": {
      "image/png": "[encoded data removed]",
      "text/plain": [
       "<Figure size 640x480 with 2 Axes>"
      ]
     },
     "metadata": {},
     "output_type": "display_data"
    }
   ],
   "source": [
    "# Plotando a matriz de confusão\n",
    "disp = ConfusionMatrixDisplay(confusion_matrix=cm, display_labels=classes)\n",
    "disp.plot(cmap=plt.cm.Blues)\n",
    "plt.title('Confusion Matrix')\n",
    "plt.savefig(r\"C:\\Users\\maste\\OneDrive\\Documentos\\Resultados_Redes_WVC2025\\ResNet50\\50_epocas\\ADAM\\gráficos\\validação\\Matriz_validação.pdf\")\n",
    "\n",
    "plt.show()"
   ]
  },
  {
   "cell_type": "code",
   "execution_count": 117,
   "id": "e89acbf3-a3af-464d-88c5-7dd284cfbac9",
   "metadata": {},
   "outputs": [
    {
     "name": "stdout",
     "output_type": "stream",
     "text": [
      "              precision    recall  f1-score   support\n",
      "\n",
      "      Câncer       0.97      0.88      0.93        84\n",
      "      Normal       0.86      0.97      0.91        62\n",
      "\n",
      "    accuracy                           0.92       146\n",
      "   macro avg       0.92      0.92      0.92       146\n",
      "weighted avg       0.92      0.92      0.92       146\n",
      "\n",
      "tensor([[-2.4542,  2.3980]], device='cuda:0')\n",
      "tensor([1], device='cuda:0')\n",
      "[np.int64(1), np.int64(1), np.int64(1), np.int64(1), np.int64(1), np.int64(0), np.int64(1), np.int64(0), np.int64(1), np.int64(0), np.int64(0), np.int64(0), np.int64(0), np.int64(1), np.int64(1), np.int64(1), np.int64(0), np.int64(1), np.int64(0), np.int64(1), np.int64(0), np.int64(1), np.int64(1), np.int64(0), np.int64(0), np.int64(1), np.int64(1), np.int64(0), np.int64(1), np.int64(0), np.int64(1), np.int64(0), np.int64(0), np.int64(1), np.int64(0), np.int64(0), np.int64(1), np.int64(0), np.int64(0), np.int64(0), np.int64(1), np.int64(1), np.int64(1), np.int64(0), np.int64(0), np.int64(0), np.int64(1), np.int64(1), np.int64(0), np.int64(0), np.int64(1), np.int64(0), np.int64(0), np.int64(0), np.int64(0), np.int64(0), np.int64(1), np.int64(1), np.int64(1), np.int64(0), np.int64(0), np.int64(1), np.int64(1), np.int64(1), np.int64(1), np.int64(0), np.int64(0), np.int64(0), np.int64(1), np.int64(0), np.int64(1), np.int64(1), np.int64(0), np.int64(0), np.int64(1), np.int64(0), np.int64(1), np.int64(0), np.int64(0), np.int64(1), np.int64(0), np.int64(1), np.int64(0), np.int64(0), np.int64(1), np.int64(1), np.int64(0), np.int64(1), np.int64(0), np.int64(1), np.int64(1), np.int64(1), np.int64(1), np.int64(1), np.int64(0), np.int64(0), np.int64(0), np.int64(1), np.int64(1), np.int64(1), np.int64(0), np.int64(0), np.int64(1), np.int64(0), np.int64(1), np.int64(0), np.int64(0), np.int64(1), np.int64(0), np.int64(1), np.int64(1), np.int64(1), np.int64(1), np.int64(0), np.int64(0), np.int64(0), np.int64(0), np.int64(0), np.int64(0), np.int64(1), np.int64(1), np.int64(1), np.int64(0), np.int64(0), np.int64(1), np.int64(0), np.int64(0), np.int64(1), np.int64(0), np.int64(0), np.int64(0), np.int64(1), np.int64(1), np.int64(0), np.int64(1), np.int64(0), np.int64(1), np.int64(0), np.int64(0), np.int64(0), np.int64(0), np.int64(0), np.int64(1), np.int64(1), np.int64(0), np.int64(1)]\n"
     ]
    }
   ],
   "source": [
    "import torch\n",
    "from sklearn.metrics import classification_report\n",
    "#from  utils import to_onehot\n",
    "# Alterar o modelo para o modo de avaliação\n",
    "model.eval()\n",
    "\n",
    "# Para armazenar rótulos verdadeiros e previsões\n",
    "all_labels = []\n",
    "all_preds = []\n",
    "\n",
    "# Desabilitar cálculo de gradiente para inferência\n",
    "with torch.no_grad():\n",
    "    for data in test_loader:\n",
    "        inputs, labels = data\n",
    "        inputs, labels = inputs.to(device), labels.to(device)\n",
    "\n",
    "        # Obter saídas do modelo e prever a classe\n",
    "        outputs = model(inputs)\n",
    "        _, preds = torch.max(outputs, 1)\n",
    "\n",
    "        # Armazenar rótulos e previsões\n",
    "        all_labels.extend(labels.cpu().numpy())\n",
    "        all_preds.extend(preds.cpu().numpy())\n",
    "#all_preds = utils.to_onehot(all_probs, 1)\n",
    "# Gerar relatório de classificação\n",
    "target_names = ['Câncer', 'Normal']\n",
    "print(classification_report(all_labels, all_preds, target_names=target_names))\n",
    "print(outputs)\n",
    "print(preds)\n",
    "print(all_preds)"
   ]
  },
  {
   "cell_type": "code",
   "execution_count": 119,
   "id": "c0dd9cba-11d8-4d69-aa6d-243b76f4e94c",
   "metadata": {},
   "outputs": [
    {
     "name": "stdout",
     "output_type": "stream",
     "text": [
      "[0.         0.11904762 1.        ]\n",
      "---------\n",
      "[0.         0.96774194 1.        ]\n",
      "---------\n"
     ]
    }
   ],
   "source": [
    "import torch\n",
    "from sklearn.metrics import roc_curve, auc\n",
    "import matplotlib.pyplot as plt\n",
    "import numpy as np\n",
    "#y_pred_keras = keras_model.predict(X_test).ravel()\n",
    "\n",
    "\n",
    "classes = test_data.classes\n",
    "num_classes = len(classes)\n",
    "\n",
    "all_labels = np.array(all_labels)\n",
    "all_preds = np.array( all_preds)\n",
    "\n",
    "fpr, tpr, _ = roc_curve(all_labels , all_preds)\n",
    "\n",
    "print(fpr)\n",
    "print('---------')\n",
    "print(tpr)\n",
    "print('---------')\n",
    "\n",
    "\n",
    "\n",
    "\n",
    "#for i in range(num_classes):\n",
    "#    # Calculando a ROC para a classe i\n",
    "#    fpr, tpr, _ = roc_curve(all_labels == i, all_preds[:, i])\n",
    "#    roc_auc = auc(fpr, tpr)\n",
    "#    plt.plot(fpr, tpr, label=f'Classe {classes[i]} (AUC = {roc_auc:.2f})')"
   ]
  },
  {
   "cell_type": "code",
   "execution_count": 121,
   "id": "2c402ac3-dd72-4f3b-8a02-2e10815fcf62",
   "metadata": {},
   "outputs": [
    {
     "name": "stdout",
     "output_type": "stream",
     "text": [
      "0.924347158218126\n"
     ]
    }
   ],
   "source": [
    "from sklearn.metrics import auc\n",
    "auc_keras = auc(fpr, tpr)\n",
    "print(auc_keras)"
   ]
  },
  {
   "cell_type": "code",
   "execution_count": 123,
   "id": "b33fd4ff-faa6-4717-b3af-07d83cfb9179",
   "metadata": {},
   "outputs": [
    {
     "data": {
      "image/png": "[encoded data removed]",
      "text/plain": [
       "<Figure size 640x480 with 1 Axes>"
      ]
     },
     "metadata": {},
     "output_type": "display_data"
    }
   ],
   "source": [
    "import matplotlib.pyplot as plt\n",
    "plt.figure(1)\n",
    "plt.plot([0, 1], [0, 1], 'k--')\n",
    "plt.plot(fpr, tpr, label='AUC (area = {:.3f})'.format(auc_keras))\n",
    "plt.xlabel('False positive rate')\n",
    "plt.ylabel('True positive rate')\n",
    "plt.title('ROC curve')\n",
    "plt.legend(loc='best')\n",
    "plt.savefig(r\"C:\\Users\\maste\\OneDrive\\Documentos\\Resultados_Redes_WVC2025\\ResNet50\\50_epocas\\ADAM\\gráficos\\validação\\\\CurvaRoc_validação.pdf\")\n",
    "plt.show()"
   ]
  },
  {
   "cell_type": "code",
   "execution_count": 3,
   "id": "3a333cf4-5fcf-45fc-a054-0699cb0b069c",
   "metadata": {},
   "outputs": [
    {
     "name": "stderr",
     "output_type": "stream",
     "text": [
      "C:\\Users\\maste\\AppData\\Local\\Temp\\ipykernel_23824\\2655905508.py:134: FutureWarning: You are using `torch.load` with `weights_only=False` (the current default value), which uses the default pickle module implicitly. It is possible to construct malicious pickle data which will execute arbitrary code during unpickling (See https://github.com/pytorch/pytorch/blob/main/SECURITY.md#untrusted-models for more details). In a future release, the default value for `weights_only` will be flipped to `True`. This limits the functions that could be executed during unpickling. Arbitrary objects will no longer be allowed to be loaded via this mode unless they are explicitly allowlisted by the user via `torch.serialization.add_safe_globals`. We recommend you start setting `weights_only=True` for any use case where you don't have full control of the loaded file. Please open an issue on GitHub for any issues related to this experimental feature.\n",
      "  model.load_state_dict(torch.load(\n"
     ]
    },
    {
     "name": "stdout",
     "output_type": "stream",
     "text": [
      "Índice da Classe Predita: 0\n"
     ]
    }
   ],
   "source": [
    "import os\n",
    "import numpy as np\n",
    "import cv2\n",
    "import torch\n",
    "import torchvision.transforms as transforms\n",
    "from torchvision.models import resnet50\n",
    "\n",
    "# --------- Pré-processamento ---------\n",
    "def preprocess_image(img_path):\n",
    "    img = cv2.imread(img_path, cv2.IMREAD_COLOR)\n",
    "    img = cv2.resize(img, (224, 224))\n",
    "    img = transforms.ToTensor()(img)\n",
    "    img = transforms.Normalize(mean=[0.485, 0.456, 0.406],\n",
    "                               std=[0.229, 0.224, 0.225])(img)\n",
    "    img_tensor = img.unsqueeze(0)\n",
    "    return img_tensor\n",
    "\n",
    "# --------- Pegando a camada da CNN ---------\n",
    "def get_conv_layer(model, conv_layer_name):\n",
    "    for name, layer in model.named_modules():\n",
    "        if name == conv_layer_name:\n",
    "            return layer\n",
    "    raise ValueError(f\"Camada '{conv_layer_name}' não encontrada.\")\n",
    "\n",
    "# --------- Grad-CAM tradicional ---------\n",
    "def compute_gradcam(model, img_tensor, class_index, conv_layer_name=\"layer4\"):\n",
    "    activations = []\n",
    "    gradients = []\n",
    "\n",
    "    def forward_hook(module, input, output):\n",
    "        activations.append(output)\n",
    "\n",
    "    def backward_hook(module, grad_in, grad_out):\n",
    "        gradients.append(grad_out[0])\n",
    "\n",
    "    conv_layer = get_conv_layer(model, conv_layer_name)\n",
    "    forward_handle = conv_layer.register_forward_hook(forward_hook)\n",
    "    backward_handle = conv_layer.register_backward_hook(backward_hook)\n",
    "\n",
    "    model.zero_grad()\n",
    "    output = model(img_tensor)\n",
    "    loss = output[:, class_index]\n",
    "    loss.backward()\n",
    "\n",
    "    forward_handle.remove()\n",
    "    backward_handle.remove()\n",
    "\n",
    "    act = activations[0].squeeze(0).detach().cpu().numpy()\n",
    "    grad = gradients[0].squeeze(0).detach().cpu().numpy()\n",
    "\n",
    "    weights = np.mean(grad, axis=(1, 2))\n",
    "    cam = np.zeros(act.shape[1:], dtype=np.float32)\n",
    "\n",
    "    for i, w in enumerate(weights):\n",
    "        cam += w * act[i, :, :]\n",
    "\n",
    "    cam = np.maximum(cam, 0)\n",
    "    cam = cam - np.min(cam)\n",
    "    cam = cam / (np.max(cam) + 1e-8)\n",
    "    return cam\n",
    "\n",
    "# --------- Grad-CAM++ ---------\n",
    "def compute_gradcam_plus(model, img_tensor, class_index, conv_layer_name=\"layer4\"):\n",
    "    activations = []\n",
    "    gradients = []\n",
    "\n",
    "    def forward_hook(module, input, output):\n",
    "        activations.append(output)\n",
    "\n",
    "    def backward_hook(module, grad_in, grad_out):\n",
    "        gradients.append(grad_out[0])\n",
    "\n",
    "    conv_layer = get_conv_layer(model, conv_layer_name)\n",
    "    forward_handle = conv_layer.register_forward_hook(forward_hook)\n",
    "    backward_handle = conv_layer.register_backward_hook(backward_hook)\n",
    "\n",
    "    model.zero_grad()\n",
    "    output = model(img_tensor)\n",
    "    loss = output[:, class_index]\n",
    "    loss.backward(retain_graph=True)\n",
    "\n",
    "    forward_handle.remove()\n",
    "    backward_handle.remove()\n",
    "\n",
    "    act = activations[0].squeeze(0)  # [C, H, W]\n",
    "    grad = gradients[0].squeeze(0)   # [C, H, W]\n",
    "\n",
    "    grads_power_2 = grad ** 2\n",
    "    grads_power_3 = grad ** 3\n",
    "    sum_activations = torch.sum(act, dim=(1, 2), keepdim=True)\n",
    "\n",
    "    alpha_num = grads_power_2\n",
    "    alpha_denom = 2 * grads_power_2 + sum_activations * grads_power_3\n",
    "    alpha_denom = torch.where(alpha_denom != 0.0, alpha_denom, torch.ones_like(alpha_denom))\n",
    "\n",
    "    alphas = alpha_num / alpha_denom\n",
    "    weights = (alphas * torch.relu(grad)).sum(dim=(1, 2))\n",
    "\n",
    "    cam = torch.zeros(act.shape[1:], dtype=torch.float32)\n",
    "    for i, w in enumerate(weights):\n",
    "        cam += w * act[i]\n",
    "\n",
    "    cam = torch.relu(cam)\n",
    "    cam -= cam.min()\n",
    "    cam /= cam.max() + 1e-8\n",
    "    cam = cam.detach().cpu().numpy()\n",
    "    cam[cam < 0.3] = 0\n",
    "    \n",
    "    return cam\n",
    "\n",
    "# --------- Sobrepor Heatmap ---------\n",
    "def overlay_heatmap(img_path, heatmap, alpha=0.4):\n",
    "    img = cv2.imread(img_path, cv2.IMREAD_COLOR)\n",
    "    heatmap = cv2.resize(heatmap, (img.shape[1], img.shape[0]))\n",
    "    heatmap = np.uint8(255 * heatmap)\n",
    "    heatmap = cv2.applyColorMap(heatmap, cv2.COLORMAP_JET)\n",
    "    superimposed_img = cv2.addWeighted(img, alpha, heatmap, 1 - alpha, 0)\n",
    "    return superimposed_img\n",
    "\n",
    "# --------- Anotar a imagem com porcentagens ---------\n",
    "def annotate_image(image, probs, class_names):\n",
    "    annotated = image.copy()\n",
    "    for i, (name, prob) in enumerate(zip(class_names, probs)):\n",
    "        text = f\"{name}: {prob * 100:.1f}%\"\n",
    "        cv2.putText(annotated, text, (10, 30 + i * 30),\n",
    "                    cv2.FONT_HERSHEY_SIMPLEX, 0.9, (255, 255, 255), 2)\n",
    "    return annotated\n",
    "\n",
    "# --------- Principal ---------\n",
    "if __name__ == \"__main__\":\n",
    "    # Carregando modelo ResNet-50 treinado com 2 classes\n",
    "    model = resnet50(weights=None)\n",
    "    model.fc = torch.nn.Linear(2048, 2)\n",
    "    model.load_state_dict(torch.load(\n",
    "        r\"C:\\Users\\maste\\OneDrive\\Documentos\\Resultados_Redes_WVC2025\\Bruto\\ResNet50\\50_epocas\\ADAM\\melhor_modelo\\model_epoch_9_val_accuracy_0.9660.pt\",\n",
    "        map_location=\"cpu\"))\n",
    "    model.eval()\n",
    "\n",
    "    # Caminho da imagem\n",
    "    img_path = r\"C:\\Users\\maste\\OneDrive\\Documentos\\Artigo_Rita_Dataset_W\\Testing\\malignant_tumor\\resultado_GaussianoMalignant case (422)_dmey.png\"\n",
    "    img_tensor = preprocess_image(img_path)\n",
    "\n",
    "    # Obter predições e probabilidades\n",
    "    with torch.no_grad():\n",
    "        logits = model(img_tensor)\n",
    "        probs = torch.nn.functional.softmax(logits, dim=1)\n",
    "        class_index = torch.argmax(probs, dim=1).item()\n",
    "\n",
    "    print(f\"Índice da Classe Predita: {class_index}\")\n",
    "\n",
    "    class_names = [\"Cancer\", \"Normal\"]\n",
    "    class_probs = probs[0].cpu().numpy()\n",
    "\n",
    "    # --------- Grad-CAM Tradicional ---------\n",
    "    heatmap_trad = compute_gradcam(model, img_tensor, class_index, conv_layer_name=\"layer4\")\n",
    "    output_img_trad = overlay_heatmap(img_path, heatmap_trad)\n",
    "    output_img_trad = annotate_image(output_img_trad, class_probs, class_names)\n",
    "    cv2.imwrite(r\"C:\\Users\\maste\\OneDrive\\Documentos\\saida\\ResNet50\\Test3_no_cancer.jpg\", output_img_trad)\n",
    "\n",
    "    # --------- Grad-CAM++ ---------\n",
    "    heatmap_plus = compute_gradcam_plus(model, img_tensor, class_index, conv_layer_name=\"layer4\")\n",
    "    output_img_plus = overlay_heatmap(img_path, heatmap_plus)\n",
    "    output_img_plus = annotate_image(output_img_plus, class_probs, class_names)\n",
    "    cv2.imwrite(r\"C:\\Users\\maste\\OneDrive\\Documentos\\saida\\ResNet50\\Test4_plus_no_cancer.jpg\", output_img_plus)\n"
   ]
  },
  {
   "cell_type": "code",
   "execution_count": null,
   "id": "22f87511-f450-42e3-a784-c3597b2777a7",
   "metadata": {},
   "outputs": [],
   "source": []
  }
 ],
 "metadata": {
  "kernelspec": {
   "display_name": "Python (GPU)",
   "language": "python",
   "name": "gpu_env"
  },
  "language_info": {
   "codemirror_mode": {
    "name": "ipython",
    "version": 3
   },
   "file_extension": ".py",
   "mimetype": "text/x-python",
   "name": "python",
   "nbconvert_exporter": "python",
   "pygments_lexer": "ipython3",
   "version": "3.10.18"
  }
 },
 "nbformat": 4,
 "nbformat_minor": 5
}
