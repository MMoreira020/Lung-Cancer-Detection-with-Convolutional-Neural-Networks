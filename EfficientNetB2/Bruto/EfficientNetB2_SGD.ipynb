{
 "cells": [
  {
   "cell_type": "code",
   "execution_count": 1,
   "id": "3560be8b-61e1-4ebb-bb1f-f0cbdba722a8",
   "metadata": {},
   "outputs": [],
   "source": [
    "import torch\n",
    "import torchvision\n",
    "import os\n",
    "from torchvision import transforms, datasets\n",
    "import matplotlib.pyplot as plt\n",
    "import numpy as np\n",
    "from sklearn.metrics import roc_curve, auc, confusion_matrix, ConfusionMatrixDisplay, precision_recall_curve, average_precision_score\n",
    "from sklearn.preprocessing import label_binarize\n",
    "import torch.nn as nn\n",
    "import torch.optim as optim\n",
    "from torchvision import models\n",
    "from sklearn.model_selection import train_test_split\n",
    "from tqdm import tqdm\n",
    "from torch.utils.data import DataLoader\n",
    "import random\n",
    "import os\n",
    "\n",
    "SEED = 42\n",
    "\n",
    "random.seed(SEED)\n",
    "np.random.seed(SEED)\n",
    "\n",
    "torch.manual_seed(SEED)\n",
    "torch.cuda.manual_seed(SEED)\n",
    "\n",
    "torch.backends.cudnn.benchmark = False\n",
    "torch.backends.cudnn.deterministic = True"
   ]
  },
  {
   "cell_type": "code",
   "execution_count": 3,
   "id": "46cc880f-118f-4d42-8783-9d44ee140e15",
   "metadata": {},
   "outputs": [],
   "source": [
    "# Transformações para normalização e aumento de dados (caso necessário)\n",
    "transform = transforms.Compose([\n",
    "    transforms.Resize(256),\n",
    "    transforms.CenterCrop(224),\n",
    "    transforms.ToTensor(),\n",
    "    transforms.Normalize(mean=[0.485, 0.456, 0.406],\n",
    "                         std=[0.229, 0.224, 0.225])\n",
    "])"
   ]
  },
  {
   "cell_type": "code",
   "execution_count": 5,
   "id": "0c623f50-ae42-4066-a132-d91611a765ae",
   "metadata": {},
   "outputs": [
    {
     "name": "stdout",
     "output_type": "stream",
     "text": [
      "Número de imagens no dataset de treino: 684\n",
      "Número de imagens no dataset de validação: 147\n"
     ]
    }
   ],
   "source": [
    "# Diretórios de treino e validação\n",
    "train_dir = \"C:\\\\Users\\\\maste\\\\OneDrive\\\\Documentos\\\\Artigo_Rita_Dataset\\\\Training\"\n",
    "val_dir = \"C:\\\\Users\\\\maste\\\\OneDrive\\\\Documentos\\\\Artigo_Rita_Dataset\\\\Validation\"\n",
    "\n",
    "def contar_imagens(diretorio):\n",
    "    contador = 0\n",
    "    for root, dirs, files in os.walk(diretorio):\n",
    "        contador += len([f for f in files if f.endswith(('.png', '.jpg', '.jpeg'))])\n",
    "    return contador\n",
    "\n",
    "num_treino = contar_imagens(train_dir)\n",
    "num_validacao = contar_imagens(val_dir)\n",
    "\n",
    "print(f'Número de imagens no dataset de treino: {num_treino}')\n",
    "print(f'Número de imagens no dataset de validação: {num_validacao}')"
   ]
  },
  {
   "cell_type": "code",
   "execution_count": 7,
   "id": "a0e4ea56-4733-400f-b89c-50df759fd1e7",
   "metadata": {},
   "outputs": [],
   "source": [
    "# Carregando datasets de treino e validação\n",
    "train_data = datasets.ImageFolder(train_dir, transform=transform)\n",
    "val_data = datasets.ImageFolder(val_dir, transform=transform)"
   ]
  },
  {
   "cell_type": "code",
   "execution_count": 9,
   "id": "7a00b23a-e9fc-4eed-9d8d-d64c3662d5be",
   "metadata": {},
   "outputs": [],
   "source": [
    "# Criando dataloaders para iterar sobre os dados durante o treinamento\n",
    "train_loader = DataLoader(train_data, batch_size=32, shuffle=True)\n",
    "val_loader = DataLoader(val_data, batch_size=32, shuffle=False)"
   ]
  },
  {
   "cell_type": "code",
   "execution_count": 11,
   "id": "6c26346e-846d-43a0-8d5a-c58db171ea61",
   "metadata": {},
   "outputs": [
    {
     "name": "stdout",
     "output_type": "stream",
     "text": [
      "['malignant_tumor', 'no_tumor']\n",
      "['malignant_tumor', 'no_tumor']\n"
     ]
    }
   ],
   "source": [
    "# Definindo as classes do dataset\n",
    "classes = train_data.classes\n",
    "classes2 = val_data.classes\n",
    "print(classes)\n",
    "print(classes2)"
   ]
  },
  {
   "cell_type": "code",
   "execution_count": 13,
   "id": "cb605025-35ea-4784-95fa-1c67d091f7d1",
   "metadata": {},
   "outputs": [],
   "source": [
    "# Carregando a EfficientNet-B2 pré-treinada\n",
    "model = models.efficientnet_b2(weights=models.EfficientNet_B2_Weights.DEFAULT)"
   ]
  },
  {
   "cell_type": "code",
   "execution_count": 15,
   "id": "f029c7ca-f2c2-47f4-9a31-4177c06f8a95",
   "metadata": {},
   "outputs": [],
   "source": [
    "# Congelando as camadas iniciais e descongelando as camadas finais\n",
    "for param in model.parameters():\n",
    "    param.requires_grad = False\n",
    "    num_ftrs = model.classifier[1].in_features\n",
    "    model.classifier[1] = nn.Linear(num_ftrs, len(classes))\n",
    "for param in model.classifier[1].parameters():\n",
    "    param.requires_grad = True"
   ]
  },
  {
   "cell_type": "code",
   "execution_count": 17,
   "id": "43dd9ee8-ab01-4412-a850-80430fa54c4d",
   "metadata": {},
   "outputs": [],
   "source": [
    "# Definindo a função de perda e otimizador\n",
    "criterion = nn.CrossEntropyLoss()\n",
    "optimizer = optim.SGD(model.parameters(), lr=0.001, momentum=0.9)"
   ]
  },
  {
   "cell_type": "code",
   "execution_count": 19,
   "id": "2ab10ba2-ad85-4a58-b8a0-8e8cd042cb67",
   "metadata": {},
   "outputs": [
    {
     "name": "stdout",
     "output_type": "stream",
     "text": [
      "Using device: cuda\n"
     ]
    }
   ],
   "source": [
    "device = torch.device(\"cuda\" if torch.cuda.is_available() else \"cpu\")\n",
    "print(f\"Using device: {device}\")"
   ]
  },
  {
   "cell_type": "code",
   "execution_count": 21,
   "id": "227f9392-1a67-46c4-ae5b-8745aee47308",
   "metadata": {},
   "outputs": [],
   "source": [
    "# Caminhos para salvar os pesos e o modelo\n",
    "save_weights = \"C:\\\\Users\\\\maste\\\\OneDrive\\\\Documentos\\\\Resultados_Redes_WVC2025\\\\EfficientNetB2\\\\50_epocas\\\\SGD\\\\melhor_modelo\"\n",
    "save_model = \"C:\\\\Users\\\\maste\\\\OneDrive\\\\Documentos\\\\Resultados_Redes_WVC2025\\\\EfficientNetB2\\\\50_epocas\\\\SGD\\\\melhor_modelo\\\\melhor_modelo.pt\""
   ]
  },
  {
   "cell_type": "code",
   "execution_count": 23,
   "id": "bc7cc3de-03ee-406f-9aef-070b343e15e9",
   "metadata": {},
   "outputs": [],
   "source": [
    "from PIL import ImageFile\n",
    "ImageFile.LOAD_TRUNCATED_IMAGES = True"
   ]
  },
  {
   "cell_type": "code",
   "execution_count": 25,
   "id": "04a9a55d-37cf-4bce-836c-cd07623207ac",
   "metadata": {},
   "outputs": [],
   "source": [
    "torch.cuda.empty_cache()"
   ]
  },
  {
   "cell_type": "code",
   "execution_count": 29,
   "id": "ffae184f-e1ff-4e01-946e-f11826dfaffb",
   "metadata": {
    "scrolled": true
   },
   "outputs": [
    {
     "name": "stderr",
     "output_type": "stream",
     "text": [
      "Epoch 1/50: 100%|███████████████████████████████████████████████████████████████████| 22/22 [00:23<00:00,  1.08s/batch]\n",
      "Validation Epoch 1/50: 100%|██████████████████████████████████████████████████████████| 5/5 [00:03<00:00,  1.37batch/s]\n"
     ]
    },
    {
     "name": "stdout",
     "output_type": "stream",
     "text": [
      "Epoch 1/50, Training Loss: 0.6158, Training Accuracy: 0.6915, Validation Loss: 0.5269, Validation Accuracy: 0.8707\n",
      "Saved model at epoch 1 with validation accuracy: 0.8707 to C:\\Users\\maste\\OneDrive\\Documentos\\Resultados_Redes_WVC2025\\EfficientNetB2\\50_epocas\\SGD\\melhor_modelo\\model_epoch_1_val_accuracy_0.8707.pt\n"
     ]
    },
    {
     "name": "stderr",
     "output_type": "stream",
     "text": [
      "Epoch 2/50: 100%|███████████████████████████████████████████████████████████████████| 22/22 [00:15<00:00,  1.42batch/s]\n",
      "Validation Epoch 2/50: 100%|██████████████████████████████████████████████████████████| 5/5 [00:03<00:00,  1.59batch/s]\n"
     ]
    },
    {
     "name": "stdout",
     "output_type": "stream",
     "text": [
      "Epoch 2/50, Training Loss: 0.3468, Training Accuracy: 0.9488, Validation Loss: 0.3127, Validation Accuracy: 0.9456\n",
      "Saved model at epoch 2 with validation accuracy: 0.9456 to C:\\Users\\maste\\OneDrive\\Documentos\\Resultados_Redes_WVC2025\\EfficientNetB2\\50_epocas\\SGD\\melhor_modelo\\model_epoch_2_val_accuracy_0.9456.pt\n"
     ]
    },
    {
     "name": "stderr",
     "output_type": "stream",
     "text": [
      "Epoch 3/50: 100%|███████████████████████████████████████████████████████████████████| 22/22 [00:14<00:00,  1.50batch/s]\n",
      "Validation Epoch 3/50: 100%|██████████████████████████████████████████████████████████| 5/5 [00:03<00:00,  1.66batch/s]\n"
     ]
    },
    {
     "name": "stdout",
     "output_type": "stream",
     "text": [
      "Epoch 3/50, Training Loss: 0.2440, Training Accuracy: 0.9635, Validation Loss: 0.2293, Validation Accuracy: 0.9388\n"
     ]
    },
    {
     "name": "stderr",
     "output_type": "stream",
     "text": [
      "Epoch 4/50: 100%|███████████████████████████████████████████████████████████████████| 22/22 [00:14<00:00,  1.51batch/s]\n",
      "Validation Epoch 4/50: 100%|██████████████████████████████████████████████████████████| 5/5 [00:03<00:00,  1.51batch/s]\n"
     ]
    },
    {
     "name": "stdout",
     "output_type": "stream",
     "text": [
      "Epoch 4/50, Training Loss: 0.1955, Training Accuracy: 0.9649, Validation Loss: 0.1973, Validation Accuracy: 0.9252\n"
     ]
    },
    {
     "name": "stderr",
     "output_type": "stream",
     "text": [
      "Epoch 5/50: 100%|███████████████████████████████████████████████████████████████████| 22/22 [00:16<00:00,  1.37batch/s]\n",
      "Validation Epoch 5/50: 100%|██████████████████████████████████████████████████████████| 5/5 [00:03<00:00,  1.53batch/s]\n"
     ]
    },
    {
     "name": "stdout",
     "output_type": "stream",
     "text": [
      "Epoch 5/50, Training Loss: 0.1807, Training Accuracy: 0.9678, Validation Loss: 0.1887, Validation Accuracy: 0.9252\n"
     ]
    },
    {
     "name": "stderr",
     "output_type": "stream",
     "text": [
      "Epoch 6/50: 100%|███████████████████████████████████████████████████████████████████| 22/22 [00:15<00:00,  1.41batch/s]\n",
      "Validation Epoch 6/50: 100%|██████████████████████████████████████████████████████████| 5/5 [00:03<00:00,  1.48batch/s]\n"
     ]
    },
    {
     "name": "stdout",
     "output_type": "stream",
     "text": [
      "Epoch 6/50, Training Loss: 0.1611, Training Accuracy: 0.9664, Validation Loss: 0.1699, Validation Accuracy: 0.9252\n"
     ]
    },
    {
     "name": "stderr",
     "output_type": "stream",
     "text": [
      "Epoch 7/50: 100%|███████████████████████████████████████████████████████████████████| 22/22 [00:15<00:00,  1.40batch/s]\n",
      "Validation Epoch 7/50: 100%|██████████████████████████████████████████████████████████| 5/5 [00:03<00:00,  1.49batch/s]\n"
     ]
    },
    {
     "name": "stdout",
     "output_type": "stream",
     "text": [
      "Epoch 7/50, Training Loss: 0.1458, Training Accuracy: 0.9708, Validation Loss: 0.1731, Validation Accuracy: 0.9252\n"
     ]
    },
    {
     "name": "stderr",
     "output_type": "stream",
     "text": [
      "Epoch 8/50: 100%|███████████████████████████████████████████████████████████████████| 22/22 [00:16<00:00,  1.34batch/s]\n",
      "Validation Epoch 8/50: 100%|██████████████████████████████████████████████████████████| 5/5 [00:03<00:00,  1.48batch/s]\n"
     ]
    },
    {
     "name": "stdout",
     "output_type": "stream",
     "text": [
      "Epoch 8/50, Training Loss: 0.1483, Training Accuracy: 0.9664, Validation Loss: 0.1744, Validation Accuracy: 0.9252\n"
     ]
    },
    {
     "name": "stderr",
     "output_type": "stream",
     "text": [
      "Epoch 9/50: 100%|███████████████████████████████████████████████████████████████████| 22/22 [00:15<00:00,  1.38batch/s]\n",
      "Validation Epoch 9/50: 100%|██████████████████████████████████████████████████████████| 5/5 [00:03<00:00,  1.47batch/s]\n"
     ]
    },
    {
     "name": "stdout",
     "output_type": "stream",
     "text": [
      "Epoch 9/50, Training Loss: 0.1244, Training Accuracy: 0.9781, Validation Loss: 0.1584, Validation Accuracy: 0.9320\n"
     ]
    },
    {
     "name": "stderr",
     "output_type": "stream",
     "text": [
      "Epoch 10/50: 100%|██████████████████████████████████████████████████████████████████| 22/22 [00:16<00:00,  1.35batch/s]\n",
      "Validation Epoch 10/50: 100%|█████████████████████████████████████████████████████████| 5/5 [00:03<00:00,  1.44batch/s]\n"
     ]
    },
    {
     "name": "stdout",
     "output_type": "stream",
     "text": [
      "Epoch 10/50, Training Loss: 0.1126, Training Accuracy: 0.9825, Validation Loss: 0.1620, Validation Accuracy: 0.9252\n"
     ]
    },
    {
     "name": "stderr",
     "output_type": "stream",
     "text": [
      "Epoch 11/50: 100%|██████████████████████████████████████████████████████████████████| 22/22 [00:16<00:00,  1.32batch/s]\n",
      "Validation Epoch 11/50: 100%|█████████████████████████████████████████████████████████| 5/5 [00:03<00:00,  1.45batch/s]\n"
     ]
    },
    {
     "name": "stdout",
     "output_type": "stream",
     "text": [
      "Epoch 11/50, Training Loss: 0.1249, Training Accuracy: 0.9708, Validation Loss: 0.1587, Validation Accuracy: 0.9184\n"
     ]
    },
    {
     "name": "stderr",
     "output_type": "stream",
     "text": [
      "Epoch 12/50: 100%|██████████████████████████████████████████████████████████████████| 22/22 [00:15<00:00,  1.41batch/s]\n",
      "Validation Epoch 12/50: 100%|█████████████████████████████████████████████████████████| 5/5 [00:03<00:00,  1.52batch/s]\n"
     ]
    },
    {
     "name": "stdout",
     "output_type": "stream",
     "text": [
      "Epoch 12/50, Training Loss: 0.1072, Training Accuracy: 0.9810, Validation Loss: 0.1572, Validation Accuracy: 0.9252\n"
     ]
    },
    {
     "name": "stderr",
     "output_type": "stream",
     "text": [
      "Epoch 13/50: 100%|██████████████████████████████████████████████████████████████████| 22/22 [00:15<00:00,  1.39batch/s]\n",
      "Validation Epoch 13/50: 100%|█████████████████████████████████████████████████████████| 5/5 [00:03<00:00,  1.55batch/s]\n"
     ]
    },
    {
     "name": "stdout",
     "output_type": "stream",
     "text": [
      "Epoch 13/50, Training Loss: 0.1131, Training Accuracy: 0.9737, Validation Loss: 0.1617, Validation Accuracy: 0.9252\n"
     ]
    },
    {
     "name": "stderr",
     "output_type": "stream",
     "text": [
      "Epoch 14/50: 100%|██████████████████████████████████████████████████████████████████| 22/22 [00:15<00:00,  1.38batch/s]\n",
      "Validation Epoch 14/50: 100%|█████████████████████████████████████████████████████████| 5/5 [00:03<00:00,  1.45batch/s]\n"
     ]
    },
    {
     "name": "stdout",
     "output_type": "stream",
     "text": [
      "Epoch 14/50, Training Loss: 0.1200, Training Accuracy: 0.9635, Validation Loss: 0.1477, Validation Accuracy: 0.9320\n"
     ]
    },
    {
     "name": "stderr",
     "output_type": "stream",
     "text": [
      "Epoch 15/50: 100%|██████████████████████████████████████████████████████████████████| 22/22 [00:16<00:00,  1.36batch/s]\n",
      "Validation Epoch 15/50: 100%|█████████████████████████████████████████████████████████| 5/5 [00:03<00:00,  1.46batch/s]\n"
     ]
    },
    {
     "name": "stdout",
     "output_type": "stream",
     "text": [
      "Epoch 15/50, Training Loss: 0.1007, Training Accuracy: 0.9781, Validation Loss: 0.1612, Validation Accuracy: 0.9252\n"
     ]
    },
    {
     "name": "stderr",
     "output_type": "stream",
     "text": [
      "Epoch 16/50: 100%|██████████████████████████████████████████████████████████████████| 22/22 [00:16<00:00,  1.37batch/s]\n",
      "Validation Epoch 16/50: 100%|█████████████████████████████████████████████████████████| 5/5 [00:03<00:00,  1.46batch/s]\n"
     ]
    },
    {
     "name": "stdout",
     "output_type": "stream",
     "text": [
      "Epoch 16/50, Training Loss: 0.1012, Training Accuracy: 0.9795, Validation Loss: 0.1659, Validation Accuracy: 0.9184\n"
     ]
    },
    {
     "name": "stderr",
     "output_type": "stream",
     "text": [
      "Epoch 17/50: 100%|██████████████████████████████████████████████████████████████████| 22/22 [00:16<00:00,  1.37batch/s]\n",
      "Validation Epoch 17/50: 100%|█████████████████████████████████████████████████████████| 5/5 [00:03<00:00,  1.62batch/s]\n"
     ]
    },
    {
     "name": "stdout",
     "output_type": "stream",
     "text": [
      "Epoch 17/50, Training Loss: 0.0949, Training Accuracy: 0.9766, Validation Loss: 0.1685, Validation Accuracy: 0.9184\n"
     ]
    },
    {
     "name": "stderr",
     "output_type": "stream",
     "text": [
      "Epoch 18/50: 100%|██████████████████████████████████████████████████████████████████| 22/22 [00:15<00:00,  1.43batch/s]\n",
      "Validation Epoch 18/50: 100%|█████████████████████████████████████████████████████████| 5/5 [00:03<00:00,  1.54batch/s]\n"
     ]
    },
    {
     "name": "stdout",
     "output_type": "stream",
     "text": [
      "Epoch 18/50, Training Loss: 0.0823, Training Accuracy: 0.9795, Validation Loss: 0.1657, Validation Accuracy: 0.9252\n"
     ]
    },
    {
     "name": "stderr",
     "output_type": "stream",
     "text": [
      "Epoch 19/50: 100%|██████████████████████████████████████████████████████████████████| 22/22 [00:15<00:00,  1.41batch/s]\n",
      "Validation Epoch 19/50: 100%|█████████████████████████████████████████████████████████| 5/5 [00:03<00:00,  1.53batch/s]\n"
     ]
    },
    {
     "name": "stdout",
     "output_type": "stream",
     "text": [
      "Epoch 19/50, Training Loss: 0.0966, Training Accuracy: 0.9751, Validation Loss: 0.1653, Validation Accuracy: 0.9252\n"
     ]
    },
    {
     "name": "stderr",
     "output_type": "stream",
     "text": [
      "Epoch 20/50: 100%|██████████████████████████████████████████████████████████████████| 22/22 [00:16<00:00,  1.37batch/s]\n",
      "Validation Epoch 20/50: 100%|█████████████████████████████████████████████████████████| 5/5 [00:03<00:00,  1.58batch/s]\n"
     ]
    },
    {
     "name": "stdout",
     "output_type": "stream",
     "text": [
      "Epoch 20/50, Training Loss: 0.0791, Training Accuracy: 0.9839, Validation Loss: 0.1611, Validation Accuracy: 0.9252\n"
     ]
    },
    {
     "name": "stderr",
     "output_type": "stream",
     "text": [
      "Epoch 21/50: 100%|██████████████████████████████████████████████████████████████████| 22/22 [00:14<00:00,  1.49batch/s]\n",
      "Validation Epoch 21/50: 100%|█████████████████████████████████████████████████████████| 5/5 [00:03<00:00,  1.58batch/s]\n"
     ]
    },
    {
     "name": "stdout",
     "output_type": "stream",
     "text": [
      "Epoch 21/50, Training Loss: 0.1116, Training Accuracy: 0.9693, Validation Loss: 0.1508, Validation Accuracy: 0.9252\n"
     ]
    },
    {
     "name": "stderr",
     "output_type": "stream",
     "text": [
      "Epoch 22/50: 100%|██████████████████████████████████████████████████████████████████| 22/22 [00:15<00:00,  1.44batch/s]\n",
      "Validation Epoch 22/50: 100%|█████████████████████████████████████████████████████████| 5/5 [00:03<00:00,  1.47batch/s]\n"
     ]
    },
    {
     "name": "stdout",
     "output_type": "stream",
     "text": [
      "Epoch 22/50, Training Loss: 0.0730, Training Accuracy: 0.9854, Validation Loss: 0.1672, Validation Accuracy: 0.9184\n"
     ]
    },
    {
     "name": "stderr",
     "output_type": "stream",
     "text": [
      "Epoch 23/50: 100%|██████████████████████████████████████████████████████████████████| 22/22 [00:15<00:00,  1.41batch/s]\n",
      "Validation Epoch 23/50: 100%|█████████████████████████████████████████████████████████| 5/5 [00:03<00:00,  1.47batch/s]\n"
     ]
    },
    {
     "name": "stdout",
     "output_type": "stream",
     "text": [
      "Epoch 23/50, Training Loss: 0.1012, Training Accuracy: 0.9693, Validation Loss: 0.1530, Validation Accuracy: 0.9184\n"
     ]
    },
    {
     "name": "stderr",
     "output_type": "stream",
     "text": [
      "Epoch 24/50: 100%|██████████████████████████████████████████████████████████████████| 22/22 [00:16<00:00,  1.32batch/s]\n",
      "Validation Epoch 24/50: 100%|█████████████████████████████████████████████████████████| 5/5 [00:03<00:00,  1.51batch/s]\n"
     ]
    },
    {
     "name": "stdout",
     "output_type": "stream",
     "text": [
      "Epoch 24/50, Training Loss: 0.0868, Training Accuracy: 0.9795, Validation Loss: 0.1603, Validation Accuracy: 0.9184\n"
     ]
    },
    {
     "name": "stderr",
     "output_type": "stream",
     "text": [
      "Epoch 25/50: 100%|██████████████████████████████████████████████████████████████████| 22/22 [00:16<00:00,  1.36batch/s]\n",
      "Validation Epoch 25/50: 100%|█████████████████████████████████████████████████████████| 5/5 [00:03<00:00,  1.45batch/s]\n"
     ]
    },
    {
     "name": "stdout",
     "output_type": "stream",
     "text": [
      "Epoch 25/50, Training Loss: 0.0695, Training Accuracy: 0.9839, Validation Loss: 0.1434, Validation Accuracy: 0.9252\n"
     ]
    },
    {
     "name": "stderr",
     "output_type": "stream",
     "text": [
      "Epoch 26/50: 100%|██████████████████████████████████████████████████████████████████| 22/22 [00:16<00:00,  1.32batch/s]\n",
      "Validation Epoch 26/50: 100%|█████████████████████████████████████████████████████████| 5/5 [00:03<00:00,  1.38batch/s]\n"
     ]
    },
    {
     "name": "stdout",
     "output_type": "stream",
     "text": [
      "Epoch 26/50, Training Loss: 0.0837, Training Accuracy: 0.9810, Validation Loss: 0.1669, Validation Accuracy: 0.9184\n"
     ]
    },
    {
     "name": "stderr",
     "output_type": "stream",
     "text": [
      "Epoch 27/50: 100%|██████████████████████████████████████████████████████████████████| 22/22 [00:16<00:00,  1.33batch/s]\n",
      "Validation Epoch 27/50: 100%|█████████████████████████████████████████████████████████| 5/5 [00:03<00:00,  1.43batch/s]\n"
     ]
    },
    {
     "name": "stdout",
     "output_type": "stream",
     "text": [
      "Epoch 27/50, Training Loss: 0.0759, Training Accuracy: 0.9868, Validation Loss: 0.1638, Validation Accuracy: 0.9184\n"
     ]
    },
    {
     "name": "stderr",
     "output_type": "stream",
     "text": [
      "Epoch 28/50: 100%|██████████████████████████████████████████████████████████████████| 22/22 [00:16<00:00,  1.33batch/s]\n",
      "Validation Epoch 28/50: 100%|█████████████████████████████████████████████████████████| 5/5 [00:03<00:00,  1.47batch/s]\n"
     ]
    },
    {
     "name": "stdout",
     "output_type": "stream",
     "text": [
      "Epoch 28/50, Training Loss: 0.0652, Training Accuracy: 0.9898, Validation Loss: 0.1524, Validation Accuracy: 0.9320\n"
     ]
    },
    {
     "name": "stderr",
     "output_type": "stream",
     "text": [
      "Epoch 29/50: 100%|██████████████████████████████████████████████████████████████████| 22/22 [00:16<00:00,  1.35batch/s]\n",
      "Validation Epoch 29/50: 100%|█████████████████████████████████████████████████████████| 5/5 [00:03<00:00,  1.46batch/s]\n"
     ]
    },
    {
     "name": "stdout",
     "output_type": "stream",
     "text": [
      "Epoch 29/50, Training Loss: 0.0572, Training Accuracy: 0.9912, Validation Loss: 0.1642, Validation Accuracy: 0.9184\n"
     ]
    },
    {
     "name": "stderr",
     "output_type": "stream",
     "text": [
      "Epoch 30/50: 100%|██████████████████████████████████████████████████████████████████| 22/22 [00:16<00:00,  1.33batch/s]\n",
      "Validation Epoch 30/50: 100%|█████████████████████████████████████████████████████████| 5/5 [00:03<00:00,  1.44batch/s]\n"
     ]
    },
    {
     "name": "stdout",
     "output_type": "stream",
     "text": [
      "Epoch 30/50, Training Loss: 0.0577, Training Accuracy: 0.9912, Validation Loss: 0.1713, Validation Accuracy: 0.9184\n"
     ]
    },
    {
     "name": "stderr",
     "output_type": "stream",
     "text": [
      "Epoch 31/50: 100%|██████████████████████████████████████████████████████████████████| 22/22 [00:16<00:00,  1.36batch/s]\n",
      "Validation Epoch 31/50: 100%|█████████████████████████████████████████████████████████| 5/5 [00:03<00:00,  1.45batch/s]\n"
     ]
    },
    {
     "name": "stdout",
     "output_type": "stream",
     "text": [
      "Epoch 31/50, Training Loss: 0.0646, Training Accuracy: 0.9854, Validation Loss: 0.1552, Validation Accuracy: 0.9252\n"
     ]
    },
    {
     "name": "stderr",
     "output_type": "stream",
     "text": [
      "Epoch 32/50: 100%|██████████████████████████████████████████████████████████████████| 22/22 [00:16<00:00,  1.34batch/s]\n",
      "Validation Epoch 32/50: 100%|█████████████████████████████████████████████████████████| 5/5 [00:03<00:00,  1.44batch/s]\n"
     ]
    },
    {
     "name": "stdout",
     "output_type": "stream",
     "text": [
      "Epoch 32/50, Training Loss: 0.0625, Training Accuracy: 0.9912, Validation Loss: 0.1655, Validation Accuracy: 0.9252\n"
     ]
    },
    {
     "name": "stderr",
     "output_type": "stream",
     "text": [
      "Epoch 33/50: 100%|██████████████████████████████████████████████████████████████████| 22/22 [00:16<00:00,  1.33batch/s]\n",
      "Validation Epoch 33/50: 100%|█████████████████████████████████████████████████████████| 5/5 [00:03<00:00,  1.46batch/s]\n"
     ]
    },
    {
     "name": "stdout",
     "output_type": "stream",
     "text": [
      "Epoch 33/50, Training Loss: 0.0696, Training Accuracy: 0.9883, Validation Loss: 0.1510, Validation Accuracy: 0.9252\n"
     ]
    },
    {
     "name": "stderr",
     "output_type": "stream",
     "text": [
      "Epoch 34/50: 100%|██████████████████████████████████████████████████████████████████| 22/22 [00:16<00:00,  1.36batch/s]\n",
      "Validation Epoch 34/50: 100%|█████████████████████████████████████████████████████████| 5/5 [00:03<00:00,  1.46batch/s]\n"
     ]
    },
    {
     "name": "stdout",
     "output_type": "stream",
     "text": [
      "Epoch 34/50, Training Loss: 0.0587, Training Accuracy: 0.9883, Validation Loss: 0.1507, Validation Accuracy: 0.9252\n"
     ]
    },
    {
     "name": "stderr",
     "output_type": "stream",
     "text": [
      "Epoch 35/50: 100%|██████████████████████████████████████████████████████████████████| 22/22 [00:16<00:00,  1.35batch/s]\n",
      "Validation Epoch 35/50: 100%|█████████████████████████████████████████████████████████| 5/5 [00:03<00:00,  1.46batch/s]\n"
     ]
    },
    {
     "name": "stdout",
     "output_type": "stream",
     "text": [
      "Epoch 35/50, Training Loss: 0.0557, Training Accuracy: 0.9927, Validation Loss: 0.1564, Validation Accuracy: 0.9252\n"
     ]
    },
    {
     "name": "stderr",
     "output_type": "stream",
     "text": [
      "Epoch 36/50: 100%|██████████████████████████████████████████████████████████████████| 22/22 [00:16<00:00,  1.37batch/s]\n",
      "Validation Epoch 36/50: 100%|█████████████████████████████████████████████████████████| 5/5 [00:03<00:00,  1.56batch/s]\n"
     ]
    },
    {
     "name": "stdout",
     "output_type": "stream",
     "text": [
      "Epoch 36/50, Training Loss: 0.0548, Training Accuracy: 0.9898, Validation Loss: 0.1502, Validation Accuracy: 0.9252\n"
     ]
    },
    {
     "name": "stderr",
     "output_type": "stream",
     "text": [
      "Epoch 37/50: 100%|██████████████████████████████████████████████████████████████████| 22/22 [00:15<00:00,  1.41batch/s]\n",
      "Validation Epoch 37/50: 100%|█████████████████████████████████████████████████████████| 5/5 [00:03<00:00,  1.45batch/s]\n"
     ]
    },
    {
     "name": "stdout",
     "output_type": "stream",
     "text": [
      "Epoch 37/50, Training Loss: 0.0596, Training Accuracy: 0.9868, Validation Loss: 0.1556, Validation Accuracy: 0.9184\n"
     ]
    },
    {
     "name": "stderr",
     "output_type": "stream",
     "text": [
      "Epoch 38/50: 100%|██████████████████████████████████████████████████████████████████| 22/22 [00:15<00:00,  1.38batch/s]\n",
      "Validation Epoch 38/50: 100%|█████████████████████████████████████████████████████████| 5/5 [00:03<00:00,  1.48batch/s]\n"
     ]
    },
    {
     "name": "stdout",
     "output_type": "stream",
     "text": [
      "Epoch 38/50, Training Loss: 0.0487, Training Accuracy: 0.9956, Validation Loss: 0.1515, Validation Accuracy: 0.9252\n"
     ]
    },
    {
     "name": "stderr",
     "output_type": "stream",
     "text": [
      "Epoch 39/50: 100%|██████████████████████████████████████████████████████████████████| 22/22 [00:16<00:00,  1.31batch/s]\n",
      "Validation Epoch 39/50: 100%|█████████████████████████████████████████████████████████| 5/5 [00:03<00:00,  1.41batch/s]\n"
     ]
    },
    {
     "name": "stdout",
     "output_type": "stream",
     "text": [
      "Epoch 39/50, Training Loss: 0.0536, Training Accuracy: 0.9927, Validation Loss: 0.1758, Validation Accuracy: 0.9184\n"
     ]
    },
    {
     "name": "stderr",
     "output_type": "stream",
     "text": [
      "Epoch 40/50: 100%|██████████████████████████████████████████████████████████████████| 22/22 [00:16<00:00,  1.30batch/s]\n",
      "Validation Epoch 40/50: 100%|█████████████████████████████████████████████████████████| 5/5 [00:03<00:00,  1.44batch/s]\n"
     ]
    },
    {
     "name": "stdout",
     "output_type": "stream",
     "text": [
      "Epoch 40/50, Training Loss: 0.0610, Training Accuracy: 0.9868, Validation Loss: 0.1895, Validation Accuracy: 0.9184\n"
     ]
    },
    {
     "name": "stderr",
     "output_type": "stream",
     "text": [
      "Epoch 41/50: 100%|██████████████████████████████████████████████████████████████████| 22/22 [00:16<00:00,  1.34batch/s]\n",
      "Validation Epoch 41/50: 100%|█████████████████████████████████████████████████████████| 5/5 [00:03<00:00,  1.45batch/s]\n"
     ]
    },
    {
     "name": "stdout",
     "output_type": "stream",
     "text": [
      "Epoch 41/50, Training Loss: 0.0542, Training Accuracy: 0.9883, Validation Loss: 0.1701, Validation Accuracy: 0.9184\n"
     ]
    },
    {
     "name": "stderr",
     "output_type": "stream",
     "text": [
      "Epoch 42/50: 100%|██████████████████████████████████████████████████████████████████| 22/22 [00:16<00:00,  1.35batch/s]\n",
      "Validation Epoch 42/50: 100%|█████████████████████████████████████████████████████████| 5/5 [00:03<00:00,  1.59batch/s]\n"
     ]
    },
    {
     "name": "stdout",
     "output_type": "stream",
     "text": [
      "Epoch 42/50, Training Loss: 0.0555, Training Accuracy: 0.9839, Validation Loss: 0.1713, Validation Accuracy: 0.9184\n"
     ]
    },
    {
     "name": "stderr",
     "output_type": "stream",
     "text": [
      "Epoch 43/50: 100%|██████████████████████████████████████████████████████████████████| 22/22 [00:16<00:00,  1.36batch/s]\n",
      "Validation Epoch 43/50: 100%|█████████████████████████████████████████████████████████| 5/5 [00:03<00:00,  1.48batch/s]\n"
     ]
    },
    {
     "name": "stdout",
     "output_type": "stream",
     "text": [
      "Epoch 43/50, Training Loss: 0.0545, Training Accuracy: 0.9883, Validation Loss: 0.1856, Validation Accuracy: 0.9116\n"
     ]
    },
    {
     "name": "stderr",
     "output_type": "stream",
     "text": [
      "Epoch 44/50: 100%|██████████████████████████████████████████████████████████████████| 22/22 [00:16<00:00,  1.36batch/s]\n",
      "Validation Epoch 44/50: 100%|█████████████████████████████████████████████████████████| 5/5 [00:03<00:00,  1.46batch/s]\n"
     ]
    },
    {
     "name": "stdout",
     "output_type": "stream",
     "text": [
      "Epoch 44/50, Training Loss: 0.0683, Training Accuracy: 0.9795, Validation Loss: 0.1396, Validation Accuracy: 0.9252\n"
     ]
    },
    {
     "name": "stderr",
     "output_type": "stream",
     "text": [
      "Epoch 45/50: 100%|██████████████████████████████████████████████████████████████████| 22/22 [00:16<00:00,  1.30batch/s]\n",
      "Validation Epoch 45/50: 100%|█████████████████████████████████████████████████████████| 5/5 [00:03<00:00,  1.44batch/s]\n"
     ]
    },
    {
     "name": "stdout",
     "output_type": "stream",
     "text": [
      "Epoch 45/50, Training Loss: 0.0558, Training Accuracy: 0.9825, Validation Loss: 0.1507, Validation Accuracy: 0.9252\n"
     ]
    },
    {
     "name": "stderr",
     "output_type": "stream",
     "text": [
      "Epoch 46/50: 100%|██████████████████████████████████████████████████████████████████| 22/22 [00:17<00:00,  1.29batch/s]\n",
      "Validation Epoch 46/50: 100%|█████████████████████████████████████████████████████████| 5/5 [00:03<00:00,  1.46batch/s]\n"
     ]
    },
    {
     "name": "stdout",
     "output_type": "stream",
     "text": [
      "Epoch 46/50, Training Loss: 0.0415, Training Accuracy: 0.9942, Validation Loss: 0.1578, Validation Accuracy: 0.9184\n"
     ]
    },
    {
     "name": "stderr",
     "output_type": "stream",
     "text": [
      "Epoch 47/50: 100%|██████████████████████████████████████████████████████████████████| 22/22 [00:16<00:00,  1.36batch/s]\n",
      "Validation Epoch 47/50: 100%|█████████████████████████████████████████████████████████| 5/5 [00:03<00:00,  1.44batch/s]\n"
     ]
    },
    {
     "name": "stdout",
     "output_type": "stream",
     "text": [
      "Epoch 47/50, Training Loss: 0.0714, Training Accuracy: 0.9839, Validation Loss: 0.1875, Validation Accuracy: 0.9184\n"
     ]
    },
    {
     "name": "stderr",
     "output_type": "stream",
     "text": [
      "Epoch 48/50: 100%|██████████████████████████████████████████████████████████████████| 22/22 [00:16<00:00,  1.35batch/s]\n",
      "Validation Epoch 48/50: 100%|█████████████████████████████████████████████████████████| 5/5 [00:03<00:00,  1.55batch/s]\n"
     ]
    },
    {
     "name": "stdout",
     "output_type": "stream",
     "text": [
      "Epoch 48/50, Training Loss: 0.0541, Training Accuracy: 0.9883, Validation Loss: 0.1664, Validation Accuracy: 0.9252\n"
     ]
    },
    {
     "name": "stderr",
     "output_type": "stream",
     "text": [
      "Epoch 49/50: 100%|██████████████████████████████████████████████████████████████████| 22/22 [00:16<00:00,  1.36batch/s]\n",
      "Validation Epoch 49/50: 100%|█████████████████████████████████████████████████████████| 5/5 [00:03<00:00,  1.41batch/s]\n"
     ]
    },
    {
     "name": "stdout",
     "output_type": "stream",
     "text": [
      "Epoch 49/50, Training Loss: 0.0458, Training Accuracy: 0.9912, Validation Loss: 0.1680, Validation Accuracy: 0.9184\n"
     ]
    },
    {
     "name": "stderr",
     "output_type": "stream",
     "text": [
      "Epoch 50/50: 100%|██████████████████████████████████████████████████████████████████| 22/22 [00:16<00:00,  1.35batch/s]\n",
      "Validation Epoch 50/50: 100%|█████████████████████████████████████████████████████████| 5/5 [00:03<00:00,  1.45batch/s]\n"
     ]
    },
    {
     "name": "stdout",
     "output_type": "stream",
     "text": [
      "Epoch 50/50, Training Loss: 0.0456, Training Accuracy: 0.9942, Validation Loss: 0.1873, Validation Accuracy: 0.9184\n",
      "Treinamento finalizado\n",
      "Saved entire model at C:\\Users\\maste\\OneDrive\\Documentos\\Resultados_Redes_WVC2025\\EfficientNetB2\\50_epocas\\SGD\\melhor_modelo\\melhor_modelo.pt\n"
     ]
    }
   ],
   "source": [
    "model.to(device)\n",
    "num_epochs=50\n",
    "# Listas para armazenar perda e acurácia\n",
    "train_loss_values = []\n",
    "val_loss_values = []\n",
    "test_loss_values = []\n",
    "train_accuracy_values = []\n",
    "val_accuracy_values = []\n",
    "test_accuracy_values = []\n",
    "\n",
    "# Listas para armazenar rótulos verdadeiros e predições para a matriz de confusão e curva ROC\n",
    "all_labels = []\n",
    "all_preds = []\n",
    "\n",
    "# Treinamento e coleta de dados\n",
    "best_accuracy = 0.0\n",
    "counter = 0\n",
    "\n",
    "for epoch in range(num_epochs):\n",
    "    model.train()\n",
    "    running_loss = 0.0\n",
    "    correct = 0\n",
    "    total = 0\n",
    "\n",
    "    for inputs, labels in tqdm(train_loader, desc=f\"Epoch {epoch+1}/{num_epochs}\", unit='batch'):\n",
    "        inputs, labels = inputs.to(device), labels.to(device)\n",
    "\n",
    "        optimizer.zero_grad()\n",
    "        outputs = model(inputs)\n",
    "        loss = criterion(outputs, labels)\n",
    "        loss.backward()\n",
    "        optimizer.step()\n",
    "        running_loss += loss.item() * inputs.size(0)\n",
    "\n",
    "        _, predicted = torch.max(outputs.data, 1)\n",
    "        total += labels.size(0)\n",
    "        correct += (predicted == labels).sum().item()\n",
    "\n",
    "    epoch_loss = running_loss / len(train_loader.dataset)\n",
    "    train_accuracy = correct / total\n",
    "\n",
    "    train_loss_values.append(epoch_loss)\n",
    "    train_accuracy_values.append(train_accuracy)\n",
    "\n",
    "    # Validação\n",
    "    model.eval()\n",
    "    val_running_loss = 0.0\n",
    "    val_correct = 0\n",
    "    val_total = 0\n",
    "\n",
    "    with torch.no_grad():\n",
    "        for inputs, labels in tqdm(val_loader, desc=f\"Validation Epoch {epoch+1}/{num_epochs}\", unit='batch'):\n",
    "            inputs, labels = inputs.to(device), labels.to(device)\n",
    "            outputs = model(inputs)\n",
    "            loss = criterion(outputs, labels)\n",
    "            val_running_loss += loss.item() * inputs.size(0)\n",
    "            _, predicted = torch.max(outputs.data, 1)\n",
    "            val_total += labels.size(0)\n",
    "            val_correct += (predicted == labels).sum().item()\n",
    "\n",
    "        val_loss = val_running_loss / len(val_loader.dataset)\n",
    "        val_accuracy = val_correct / val_total\n",
    "\n",
    "        val_loss_values.append(val_loss)\n",
    "        val_accuracy_values.append(val_accuracy)\n",
    "\n",
    "        print(f'Epoch {epoch+1}/{num_epochs}, '\n",
    "              f'Training Loss: {epoch_loss:.4f}, Training Accuracy: {train_accuracy:.4f}, '\n",
    "              f'Validation Loss: {val_loss:.4f}, Validation Accuracy: {val_accuracy:.4f}')\n",
    "\n",
    "        # Verificar se a acurácia de validação melhorou e salvar o modelo\n",
    "        if val_accuracy > best_accuracy:\n",
    "            best_accuracy = val_accuracy\n",
    "            model_save_path = os.path.join(save_weights, f'model_epoch_{epoch+1}_val_accuracy_{val_accuracy:.4f}.pt')\n",
    "            torch.save(model.state_dict(), model_save_path)\n",
    "            print(f'Saved model at epoch {epoch+1} with validation accuracy: {val_accuracy:.4f} to {model_save_path}')\n",
    "\n",
    "print('Treinamento finalizado')\n",
    "\n",
    "# Salvar o modelo inteiro\n",
    "torch.save(model, save_model)\n",
    "print(f'Saved entire model at {save_model}')"
   ]
  },
  {
   "cell_type": "code",
   "execution_count": 31,
   "id": "a9574693-06a1-4608-aec1-66fcf8573ef9",
   "metadata": {},
   "outputs": [
    {
     "name": "stdout",
     "output_type": "stream",
     "text": [
      "Loaded model from C:\\Users\\maste\\OneDrive\\Documentos\\Resultados_Redes_WVC2025\\EfficientNetB2\\50_epocas\\SGD\\melhor_modelo\\melhor_modelo.pt\n"
     ]
    },
    {
     "name": "stderr",
     "output_type": "stream",
     "text": [
      "C:\\Users\\maste\\AppData\\Local\\Temp\\ipykernel_29720\\4127360043.py:7: FutureWarning: You are using `torch.load` with `weights_only=False` (the current default value), which uses the default pickle module implicitly. It is possible to construct malicious pickle data which will execute arbitrary code during unpickling (See https://github.com/pytorch/pytorch/blob/main/SECURITY.md#untrusted-models for more details). In a future release, the default value for `weights_only` will be flipped to `True`. This limits the functions that could be executed during unpickling. Arbitrary objects will no longer be allowed to be loaded via this mode unless they are explicitly allowlisted by the user via `torch.serialization.add_safe_globals`. We recommend you start setting `weights_only=True` for any use case where you don't have full control of the loaded file. Please open an issue on GitHub for any issues related to this experimental feature.\n",
      "  model.load_state_dict(torch.load(model_save_path))\n"
     ]
    },
    {
     "name": "stdout",
     "output_type": "stream",
     "text": [
      "Loaded weights from C:\\Users\\maste\\OneDrive\\Documentos\\Resultados_Redes_WVC2025\\EfficientNetB2\\50_epocas\\SGD\\melhor_modelo\\model_epoch_2_val_accuracy_0.9456.pt\n"
     ]
    }
   ],
   "source": [
    "save_model = \"C:\\\\Users\\\\maste\\\\OneDrive\\\\Documentos\\\\Resultados_Redes_WVC2025\\\\EfficientNetB2\\\\50_epocas\\\\SGD\\\\melhor_modelo\\\\melhor_modelo.pt\"\n",
    "model = torch.load(save_model, weights_only=False)\n",
    "model.eval()\n",
    "print(f'Loaded model from {save_model}')\n",
    "\n",
    "model_save_path= \"C:\\\\Users\\\\maste\\OneDrive\\\\Documentos\\\\Resultados_Redes_WVC2025\\\\EfficientNetB2\\\\50_epocas\\\\SGD\\\\melhor_modelo\\\\model_epoch_2_val_accuracy_0.9456.pt\"\n",
    "model.load_state_dict(torch.load(model_save_path))\n",
    "model.eval()\n",
    "print(f'Loaded weights from {model_save_path}')"
   ]
  },
  {
   "cell_type": "code",
   "execution_count": 33,
   "id": "e520c12f-d3d8-4223-8adc-48d04a705fe3",
   "metadata": {},
   "outputs": [
    {
     "name": "stdout",
     "output_type": "stream",
     "text": [
      "Confirmation Accuracy: 0.9456\n"
     ]
    }
   ],
   "source": [
    "# Confirmação do carregamento do modelo e dos pesos\n",
    "model.to(device)\n",
    "\n",
    "model.eval()\n",
    "confirmation_correct = 0\n",
    "confirmation_total = 0\n",
    "with torch.no_grad():\n",
    "    for inputs, labels in val_loader:\n",
    "        inputs, labels = inputs.to(device), labels.to(device)\n",
    "        outputs = model(inputs)\n",
    "        _, predicted = torch.max(outputs.data, 1)\n",
    "        confirmation_total += labels.size(0)\n",
    "        confirmation_correct += (predicted == labels).sum().item()\n",
    "\n",
    "print(f'Confirmation Accuracy: { confirmation_correct / confirmation_total:.4f}')"
   ]
  },
  {
   "cell_type": "code",
   "execution_count": 35,
   "id": "7b2e4e58-60f9-4a1a-a602-79ab123d15f1",
   "metadata": {},
   "outputs": [
    {
     "name": "stderr",
     "output_type": "stream",
     "text": [
      "Val: 100%|███████████████████████████████████████████████████████████████████████████████| 5/5 [00:03<00:00,  1.42it/s]"
     ]
    },
    {
     "name": "stdout",
     "output_type": "stream",
     "text": [
      "Val Loss: 0.1873, Val Accuracy: 0.9320\n"
     ]
    },
    {
     "name": "stderr",
     "output_type": "stream",
     "text": [
      "\n"
     ]
    }
   ],
   "source": [
    "# Avaliando o modelo carregado no conjunto de validação\n",
    "model.eval()\n",
    "test_running_loss = 0.0\n",
    "test_correct = 0\n",
    "test_total = 0\n",
    "\n",
    "all_labels = []\n",
    "all_probs = []  # Para armazenar as probabilidades\n",
    "\n",
    "with torch.no_grad():\n",
    "    for inputs, labels in tqdm(val_loader, desc=\"Val\"):\n",
    "        inputs, labels = inputs.to(device), labels.to(device)\n",
    "        outputs = model(inputs)\n",
    "        #loss = nn.CrossEntropyLoss()(outputs, labels)\n",
    "        #test_running_loss += loss.item() * inputs.size(0)\n",
    "        _, predicted = torch.max(outputs.data, 1)\n",
    "        val_total += labels.size(0)\n",
    "        val_correct += (predicted == labels).sum().item()\n",
    "\n",
    "        # Armazenando rótulos e probabilidades\n",
    "        all_labels.extend(labels.cpu().numpy())\n",
    "        all_probs.extend(torch.softmax(outputs, dim=1).cpu().numpy())\n",
    "\n",
    "    val_loss = val_running_loss / len(val_loader.dataset)\n",
    "    val_accuracy = val_correct / val_total\n",
    "    print(f'Val Loss: {val_loss:.4f}, Val Accuracy: {val_accuracy:.4f}')"
   ]
  },
  {
   "cell_type": "code",
   "execution_count": 37,
   "id": "52d7f857-b26f-4257-9d88-d54af64c731b",
   "metadata": {},
   "outputs": [],
   "source": [
    "# Calculando a matriz de confusão\n",
    "cm = confusion_matrix(all_labels, np.argmax(all_probs, axis=1))"
   ]
  },
  {
   "cell_type": "code",
   "execution_count": 39,
   "id": "e1ebfb3c-d30c-4366-af57-c56d43b318b6",
   "metadata": {},
   "outputs": [
    {
     "data": {
      "image/png": "[encoded data removed]",
      "text/plain": [
       "<Figure size 640x480 with 2 Axes>"
      ]
     },
     "metadata": {},
     "output_type": "display_data"
    }
   ],
   "source": [
    "# Plotando a matriz de confusão\n",
    "disp = ConfusionMatrixDisplay(confusion_matrix=cm, display_labels=classes)\n",
    "disp.plot(cmap=plt.cm.Blues)\n",
    "plt.title('Confusion Matrix')\n",
    "plt.savefig(\"C:\\\\Users\\\\maste\\\\OneDrive\\\\Documentos\\\\Resultados_Redes_WVC2025\\\\EfficientNetB2\\\\50_epocas\\\\SGD\\\\gráficos\\\\50_epocas\\\\treino\\\\50_epocasmatriz_treino.pdf\")\n",
    "plt.show()"
   ]
  },
  {
   "cell_type": "code",
   "execution_count": 41,
   "id": "3d2a1f41-3d1b-47f5-afcf-99f9b36c791d",
   "metadata": {},
   "outputs": [
    {
     "name": "stdout",
     "output_type": "stream",
     "text": [
      "              precision    recall  f1-score   support\n",
      "\n",
      "      Câncer       0.96      0.94      0.95        84\n",
      "      Normal       0.92      0.95      0.94        63\n",
      "\n",
      "    accuracy                           0.95       147\n",
      "   macro avg       0.94      0.95      0.94       147\n",
      "weighted avg       0.95      0.95      0.95       147\n",
      "\n",
      "tensor([[-0.4734,  0.2834],\n",
      "        [-0.5574,  0.6890],\n",
      "        [-0.4103,  0.3617],\n",
      "        [-0.5024,  0.4492],\n",
      "        [-0.5376,  0.1789],\n",
      "        [-0.4978,  0.1565],\n",
      "        [-0.6167,  0.3924],\n",
      "        [-0.9447,  0.6181],\n",
      "        [-0.6514,  0.3961],\n",
      "        [-0.6736,  0.4752],\n",
      "        [-0.7627,  0.3662],\n",
      "        [-0.3298,  0.0829],\n",
      "        [-0.2264,  0.3388],\n",
      "        [ 0.0077,  0.2500],\n",
      "        [-0.1660,  0.2524],\n",
      "        [-0.5259,  0.3829],\n",
      "        [-0.0580, -0.0723],\n",
      "        [-1.0544,  0.8841],\n",
      "        [-0.6859,  0.5442]], device='cuda:0')\n",
      "tensor([1, 1, 1, 1, 1, 1, 1, 1, 1, 1, 1, 1, 1, 1, 1, 1, 0, 1, 1],\n",
      "       device='cuda:0')\n",
      "[np.int64(0), np.int64(0), np.int64(0), np.int64(0), np.int64(0), np.int64(0), np.int64(0), np.int64(0), np.int64(0), np.int64(0), np.int64(0), np.int64(0), np.int64(0), np.int64(0), np.int64(0), np.int64(0), np.int64(0), np.int64(0), np.int64(0), np.int64(0), np.int64(1), np.int64(0), np.int64(0), np.int64(1), np.int64(1), np.int64(1), np.int64(0), np.int64(0), np.int64(0), np.int64(1), np.int64(0), np.int64(0), np.int64(0), np.int64(0), np.int64(0), np.int64(0), np.int64(0), np.int64(0), np.int64(0), np.int64(0), np.int64(0), np.int64(0), np.int64(0), np.int64(0), np.int64(0), np.int64(0), np.int64(0), np.int64(0), np.int64(0), np.int64(0), np.int64(0), np.int64(0), np.int64(0), np.int64(0), np.int64(0), np.int64(0), np.int64(0), np.int64(0), np.int64(0), np.int64(0), np.int64(0), np.int64(0), np.int64(0), np.int64(0), np.int64(0), np.int64(0), np.int64(0), np.int64(0), np.int64(0), np.int64(0), np.int64(0), np.int64(0), np.int64(0), np.int64(0), np.int64(0), np.int64(0), np.int64(0), np.int64(0), np.int64(0), np.int64(0), np.int64(0), np.int64(0), np.int64(0), np.int64(0), np.int64(0), np.int64(1), np.int64(1), np.int64(1), np.int64(1), np.int64(1), np.int64(1), np.int64(1), np.int64(1), np.int64(1), np.int64(1), np.int64(1), np.int64(1), np.int64(1), np.int64(1), np.int64(1), np.int64(1), np.int64(1), np.int64(1), np.int64(1), np.int64(1), np.int64(1), np.int64(1), np.int64(1), np.int64(1), np.int64(1), np.int64(1), np.int64(1), np.int64(1), np.int64(1), np.int64(1), np.int64(0), np.int64(1), np.int64(1), np.int64(1), np.int64(1), np.int64(1), np.int64(1), np.int64(1), np.int64(1), np.int64(1), np.int64(1), np.int64(1), np.int64(1), np.int64(1), np.int64(1), np.int64(1), np.int64(1), np.int64(1), np.int64(1), np.int64(1), np.int64(1), np.int64(1), np.int64(1), np.int64(1), np.int64(1), np.int64(1), np.int64(1), np.int64(1), np.int64(1), np.int64(0), np.int64(1), np.int64(1)]\n"
     ]
    }
   ],
   "source": [
    "import torch\n",
    "from sklearn.metrics import classification_report\n",
    "#from  utils import to_onehot\n",
    "# Alterar o modelo para o modo de avaliação\n",
    "model.eval()\n",
    "\n",
    "# Para armazenar rótulos verdadeiros e previsões\n",
    "all_labels = []\n",
    "all_preds = []\n",
    "\n",
    "# Desabilitar cálculo de gradiente para inferência\n",
    "with torch.no_grad():\n",
    "    for data in val_loader:\n",
    "        inputs, labels = data\n",
    "        inputs, labels = inputs.to(device), labels.to(device)\n",
    "\n",
    "        # Obter saídas do modelo e prever a classe\n",
    "        outputs = model(inputs)\n",
    "        _, preds = torch.max(outputs, 1)\n",
    "\n",
    "        # Armazenar rótulos e previsões\n",
    "        all_labels.extend(labels.cpu().numpy())\n",
    "        all_preds.extend(preds.cpu().numpy())\n",
    "#all_preds = utils.to_onehot(all_probs, 1)\n",
    "# Gerar relatório de classificação\n",
    "target_names = ['Câncer', 'Normal']\n",
    "print(classification_report(all_labels, all_preds, target_names=target_names))\n",
    "print(outputs)\n",
    "print(preds)\n",
    "print(all_preds)"
   ]
  },
  {
   "cell_type": "code",
   "execution_count": 43,
   "id": "2bf8bc19-6cca-4b5c-abed-f39f57f4d478",
   "metadata": {},
   "outputs": [
    {
     "name": "stdout",
     "output_type": "stream",
     "text": [
      "[0.         0.05952381 1.        ]\n",
      "---------\n",
      "[0.         0.95238095 1.        ]\n",
      "---------\n"
     ]
    }
   ],
   "source": [
    "import torch\n",
    "from sklearn.metrics import roc_curve, auc\n",
    "import matplotlib.pyplot as plt\n",
    "import numpy as np\n",
    "#y_pred_keras = keras_model.predict(X_test).ravel()\n",
    "\n",
    "\n",
    "classes = val_data.classes\n",
    "num_classes = len(classes)\n",
    "\n",
    "all_labels = np.array(all_labels)\n",
    "all_preds = np.array( all_preds)\n",
    "\n",
    "fpr, tpr, _ = roc_curve(all_labels , all_preds)\n",
    "\n",
    "print(fpr)\n",
    "print('---------')\n",
    "print(tpr)\n",
    "print('---------')\n",
    "\n",
    "\n",
    "\n",
    "\n",
    "#for i in range(num_classes):\n",
    "#    # Calculando a ROC para a classe i\n",
    "#    fpr, tpr, _ = roc_curve(all_labels == i, all_preds[:, i])\n",
    "#    roc_auc = auc(fpr, tpr)\n",
    "#    plt.plot(fpr, tpr, label=f'Classe {classes[i]} (AUC = {roc_auc:.2f})')"
   ]
  },
  {
   "cell_type": "code",
   "execution_count": 45,
   "id": "b82f7d92-cf08-4ea1-9789-232d6a71a224",
   "metadata": {},
   "outputs": [
    {
     "name": "stdout",
     "output_type": "stream",
     "text": [
      "0.9464285714285714\n"
     ]
    }
   ],
   "source": [
    "from sklearn.metrics import auc\n",
    "auc_keras = auc(fpr, tpr)\n",
    "print(auc_keras)"
   ]
  },
  {
   "cell_type": "code",
   "execution_count": 47,
   "id": "d6bf5d24-25ca-4601-8644-d4eafba38d76",
   "metadata": {},
   "outputs": [
    {
     "data": {
      "image/png": "[encoded data removed]",
      "text/plain": [
       "<Figure size 640x480 with 1 Axes>"
      ]
     },
     "metadata": {},
     "output_type": "display_data"
    }
   ],
   "source": [
    "import matplotlib.pyplot as plt\n",
    "plt.figure(1)\n",
    "plt.plot([0, 1], [0, 1], 'k--')\n",
    "plt.plot(fpr, tpr, label='AUC (area = {:.3f})'.format(auc_keras))\n",
    "plt.xlabel('False positive rate')\n",
    "plt.ylabel('True positive rate')\n",
    "plt.title('ROC curve')\n",
    "plt.legend(loc='best')\n",
    "plt.savefig(\"C:\\\\Users\\\\maste\\\\OneDrive\\\\Documentos\\\\Resultados_Redes_WVC2025\\\\EfficientNetB2\\\\50_epocas\\\\SGD\\\\gráficos\\\\50_epocas\\\\treino\\\\CurvaRoc_treino.pdf\")\n",
    "plt.show()"
   ]
  },
  {
   "cell_type": "code",
   "execution_count": 49,
   "id": "b85eb512-82d5-4e17-95f7-95be6cdbea06",
   "metadata": {},
   "outputs": [
    {
     "data": {
      "image/png": "[encoded data removed]",
      "text/plain": [
       "<Figure size 640x480 with 1 Axes>"
      ]
     },
     "metadata": {},
     "output_type": "display_data"
    }
   ],
   "source": [
    "# Plotando a perda\n",
    "epochs = range(1, num_epochs + 1)\n",
    "\n",
    "plt.figure()\n",
    "plt.plot(epochs, train_loss_values, label='Training Loss')\n",
    "plt.plot(epochs, val_loss_values, label='Validation Loss')\n",
    "plt.xlabel('Epochs')\n",
    "plt.ylabel('Loss')\n",
    "plt.title('Training and Validation Loss')\n",
    "plt.legend()\n",
    "plt.savefig(\"C:\\\\Users\\\\maste\\\\OneDrive\\\\Documentos\\\\Resultados_Redes_WVC2025\\\\EfficientNetB2\\\\50_epocas\\\\SGD\\\\gráficos\\\\50_epocas\\\\treino\\\\Loss_treino.pdf\")\n",
    "plt.show()"
   ]
  },
  {
   "cell_type": "code",
   "execution_count": 51,
   "id": "3f3b5fae-0aa0-4699-b43b-9140f93087dd",
   "metadata": {},
   "outputs": [
    {
     "data": {
      "image/png": "[encoded data removed]",
      "text/plain": [
       "<Figure size 640x480 with 1 Axes>"
      ]
     },
     "metadata": {},
     "output_type": "display_data"
    }
   ],
   "source": [
    "# Plotando a acurácia\n",
    "plt.figure()\n",
    "plt.plot(epochs, train_accuracy_values, label='Training Accuracy')\n",
    "plt.plot(epochs, val_accuracy_values, label='Validation Accuracy')\n",
    "plt.xlabel('Epochs')\n",
    "plt.ylabel('Accuracy')\n",
    "plt.title('Training and Validation Accuracy')\n",
    "plt.legend()\n",
    "plt.savefig(\"C:\\\\Users\\\\maste\\\\OneDrive\\\\Documentos\\\\Resultados_Redes_WVC2025\\\\EfficientNetB2\\\\50_epocas\\\\SGD\\\\gráficos\\\\50_epocas\\\\treino\\\\Accuracy_treino.pdf\")\n",
    "plt.show()"
   ]
  },
  {
   "cell_type": "code",
   "execution_count": 53,
   "id": "3d0e0755-156a-4053-aefb-81b185e81e9f",
   "metadata": {},
   "outputs": [],
   "source": [
    "test_dir = \"C:\\\\Users\\\\maste\\\\OneDrive\\\\Documentos\\\\Artigo_Rita_Dataset\\\\Testing\""
   ]
  },
  {
   "cell_type": "code",
   "execution_count": 55,
   "id": "48b499f7-c662-4971-9500-1626874d31f4",
   "metadata": {},
   "outputs": [],
   "source": [
    "# Transformações para normalização e aumento de dados\n",
    "transform = transforms.Compose([\n",
    "    transforms.Resize(256),\n",
    "    transforms.CenterCrop(224),\n",
    "    transforms.ToTensor(),\n",
    "    transforms.Normalize(mean=[0.485, 0.456, 0.406],\n",
    "                         std=[0.229, 0.224, 0.225])\n",
    "])"
   ]
  },
  {
   "cell_type": "code",
   "execution_count": 57,
   "id": "3e8ea7a9-da69-429f-b141-05c7766136e6",
   "metadata": {},
   "outputs": [],
   "source": [
    "test_data = datasets.ImageFolder(test_dir, transform=transform)"
   ]
  },
  {
   "cell_type": "code",
   "execution_count": 59,
   "id": "8b5c75a9-c8e3-4c8d-8150-9673592ce192",
   "metadata": {},
   "outputs": [],
   "source": [
    "# Criando o DataLoader para o conjunto de teste\n",
    "test_loader = DataLoader(test_data, batch_size=1, shuffle=True)"
   ]
  },
  {
   "cell_type": "code",
   "execution_count": 61,
   "id": "acb5c448-2194-41e3-93c0-e5efa73688e9",
   "metadata": {},
   "outputs": [
    {
     "name": "stdout",
     "output_type": "stream",
     "text": [
      "2\n",
      "['malignant_tumor', 'no_tumor']\n"
     ]
    }
   ],
   "source": [
    "# Definindo as classes do dataset\n",
    "classes = test_data.classes\n",
    "num_classes = len(classes)\n",
    "print(num_classes)\n",
    "print(classes)"
   ]
  },
  {
   "cell_type": "code",
   "execution_count": 71,
   "id": "dd77ec75-d299-46db-8ad8-2a773c1dadb4",
   "metadata": {},
   "outputs": [
    {
     "name": "stderr",
     "output_type": "stream",
     "text": [
      "Test: 100%|██████████████████████████████████████████████████████████████████████████| 146/146 [00:13<00:00, 10.54it/s]"
     ]
    },
    {
     "name": "stdout",
     "output_type": "stream",
     "text": [
      "Val Loss: 0.3149, Val Accuracy: 0.9041\n"
     ]
    },
    {
     "name": "stderr",
     "output_type": "stream",
     "text": [
      "\n"
     ]
    }
   ],
   "source": [
    "# Avaliando o modelo carregado no conjunto de teste\n",
    "model.eval()\n",
    "test_running_loss = 0.0\n",
    "test_correct = 0\n",
    "test_total = 0\n",
    "\n",
    "all_labels = []\n",
    "all_probs = []  # Para armazenar as probabilidades\n",
    "\n",
    "with torch.no_grad():\n",
    "    for inputs, labels in tqdm(test_loader, desc=\"Test\"):\n",
    "        inputs, labels = inputs.to(device), labels.to(device)\n",
    "        outputs = model(inputs)\n",
    "        #loss = nn.CrossEntropyLoss()(outputs, labels)\n",
    "        #test_running_loss += loss.item() * inputs.size(0)\n",
    "        _, predicted = torch.max(outputs.data, 1)\n",
    "        test_total += labels.size(0)\n",
    "        test_correct += (predicted == labels).sum().item()\n",
    "\n",
    "        # Armazenando rótulos e probabilidades\n",
    "        all_labels.extend(labels.cpu().numpy())\n",
    "        all_probs.extend(torch.softmax(outputs, dim=1).cpu().numpy())\n",
    "\n",
    "    test_loss = val_running_loss / len(test_loader.dataset)\n",
    "    test_accuracy = test_correct / test_total\n",
    "    print(f'Val Loss: {test_loss:.4f}, Val Accuracy: {test_accuracy:.4f}')"
   ]
  },
  {
   "cell_type": "code",
   "execution_count": 73,
   "id": "17a2502b-ece8-42a1-afd0-2cfa1a59ce29",
   "metadata": {},
   "outputs": [],
   "source": [
    "# Calculando a matriz de confusão\n",
    "cm = confusion_matrix(all_labels, np.argmax(all_probs, axis=1))"
   ]
  },
  {
   "cell_type": "code",
   "execution_count": 75,
   "id": "4aa39fdd-255e-4184-919b-710f2260bbd0",
   "metadata": {},
   "outputs": [
    {
     "data": {
      "image/png": "[encoded data removed]",
      "text/plain": [
       "<Figure size 640x480 with 2 Axes>"
      ]
     },
     "metadata": {},
     "output_type": "display_data"
    }
   ],
   "source": [
    "# Plotando a matriz de confusão\n",
    "disp = ConfusionMatrixDisplay(confusion_matrix=cm, display_labels=classes)\n",
    "disp.plot(cmap=plt.cm.Blues)\n",
    "plt.title('Confusion Matrix')\n",
    "plt.savefig(\"C:\\\\Users\\\\maste\\\\OneDrive\\\\Documentos\\\\Resultados_Redes_WVC2025\\\\EfficientNetB2\\\\50_epocas\\\\SGD\\\\gráficos\\\\50_epocas\\\\validação\\\\Matriz_validação.pdf\")\n",
    "plt.show()"
   ]
  },
  {
   "cell_type": "code",
   "execution_count": 77,
   "id": "7425bae6-565f-488f-85c2-0b2e02e9f734",
   "metadata": {},
   "outputs": [
    {
     "name": "stdout",
     "output_type": "stream",
     "text": [
      "              precision    recall  f1-score   support\n",
      "\n",
      "      Câncer       0.91      0.93      0.92        84\n",
      "      Normal       0.90      0.87      0.89        62\n",
      "\n",
      "    accuracy                           0.90       146\n",
      "   macro avg       0.90      0.90      0.90       146\n",
      "weighted avg       0.90      0.90      0.90       146\n",
      "\n",
      "tensor([[ 0.3001, -0.3805]], device='cuda:0')\n",
      "tensor([0], device='cuda:0')\n",
      "[np.int64(0), np.int64(1), np.int64(1), np.int64(0), np.int64(0), np.int64(1), np.int64(0), np.int64(0), np.int64(0), np.int64(0), np.int64(0), np.int64(0), np.int64(1), np.int64(0), np.int64(1), np.int64(1), np.int64(1), np.int64(0), np.int64(0), np.int64(1), np.int64(0), np.int64(0), np.int64(0), np.int64(0), np.int64(0), np.int64(1), np.int64(1), np.int64(1), np.int64(0), np.int64(0), np.int64(0), np.int64(0), np.int64(0), np.int64(1), np.int64(1), np.int64(0), np.int64(1), np.int64(0), np.int64(1), np.int64(1), np.int64(0), np.int64(1), np.int64(0), np.int64(1), np.int64(0), np.int64(0), np.int64(0), np.int64(0), np.int64(0), np.int64(1), np.int64(1), np.int64(0), np.int64(0), np.int64(0), np.int64(0), np.int64(0), np.int64(0), np.int64(1), np.int64(1), np.int64(1), np.int64(0), np.int64(1), np.int64(0), np.int64(0), np.int64(0), np.int64(0), np.int64(0), np.int64(1), np.int64(0), np.int64(1), np.int64(1), np.int64(1), np.int64(1), np.int64(1), np.int64(1), np.int64(1), np.int64(0), np.int64(1), np.int64(0), np.int64(0), np.int64(0), np.int64(0), np.int64(0), np.int64(1), np.int64(0), np.int64(1), np.int64(0), np.int64(0), np.int64(1), np.int64(0), np.int64(0), np.int64(0), np.int64(0), np.int64(0), np.int64(1), np.int64(1), np.int64(0), np.int64(1), np.int64(0), np.int64(0), np.int64(0), np.int64(0), np.int64(1), np.int64(0), np.int64(1), np.int64(1), np.int64(1), np.int64(0), np.int64(1), np.int64(0), np.int64(1), np.int64(1), np.int64(1), np.int64(0), np.int64(0), np.int64(0), np.int64(1), np.int64(1), np.int64(0), np.int64(1), np.int64(0), np.int64(0), np.int64(0), np.int64(1), np.int64(0), np.int64(0), np.int64(1), np.int64(1), np.int64(0), np.int64(0), np.int64(0), np.int64(0), np.int64(1), np.int64(0), np.int64(1), np.int64(0), np.int64(1), np.int64(1), np.int64(0), np.int64(1), np.int64(0), np.int64(1), np.int64(0), np.int64(1), np.int64(0), np.int64(0)]\n"
     ]
    }
   ],
   "source": [
    "import torch\n",
    "from sklearn.metrics import classification_report\n",
    "#from  utils import to_onehot\n",
    "# Alterar o modelo para o modo de avaliação\n",
    "model.eval()\n",
    "\n",
    "# Para armazenar rótulos verdadeiros e previsões\n",
    "all_labels = []\n",
    "all_preds = []\n",
    "\n",
    "# Desabilitar cálculo de gradiente para inferência\n",
    "with torch.no_grad():\n",
    "    for data in test_loader:\n",
    "        inputs, labels = data\n",
    "        inputs, labels = inputs.to(device), labels.to(device)\n",
    "\n",
    "        # Obter saídas do modelo e prever a classe\n",
    "        outputs = model(inputs)\n",
    "        _, preds = torch.max(outputs, 1)\n",
    "\n",
    "        # Armazenar rótulos e previsões\n",
    "        all_labels.extend(labels.cpu().numpy())\n",
    "        all_preds.extend(preds.cpu().numpy())\n",
    "#all_preds = utils.to_onehot(all_probs, 1)\n",
    "# Gerar relatório de classificação\n",
    "target_names = ['Câncer', 'Normal']\n",
    "print(classification_report(all_labels, all_preds, target_names=target_names))\n",
    "print(outputs)\n",
    "print(preds)\n",
    "print(all_preds)"
   ]
  },
  {
   "cell_type": "code",
   "execution_count": 79,
   "id": "421fe917-02ae-4351-b735-bd412741605d",
   "metadata": {},
   "outputs": [
    {
     "name": "stdout",
     "output_type": "stream",
     "text": [
      "[0.         0.07142857 1.        ]\n",
      "---------\n",
      "[0.         0.87096774 1.        ]\n",
      "---------\n"
     ]
    }
   ],
   "source": [
    "import torch\n",
    "from sklearn.metrics import roc_curve, auc\n",
    "import matplotlib.pyplot as plt\n",
    "import numpy as np\n",
    "#y_pred_keras = keras_model.predict(X_test).ravel()\n",
    "\n",
    "\n",
    "classes = test_data.classes\n",
    "num_classes = len(classes)\n",
    "\n",
    "all_labels = np.array(all_labels)\n",
    "all_preds = np.array( all_preds)\n",
    "\n",
    "fpr, tpr, _ = roc_curve(all_labels , all_preds)\n",
    "\n",
    "print(fpr)\n",
    "print('---------')\n",
    "print(tpr)\n",
    "print('---------')"
   ]
  },
  {
   "cell_type": "code",
   "execution_count": 81,
   "id": "1f15efda-74a8-42b8-942d-c42f25aef6ef",
   "metadata": {},
   "outputs": [
    {
     "name": "stdout",
     "output_type": "stream",
     "text": [
      "0.8997695852534563\n"
     ]
    }
   ],
   "source": [
    "from sklearn.metrics import auc\n",
    "auc_keras = auc(fpr, tpr)\n",
    "print(auc_keras)"
   ]
  },
  {
   "cell_type": "code",
   "execution_count": 83,
   "id": "bafa69b9-a726-4af9-a9a9-55e619936703",
   "metadata": {},
   "outputs": [
    {
     "data": {
      "image/png": "[encoded data removed]",
      "text/plain": [
       "<Figure size 640x480 with 1 Axes>"
      ]
     },
     "metadata": {},
     "output_type": "display_data"
    }
   ],
   "source": [
    "import matplotlib.pyplot as plt\n",
    "plt.figure(1)\n",
    "plt.plot([0, 1], [0, 1], 'k--')\n",
    "plt.plot(fpr, tpr, label='AUC (area = {:.3f})'.format(auc_keras))\n",
    "plt.xlabel('False positive rate')\n",
    "plt.ylabel('True positive rate')\n",
    "plt.title('ROC curve')\n",
    "plt.legend(loc='best')\n",
    "plt.savefig(\"C:\\\\Users\\\\maste\\\\OneDrive\\\\Documentos\\\\Resultados_Redes_WVC2025\\\\EfficientNetB2\\\\50_epocas\\\\SGD\\\\gráficos\\\\50_epocas\\\\validação\\\\CurvaRoc_validação.pdf\")\n",
    "plt.show()"
   ]
  },
  {
   "cell_type": "code",
   "execution_count": null,
   "id": "97e05bcd-11dd-483b-afae-a0df68d35435",
   "metadata": {},
   "outputs": [],
   "source": []
  }
 ],
 "metadata": {
  "kernelspec": {
   "display_name": "Python (GPU)",
   "language": "python",
   "name": "gpu_env"
  },
  "language_info": {
   "codemirror_mode": {
    "name": "ipython",
    "version": 3
   },
   "file_extension": ".py",
   "mimetype": "text/x-python",
   "name": "python",
   "nbconvert_exporter": "python",
   "pygments_lexer": "ipython3",
   "version": "3.10.18"
  }
 },
 "nbformat": 4,
 "nbformat_minor": 5
}
