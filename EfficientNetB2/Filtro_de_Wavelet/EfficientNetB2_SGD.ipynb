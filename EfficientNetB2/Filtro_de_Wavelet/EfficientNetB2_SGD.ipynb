{
 "cells": [
  {
   "cell_type": "code",
   "execution_count": 1,
   "id": "c229176b-33c0-48cb-9b86-b95f998901db",
   "metadata": {},
   "outputs": [],
   "source": [
    "import torch\n",
    "import torchvision\n",
    "import os\n",
    "from torchvision import transforms, datasets\n",
    "import matplotlib.pyplot as plt\n",
    "import numpy as np\n",
    "from sklearn.metrics import roc_curve, auc, confusion_matrix, ConfusionMatrixDisplay, precision_recall_curve, average_precision_score\n",
    "from sklearn.preprocessing import label_binarize\n",
    "import torch.nn as nn\n",
    "import torch.optim as optim\n",
    "from torchvision import models\n",
    "from sklearn.model_selection import train_test_split\n",
    "from tqdm import tqdm\n",
    "from torch.utils.data import DataLoader\n",
    "import random\n",
    "import os\n",
    "\n",
    "SEED = 42\n",
    "\n",
    "random.seed(SEED)\n",
    "np.random.seed(SEED)\n",
    "\n",
    "torch.manual_seed(SEED)\n",
    "torch.cuda.manual_seed(SEED)\n",
    "\n",
    "torch.backends.cudnn.benchmark = False\n",
    "torch.backends.cudnn.deterministic = True"
   ]
  },
  {
   "cell_type": "code",
   "execution_count": 2,
   "id": "a28b588a-48a9-4f79-af0b-68d256c7f1a3",
   "metadata": {},
   "outputs": [],
   "source": [
    "# Transformações para normalização e aumento de dados (caso necessário)\n",
    "transform = transforms.Compose([\n",
    "    transforms.Resize(256),\n",
    "    transforms.CenterCrop(224),\n",
    "    transforms.ToTensor(),\n",
    "    transforms.Normalize(mean=[0.485, 0.456, 0.406],\n",
    "                         std=[0.229, 0.224, 0.225])\n",
    "])"
   ]
  },
  {
   "cell_type": "code",
   "execution_count": 5,
   "id": "944e4f90-e49b-4178-80d9-f8c80c236be9",
   "metadata": {},
   "outputs": [
    {
     "name": "stdout",
     "output_type": "stream",
     "text": [
      "Número de imagens no dataset de treino: 684\n",
      "Número de imagens no dataset de validação: 147\n"
     ]
    }
   ],
   "source": [
    "# Diretórios de treino e validação\n",
    "train_dir = r\"C:\\Users\\maste\\OneDrive\\Documentos\\Artigo_Rita_Dataset_W\\Training\"\n",
    "val_dir = r\"C:\\Users\\maste\\OneDrive\\Documentos\\Artigo_Rita_Dataset_W\\Validation\"\n",
    "\n",
    "def contar_imagens(diretorio):\n",
    "    contador = 0\n",
    "    for root, dirs, files in os.walk(diretorio):\n",
    "        contador += len([f for f in files if f.endswith(('.png', '.jpg', '.jpeg'))])\n",
    "    return contador\n",
    "\n",
    "num_treino = contar_imagens(train_dir)\n",
    "num_validacao = contar_imagens(val_dir)\n",
    "\n",
    "print(f'Número de imagens no dataset de treino: {num_treino}')\n",
    "print(f'Número de imagens no dataset de validação: {num_validacao}')"
   ]
  },
  {
   "cell_type": "code",
   "execution_count": 7,
   "id": "075c80cb-aaf3-4da8-9f69-956317d2b30b",
   "metadata": {},
   "outputs": [],
   "source": [
    "# Carregando datasets de treino e validação\n",
    "train_data = datasets.ImageFolder(train_dir, transform=transform)\n",
    "val_data = datasets.ImageFolder(val_dir, transform=transform)"
   ]
  },
  {
   "cell_type": "code",
   "execution_count": 9,
   "id": "65a44d03-8dc2-4de6-9cac-7946184ec445",
   "metadata": {},
   "outputs": [],
   "source": [
    "# Criando dataloaders para iterar sobre os dados durante o treinamento\n",
    "train_loader = DataLoader(train_data, batch_size=32, shuffle=True)\n",
    "val_loader = DataLoader(val_data, batch_size=32, shuffle=False)"
   ]
  },
  {
   "cell_type": "code",
   "execution_count": 11,
   "id": "70b8a94c-afa1-4636-a833-9ad67852e8a3",
   "metadata": {},
   "outputs": [
    {
     "name": "stdout",
     "output_type": "stream",
     "text": [
      "['malignant_tumor', 'no_tumor']\n",
      "['malignant_tumor', 'no_tumor']\n"
     ]
    }
   ],
   "source": [
    "# Definindo as classes do dataset\n",
    "classes = train_data.classes\n",
    "classes2 = val_data.classes\n",
    "print(classes)\n",
    "print(classes2)"
   ]
  },
  {
   "cell_type": "code",
   "execution_count": 13,
   "id": "eaea5f04-c134-4a0f-b245-377e4d311242",
   "metadata": {},
   "outputs": [],
   "source": [
    "# Carregando a EfficientNet-B2 pré-treinada\n",
    "model = models.efficientnet_b2(weights=models.EfficientNet_B2_Weights.DEFAULT)"
   ]
  },
  {
   "cell_type": "code",
   "execution_count": 15,
   "id": "5c3c3f64-fcc2-4435-b477-8d6e8467fbab",
   "metadata": {},
   "outputs": [],
   "source": [
    "# Congelando as camadas iniciais e descongelando as camadas finais\n",
    "for param in model.parameters():\n",
    "    param.requires_grad = False\n",
    "    num_ftrs = model.classifier[1].in_features\n",
    "    model.classifier[1] = nn.Linear(num_ftrs, len(classes))\n",
    "for param in model.classifier[1].parameters():\n",
    "    param.requires_grad = True"
   ]
  },
  {
   "cell_type": "code",
   "execution_count": 17,
   "id": "9ddeeb49-a940-4c48-8782-a916fa9cf7a4",
   "metadata": {},
   "outputs": [],
   "source": [
    "# Definindo a função de perda e otimizador\n",
    "criterion = nn.CrossEntropyLoss()\n",
    "optimizer = optim.SGD(model.parameters(), lr=0.001, momentum=0.9)"
   ]
  },
  {
   "cell_type": "code",
   "execution_count": 19,
   "id": "79215dce-ee97-4c07-b872-c0069ca560b0",
   "metadata": {},
   "outputs": [
    {
     "name": "stdout",
     "output_type": "stream",
     "text": [
      "Using device: cuda\n"
     ]
    }
   ],
   "source": [
    "device = torch.device(\"cuda\" if torch.cuda.is_available() else \"cpu\")\n",
    "print(f\"Using device: {device}\")"
   ]
  },
  {
   "cell_type": "code",
   "execution_count": 21,
   "id": "142cc9d4-66ab-4ecc-b46d-c00c26b764c4",
   "metadata": {},
   "outputs": [],
   "source": [
    "# Caminhos para salvar os pesos e o modelo\n",
    "save_weights = r\"C:\\Users\\maste\\OneDrive\\Documentos\\Resultados_Redes_WVC2025\\Wavelet\\EfficientNetB2\\50_epocas\\SGD\\melhor_modelo\"\n",
    "save_model = r\"C:\\Users\\maste\\OneDrive\\Documentos\\Resultados_Redes_WVC2025\\Wavelet\\EfficientNetB2\\50_epocas\\SGD\\melhor_modelo\\melhor_modelo.pt\""
   ]
  },
  {
   "cell_type": "code",
   "execution_count": 23,
   "id": "0adeaab8-a923-455e-b6fd-f68ae58b48df",
   "metadata": {},
   "outputs": [],
   "source": [
    "from PIL import ImageFile\n",
    "ImageFile.LOAD_TRUNCATED_IMAGES = True"
   ]
  },
  {
   "cell_type": "code",
   "execution_count": 25,
   "id": "45bbef32-a68b-4b5a-b082-e20b0be7c891",
   "metadata": {},
   "outputs": [],
   "source": [
    "torch.cuda.empty_cache()"
   ]
  },
  {
   "cell_type": "code",
   "execution_count": 27,
   "id": "73d12979-d156-4744-a0a1-d071461eb088",
   "metadata": {},
   "outputs": [
    {
     "name": "stderr",
     "output_type": "stream",
     "text": [
      "Epoch 1/50: 100%|███████████████████████████████████████████████████████████████████| 22/22 [00:25<00:00,  1.16s/batch]\n",
      "Validation Epoch 1/50: 100%|██████████████████████████████████████████████████████████| 5/5 [00:05<00:00,  1.09s/batch]\n"
     ]
    },
    {
     "name": "stdout",
     "output_type": "stream",
     "text": [
      "Epoch 1/50, Training Loss: 0.6131, Training Accuracy: 0.6813, Validation Loss: 0.5360, Validation Accuracy: 0.8707\n",
      "Saved model at epoch 1 with validation accuracy: 0.8707 to C:\\Users\\maste\\OneDrive\\Documentos\\Resultados_Redes_WVC2025\\Wavelet\\EfficientNetB2\\50_epocas\\SGD\\melhor_modelo\\model_epoch_1_val_accuracy_0.8707.pt\n"
     ]
    },
    {
     "name": "stderr",
     "output_type": "stream",
     "text": [
      "Epoch 2/50: 100%|███████████████████████████████████████████████████████████████████| 22/22 [00:22<00:00,  1.04s/batch]\n",
      "Validation Epoch 2/50: 100%|██████████████████████████████████████████████████████████| 5/5 [00:04<00:00,  1.08batch/s]\n"
     ]
    },
    {
     "name": "stdout",
     "output_type": "stream",
     "text": [
      "Epoch 2/50, Training Loss: 0.3445, Training Accuracy: 0.9444, Validation Loss: 0.3050, Validation Accuracy: 0.9456\n",
      "Saved model at epoch 2 with validation accuracy: 0.9456 to C:\\Users\\maste\\OneDrive\\Documentos\\Resultados_Redes_WVC2025\\Wavelet\\EfficientNetB2\\50_epocas\\SGD\\melhor_modelo\\model_epoch_2_val_accuracy_0.9456.pt\n"
     ]
    },
    {
     "name": "stderr",
     "output_type": "stream",
     "text": [
      "Epoch 3/50: 100%|███████████████████████████████████████████████████████████████████| 22/22 [00:23<00:00,  1.05s/batch]\n",
      "Validation Epoch 3/50: 100%|██████████████████████████████████████████████████████████| 5/5 [00:04<00:00,  1.01batch/s]\n"
     ]
    },
    {
     "name": "stdout",
     "output_type": "stream",
     "text": [
      "Epoch 3/50, Training Loss: 0.2450, Training Accuracy: 0.9649, Validation Loss: 0.2284, Validation Accuracy: 0.9388\n"
     ]
    },
    {
     "name": "stderr",
     "output_type": "stream",
     "text": [
      "Epoch 4/50: 100%|███████████████████████████████████████████████████████████████████| 22/22 [00:22<00:00,  1.02s/batch]\n",
      "Validation Epoch 4/50: 100%|██████████████████████████████████████████████████████████| 5/5 [00:04<00:00,  1.09batch/s]\n"
     ]
    },
    {
     "name": "stdout",
     "output_type": "stream",
     "text": [
      "Epoch 4/50, Training Loss: 0.1940, Training Accuracy: 0.9678, Validation Loss: 0.1991, Validation Accuracy: 0.9252\n"
     ]
    },
    {
     "name": "stderr",
     "output_type": "stream",
     "text": [
      "Epoch 5/50: 100%|███████████████████████████████████████████████████████████████████| 22/22 [00:24<00:00,  1.09s/batch]\n",
      "Validation Epoch 5/50: 100%|██████████████████████████████████████████████████████████| 5/5 [00:04<00:00,  1.03batch/s]\n"
     ]
    },
    {
     "name": "stdout",
     "output_type": "stream",
     "text": [
      "Epoch 5/50, Training Loss: 0.1784, Training Accuracy: 0.9678, Validation Loss: 0.1922, Validation Accuracy: 0.9252\n"
     ]
    },
    {
     "name": "stderr",
     "output_type": "stream",
     "text": [
      "Epoch 6/50: 100%|███████████████████████████████████████████████████████████████████| 22/22 [00:23<00:00,  1.09s/batch]\n",
      "Validation Epoch 6/50: 100%|██████████████████████████████████████████████████████████| 5/5 [00:04<00:00,  1.01batch/s]\n"
     ]
    },
    {
     "name": "stdout",
     "output_type": "stream",
     "text": [
      "Epoch 6/50, Training Loss: 0.1619, Training Accuracy: 0.9649, Validation Loss: 0.1745, Validation Accuracy: 0.9252\n"
     ]
    },
    {
     "name": "stderr",
     "output_type": "stream",
     "text": [
      "Epoch 7/50: 100%|███████████████████████████████████████████████████████████████████| 22/22 [00:24<00:00,  1.12s/batch]\n",
      "Validation Epoch 7/50: 100%|██████████████████████████████████████████████████████████| 5/5 [00:04<00:00,  1.05batch/s]\n"
     ]
    },
    {
     "name": "stdout",
     "output_type": "stream",
     "text": [
      "Epoch 7/50, Training Loss: 0.1461, Training Accuracy: 0.9678, Validation Loss: 0.1763, Validation Accuracy: 0.9184\n"
     ]
    },
    {
     "name": "stderr",
     "output_type": "stream",
     "text": [
      "Epoch 8/50: 100%|███████████████████████████████████████████████████████████████████| 22/22 [00:24<00:00,  1.11s/batch]\n",
      "Validation Epoch 8/50: 100%|██████████████████████████████████████████████████████████| 5/5 [00:04<00:00,  1.06batch/s]\n"
     ]
    },
    {
     "name": "stdout",
     "output_type": "stream",
     "text": [
      "Epoch 8/50, Training Loss: 0.1490, Training Accuracy: 0.9678, Validation Loss: 0.1784, Validation Accuracy: 0.9184\n"
     ]
    },
    {
     "name": "stderr",
     "output_type": "stream",
     "text": [
      "Epoch 9/50: 100%|███████████████████████████████████████████████████████████████████| 22/22 [00:24<00:00,  1.11s/batch]\n",
      "Validation Epoch 9/50: 100%|██████████████████████████████████████████████████████████| 5/5 [00:04<00:00,  1.04batch/s]\n"
     ]
    },
    {
     "name": "stdout",
     "output_type": "stream",
     "text": [
      "Epoch 9/50, Training Loss: 0.1244, Training Accuracy: 0.9751, Validation Loss: 0.1625, Validation Accuracy: 0.9252\n"
     ]
    },
    {
     "name": "stderr",
     "output_type": "stream",
     "text": [
      "Epoch 10/50: 100%|██████████████████████████████████████████████████████████████████| 22/22 [00:24<00:00,  1.10s/batch]\n",
      "Validation Epoch 10/50: 100%|█████████████████████████████████████████████████████████| 5/5 [00:04<00:00,  1.01batch/s]\n"
     ]
    },
    {
     "name": "stdout",
     "output_type": "stream",
     "text": [
      "Epoch 10/50, Training Loss: 0.1121, Training Accuracy: 0.9810, Validation Loss: 0.1662, Validation Accuracy: 0.9252\n"
     ]
    },
    {
     "name": "stderr",
     "output_type": "stream",
     "text": [
      "Epoch 11/50: 100%|██████████████████████████████████████████████████████████████████| 22/22 [00:23<00:00,  1.09s/batch]\n",
      "Validation Epoch 11/50: 100%|█████████████████████████████████████████████████████████| 5/5 [00:05<00:00,  1.03s/batch]\n"
     ]
    },
    {
     "name": "stdout",
     "output_type": "stream",
     "text": [
      "Epoch 11/50, Training Loss: 0.1265, Training Accuracy: 0.9649, Validation Loss: 0.1630, Validation Accuracy: 0.9252\n"
     ]
    },
    {
     "name": "stderr",
     "output_type": "stream",
     "text": [
      "Epoch 12/50: 100%|██████████████████████████████████████████████████████████████████| 22/22 [00:23<00:00,  1.08s/batch]\n",
      "Validation Epoch 12/50: 100%|█████████████████████████████████████████████████████████| 5/5 [00:05<00:00,  1.00s/batch]\n"
     ]
    },
    {
     "name": "stdout",
     "output_type": "stream",
     "text": [
      "Epoch 12/50, Training Loss: 0.1064, Training Accuracy: 0.9766, Validation Loss: 0.1631, Validation Accuracy: 0.9252\n"
     ]
    },
    {
     "name": "stderr",
     "output_type": "stream",
     "text": [
      "Epoch 13/50: 100%|██████████████████████████████████████████████████████████████████| 22/22 [00:23<00:00,  1.09s/batch]\n",
      "Validation Epoch 13/50: 100%|█████████████████████████████████████████████████████████| 5/5 [00:05<00:00,  1.05s/batch]\n"
     ]
    },
    {
     "name": "stdout",
     "output_type": "stream",
     "text": [
      "Epoch 13/50, Training Loss: 0.1131, Training Accuracy: 0.9781, Validation Loss: 0.1670, Validation Accuracy: 0.9252\n"
     ]
    },
    {
     "name": "stderr",
     "output_type": "stream",
     "text": [
      "Epoch 14/50: 100%|██████████████████████████████████████████████████████████████████| 22/22 [00:23<00:00,  1.07s/batch]\n",
      "Validation Epoch 14/50: 100%|█████████████████████████████████████████████████████████| 5/5 [00:05<00:00,  1.04s/batch]\n"
     ]
    },
    {
     "name": "stdout",
     "output_type": "stream",
     "text": [
      "Epoch 14/50, Training Loss: 0.1214, Training Accuracy: 0.9678, Validation Loss: 0.1529, Validation Accuracy: 0.9252\n"
     ]
    },
    {
     "name": "stderr",
     "output_type": "stream",
     "text": [
      "Epoch 15/50: 100%|██████████████████████████████████████████████████████████████████| 22/22 [00:26<00:00,  1.19s/batch]\n",
      "Validation Epoch 15/50: 100%|█████████████████████████████████████████████████████████| 5/5 [00:06<00:00,  1.34s/batch]\n"
     ]
    },
    {
     "name": "stdout",
     "output_type": "stream",
     "text": [
      "Epoch 15/50, Training Loss: 0.1013, Training Accuracy: 0.9781, Validation Loss: 0.1673, Validation Accuracy: 0.9252\n"
     ]
    },
    {
     "name": "stderr",
     "output_type": "stream",
     "text": [
      "Epoch 16/50: 100%|██████████████████████████████████████████████████████████████████| 22/22 [00:30<00:00,  1.38s/batch]\n",
      "Validation Epoch 16/50: 100%|█████████████████████████████████████████████████████████| 5/5 [00:04<00:00,  1.06batch/s]\n"
     ]
    },
    {
     "name": "stdout",
     "output_type": "stream",
     "text": [
      "Epoch 16/50, Training Loss: 0.1012, Training Accuracy: 0.9795, Validation Loss: 0.1723, Validation Accuracy: 0.9252\n"
     ]
    },
    {
     "name": "stderr",
     "output_type": "stream",
     "text": [
      "Epoch 17/50: 100%|██████████████████████████████████████████████████████████████████| 22/22 [00:25<00:00,  1.18s/batch]\n",
      "Validation Epoch 17/50: 100%|█████████████████████████████████████████████████████████| 5/5 [00:04<00:00,  1.05batch/s]\n"
     ]
    },
    {
     "name": "stdout",
     "output_type": "stream",
     "text": [
      "Epoch 17/50, Training Loss: 0.0952, Training Accuracy: 0.9781, Validation Loss: 0.1732, Validation Accuracy: 0.9252\n"
     ]
    },
    {
     "name": "stderr",
     "output_type": "stream",
     "text": [
      "Epoch 18/50: 100%|██████████████████████████████████████████████████████████████████| 22/22 [00:23<00:00,  1.08s/batch]\n",
      "Validation Epoch 18/50: 100%|█████████████████████████████████████████████████████████| 5/5 [00:04<00:00,  1.05batch/s]\n"
     ]
    },
    {
     "name": "stdout",
     "output_type": "stream",
     "text": [
      "Epoch 18/50, Training Loss: 0.0821, Training Accuracy: 0.9825, Validation Loss: 0.1714, Validation Accuracy: 0.9252\n"
     ]
    },
    {
     "name": "stderr",
     "output_type": "stream",
     "text": [
      "Epoch 19/50: 100%|██████████████████████████████████████████████████████████████████| 22/22 [00:23<00:00,  1.08s/batch]\n",
      "Validation Epoch 19/50: 100%|█████████████████████████████████████████████████████████| 5/5 [00:04<00:00,  1.06batch/s]\n"
     ]
    },
    {
     "name": "stdout",
     "output_type": "stream",
     "text": [
      "Epoch 19/50, Training Loss: 0.0946, Training Accuracy: 0.9795, Validation Loss: 0.1718, Validation Accuracy: 0.9252\n"
     ]
    },
    {
     "name": "stderr",
     "output_type": "stream",
     "text": [
      "Epoch 20/50: 100%|██████████████████████████████████████████████████████████████████| 22/22 [00:23<00:00,  1.07s/batch]\n",
      "Validation Epoch 20/50: 100%|█████████████████████████████████████████████████████████| 5/5 [00:04<00:00,  1.01batch/s]\n"
     ]
    },
    {
     "name": "stdout",
     "output_type": "stream",
     "text": [
      "Epoch 20/50, Training Loss: 0.0781, Training Accuracy: 0.9854, Validation Loss: 0.1670, Validation Accuracy: 0.9252\n"
     ]
    },
    {
     "name": "stderr",
     "output_type": "stream",
     "text": [
      "Epoch 21/50: 100%|██████████████████████████████████████████████████████████████████| 22/22 [00:23<00:00,  1.08s/batch]\n",
      "Validation Epoch 21/50: 100%|█████████████████████████████████████████████████████████| 5/5 [00:05<00:00,  1.01s/batch]\n"
     ]
    },
    {
     "name": "stdout",
     "output_type": "stream",
     "text": [
      "Epoch 21/50, Training Loss: 0.1103, Training Accuracy: 0.9678, Validation Loss: 0.1549, Validation Accuracy: 0.9252\n"
     ]
    },
    {
     "name": "stderr",
     "output_type": "stream",
     "text": [
      "Epoch 22/50: 100%|██████████████████████████████████████████████████████████████████| 22/22 [00:23<00:00,  1.09s/batch]\n",
      "Validation Epoch 22/50: 100%|█████████████████████████████████████████████████████████| 5/5 [00:04<00:00,  1.01batch/s]\n"
     ]
    },
    {
     "name": "stdout",
     "output_type": "stream",
     "text": [
      "Epoch 22/50, Training Loss: 0.0711, Training Accuracy: 0.9839, Validation Loss: 0.1736, Validation Accuracy: 0.9252\n"
     ]
    },
    {
     "name": "stderr",
     "output_type": "stream",
     "text": [
      "Epoch 23/50: 100%|██████████████████████████████████████████████████████████████████| 22/22 [00:25<00:00,  1.16s/batch]\n",
      "Validation Epoch 23/50: 100%|█████████████████████████████████████████████████████████| 5/5 [00:05<00:00,  1.01s/batch]\n"
     ]
    },
    {
     "name": "stdout",
     "output_type": "stream",
     "text": [
      "Epoch 23/50, Training Loss: 0.1017, Training Accuracy: 0.9678, Validation Loss: 0.1595, Validation Accuracy: 0.9252\n"
     ]
    },
    {
     "name": "stderr",
     "output_type": "stream",
     "text": [
      "Epoch 24/50: 100%|██████████████████████████████████████████████████████████████████| 22/22 [00:24<00:00,  1.11s/batch]\n",
      "Validation Epoch 24/50: 100%|█████████████████████████████████████████████████████████| 5/5 [00:05<00:00,  1.06s/batch]\n"
     ]
    },
    {
     "name": "stdout",
     "output_type": "stream",
     "text": [
      "Epoch 24/50, Training Loss: 0.0878, Training Accuracy: 0.9766, Validation Loss: 0.1692, Validation Accuracy: 0.9252\n"
     ]
    },
    {
     "name": "stderr",
     "output_type": "stream",
     "text": [
      "Epoch 25/50: 100%|██████████████████████████████████████████████████████████████████| 22/22 [00:32<00:00,  1.48s/batch]\n",
      "Validation Epoch 25/50: 100%|█████████████████████████████████████████████████████████| 5/5 [00:04<00:00,  1.02batch/s]\n"
     ]
    },
    {
     "name": "stdout",
     "output_type": "stream",
     "text": [
      "Epoch 25/50, Training Loss: 0.0689, Training Accuracy: 0.9854, Validation Loss: 0.1483, Validation Accuracy: 0.9252\n"
     ]
    },
    {
     "name": "stderr",
     "output_type": "stream",
     "text": [
      "Epoch 26/50: 100%|██████████████████████████████████████████████████████████████████| 22/22 [00:23<00:00,  1.09s/batch]\n",
      "Validation Epoch 26/50: 100%|█████████████████████████████████████████████████████████| 5/5 [00:04<00:00,  1.02batch/s]\n"
     ]
    },
    {
     "name": "stdout",
     "output_type": "stream",
     "text": [
      "Epoch 26/50, Training Loss: 0.0830, Training Accuracy: 0.9781, Validation Loss: 0.1723, Validation Accuracy: 0.9184\n"
     ]
    },
    {
     "name": "stderr",
     "output_type": "stream",
     "text": [
      "Epoch 27/50: 100%|██████████████████████████████████████████████████████████████████| 22/22 [00:25<00:00,  1.16s/batch]\n",
      "Validation Epoch 27/50: 100%|█████████████████████████████████████████████████████████| 5/5 [00:04<00:00,  1.03batch/s]\n"
     ]
    },
    {
     "name": "stdout",
     "output_type": "stream",
     "text": [
      "Epoch 27/50, Training Loss: 0.0763, Training Accuracy: 0.9839, Validation Loss: 0.1703, Validation Accuracy: 0.9320\n"
     ]
    },
    {
     "name": "stderr",
     "output_type": "stream",
     "text": [
      "Epoch 28/50: 100%|██████████████████████████████████████████████████████████████████| 22/22 [00:24<00:00,  1.10s/batch]\n",
      "Validation Epoch 28/50: 100%|█████████████████████████████████████████████████████████| 5/5 [00:04<00:00,  1.02batch/s]\n"
     ]
    },
    {
     "name": "stdout",
     "output_type": "stream",
     "text": [
      "Epoch 28/50, Training Loss: 0.0652, Training Accuracy: 0.9898, Validation Loss: 0.1582, Validation Accuracy: 0.9252\n"
     ]
    },
    {
     "name": "stderr",
     "output_type": "stream",
     "text": [
      "Epoch 29/50: 100%|██████████████████████████████████████████████████████████████████| 22/22 [00:27<00:00,  1.26s/batch]\n",
      "Validation Epoch 29/50: 100%|█████████████████████████████████████████████████████████| 5/5 [00:05<00:00,  1.07s/batch]\n"
     ]
    },
    {
     "name": "stdout",
     "output_type": "stream",
     "text": [
      "Epoch 29/50, Training Loss: 0.0580, Training Accuracy: 0.9927, Validation Loss: 0.1704, Validation Accuracy: 0.9320\n"
     ]
    },
    {
     "name": "stderr",
     "output_type": "stream",
     "text": [
      "Epoch 30/50: 100%|██████████████████████████████████████████████████████████████████| 22/22 [00:25<00:00,  1.16s/batch]\n",
      "Validation Epoch 30/50: 100%|█████████████████████████████████████████████████████████| 5/5 [00:04<00:00,  1.02batch/s]\n"
     ]
    },
    {
     "name": "stdout",
     "output_type": "stream",
     "text": [
      "Epoch 30/50, Training Loss: 0.0569, Training Accuracy: 0.9912, Validation Loss: 0.1763, Validation Accuracy: 0.9252\n"
     ]
    },
    {
     "name": "stderr",
     "output_type": "stream",
     "text": [
      "Epoch 31/50: 100%|██████████████████████████████████████████████████████████████████| 22/22 [00:24<00:00,  1.13s/batch]\n",
      "Validation Epoch 31/50: 100%|█████████████████████████████████████████████████████████| 5/5 [00:05<00:00,  1.03s/batch]\n"
     ]
    },
    {
     "name": "stdout",
     "output_type": "stream",
     "text": [
      "Epoch 31/50, Training Loss: 0.0648, Training Accuracy: 0.9825, Validation Loss: 0.1617, Validation Accuracy: 0.9252\n"
     ]
    },
    {
     "name": "stderr",
     "output_type": "stream",
     "text": [
      "Epoch 32/50: 100%|██████████████████████████████████████████████████████████████████| 22/22 [00:24<00:00,  1.09s/batch]\n",
      "Validation Epoch 32/50: 100%|█████████████████████████████████████████████████████████| 5/5 [00:05<00:00,  1.00s/batch]\n"
     ]
    },
    {
     "name": "stdout",
     "output_type": "stream",
     "text": [
      "Epoch 32/50, Training Loss: 0.0626, Training Accuracy: 0.9868, Validation Loss: 0.1721, Validation Accuracy: 0.9252\n"
     ]
    },
    {
     "name": "stderr",
     "output_type": "stream",
     "text": [
      "Epoch 33/50: 100%|██████████████████████████████████████████████████████████████████| 22/22 [00:24<00:00,  1.10s/batch]\n",
      "Validation Epoch 33/50: 100%|█████████████████████████████████████████████████████████| 5/5 [00:05<00:00,  1.07s/batch]\n"
     ]
    },
    {
     "name": "stdout",
     "output_type": "stream",
     "text": [
      "Epoch 33/50, Training Loss: 0.0701, Training Accuracy: 0.9868, Validation Loss: 0.1574, Validation Accuracy: 0.9252\n"
     ]
    },
    {
     "name": "stderr",
     "output_type": "stream",
     "text": [
      "Epoch 34/50: 100%|██████████████████████████████████████████████████████████████████| 22/22 [00:24<00:00,  1.13s/batch]\n",
      "Validation Epoch 34/50: 100%|█████████████████████████████████████████████████████████| 5/5 [00:04<00:00,  1.01batch/s]\n"
     ]
    },
    {
     "name": "stdout",
     "output_type": "stream",
     "text": [
      "Epoch 34/50, Training Loss: 0.0579, Training Accuracy: 0.9898, Validation Loss: 0.1567, Validation Accuracy: 0.9252\n"
     ]
    },
    {
     "name": "stderr",
     "output_type": "stream",
     "text": [
      "Epoch 35/50: 100%|██████████████████████████████████████████████████████████████████| 22/22 [00:24<00:00,  1.13s/batch]\n",
      "Validation Epoch 35/50: 100%|█████████████████████████████████████████████████████████| 5/5 [00:05<00:00,  1.01s/batch]\n"
     ]
    },
    {
     "name": "stdout",
     "output_type": "stream",
     "text": [
      "Epoch 35/50, Training Loss: 0.0574, Training Accuracy: 0.9912, Validation Loss: 0.1618, Validation Accuracy: 0.9252\n"
     ]
    },
    {
     "name": "stderr",
     "output_type": "stream",
     "text": [
      "Epoch 36/50: 100%|██████████████████████████████████████████████████████████████████| 22/22 [00:29<00:00,  1.36s/batch]\n",
      "Validation Epoch 36/50: 100%|█████████████████████████████████████████████████████████| 5/5 [00:05<00:00,  1.14s/batch]\n"
     ]
    },
    {
     "name": "stdout",
     "output_type": "stream",
     "text": [
      "Epoch 36/50, Training Loss: 0.0537, Training Accuracy: 0.9883, Validation Loss: 0.1569, Validation Accuracy: 0.9252\n"
     ]
    },
    {
     "name": "stderr",
     "output_type": "stream",
     "text": [
      "Epoch 37/50: 100%|██████████████████████████████████████████████████████████████████| 22/22 [00:28<00:00,  1.31s/batch]\n",
      "Validation Epoch 37/50: 100%|█████████████████████████████████████████████████████████| 5/5 [00:05<00:00,  1.03s/batch]\n"
     ]
    },
    {
     "name": "stdout",
     "output_type": "stream",
     "text": [
      "Epoch 37/50, Training Loss: 0.0591, Training Accuracy: 0.9868, Validation Loss: 0.1606, Validation Accuracy: 0.9252\n"
     ]
    },
    {
     "name": "stderr",
     "output_type": "stream",
     "text": [
      "Epoch 38/50: 100%|██████████████████████████████████████████████████████████████████| 22/22 [00:29<00:00,  1.32s/batch]\n",
      "Validation Epoch 38/50: 100%|█████████████████████████████████████████████████████████| 5/5 [00:04<00:00,  1.01batch/s]\n"
     ]
    },
    {
     "name": "stdout",
     "output_type": "stream",
     "text": [
      "Epoch 38/50, Training Loss: 0.0503, Training Accuracy: 0.9927, Validation Loss: 0.1585, Validation Accuracy: 0.9252\n"
     ]
    },
    {
     "name": "stderr",
     "output_type": "stream",
     "text": [
      "Epoch 39/50: 100%|██████████████████████████████████████████████████████████████████| 22/22 [00:24<00:00,  1.10s/batch]\n",
      "Validation Epoch 39/50: 100%|█████████████████████████████████████████████████████████| 5/5 [00:04<00:00,  1.01batch/s]\n"
     ]
    },
    {
     "name": "stdout",
     "output_type": "stream",
     "text": [
      "Epoch 39/50, Training Loss: 0.0525, Training Accuracy: 0.9927, Validation Loss: 0.1809, Validation Accuracy: 0.9252\n"
     ]
    },
    {
     "name": "stderr",
     "output_type": "stream",
     "text": [
      "Epoch 40/50: 100%|██████████████████████████████████████████████████████████████████| 22/22 [00:23<00:00,  1.09s/batch]\n",
      "Validation Epoch 40/50: 100%|█████████████████████████████████████████████████████████| 5/5 [00:04<00:00,  1.02batch/s]\n"
     ]
    },
    {
     "name": "stdout",
     "output_type": "stream",
     "text": [
      "Epoch 40/50, Training Loss: 0.0611, Training Accuracy: 0.9868, Validation Loss: 0.1928, Validation Accuracy: 0.9116\n"
     ]
    },
    {
     "name": "stderr",
     "output_type": "stream",
     "text": [
      "Epoch 41/50: 100%|██████████████████████████████████████████████████████████████████| 22/22 [00:23<00:00,  1.07s/batch]\n",
      "Validation Epoch 41/50: 100%|█████████████████████████████████████████████████████████| 5/5 [00:04<00:00,  1.05batch/s]\n"
     ]
    },
    {
     "name": "stdout",
     "output_type": "stream",
     "text": [
      "Epoch 41/50, Training Loss: 0.0536, Training Accuracy: 0.9868, Validation Loss: 0.1762, Validation Accuracy: 0.9252\n"
     ]
    },
    {
     "name": "stderr",
     "output_type": "stream",
     "text": [
      "Epoch 42/50: 100%|██████████████████████████████████████████████████████████████████| 22/22 [00:23<00:00,  1.06s/batch]\n",
      "Validation Epoch 42/50: 100%|█████████████████████████████████████████████████████████| 5/5 [00:04<00:00,  1.09batch/s]\n"
     ]
    },
    {
     "name": "stdout",
     "output_type": "stream",
     "text": [
      "Epoch 42/50, Training Loss: 0.0560, Training Accuracy: 0.9854, Validation Loss: 0.1759, Validation Accuracy: 0.9252\n"
     ]
    },
    {
     "name": "stderr",
     "output_type": "stream",
     "text": [
      "Epoch 43/50: 100%|██████████████████████████████████████████████████████████████████| 22/22 [00:22<00:00,  1.01s/batch]\n",
      "Validation Epoch 43/50: 100%|█████████████████████████████████████████████████████████| 5/5 [00:04<00:00,  1.04batch/s]\n"
     ]
    },
    {
     "name": "stdout",
     "output_type": "stream",
     "text": [
      "Epoch 43/50, Training Loss: 0.0536, Training Accuracy: 0.9898, Validation Loss: 0.1892, Validation Accuracy: 0.9184\n"
     ]
    },
    {
     "name": "stderr",
     "output_type": "stream",
     "text": [
      "Epoch 44/50: 100%|██████████████████████████████████████████████████████████████████| 22/22 [00:22<00:00,  1.03s/batch]\n",
      "Validation Epoch 44/50: 100%|█████████████████████████████████████████████████████████| 5/5 [00:04<00:00,  1.08batch/s]\n"
     ]
    },
    {
     "name": "stdout",
     "output_type": "stream",
     "text": [
      "Epoch 44/50, Training Loss: 0.0694, Training Accuracy: 0.9795, Validation Loss: 0.1457, Validation Accuracy: 0.9320\n"
     ]
    },
    {
     "name": "stderr",
     "output_type": "stream",
     "text": [
      "Epoch 45/50: 100%|██████████████████████████████████████████████████████████████████| 22/22 [00:22<00:00,  1.03s/batch]\n",
      "Validation Epoch 45/50: 100%|█████████████████████████████████████████████████████████| 5/5 [00:04<00:00,  1.08batch/s]\n"
     ]
    },
    {
     "name": "stdout",
     "output_type": "stream",
     "text": [
      "Epoch 45/50, Training Loss: 0.0549, Training Accuracy: 0.9839, Validation Loss: 0.1544, Validation Accuracy: 0.9252\n"
     ]
    },
    {
     "name": "stderr",
     "output_type": "stream",
     "text": [
      "Epoch 46/50: 100%|██████████████████████████████████████████████████████████████████| 22/22 [00:21<00:00,  1.02batch/s]\n",
      "Validation Epoch 46/50: 100%|█████████████████████████████████████████████████████████| 5/5 [00:04<00:00,  1.15batch/s]\n"
     ]
    },
    {
     "name": "stdout",
     "output_type": "stream",
     "text": [
      "Epoch 46/50, Training Loss: 0.0418, Training Accuracy: 0.9912, Validation Loss: 0.1639, Validation Accuracy: 0.9320\n"
     ]
    },
    {
     "name": "stderr",
     "output_type": "stream",
     "text": [
      "Epoch 47/50: 100%|██████████████████████████████████████████████████████████████████| 22/22 [00:21<00:00,  1.03batch/s]\n",
      "Validation Epoch 47/50: 100%|█████████████████████████████████████████████████████████| 5/5 [00:04<00:00,  1.09batch/s]\n"
     ]
    },
    {
     "name": "stdout",
     "output_type": "stream",
     "text": [
      "Epoch 47/50, Training Loss: 0.0720, Training Accuracy: 0.9825, Validation Loss: 0.1926, Validation Accuracy: 0.9116\n"
     ]
    },
    {
     "name": "stderr",
     "output_type": "stream",
     "text": [
      "Epoch 48/50: 100%|██████████████████████████████████████████████████████████████████| 22/22 [00:21<00:00,  1.01batch/s]\n",
      "Validation Epoch 48/50: 100%|█████████████████████████████████████████████████████████| 5/5 [00:04<00:00,  1.11batch/s]\n"
     ]
    },
    {
     "name": "stdout",
     "output_type": "stream",
     "text": [
      "Epoch 48/50, Training Loss: 0.0532, Training Accuracy: 0.9868, Validation Loss: 0.1711, Validation Accuracy: 0.9320\n"
     ]
    },
    {
     "name": "stderr",
     "output_type": "stream",
     "text": [
      "Epoch 49/50: 100%|██████████████████████████████████████████████████████████████████| 22/22 [00:23<00:00,  1.05s/batch]\n",
      "Validation Epoch 49/50: 100%|█████████████████████████████████████████████████████████| 5/5 [00:04<00:00,  1.02batch/s]\n"
     ]
    },
    {
     "name": "stdout",
     "output_type": "stream",
     "text": [
      "Epoch 49/50, Training Loss: 0.0439, Training Accuracy: 0.9898, Validation Loss: 0.1704, Validation Accuracy: 0.9320\n"
     ]
    },
    {
     "name": "stderr",
     "output_type": "stream",
     "text": [
      "Epoch 50/50: 100%|██████████████████████████████████████████████████████████████████| 22/22 [00:24<00:00,  1.09s/batch]\n",
      "Validation Epoch 50/50: 100%|█████████████████████████████████████████████████████████| 5/5 [00:04<00:00,  1.02batch/s]\n"
     ]
    },
    {
     "name": "stdout",
     "output_type": "stream",
     "text": [
      "Epoch 50/50, Training Loss: 0.0462, Training Accuracy: 0.9927, Validation Loss: 0.1930, Validation Accuracy: 0.9116\n",
      "Treinamento finalizado\n",
      "Saved entire model at C:\\Users\\maste\\OneDrive\\Documentos\\Resultados_Redes_WVC2025\\Wavelet\\EfficientNetB2\\50_epocas\\SGD\\melhor_modelo\\melhor_modelo.pt\n"
     ]
    }
   ],
   "source": [
    "model.to(device)\n",
    "num_epochs=50\n",
    "# Listas para armazenar perda e acurácia\n",
    "train_loss_values = []\n",
    "val_loss_values = []\n",
    "test_loss_values = []\n",
    "train_accuracy_values = []\n",
    "val_accuracy_values = []\n",
    "test_accuracy_values = []\n",
    "\n",
    "# Listas para armazenar rótulos verdadeiros e predições para a matriz de confusão e curva ROC\n",
    "all_labels = []\n",
    "all_preds = []\n",
    "\n",
    "# Treinamento e coleta de dados\n",
    "best_accuracy = 0.0\n",
    "counter = 0\n",
    "\n",
    "for epoch in range(num_epochs):\n",
    "    model.train()\n",
    "    running_loss = 0.0\n",
    "    correct = 0\n",
    "    total = 0\n",
    "\n",
    "    for inputs, labels in tqdm(train_loader, desc=f\"Epoch {epoch+1}/{num_epochs}\", unit='batch'):\n",
    "        inputs, labels = inputs.to(device), labels.to(device)\n",
    "\n",
    "        optimizer.zero_grad()\n",
    "        outputs = model(inputs)\n",
    "        loss = criterion(outputs, labels)\n",
    "        loss.backward()\n",
    "        optimizer.step()\n",
    "        running_loss += loss.item() * inputs.size(0)\n",
    "\n",
    "        _, predicted = torch.max(outputs.data, 1)\n",
    "        total += labels.size(0)\n",
    "        correct += (predicted == labels).sum().item()\n",
    "\n",
    "    epoch_loss = running_loss / len(train_loader.dataset)\n",
    "    train_accuracy = correct / total\n",
    "\n",
    "    train_loss_values.append(epoch_loss)\n",
    "    train_accuracy_values.append(train_accuracy)\n",
    "\n",
    "    # Validação\n",
    "    model.eval()\n",
    "    val_running_loss = 0.0\n",
    "    val_correct = 0\n",
    "    val_total = 0\n",
    "\n",
    "    with torch.no_grad():\n",
    "        for inputs, labels in tqdm(val_loader, desc=f\"Validation Epoch {epoch+1}/{num_epochs}\", unit='batch'):\n",
    "            inputs, labels = inputs.to(device), labels.to(device)\n",
    "            outputs = model(inputs)\n",
    "            loss = criterion(outputs, labels)\n",
    "            val_running_loss += loss.item() * inputs.size(0)\n",
    "            _, predicted = torch.max(outputs.data, 1)\n",
    "            val_total += labels.size(0)\n",
    "            val_correct += (predicted == labels).sum().item()\n",
    "\n",
    "        val_loss = val_running_loss / len(val_loader.dataset)\n",
    "        val_accuracy = val_correct / val_total\n",
    "\n",
    "        val_loss_values.append(val_loss)\n",
    "        val_accuracy_values.append(val_accuracy)\n",
    "\n",
    "        print(f'Epoch {epoch+1}/{num_epochs}, '\n",
    "              f'Training Loss: {epoch_loss:.4f}, Training Accuracy: {train_accuracy:.4f}, '\n",
    "              f'Validation Loss: {val_loss:.4f}, Validation Accuracy: {val_accuracy:.4f}')\n",
    "\n",
    "        # Verificar se a acurácia de validação melhorou e salvar o modelo\n",
    "        if val_accuracy > best_accuracy:\n",
    "            best_accuracy = val_accuracy\n",
    "            model_save_path = os.path.join(save_weights, f'model_epoch_{epoch+1}_val_accuracy_{val_accuracy:.4f}.pt')\n",
    "            torch.save(model.state_dict(), model_save_path)\n",
    "            print(f'Saved model at epoch {epoch+1} with validation accuracy: {val_accuracy:.4f} to {model_save_path}')\n",
    "\n",
    "print('Treinamento finalizado')\n",
    "\n",
    "# Salvar o modelo inteiro\n",
    "torch.save(model, save_model)\n",
    "print(f'Saved entire model at {save_model}')"
   ]
  },
  {
   "cell_type": "code",
   "execution_count": 29,
   "id": "886b073c-c9e0-4dd6-9493-3305b4915735",
   "metadata": {},
   "outputs": [
    {
     "name": "stdout",
     "output_type": "stream",
     "text": [
      "Loaded model from C:\\Users\\maste\\OneDrive\\Documentos\\Resultados_Redes_WVC2025\\Wavelet\\EfficientNetB2\\50_epocas\\SGD\\melhor_modelo\\melhor_modelo.pt\n"
     ]
    },
    {
     "name": "stderr",
     "output_type": "stream",
     "text": [
      "C:\\Users\\maste\\AppData\\Local\\Temp\\ipykernel_15304\\335165786.py:7: FutureWarning: You are using `torch.load` with `weights_only=False` (the current default value), which uses the default pickle module implicitly. It is possible to construct malicious pickle data which will execute arbitrary code during unpickling (See https://github.com/pytorch/pytorch/blob/main/SECURITY.md#untrusted-models for more details). In a future release, the default value for `weights_only` will be flipped to `True`. This limits the functions that could be executed during unpickling. Arbitrary objects will no longer be allowed to be loaded via this mode unless they are explicitly allowlisted by the user via `torch.serialization.add_safe_globals`. We recommend you start setting `weights_only=True` for any use case where you don't have full control of the loaded file. Please open an issue on GitHub for any issues related to this experimental feature.\n",
      "  model.load_state_dict(torch.load(model_save_path))\n"
     ]
    },
    {
     "name": "stdout",
     "output_type": "stream",
     "text": [
      "Loaded weights from C:\\Users\\maste\\OneDrive\\Documentos\\Resultados_Redes_WVC2025\\Wavelet\\EfficientNetB2\\50_epocas\\SGD\\melhor_modelo\\model_epoch_2_val_accuracy_0.9456.pt\n"
     ]
    }
   ],
   "source": [
    "save_model = r\"C:\\Users\\maste\\OneDrive\\Documentos\\Resultados_Redes_WVC2025\\Wavelet\\EfficientNetB2\\50_epocas\\SGD\\melhor_modelo\\melhor_modelo.pt\"\n",
    "model = torch.load(save_model, weights_only=False)\n",
    "model.eval()\n",
    "print(f'Loaded model from {save_model}')\n",
    "\n",
    "model_save_path= r\"C:\\Users\\maste\\OneDrive\\Documentos\\Resultados_Redes_WVC2025\\Wavelet\\EfficientNetB2\\50_epocas\\SGD\\melhor_modelo\\model_epoch_2_val_accuracy_0.9456.pt\"\n",
    "model.load_state_dict(torch.load(model_save_path))\n",
    "model.eval()\n",
    "print(f'Loaded weights from {model_save_path}')"
   ]
  },
  {
   "cell_type": "code",
   "execution_count": 31,
   "id": "6ffca2f5-c5ea-4f08-a110-edb6ca96de30",
   "metadata": {},
   "outputs": [
    {
     "name": "stdout",
     "output_type": "stream",
     "text": [
      "Confirmation Accuracy: 0.9456\n"
     ]
    }
   ],
   "source": [
    "# Confirmação do carregamento do modelo e dos pesos\n",
    "model.to(device)\n",
    "\n",
    "model.eval()\n",
    "confirmation_correct = 0\n",
    "confirmation_total = 0\n",
    "with torch.no_grad():\n",
    "    for inputs, labels in val_loader:\n",
    "        inputs, labels = inputs.to(device), labels.to(device)\n",
    "        outputs = model(inputs)\n",
    "        _, predicted = torch.max(outputs.data, 1)\n",
    "        confirmation_total += labels.size(0)\n",
    "        confirmation_correct += (predicted == labels).sum().item()\n",
    "\n",
    "print(f'Confirmation Accuracy: { confirmation_correct / confirmation_total:.4f}')"
   ]
  },
  {
   "cell_type": "code",
   "execution_count": 33,
   "id": "f5d2f0d5-9cfc-424a-9781-647b8d30fd58",
   "metadata": {},
   "outputs": [
    {
     "name": "stderr",
     "output_type": "stream",
     "text": [
      "Val: 100%|███████████████████████████████████████████████████████████████████████████████| 5/5 [00:05<00:00,  1.03s/it]"
     ]
    },
    {
     "name": "stdout",
     "output_type": "stream",
     "text": [
      "Val Loss: 0.1930, Val Accuracy: 0.9286\n"
     ]
    },
    {
     "name": "stderr",
     "output_type": "stream",
     "text": [
      "\n"
     ]
    }
   ],
   "source": [
    "# Avaliando o modelo carregado no conjunto de validação\n",
    "model.eval()\n",
    "test_running_loss = 0.0\n",
    "test_correct = 0\n",
    "test_total = 0\n",
    "\n",
    "all_labels = []\n",
    "all_probs = []  # Para armazenar as probabilidades\n",
    "\n",
    "with torch.no_grad():\n",
    "    for inputs, labels in tqdm(val_loader, desc=\"Val\"):\n",
    "        inputs, labels = inputs.to(device), labels.to(device)\n",
    "        outputs = model(inputs)\n",
    "        #loss = nn.CrossEntropyLoss()(outputs, labels)\n",
    "        #test_running_loss += loss.item() * inputs.size(0)\n",
    "        _, predicted = torch.max(outputs.data, 1)\n",
    "        val_total += labels.size(0)\n",
    "        val_correct += (predicted == labels).sum().item()\n",
    "\n",
    "        # Armazenando rótulos e probabilidades\n",
    "        all_labels.extend(labels.cpu().numpy())\n",
    "        all_probs.extend(torch.softmax(outputs, dim=1).cpu().numpy())\n",
    "\n",
    "    val_loss = val_running_loss / len(val_loader.dataset)\n",
    "    val_accuracy = val_correct / val_total\n",
    "    print(f'Val Loss: {val_loss:.4f}, Val Accuracy: {val_accuracy:.4f}')"
   ]
  },
  {
   "cell_type": "code",
   "execution_count": 35,
   "id": "6993a053-0468-49f7-a15f-c777545e57e2",
   "metadata": {},
   "outputs": [],
   "source": [
    "# Calculando a matriz de confusão\n",
    "cm = confusion_matrix(all_labels, np.argmax(all_probs, axis=1))"
   ]
  },
  {
   "cell_type": "code",
   "execution_count": 37,
   "id": "e392f578-72d4-4141-9826-ffccc8508fb7",
   "metadata": {},
   "outputs": [
    {
     "data": {
      "image/png": "[encoded data removed]",
      "text/plain": [
       "<Figure size 640x480 with 2 Axes>"
      ]
     },
     "metadata": {},
     "output_type": "display_data"
    }
   ],
   "source": [
    "# Plotando a matriz de confusão\n",
    "disp = ConfusionMatrixDisplay(confusion_matrix=cm, display_labels=classes)\n",
    "disp.plot(cmap=plt.cm.Blues)\n",
    "plt.title('Confusion Matrix')\n",
    "plt.savefig(r\"C:\\Users\\maste\\OneDrive\\Documentos\\Resultados_Redes_WVC2025\\Wavelet\\EfficientNetB2\\50_epocas\\SGD\\gráficos\\treino\\Matriz_treino.pdf\")\n",
    "plt.show()"
   ]
  },
  {
   "cell_type": "code",
   "execution_count": 39,
   "id": "f0767288-dc08-4209-b7a5-d5fd72dc9547",
   "metadata": {},
   "outputs": [
    {
     "name": "stdout",
     "output_type": "stream",
     "text": [
      "              precision    recall  f1-score   support\n",
      "\n",
      "      Câncer       0.96      0.94      0.95        84\n",
      "      Normal       0.92      0.95      0.94        63\n",
      "\n",
      "    accuracy                           0.95       147\n",
      "   macro avg       0.94      0.95      0.94       147\n",
      "weighted avg       0.95      0.95      0.95       147\n",
      "\n",
      "tensor([[-0.5229,  0.3077],\n",
      "        [-0.5381,  0.6818],\n",
      "        [-0.3711,  0.4098],\n",
      "        [-0.4905,  0.4649],\n",
      "        [-0.5100,  0.1844],\n",
      "        [-0.4608,  0.1194],\n",
      "        [-0.6133,  0.3710],\n",
      "        [-0.9707,  0.6382],\n",
      "        [-0.7516,  0.4862],\n",
      "        [-0.7119,  0.5322],\n",
      "        [-0.7732,  0.3662],\n",
      "        [-0.3697,  0.1095],\n",
      "        [-0.1923,  0.3323],\n",
      "        [-0.0482,  0.3110],\n",
      "        [-0.1803,  0.2757],\n",
      "        [-0.5480,  0.4070],\n",
      "        [-0.0556, -0.1334],\n",
      "        [-1.0632,  0.9016],\n",
      "        [-0.6906,  0.5301]], device='cuda:0')\n",
      "tensor([1, 1, 1, 1, 1, 1, 1, 1, 1, 1, 1, 1, 1, 1, 1, 1, 0, 1, 1],\n",
      "       device='cuda:0')\n",
      "[np.int64(0), np.int64(0), np.int64(0), np.int64(0), np.int64(0), np.int64(0), np.int64(0), np.int64(0), np.int64(0), np.int64(0), np.int64(0), np.int64(0), np.int64(0), np.int64(0), np.int64(0), np.int64(0), np.int64(0), np.int64(0), np.int64(0), np.int64(0), np.int64(1), np.int64(0), np.int64(0), np.int64(1), np.int64(1), np.int64(1), np.int64(0), np.int64(0), np.int64(0), np.int64(1), np.int64(0), np.int64(0), np.int64(0), np.int64(0), np.int64(0), np.int64(0), np.int64(0), np.int64(0), np.int64(0), np.int64(0), np.int64(0), np.int64(0), np.int64(0), np.int64(0), np.int64(0), np.int64(0), np.int64(0), np.int64(0), np.int64(0), np.int64(0), np.int64(0), np.int64(0), np.int64(0), np.int64(0), np.int64(0), np.int64(0), np.int64(0), np.int64(0), np.int64(0), np.int64(0), np.int64(0), np.int64(0), np.int64(0), np.int64(0), np.int64(0), np.int64(0), np.int64(0), np.int64(0), np.int64(0), np.int64(0), np.int64(0), np.int64(0), np.int64(0), np.int64(0), np.int64(0), np.int64(0), np.int64(0), np.int64(0), np.int64(0), np.int64(0), np.int64(0), np.int64(0), np.int64(0), np.int64(0), np.int64(0), np.int64(1), np.int64(1), np.int64(1), np.int64(1), np.int64(1), np.int64(1), np.int64(1), np.int64(1), np.int64(1), np.int64(1), np.int64(1), np.int64(1), np.int64(1), np.int64(1), np.int64(1), np.int64(1), np.int64(1), np.int64(1), np.int64(1), np.int64(1), np.int64(1), np.int64(1), np.int64(1), np.int64(1), np.int64(1), np.int64(1), np.int64(1), np.int64(1), np.int64(1), np.int64(1), np.int64(0), np.int64(1), np.int64(1), np.int64(1), np.int64(1), np.int64(1), np.int64(1), np.int64(1), np.int64(1), np.int64(1), np.int64(1), np.int64(1), np.int64(1), np.int64(1), np.int64(1), np.int64(1), np.int64(1), np.int64(1), np.int64(1), np.int64(1), np.int64(1), np.int64(1), np.int64(1), np.int64(1), np.int64(1), np.int64(1), np.int64(1), np.int64(1), np.int64(1), np.int64(0), np.int64(1), np.int64(1)]\n"
     ]
    }
   ],
   "source": [
    "import torch\n",
    "from sklearn.metrics import classification_report\n",
    "#from  utils import to_onehot\n",
    "# Alterar o modelo para o modo de avaliação\n",
    "model.eval()\n",
    "\n",
    "# Para armazenar rótulos verdadeiros e previsões\n",
    "all_labels = []\n",
    "all_preds = []\n",
    "\n",
    "# Desabilitar cálculo de gradiente para inferência\n",
    "with torch.no_grad():\n",
    "    for data in val_loader:\n",
    "        inputs, labels = data\n",
    "        inputs, labels = inputs.to(device), labels.to(device)\n",
    "\n",
    "        # Obter saídas do modelo e prever a classe\n",
    "        outputs = model(inputs)\n",
    "        _, preds = torch.max(outputs, 1)\n",
    "\n",
    "        # Armazenar rótulos e previsões\n",
    "        all_labels.extend(labels.cpu().numpy())\n",
    "        all_preds.extend(preds.cpu().numpy())\n",
    "#all_preds = utils.to_onehot(all_probs, 1)\n",
    "# Gerar relatório de classificação\n",
    "target_names = ['Câncer', 'Normal']\n",
    "print(classification_report(all_labels, all_preds, target_names=target_names))\n",
    "print(outputs)\n",
    "print(preds)\n",
    "print(all_preds)"
   ]
  },
  {
   "cell_type": "code",
   "execution_count": 41,
   "id": "114e81ca-2b7a-4f56-a631-4338b5057c22",
   "metadata": {},
   "outputs": [
    {
     "name": "stdout",
     "output_type": "stream",
     "text": [
      "[0.         0.05952381 1.        ]\n",
      "---------\n",
      "[0.         0.95238095 1.        ]\n",
      "---------\n"
     ]
    }
   ],
   "source": [
    "import torch\n",
    "from sklearn.metrics import roc_curve, auc\n",
    "import matplotlib.pyplot as plt\n",
    "import numpy as np\n",
    "#y_pred_keras = keras_model.predict(X_test).ravel()\n",
    "\n",
    "\n",
    "classes = val_data.classes\n",
    "num_classes = len(classes)\n",
    "\n",
    "all_labels = np.array(all_labels)\n",
    "all_preds = np.array( all_preds)\n",
    "\n",
    "fpr, tpr, _ = roc_curve(all_labels , all_preds)\n",
    "\n",
    "print(fpr)\n",
    "print('---------')\n",
    "print(tpr)\n",
    "print('---------')\n",
    "\n",
    "\n",
    "\n",
    "\n",
    "#for i in range(num_classes):\n",
    "#    # Calculando a ROC para a classe i\n",
    "#    fpr, tpr, _ = roc_curve(all_labels == i, all_preds[:, i])\n",
    "#    roc_auc = auc(fpr, tpr)\n",
    "#    plt.plot(fpr, tpr, label=f'Classe {classes[i]} (AUC = {roc_auc:.2f})')"
   ]
  },
  {
   "cell_type": "code",
   "execution_count": 43,
   "id": "b05b9cc4-7157-4ab5-9bad-74152246fe45",
   "metadata": {},
   "outputs": [
    {
     "name": "stdout",
     "output_type": "stream",
     "text": [
      "0.9464285714285714\n"
     ]
    }
   ],
   "source": [
    "from sklearn.metrics import auc\n",
    "auc_keras = auc(fpr, tpr)\n",
    "print(auc_keras)"
   ]
  },
  {
   "cell_type": "code",
   "execution_count": 45,
   "id": "fd1bfcc1-1e9a-4bd9-8ff0-b77c1ade1cd8",
   "metadata": {},
   "outputs": [
    {
     "data": {
      "image/png": "[encoded data removed]",
      "text/plain": [
       "<Figure size 640x480 with 1 Axes>"
      ]
     },
     "metadata": {},
     "output_type": "display_data"
    }
   ],
   "source": [
    "import matplotlib.pyplot as plt\n",
    "plt.figure(1)\n",
    "plt.plot([0, 1], [0, 1], 'k--')\n",
    "plt.plot(fpr, tpr, label='AUC (area = {:.3f})'.format(auc_keras))\n",
    "plt.xlabel('False positive rate')\n",
    "plt.ylabel('True positive rate')\n",
    "plt.title('ROC curve')\n",
    "plt.legend(loc='best')\n",
    "plt.savefig(r\"C:\\Users\\maste\\OneDrive\\Documentos\\Resultados_Redes_WVC2025\\Wavelet\\EfficientNetB2\\50_epocas\\SGD\\gráficos\\treino\\CurvaRoc_treino.pdf\")\n",
    "plt.show()"
   ]
  },
  {
   "cell_type": "code",
   "execution_count": 47,
   "id": "893a63ab-b6ee-4634-bdac-948d4f8c1533",
   "metadata": {},
   "outputs": [
    {
     "data": {
      "image/png": "[encoded data removed]",
      "text/plain": [
       "<Figure size 640x480 with 1 Axes>"
      ]
     },
     "metadata": {},
     "output_type": "display_data"
    }
   ],
   "source": [
    "# Plotando a perda\n",
    "epochs = range(1, num_epochs + 1)\n",
    "\n",
    "plt.figure()\n",
    "plt.plot(epochs, train_loss_values, label='Training Loss')\n",
    "plt.plot(epochs, val_loss_values, label='Validation Loss')\n",
    "plt.xlabel('Epochs')\n",
    "plt.ylabel('Loss')\n",
    "plt.title('Training and Validation Loss')\n",
    "plt.legend()\n",
    "plt.savefig(r\"C:\\Users\\maste\\OneDrive\\Documentos\\Resultados_Redes_WVC2025\\Wavelet\\EfficientNetB2\\50_epocas\\SGD\\gráficos\\treino\\Loss_treino.pdf\")\n",
    "plt.show()"
   ]
  },
  {
   "cell_type": "code",
   "execution_count": 49,
   "id": "83c04e64-a232-4153-9213-063f1de61a05",
   "metadata": {},
   "outputs": [
    {
     "data": {
      "image/png": "[encoded data removed]",
      "text/plain": [
       "<Figure size 640x480 with 1 Axes>"
      ]
     },
     "metadata": {},
     "output_type": "display_data"
    }
   ],
   "source": [
    "# Plotando a acurácia\n",
    "plt.figure()\n",
    "plt.plot(epochs, train_accuracy_values, label='Training Accuracy')\n",
    "plt.plot(epochs, val_accuracy_values, label='Validation Accuracy')\n",
    "plt.xlabel('Epochs')\n",
    "plt.ylabel('Accuracy')\n",
    "plt.title('Training and Validation Accuracy')\n",
    "plt.legend()\n",
    "plt.savefig(r\"C:\\Users\\maste\\OneDrive\\Documentos\\Resultados_Redes_WVC2025\\Wavelet\\EfficientNetB2\\50_epocas\\SGD\\gráficos\\treino\\Accuracy_treino.pdf\")\n",
    "plt.show()"
   ]
  },
  {
   "cell_type": "code",
   "execution_count": 51,
   "id": "042ba4be-4f67-4d26-962d-d5675bdac9e4",
   "metadata": {},
   "outputs": [],
   "source": [
    "test_dir = r\"C:\\Users\\maste\\OneDrive\\Documentos\\Artigo_Rita_Dataset_W\\Testing\""
   ]
  },
  {
   "cell_type": "code",
   "execution_count": 53,
   "id": "a1f36454-7ae8-43ab-bd6f-79178885a3d3",
   "metadata": {},
   "outputs": [],
   "source": [
    "# Transformações para normalização e aumento de dados\n",
    "transform = transforms.Compose([\n",
    "    transforms.Resize(256),\n",
    "    transforms.CenterCrop(224),\n",
    "    transforms.ToTensor(),\n",
    "    transforms.Normalize(mean=[0.485, 0.456, 0.406],\n",
    "                         std=[0.229, 0.224, 0.225])\n",
    "])"
   ]
  },
  {
   "cell_type": "code",
   "execution_count": 55,
   "id": "3f8d8516-e69d-4884-91fd-8ad62d8dbaaa",
   "metadata": {},
   "outputs": [],
   "source": [
    "test_data = datasets.ImageFolder(test_dir, transform=transform)"
   ]
  },
  {
   "cell_type": "code",
   "execution_count": 57,
   "id": "4760f8e1-e174-44c5-ad92-316c614a5240",
   "metadata": {},
   "outputs": [],
   "source": [
    "# Criando o DataLoader para o conjunto de teste\n",
    "test_loader = DataLoader(test_data, batch_size=1, shuffle=True)"
   ]
  },
  {
   "cell_type": "code",
   "execution_count": 59,
   "id": "11bbda82-c672-48ff-9400-d35d40e93338",
   "metadata": {},
   "outputs": [
    {
     "name": "stdout",
     "output_type": "stream",
     "text": [
      "2\n",
      "['malignant_tumor', 'no_tumor']\n"
     ]
    }
   ],
   "source": [
    "# Definindo as classes do dataset\n",
    "classes = test_data.classes\n",
    "num_classes = len(classes)\n",
    "print(num_classes)\n",
    "print(classes)"
   ]
  },
  {
   "cell_type": "code",
   "execution_count": 61,
   "id": "d2bc5827-077f-4c0a-855d-806a466e9127",
   "metadata": {},
   "outputs": [
    {
     "name": "stderr",
     "output_type": "stream",
     "text": [
      "Test: 100%|██████████████████████████████████████████████████████████████████████████| 146/146 [00:15<00:00,  9.69it/s]"
     ]
    },
    {
     "name": "stdout",
     "output_type": "stream",
     "text": [
      "Val Loss: 0.1943, Val Accuracy: 0.9110\n"
     ]
    },
    {
     "name": "stderr",
     "output_type": "stream",
     "text": [
      "\n"
     ]
    }
   ],
   "source": [
    "# Avaliando o modelo carregado no conjunto de teste\n",
    "model.eval()\n",
    "test_running_loss = 0.0\n",
    "test_correct = 0\n",
    "test_total = 0\n",
    "\n",
    "all_labels = []\n",
    "all_probs = []  # Para armazenar as probabilidades\n",
    "\n",
    "with torch.no_grad():\n",
    "    for inputs, labels in tqdm(test_loader, desc=\"Test\"):\n",
    "        inputs, labels = inputs.to(device), labels.to(device)\n",
    "        outputs = model(inputs)\n",
    "        #loss = nn.CrossEntropyLoss()(outputs, labels)\n",
    "        #test_running_loss += loss.item() * inputs.size(0)\n",
    "        _, predicted = torch.max(outputs.data, 1)\n",
    "        test_total += labels.size(0)\n",
    "        test_correct += (predicted == labels).sum().item()\n",
    "\n",
    "        # Armazenando rótulos e probabilidades\n",
    "        all_labels.extend(labels.cpu().numpy())\n",
    "        all_probs.extend(torch.softmax(outputs, dim=1).cpu().numpy())\n",
    "\n",
    "    test_loss = val_running_loss / len(test_loader.dataset)\n",
    "    test_accuracy = test_correct / test_total\n",
    "    print(f'Val Loss: {test_loss:.4f}, Val Accuracy: {test_accuracy:.4f}')"
   ]
  },
  {
   "cell_type": "code",
   "execution_count": 63,
   "id": "ccf9250e-f207-4357-8d9e-c600a8f96951",
   "metadata": {},
   "outputs": [],
   "source": [
    "# Calculando a matriz de confusão\n",
    "cm = confusion_matrix(all_labels, np.argmax(all_probs, axis=1))"
   ]
  },
  {
   "cell_type": "code",
   "execution_count": 65,
   "id": "6239f65c-4cbd-44bd-a3ef-0614d45a27c7",
   "metadata": {},
   "outputs": [
    {
     "data": {
      "image/png": "[encoded data removed]",
      "text/plain": [
       "<Figure size 640x480 with 2 Axes>"
      ]
     },
     "metadata": {},
     "output_type": "display_data"
    }
   ],
   "source": [
    "# Plotando a matriz de confusão\n",
    "disp = ConfusionMatrixDisplay(confusion_matrix=cm, display_labels=classes)\n",
    "disp.plot(cmap=plt.cm.Blues)\n",
    "plt.title('Confusion Matrix')\n",
    "plt.savefig(r\"C:\\Users\\maste\\OneDrive\\Documentos\\Resultados_Redes_WVC2025\\Wavelet\\EfficientNetB2\\50_epocas\\SGD\\gráficos\\validação\\Matriz_validação.pdf\")\n",
    "plt.show()"
   ]
  },
  {
   "cell_type": "code",
   "execution_count": 67,
   "id": "2b3eba3f-4630-4129-be16-94ae028ba73a",
   "metadata": {},
   "outputs": [
    {
     "name": "stdout",
     "output_type": "stream",
     "text": [
      "              precision    recall  f1-score   support\n",
      "\n",
      "      Câncer       0.90      0.95      0.92        84\n",
      "      Normal       0.93      0.85      0.89        62\n",
      "\n",
      "    accuracy                           0.91       146\n",
      "   macro avg       0.91      0.90      0.91       146\n",
      "weighted avg       0.91      0.91      0.91       146\n",
      "\n",
      "tensor([[-0.1936,  0.2261]], device='cuda:0')\n",
      "tensor([1], device='cuda:0')\n",
      "[np.int64(0), np.int64(0), np.int64(1), np.int64(1), np.int64(1), np.int64(0), np.int64(0), np.int64(1), np.int64(0), np.int64(1), np.int64(0), np.int64(0), np.int64(0), np.int64(0), np.int64(0), np.int64(0), np.int64(1), np.int64(1), np.int64(0), np.int64(0), np.int64(1), np.int64(0), np.int64(0), np.int64(0), np.int64(1), np.int64(0), np.int64(0), np.int64(0), np.int64(1), np.int64(1), np.int64(0), np.int64(0), np.int64(1), np.int64(0), np.int64(1), np.int64(0), np.int64(0), np.int64(0), np.int64(0), np.int64(1), np.int64(0), np.int64(0), np.int64(0), np.int64(0), np.int64(1), np.int64(0), np.int64(0), np.int64(0), np.int64(1), np.int64(0), np.int64(0), np.int64(0), np.int64(1), np.int64(1), np.int64(1), np.int64(1), np.int64(0), np.int64(1), np.int64(1), np.int64(1), np.int64(0), np.int64(1), np.int64(0), np.int64(0), np.int64(1), np.int64(0), np.int64(1), np.int64(0), np.int64(0), np.int64(0), np.int64(0), np.int64(1), np.int64(0), np.int64(1), np.int64(0), np.int64(0), np.int64(1), np.int64(1), np.int64(0), np.int64(0), np.int64(1), np.int64(1), np.int64(0), np.int64(0), np.int64(1), np.int64(1), np.int64(1), np.int64(1), np.int64(1), np.int64(0), np.int64(1), np.int64(0), np.int64(0), np.int64(0), np.int64(1), np.int64(0), np.int64(0), np.int64(0), np.int64(1), np.int64(0), np.int64(0), np.int64(1), np.int64(0), np.int64(1), np.int64(1), np.int64(1), np.int64(1), np.int64(0), np.int64(0), np.int64(0), np.int64(1), np.int64(0), np.int64(1), np.int64(1), np.int64(0), np.int64(0), np.int64(0), np.int64(0), np.int64(0), np.int64(1), np.int64(1), np.int64(0), np.int64(0), np.int64(0), np.int64(0), np.int64(0), np.int64(0), np.int64(0), np.int64(1), np.int64(0), np.int64(1), np.int64(0), np.int64(0), np.int64(1), np.int64(0), np.int64(0), np.int64(0), np.int64(0), np.int64(0), np.int64(0), np.int64(0), np.int64(1), np.int64(1), np.int64(0), np.int64(1), np.int64(1)]\n"
     ]
    }
   ],
   "source": [
    "import torch\n",
    "from sklearn.metrics import classification_report\n",
    "#from  utils import to_onehot\n",
    "# Alterar o modelo para o modo de avaliação\n",
    "model.eval()\n",
    "\n",
    "# Para armazenar rótulos verdadeiros e previsões\n",
    "all_labels = []\n",
    "all_preds = []\n",
    "\n",
    "# Desabilitar cálculo de gradiente para inferência\n",
    "with torch.no_grad():\n",
    "    for data in test_loader:\n",
    "        inputs, labels = data\n",
    "        inputs, labels = inputs.to(device), labels.to(device)\n",
    "\n",
    "        # Obter saídas do modelo e prever a classe\n",
    "        outputs = model(inputs)\n",
    "        _, preds = torch.max(outputs, 1)\n",
    "\n",
    "        # Armazenar rótulos e previsões\n",
    "        all_labels.extend(labels.cpu().numpy())\n",
    "        all_preds.extend(preds.cpu().numpy())\n",
    "#all_preds = utils.to_onehot(all_probs, 1)\n",
    "# Gerar relatório de classificação\n",
    "target_names = ['Câncer', 'Normal']\n",
    "print(classification_report(all_labels, all_preds, target_names=target_names))\n",
    "print(outputs)\n",
    "print(preds)\n",
    "print(all_preds)"
   ]
  },
  {
   "cell_type": "code",
   "execution_count": 69,
   "id": "2b745af8-90cb-406f-8bfd-3c72642c11f8",
   "metadata": {},
   "outputs": [
    {
     "name": "stdout",
     "output_type": "stream",
     "text": [
      "[0.         0.04761905 1.        ]\n",
      "---------\n",
      "[0.         0.85483871 1.        ]\n",
      "---------\n"
     ]
    }
   ],
   "source": [
    "import torch\n",
    "from sklearn.metrics import roc_curve, auc\n",
    "import matplotlib.pyplot as plt\n",
    "import numpy as np\n",
    "#y_pred_keras = keras_model.predict(X_test).ravel()\n",
    "\n",
    "\n",
    "classes = test_data.classes\n",
    "num_classes = len(classes)\n",
    "\n",
    "all_labels = np.array(all_labels)\n",
    "all_preds = np.array( all_preds)\n",
    "\n",
    "fpr, tpr, _ = roc_curve(all_labels , all_preds)\n",
    "\n",
    "print(fpr)\n",
    "print('---------')\n",
    "print(tpr)\n",
    "print('---------')"
   ]
  },
  {
   "cell_type": "code",
   "execution_count": 71,
   "id": "32135933-23da-449c-8302-a447fd35412a",
   "metadata": {},
   "outputs": [
    {
     "name": "stdout",
     "output_type": "stream",
     "text": [
      "0.9036098310291859\n"
     ]
    }
   ],
   "source": [
    "from sklearn.metrics import auc\n",
    "auc_keras = auc(fpr, tpr)\n",
    "print(auc_keras)"
   ]
  },
  {
   "cell_type": "code",
   "execution_count": 73,
   "id": "57d18547-1c86-4f10-8a97-3fe0fff5349a",
   "metadata": {},
   "outputs": [
    {
     "data": {
      "image/png": "[encoded data removed]",
      "text/plain": [
       "<Figure size 640x480 with 1 Axes>"
      ]
     },
     "metadata": {},
     "output_type": "display_data"
    }
   ],
   "source": [
    "import matplotlib.pyplot as plt\n",
    "plt.figure(1)\n",
    "plt.plot([0, 1], [0, 1], 'k--')\n",
    "plt.plot(fpr, tpr, label='AUC (area = {:.3f})'.format(auc_keras))\n",
    "plt.xlabel('False positive rate')\n",
    "plt.ylabel('True positive rate')\n",
    "plt.title('ROC curve')\n",
    "plt.legend(loc='best')\n",
    "plt.savefig(r\"C:\\Users\\maste\\OneDrive\\Documentos\\Resultados_Redes_WVC2025\\Wavelet\\EfficientNetB2\\50_epocas\\SGD\\gráficos\\validação\\CurvaRoc_validação.pdf\")\n",
    "plt.show()"
   ]
  },
  {
   "cell_type": "code",
   "execution_count": 11,
   "id": "d2a461c5-fd4d-4804-9cf9-2e052074fa7a",
   "metadata": {},
   "outputs": [
    {
     "name": "stderr",
     "output_type": "stream",
     "text": [
      "C:\\Users\\maste\\AppData\\Local\\Temp\\ipykernel_19000\\1169503946.py:134: FutureWarning: You are using `torch.load` with `weights_only=False` (the current default value), which uses the default pickle module implicitly. It is possible to construct malicious pickle data which will execute arbitrary code during unpickling (See https://github.com/pytorch/pytorch/blob/main/SECURITY.md#untrusted-models for more details). In a future release, the default value for `weights_only` will be flipped to `True`. This limits the functions that could be executed during unpickling. Arbitrary objects will no longer be allowed to be loaded via this mode unless they are explicitly allowlisted by the user via `torch.serialization.add_safe_globals`. We recommend you start setting `weights_only=True` for any use case where you don't have full control of the loaded file. Please open an issue on GitHub for any issues related to this experimental feature.\n",
      "  model.load_state_dict(torch.load(\n"
     ]
    },
    {
     "name": "stdout",
     "output_type": "stream",
     "text": [
      "Índice da Classe Predita: 0\n"
     ]
    }
   ],
   "source": [
    "import os\n",
    "import numpy as np\n",
    "import cv2\n",
    "import torch\n",
    "import torchvision.transforms as transforms\n",
    "from torchvision.models import efficientnet_b2\n",
    "\n",
    "# --------- Pré-processamento ---------\n",
    "def preprocess_image(img_path):\n",
    "    img = cv2.imread(img_path, cv2.IMREAD_COLOR)\n",
    "    img = cv2.resize(img, (260, 260))  # EfficientNet-B2 usa 260x260\n",
    "    img = transforms.ToTensor()(img)\n",
    "    img = transforms.Normalize(mean=[0.485, 0.456, 0.406],\n",
    "                               std=[0.229, 0.224, 0.225])(img)\n",
    "    img_tensor = img.unsqueeze(0)\n",
    "    return img_tensor\n",
    "\n",
    "# --------- Pegando a camada da CNN ---------\n",
    "def get_conv_layer(model, conv_layer_name):\n",
    "    for name, layer in model.named_modules():\n",
    "        if name == conv_layer_name:\n",
    "            return layer\n",
    "    raise ValueError(f\"Camada '{conv_layer_name}' não encontrada.\")\n",
    "\n",
    "# --------- Grad-CAM tradicional ---------\n",
    "def compute_gradcam(model, img_tensor, class_index, conv_layer_name=\"features\"):\n",
    "    activations = []\n",
    "    gradients = []\n",
    "\n",
    "    def forward_hook(module, input, output):\n",
    "        activations.append(output)\n",
    "\n",
    "    def backward_hook(module, grad_in, grad_out):\n",
    "        gradients.append(grad_out[0])\n",
    "\n",
    "    conv_layer = get_conv_layer(model, conv_layer_name)\n",
    "    forward_handle = conv_layer.register_forward_hook(forward_hook)\n",
    "    backward_handle = conv_layer.register_backward_hook(backward_hook)\n",
    "\n",
    "    model.zero_grad()\n",
    "    output = model(img_tensor)\n",
    "    loss = output[:, class_index]\n",
    "    loss.backward()\n",
    "\n",
    "    forward_handle.remove()\n",
    "    backward_handle.remove()\n",
    "\n",
    "    act = activations[0].squeeze(0).detach().cpu().numpy()\n",
    "    grad = gradients[0].squeeze(0).detach().cpu().numpy()\n",
    "\n",
    "    weights = np.mean(grad, axis=(1, 2))\n",
    "    cam = np.zeros(act.shape[1:], dtype=np.float32)\n",
    "\n",
    "    for i, w in enumerate(weights):\n",
    "        cam += w * act[i, :, :]\n",
    "\n",
    "    cam = np.maximum(cam, 0)\n",
    "    cam = cam - np.min(cam)\n",
    "    cam = cam / (np.max(cam) + 1e-8)\n",
    "    return cam\n",
    "\n",
    "# --------- Grad-CAM++ ---------\n",
    "def compute_gradcam_plus(model, img_tensor, class_index, conv_layer_name=\"features\"):\n",
    "    activations = []\n",
    "    gradients = []\n",
    "\n",
    "    def forward_hook(module, input, output):\n",
    "        activations.append(output)\n",
    "\n",
    "    def backward_hook(module, grad_in, grad_out):\n",
    "        gradients.append(grad_out[0])\n",
    "\n",
    "    conv_layer = get_conv_layer(model, conv_layer_name)\n",
    "    forward_handle = conv_layer.register_forward_hook(forward_hook)\n",
    "    backward_handle = conv_layer.register_backward_hook(backward_hook)\n",
    "\n",
    "    model.zero_grad()\n",
    "    output = model(img_tensor)\n",
    "    loss = output[:, class_index]\n",
    "    loss.backward(retain_graph=True)\n",
    "\n",
    "    forward_handle.remove()\n",
    "    backward_handle.remove()\n",
    "\n",
    "    act = activations[0].squeeze(0)  # [C, H, W]\n",
    "    grad = gradients[0].squeeze(0)   # [C, H, W]\n",
    "\n",
    "    grads_power_2 = grad ** 2\n",
    "    grads_power_3 = grad ** 3\n",
    "    sum_activations = torch.sum(act, dim=(1, 2), keepdim=True)\n",
    "\n",
    "    alpha_num = grads_power_2\n",
    "    alpha_denom = 2 * grads_power_2 + sum_activations * grads_power_3\n",
    "    alpha_denom = torch.where(alpha_denom != 0.0, alpha_denom, torch.ones_like(alpha_denom))\n",
    "\n",
    "    alphas = alpha_num / alpha_denom\n",
    "    weights = (alphas * torch.relu(grad)).sum(dim=(1, 2))\n",
    "\n",
    "    cam = torch.zeros(act.shape[1:], dtype=torch.float32)\n",
    "    for i, w in enumerate(weights):\n",
    "        cam += w * act[i]\n",
    "\n",
    "    cam = torch.relu(cam)\n",
    "    cam -= cam.min()\n",
    "    cam /= cam.max() + 1e-8\n",
    "    cam = cam.detach().cpu().numpy()\n",
    "    cam[cam < 0.3] = 0\n",
    "    \n",
    "    return cam\n",
    "\n",
    "# --------- Sobrepor Heatmap ---------\n",
    "def overlay_heatmap(img_path, heatmap, alpha=0.4):\n",
    "    img = cv2.imread(img_path, cv2.IMREAD_COLOR)\n",
    "    heatmap = cv2.resize(heatmap, (img.shape[1], img.shape[0]))\n",
    "    heatmap = np.uint8(255 * heatmap)\n",
    "    heatmap = cv2.applyColorMap(heatmap, cv2.COLORMAP_JET)\n",
    "    superimposed_img = cv2.addWeighted(img, alpha, heatmap, 1 - alpha, 0)\n",
    "    return superimposed_img\n",
    "\n",
    "# --------- Anotar a imagem com porcentagens ---------\n",
    "def annotate_image(image, probs, class_names):\n",
    "    annotated = image.copy()\n",
    "    for i, (name, prob) in enumerate(zip(class_names, probs)):\n",
    "        text = f\"{name}: {prob * 100:.1f}%\"\n",
    "        cv2.putText(annotated, text, (10, 30 + i * 30),\n",
    "                    cv2.FONT_HERSHEY_SIMPLEX, 0.9, (255, 255, 255), 2)\n",
    "    return annotated\n",
    "\n",
    "# --------- Principal ---------\n",
    "if __name__ == \"__main__\":\n",
    "    # Carregando modelo EfficientNet-B2 treinado com 2 classes\n",
    "    model = efficientnet_b2(weights=None)\n",
    "    model.classifier[1] = torch.nn.Linear(model.classifier[1].in_features, 2)\n",
    "    model.load_state_dict(torch.load(\n",
    "        r\"C:\\Users\\maste\\OneDrive\\Documentos\\Resultados_Redes_WVC2025\\Wavelet\\EfficientNetB2\\50_epocas\\SGD\\melhor_modelo\\model_epoch_2_val_accuracy_0.9456.pt\",\n",
    "        map_location=\"cpu\"))\n",
    "    model.eval()\n",
    "\n",
    "    # Caminho da imagem\n",
    "    img_path = r\"C:\\Users\\maste\\OneDrive\\Documentos\\Artigo_Rita_Dataset_W\\Testing\\malignant_tumor\\resultado_GaussianoMalignant case (395)_dmey.png\"\n",
    "    img_tensor = preprocess_image(img_path)\n",
    "\n",
    "    # Obter predições e probabilidades\n",
    "    with torch.no_grad():\n",
    "        logits = model(img_tensor)\n",
    "        probs = torch.nn.functional.softmax(logits, dim=1)\n",
    "        class_index = torch.argmax(probs, dim=1).item()\n",
    "\n",
    "    print(f\"Índice da Classe Predita: {class_index}\")\n",
    "\n",
    "    class_names = [\"Cancer\", \"Normal\"]\n",
    "    class_probs = probs[0].cpu().numpy()\n",
    "\n",
    "    # --------- Grad-CAM Tradicional ---------\n",
    "    heatmap_trad = compute_gradcam(model, img_tensor, class_index, conv_layer_name=\"features\")\n",
    "    output_img_trad = overlay_heatmap(img_path, heatmap_trad)\n",
    "    output_img_trad = annotate_image(output_img_trad, class_probs, class_names)\n",
    "    cv2.imwrite(r\"C:\\Users\\maste\\OneDrive\\Documentos\\Grad-CAM\\EfficientNet-B2\\Tet2_case(395).jpg\", output_img_trad)\n",
    "\n",
    "    # --------- Grad-CAM++ ---------\n",
    "    heatmap_plus = compute_gradcam_plus(model, img_tensor, class_index, conv_layer_name=\"features\")\n",
    "    output_img_plus = overlay_heatmap(img_path, heatmap_plus)\n",
    "    output_img_plus = annotate_image(output_img_plus, class_probs, class_names)\n",
    "    cv2.imwrite(r\"C:\\Users\\maste\\OneDrive\\Documentos\\Grad-CAM\\EfficientNet-B2\\Test2lus_case (395).jpg\", output_img_plus)\n"
   ]
  },
  {
   "cell_type": "code",
   "execution_count": null,
   "id": "33fd18e4-77f9-4b4f-86b5-fa1f9bb357e9",
   "metadata": {},
   "outputs": [],
   "source": []
  }
 ],
 "metadata": {
  "kernelspec": {
   "display_name": "Python (GPU)",
   "language": "python",
   "name": "gpu_env"
  },
  "language_info": {
   "codemirror_mode": {
    "name": "ipython",
    "version": 3
   },
   "file_extension": ".py",
   "mimetype": "text/x-python",
   "name": "python",
   "nbconvert_exporter": "python",
   "pygments_lexer": "ipython3",
   "version": "3.10.18"
  }
 },
 "nbformat": 4,
 "nbformat_minor": 5
}
